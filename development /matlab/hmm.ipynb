{
 "cells": [
  {
   "cell_type": "code",
   "execution_count": 6,
   "metadata": {
    "collapsed": true
   },
   "outputs": [],
   "source": [
    "# this is a gaussian observation hmm\n",
    "\n",
    "import numpy as np\n",
    "import hmmlearn.hmm as hmm\n",
    "from scipy.io import loadmat\n",
    "from scipy.linalg import sqrtm"
   ]
  },
  {
   "cell_type": "code",
   "execution_count": null,
   "outputs": [],
   "source": [
    "X= loadmat('X.mat')['X']\n",
    "\n",
    "hmm_test = hmm.GaussianHMM(2)\n",
    "hmm_test.fit(X)"
   ],
   "metadata": {
    "collapsed": false
   }
  },
  {
   "cell_type": "code",
   "execution_count": null,
   "outputs": [],
   "source": [
    "p = X.shape[1]\n",
    "N = X.shape[0]\n",
    "\n",
    "tol = 0.001\n",
    "cyc = 100\n",
    "K = 2\n",
    "T = N\n",
    "\n",
    "N = N / T\n",
    "\n",
    "Cov = np.var(X)\n",
    "\n",
    "Mu = np.random.randn(K, p) @ sqrtm(Cov) + np.ones((K, 1)) @ np.mean(X)\n",
    "\n",
    "Pi = np.random.rand(1, K)\n",
    "Pi = Pi / np.sum(Pi)\n",
    "\n",
    "P = np.random.rand(K, K)\n",
    "P = P / np.sum(P, axis=1, keepdims=True)\n",
    "\n",
    "LL = []\n",
    "lik = 0\n",
    "\n",
    "alpha = np.zeros((T, K))\n",
    "beta = np.zeros((T, K))\n",
    "gamma = np.zeros((T, K))\n",
    "\n",
    "B = np.zeros((T, K))\n",
    "k1 = (2 * np.pi) ** (-p / 2)\n"
   ],
   "metadata": {
    "collapsed": false
   }
  },
  {
   "cell_type": "code",
   "execution_count": 11,
   "outputs": [
    {
     "data": {
      "text/plain": "array([[24.88065877]])"
     },
     "execution_count": 11,
     "metadata": {},
     "output_type": "execute_result"
    }
   ],
   "source": [
    "np.diag(np.var(X, axis=0))"
   ],
   "metadata": {
    "collapsed": false
   }
  },
  {
   "cell_type": "code",
   "execution_count": null,
   "outputs": [],
   "source": [],
   "metadata": {
    "collapsed": false
   }
  }
 ],
 "metadata": {
  "kernelspec": {
   "display_name": "Python 3",
   "language": "python",
   "name": "python3"
  },
  "language_info": {
   "codemirror_mode": {
    "name": "ipython",
    "version": 2
   },
   "file_extension": ".py",
   "mimetype": "text/x-python",
   "name": "python",
   "nbconvert_exporter": "python",
   "pygments_lexer": "ipython2",
   "version": "2.7.6"
  }
 },
 "nbformat": 4,
 "nbformat_minor": 0
}
