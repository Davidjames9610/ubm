{
 "cells": [
  {
   "cell_type": "code",
   "execution_count": 1,
   "metadata": {
    "collapsed": true
   },
   "outputs": [],
   "source": [
    "import numpy as np"
   ]
  },
  {
   "cell_type": "code",
   "execution_count": 2,
   "outputs": [],
   "source": [
    "a = np.array([[0.2,0.8], [0.3, 0.7]])\n",
    "pi = np.array([0.6, 0.4])\n",
    "e = np.array([[0.1,0.9], [0.5, 0.5]])"
   ],
   "metadata": {
    "collapsed": false
   }
  },
  {
   "cell_type": "code",
   "execution_count": 3,
   "outputs": [],
   "source": [
    "ss = np.array([0,0,1])\n",
    "v = np.array([0,1,1])\n",
    "t = len(ss)"
   ],
   "metadata": {
    "collapsed": false
   }
  },
  {
   "cell_type": "code",
   "execution_count": 4,
   "outputs": [
    {
     "name": "stdout",
     "output_type": "stream",
     "text": [
      "total joint 0.00432\n"
     ]
    }
   ],
   "source": [
    "# joint probability of p(h1:d, v1:d)\n",
    "\n",
    "total_joint = pi[ss[0]] * e[ss[0], v[0]]\n",
    "for i in range(1, t):\n",
    "    total_joint = total_joint * a[ss[i-1], ss[i]] * e[ss[i], v[i]]\n",
    "print('total joint', total_joint)"
   ],
   "metadata": {
    "collapsed": false
   }
  },
  {
   "cell_type": "code",
   "execution_count": 5,
   "outputs": [
    {
     "name": "stdout",
     "output_type": "stream",
     "text": [
      "[0 0 0]\n",
      "[0 0 1]\n",
      "[0 1 0]\n",
      "[0 1 1]\n",
      "[1 0 0]\n",
      "[1 0 1]\n",
      "[1 1 0]\n",
      "[1 1 1]\n",
      "marginal p(v1:d) =  0.0010800000000000002\n"
     ]
    }
   ],
   "source": [
    "import itertools\n",
    "\n",
    "# marginal probability in naive way p(v1:d)\n",
    "# calculate the sum of the transition probabilities\n",
    "\n",
    "possible_ss = np.array(list(itertools.product([0, 1], repeat=3)))\n",
    "possible_ss_prob = 0\n",
    "for psi in range(possible_ss.shape[0]):\n",
    "    ps = possible_ss[psi]\n",
    "    print(ps)\n",
    "    ps_prob = pi[ps[0]]\n",
    "    for i in range(1, t):\n",
    "        ss_prob = ps_prob * a[ps[i-1], ps[i]]\n",
    "    possible_ss_prob += ps_prob\n",
    "\n",
    "print('marginal p(v1:d) = ', total_joint / possible_ss_prob)"
   ],
   "metadata": {
    "collapsed": false
   }
  },
  {
   "cell_type": "code",
   "execution_count": 9,
   "outputs": [],
   "source": [
    "# now use dynamic programing / forward algorithm\n",
    "# the forward algorithm calculates the marginal likelihood of the state given the observations up to that time\n",
    "# however it is un-normalised\n",
    "\n",
    "def alpha_discrete(obs, pi, A, B):\n",
    "    # obs: observed sequence of length T\n",
    "    # pi: initial state probabilities of length N\n",
    "    # A: state transition matrix of size N x N\n",
    "    # B: observation matrix of size N x M\n",
    "\n",
    "    T = len(obs)   # length of the observed sequence\n",
    "    N = len(pi)    # number of states in the model\n",
    "    alpha = np.zeros((T, N))   # initialize alpha variable with zeros\n",
    "\n",
    "    # Compute alpha values for the first time step (t = 0)\n",
    "    alpha[0, :] = pi * B[:, obs[0]]\n",
    "\n",
    "    # Recursively compute alpha values for each time step (t = 1, 2, ..., T-1)\n",
    "    for t in range(1, T):\n",
    "        for j in range(N):\n",
    "            alpha[t, j] = np.sum(alpha[t-1, :] * A[:, j]) * B[j, obs[t]]\n",
    "\n",
    "    return alpha"
   ],
   "metadata": {
    "collapsed": false
   }
  },
  {
   "cell_type": "code",
   "execution_count": 8,
   "outputs": [
    {
     "data": {
      "text/plain": "array([0.1, 0.9])"
     },
     "execution_count": 8,
     "metadata": {},
     "output_type": "execute_result"
    }
   ],
   "source": [
    "e[ss[0]]"
   ],
   "metadata": {
    "collapsed": false
   }
  },
  {
   "cell_type": "code",
   "execution_count": null,
   "outputs": [],
   "source": [],
   "metadata": {
    "collapsed": false
   }
  }
 ],
 "metadata": {
  "kernelspec": {
   "display_name": "Python 3",
   "language": "python",
   "name": "python3"
  },
  "language_info": {
   "codemirror_mode": {
    "name": "ipython",
    "version": 2
   },
   "file_extension": ".py",
   "mimetype": "text/x-python",
   "name": "python",
   "nbconvert_exporter": "python",
   "pygments_lexer": "ipython2",
   "version": "2.7.6"
  }
 },
 "nbformat": 4,
 "nbformat_minor": 0
}
