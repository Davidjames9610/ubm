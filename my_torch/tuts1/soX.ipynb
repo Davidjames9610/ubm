{
 "cells": [
  {
   "cell_type": "code",
   "execution_count": null,
   "metadata": {
    "collapsed": true
   },
   "outputs": [],
   "source": [
    "# test sOx functions, effects and what not"
   ]
  },
  {
   "cell_type": "code",
   "execution_count": 3,
   "outputs": [],
   "source": [
    "# also, classes / strings fun:\n",
    "\n",
    "\n",
    "\n",
    "import spafe.features.mfcc as mfcc\n",
    "import torch\n",
    "import torchaudio\n",
    "import torchaudio.functional as F\n",
    "from IPython.display import Audio\n",
    "import matplotlib.pyplot as plt\n",
    "import spafe.features.mfcc as mfcc\n",
    "import librosa\n",
    "from torchaudio.utils import download_asset\n"
   ],
   "metadata": {
    "collapsed": false
   }
  },
  {
   "cell_type": "code",
   "execution_count": 23,
   "outputs": [],
   "source": [
    "# getattr( m, 'baz' ) to get module for class\n",
    "\n",
    "def get_class( kls ):\n",
    "    parts = kls.split('.')\n",
    "    module = \".\".join(parts[:-1])\n",
    "    m = __import__( module )\n",
    "    for comp in parts[1:]:\n",
    "        m = getattr(m, comp)\n",
    "    return m"
   ],
   "metadata": {
    "collapsed": false
   }
  },
  {
   "cell_type": "code",
   "execution_count": 24,
   "outputs": [],
   "source": [
    "SAMPLE_WAV = download_asset(\"tutorial-assets/steam-train-whistle-daniel_simon.wav\")\n",
    "waveform1, sample_rate1 = librosa.load(SAMPLE_WAV, sr=8000)"
   ],
   "metadata": {
    "collapsed": false
   }
  },
  {
   "cell_type": "code",
   "execution_count": 33,
   "outputs": [],
   "source": [
    "test_string = ('spafe.features.mfcc.mfcc')\n",
    "func = get_class(test_string)"
   ],
   "metadata": {
    "collapsed": false
   }
  },
  {
   "cell_type": "code",
   "execution_count": 34,
   "outputs": [],
   "source": [
    "result = func(sig=waveform1, fs=sample_rate1)\n",
    "\n"
   ],
   "metadata": {
    "collapsed": false
   }
  },
  {
   "cell_type": "code",
   "execution_count": null,
   "outputs": [],
   "source": [
    "import spafe.features.mfcc\n",
    "from librosa.feature import mfcc"
   ],
   "metadata": {
    "collapsed": false
   }
  },
  {
   "cell_type": "code",
   "execution_count": 4,
   "outputs": [],
   "source": [
    "test = locals()"
   ],
   "metadata": {
    "collapsed": false
   }
  },
  {
   "cell_type": "code",
   "execution_count": null,
   "outputs": [],
   "source": [
    "def import_class_from_string(path):\n",
    "    from importlib import import_module\n",
    "    module_path, _, class_name = path.rpartition('.')\n",
    "    mod = import_module(module_path)\n",
    "    klass = getattr(mod, class_name)\n",
    "    return klass\n",
    "\n"
   ],
   "metadata": {
    "collapsed": false
   }
  }
 ],
 "metadata": {
  "kernelspec": {
   "display_name": "Python 3",
   "language": "python",
   "name": "python3"
  },
  "language_info": {
   "codemirror_mode": {
    "name": "ipython",
    "version": 2
   },
   "file_extension": ".py",
   "mimetype": "text/x-python",
   "name": "python",
   "nbconvert_exporter": "python",
   "pygments_lexer": "ipython2",
   "version": "2.7.6"
  }
 },
 "nbformat": 4,
 "nbformat_minor": 0
}
