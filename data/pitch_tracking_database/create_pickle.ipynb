{
 "cells": [
  {
   "cell_type": "code",
   "execution_count": 1,
   "metadata": {
    "collapsed": true
   },
   "outputs": [
    {
     "name": "stdout",
     "output_type": "stream",
     "text": [
      "['/Users/david/Documents/mastersCode/ubm/data/pitch_tracking_database', '/Users/david/.conda/envs/ubm/lib/python310.zip', '/Users/david/.conda/envs/ubm/lib/python3.10', '/Users/david/.conda/envs/ubm/lib/python3.10/lib-dynload', '', '/Users/david/.conda/envs/ubm/lib/python3.10/site-packages', '/Users/david/Documents/mastersCode/ubm']\n"
     ]
    }
   ],
   "source": [
    "# create pickles of ads with features extracted\n",
    "\n",
    "import sys\n",
    "sys.path.append(\"/Users/david/Documents/mastersCode/ubm\")\n",
    "print(sys.path)"
   ]
  },
  {
   "cell_type": "code",
   "execution_count": 2,
   "outputs": [
    {
     "data": {
      "text/plain": "<module 'feature_extraction.fe_spafe.fe_spafe' from '/Users/david/Documents/mastersCode/ubm/feature_extraction/fe_spafe/fe_spafe.py'>"
     },
     "execution_count": 2,
     "metadata": {},
     "output_type": "execute_result"
    }
   ],
   "source": [
    "# test for gmm-ubm on whale calls\n",
    "from importlib import reload\n",
    "import audio_datastore.audio_datastore as myads\n",
    "reload(myads)\n",
    "from collections import Counter\n",
    "import numpy as np\n",
    "import config\n",
    "import librosa\n",
    "import utils as my_utils\n",
    "import feature_extraction.fe_spafe.fe_spafe as fe_spafe\n",
    "import feature_extraction.fe_base as fe_base\n",
    "import os.path\n",
    "reload(fe_base)\n",
    "reload(fe_spafe)\n"
   ],
   "metadata": {
    "collapsed": false
   }
  },
  {
   "cell_type": "code",
   "execution_count": 3,
   "outputs": [],
   "source": [
    "# create ads\n",
    "\n",
    "# female ads\n",
    "datasetFolder = r\"/Users/david/Documents/data/speech/ivectors/SPEECH DATA/FEMALE/MIC\"\n",
    "female_ads = myads.AudioDatastoreProcessed()\n",
    "female_ads.populate(datasetFolder, include_sub_folders=True, label_source=True)\n",
    "Counter(female_ads.labels).values()\n",
    "# male ads\n",
    "datasetFolder = r\"/Users/david/Documents/data/speech/ivectors/SPEECH DATA/MALE/MIC\"\n",
    "male_ads = myads.AudioDatastoreProcessed()\n",
    "male_ads.populate(datasetFolder, include_sub_folders=True, label_source=True)\n",
    "Counter(male_ads.labels).values()\n",
    "# combine ads\n",
    "ads = myads.AudioDatastoreProcessed()\n",
    "ads.set([datasetFolder], files=female_ads.files + male_ads.files, labels=female_ads.labels + male_ads.labels)\n",
    "# split ads\n",
    "all_labels = [\"M01\", \"M02\", \"M03\", \"M04\", \"M06\", \"M07\", \"M08\", \"M09\", \"F01\", \"F02\", \"F03\", \"F04\", \"F06\", \"F07\",\n",
    "                     \"F08\", \"F09\", \"M05\", \"M10\", \"F05\", \"F10\"]\n",
    "\n",
    "ads_all = myads.subset(ads, all_labels)\n",
    "ads_all, _ = myads.split(ads_all, 30)"
   ],
   "metadata": {
    "collapsed": false
   }
  },
  {
   "cell_type": "code",
   "execution_count": 4,
   "outputs": [
    {
     "name": "stdout",
     "output_type": "stream",
     "text": [
      "dict_keys(['F01', 'F02', 'F03', 'F04', 'F05', 'F06', 'F07', 'F08', 'F09', 'F10', 'M01', 'M02', 'M03', 'M04', 'M05', 'M06', 'M07', 'M08', 'M09', 'M10'])\n",
      "dict_values([30, 30, 30, 30, 30, 30, 30, 30, 30, 30, 30, 30, 30, 30, 30, 30, 30, 30, 30, 30])\n"
     ]
    }
   ],
   "source": [
    "from collections import Counter\n",
    "print(Counter(ads_all.labels).keys()) # equals to list(set(words))\n",
    "print(Counter(ads_all.labels).values()) # counts the elements' frequency"
   ],
   "metadata": {
    "collapsed": false
   }
  },
  {
   "cell_type": "code",
   "execution_count": 5,
   "outputs": [
    {
     "name": "stderr",
     "output_type": "stream",
     "text": [
      "Using cache found in /Users/david/.cache/torch/hub/snakers4_silero-vad_master\n"
     ]
    }
   ],
   "source": [
    "# define torch transforms for normal file conversion\n",
    "\n",
    "import my_torch.tuts2.torch_transforms as torch_t\n",
    "reload(torch_t)\n",
    "\n",
    "pre_process = torch_t.ComposeTransform([\n",
    "    torch_t.FileToTensor(),\n",
    "    torch_t.NormalizeSox(),\n",
    "    torch_t.SileroVad(),\n",
    "    ])"
   ],
   "metadata": {
    "collapsed": false
   }
  },
  {
   "cell_type": "code",
   "execution_count": 12,
   "outputs": [],
   "source": [
    "# fe methods\n",
    "from feature_extraction.fe_configs import NormFactor\n",
    "from spafe.features.mfcc import *\n",
    "\n",
    "def get_mfcc(sign):\n",
    "    features = mfcc(sig=sign, fs=config.SAMPLING_RATE, num_ceps=config.N_MFCC, nfft=config.N_FFT)\n",
    "    features = zero_handling(features)\n",
    "    return features\n",
    "\n",
    "def get_log_mel(sign):\n",
    "    features, _ = mel_spectrogram(sig=sign, fs=config.SAMPLING_RATE, nfft=config.N_FFT)\n",
    "    features = zero_handling(features)\n",
    "    log_features = np.log(features)\n",
    "    return log_features\n",
    "\n",
    "def get_delta_mfccs(sign):\n",
    "    features = get_mfcc(sign)\n",
    "    delta_features = librosa.feature.delta(features.T, order=1).T\n",
    "    features_comb = np.concatenate([features, delta_features], axis=1)\n",
    "    return features_comb\n"
   ],
   "metadata": {
    "collapsed": false
   }
  },
  {
   "cell_type": "code",
   "execution_count": 10,
   "outputs": [],
   "source": [
    "# quick test - use ads for normalisation and average power if augmenting or adding noise\n",
    "import matplotlib.pyplot as plt\n",
    "import spafe.utils.vis as vis\n",
    "import torch\n",
    "\n",
    "test_file = ads_all.files[0]\n",
    "transformed_test_file = pre_process(test_file).numpy().T"
   ],
   "metadata": {
    "collapsed": false
   }
  },
  {
   "cell_type": "code",
   "execution_count": 17,
   "outputs": [
    {
     "data": {
      "text/plain": "<Figure size 1400x400 with 1 Axes>",
      "image/png": "[encoded data removed]"
     },
     "metadata": {},
     "output_type": "display_data"
    }
   ],
   "source": [
    "test_mfcc_feat = get_mfcc(transformed_test_file)\n",
    "\n",
    "# plt.plot(test_processed)\n",
    "vis.show_features(test_mfcc_feat,'','','')"
   ],
   "metadata": {
    "collapsed": false
   }
  },
  {
   "cell_type": "code",
   "execution_count": 42,
   "outputs": [
    {
     "data": {
      "text/plain": "<Figure size 640x480 with 1 Axes>",
      "image/png": "[encoded data removed]"
     },
     "metadata": {},
     "output_type": "display_data"
    },
    {
     "data": {
      "text/plain": "tensor(19.6237)"
     },
     "execution_count": 42,
     "metadata": {},
     "output_type": "execute_result"
    },
    {
     "data": {
      "text/plain": "<Figure size 640x480 with 1 Axes>",
      "image/png": "[encoded data removed]"
     },
     "metadata": {},
     "output_type": "display_data"
    }
   ],
   "source": [
    "# noise addition\n",
    "\n",
    "ap = my_utils.periodic_power(test_processed, 5000, 2500)\n",
    "plt.plot(ap)\n",
    "plt.show()\n",
    "plt.plot(test_processed)\n",
    "np.mean(ap)\n",
    "\n",
    "# test_processed_torch = torch.from_numpy(test_processed[np.newaxis, ...])\n",
    "# test_processed_torch.norm(p=2)"
   ],
   "metadata": {
    "collapsed": false
   }
  },
  {
   "cell_type": "code",
   "execution_count": 52,
   "outputs": [
    {
     "name": "stdout",
     "output_type": "stream",
     "text": [
      "getting features for speaker:  F01\n",
      "getting features for speaker:  F02\n",
      "getting features for speaker:  F03\n",
      "getting features for speaker:  F04\n",
      "getting features for speaker:  F05\n",
      "getting features for speaker:  F06\n",
      "getting features for speaker:  F07\n",
      "getting features for speaker:  F08\n",
      "getting features for speaker:  F09\n",
      "getting features for speaker:  F10\n",
      "getting features for speaker:  M01\n",
      "getting features for speaker:  M02\n",
      "getting features for speaker:  M03\n",
      "getting features for speaker:  M04\n",
      "getting features for speaker:  M05\n",
      "getting features for speaker:  M06\n",
      "getting features for speaker:  M07\n",
      "getting features for speaker:  M08\n",
      "getting features for speaker:  M09\n",
      "getting features for speaker:  M10\n"
     ]
    }
   ],
   "source": [
    "# feature extraction and saving\n",
    "\n",
    "from audio_datastore.audio_datastore import subset\n",
    "\n",
    "speakers = np.unique(ads_all.labels)\n",
    "\n",
    "all_features = []\n",
    "for i in range(len(speakers)):\n",
    "    ads_train_subset = subset(ads_all, speakers[i])\n",
    "    speaker_features = []\n",
    "    print('getting features for speaker: ', speakers[i])\n",
    "    for file in ads_train_subset.files:\n",
    "        signal = process_method.pre_process(file)\n",
    "        speaker_features.append(get_mfcc(signal))\n",
    "    all_features.append(speaker_features)\n",
    "\n",
    "# means = []\n",
    "# std = []\n",
    "# for feature in all_features:\n",
    "#     means.append(np.mean(feature, axis=0))\n",
    "#     std.append(np.std(feature, axis=0))\n",
    "#\n",
    "# means = np.array(means)\n",
    "# means = np.mean(means, axis=0)\n",
    "#\n",
    "# std = np.array(std)\n",
    "# std = np.mean(std, axis=0)\n",
    "#\n",
    "# norm_factor = NormFactor(means, std)"
   ],
   "metadata": {
    "collapsed": false
   }
  },
  {
   "cell_type": "code",
   "execution_count": null,
   "outputs": [],
   "source": [],
   "metadata": {
    "collapsed": false
   }
  },
  {
   "cell_type": "code",
   "execution_count": 53,
   "outputs": [],
   "source": [
    "# update adas\n",
    "# adsEnroll.files =\n",
    "all_features_cat = [item for sublist in all_features for item in sublist]\n"
   ],
   "metadata": {
    "collapsed": false
   }
  },
  {
   "cell_type": "code",
   "execution_count": 54,
   "outputs": [],
   "source": [
    "ads_all_v2 = myads.get_deep_copy(ads_all)"
   ],
   "metadata": {
    "collapsed": false
   }
  },
  {
   "cell_type": "code",
   "execution_count": 55,
   "outputs": [],
   "source": [
    "ads_all_v2.files = all_features_cat"
   ],
   "metadata": {
    "collapsed": false
   }
  },
  {
   "cell_type": "code",
   "execution_count": 2,
   "outputs": [],
   "source": [
    "import pickle\n",
    "# pickle.dump(ads_all_v2, open('adsAll.pickle','wb'))\n",
    "\n",
    "# adsEnrollSaved = pickle.load(open('adsEnroll.pickle','rb'))"
   ],
   "metadata": {
    "collapsed": false
   }
  },
  {
   "cell_type": "code",
   "execution_count": 57,
   "outputs": [
    {
     "data": {
      "text/plain": "<feature_extraction.fe_configs.NormFactor at 0x164ef2170>"
     },
     "execution_count": 57,
     "metadata": {},
     "output_type": "execute_result"
    }
   ],
   "source": [
    "# create object with normal stats on as well\n",
    "\n",
    "means = []\n",
    "std = []\n",
    "for feature in all_features_cat:\n",
    "    means.append(np.mean(feature, axis=0))\n",
    "    std.append(np.std(feature, axis=0))\n",
    "\n",
    "means = np.array(means)\n",
    "means = np.mean(means, axis=0)\n",
    "\n",
    "std = np.array(std)\n",
    "std = np.mean(std, axis=0)\n",
    "\n",
    "norm_factor = NormFactor(means, std)\n",
    "norm_factor"
   ],
   "metadata": {
    "collapsed": false
   }
  },
  {
   "cell_type": "code",
   "execution_count": 60,
   "outputs": [],
   "source": [
    "ads_all_v2.features = True"
   ],
   "metadata": {
    "collapsed": false
   }
  },
  {
   "cell_type": "code",
   "execution_count": 61,
   "outputs": [],
   "source": [
    "mfcc_feats = {\n",
    "    ads: ads_all_v2,\n",
    "    norm_factor: norm_factor\n",
    "}"
   ],
   "metadata": {
    "collapsed": false
   }
  },
  {
   "cell_type": "code",
   "execution_count": 65,
   "outputs": [],
   "source": [
    "pickle.dump(mfcc_feats, open('ads_pitch_tracking_db_mfcc.pickle','wb'))"
   ],
   "metadata": {
    "collapsed": false
   }
  },
  {
   "cell_type": "code",
   "execution_count": 6,
   "outputs": [],
   "source": [
    "whts_happening = pickle.load(open('ads_pitch_tracking_db_mfcc.pickle','rb'))"
   ],
   "metadata": {
    "collapsed": false
   }
  },
  {
   "cell_type": "code",
   "execution_count": 46,
   "outputs": [],
   "source": [
    "import torchaudio\n",
    "\n",
    "path = \"save_example_default.wav\"\n",
    "\n",
    "waveform = torch.from_numpy(all_features_cat[0][np.newaxis, ...])\n",
    "sample_rate = config.SAMPLE_RATE\n",
    "torchaudio.save(path, waveform, sample_rate)\n",
    "# inspect_file(path)"
   ],
   "metadata": {
    "collapsed": false
   }
  },
  {
   "cell_type": "code",
   "execution_count": null,
   "outputs": [],
   "source": [],
   "metadata": {
    "collapsed": false
   }
  }
 ],
 "metadata": {
  "kernelspec": {
   "display_name": "Python 3",
   "language": "python",
   "name": "python3"
  },
  "language_info": {
   "codemirror_mode": {
    "name": "ipython",
    "version": 2
   },
   "file_extension": ".py",
   "mimetype": "text/x-python",
   "name": "python",
   "nbconvert_exporter": "python",
   "pygments_lexer": "ipython2",
   "version": "2.7.6"
  }
 },
 "nbformat": 4,
 "nbformat_minor": 0
}
