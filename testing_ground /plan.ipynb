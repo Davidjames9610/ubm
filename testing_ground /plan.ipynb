{
 "cells": [
  {
   "cell_type": "code",
   "execution_count": 5,
   "metadata": {
    "collapsed": true
   },
   "outputs": [],
   "source": [
    "# how to structure tests,\n",
    "# use ads to load data, split it into train, and test,\n",
    "# generate data somewhere else or save it ?\n",
    "# i want to have several feature types saved in a pickle file and then loop through them, generating $ scores for the different classifiers,\n",
    "# would need a wrapper for the classifiers so that they can be tested in the same way,\n",
    "# features: MFCC, MFCC + deltas, MFCC + deltas + deltas, gfcc in spafe.features, gfcc + deltas, gfcc + delta deltas,\n",
    "# append features to pickle as I go, this is nice because it allows me to go back and replace if I need to - can create a const file, which could also specify the other consts as I go\n",
    "# whats step one ? pickle dictionary with features in it, const file with the configuration,\n",
    "# I need to read in the data, for each different feature type I can define a new way to go about it thats"
   ]
  },
  {
   "cell_type": "code",
   "execution_count": 6,
   "outputs": [],
   "source": [
    "import numpy as np\n",
    "import hmmlearn"
   ],
   "metadata": {
    "collapsed": false
   }
  },
  {
   "cell_type": "code",
   "execution_count": 7,
   "outputs": [
    {
     "data": {
      "text/plain": "'0.2.8'"
     },
     "execution_count": 7,
     "metadata": {},
     "output_type": "execute_result"
    }
   ],
   "source": [
    "hmmlearn.__version__"
   ],
   "metadata": {
    "collapsed": false
   }
  },
  {
   "cell_type": "code",
   "execution_count": 10,
   "outputs": [],
   "source": [
    "array1 = np.ones(5)\n",
    "array2 = np.zeros(5)"
   ],
   "metadata": {
    "collapsed": false
   }
  },
  {
   "cell_type": "code",
   "execution_count": 13,
   "outputs": [],
   "source": [
    "from tempfile import TemporaryFile\n",
    "outfile = TemporaryFile()"
   ],
   "metadata": {
    "collapsed": false
   }
  },
  {
   "cell_type": "code",
   "execution_count": 14,
   "outputs": [],
   "source": [
    "np.save(outfile,array1)\n",
    "np.save(outfile,array2)"
   ],
   "metadata": {
    "collapsed": false
   }
  },
  {
   "cell_type": "code",
   "execution_count": 15,
   "outputs": [],
   "source": [
    "import pickle"
   ],
   "metadata": {
    "collapsed": false
   }
  },
  {
   "cell_type": "code",
   "execution_count": 29,
   "outputs": [],
   "source": [
    "all_features = {}\n",
    "pickle.dump(all_features, open('testDictionary.pickle','wb'))"
   ],
   "metadata": {
    "collapsed": false
   }
  },
  {
   "cell_type": "code",
   "execution_count": 30,
   "outputs": [],
   "source": [
    "all_features = pickle.load(open('testDictionary.pickle','rb'))\n",
    "all_features['mfcc'] = array1\n",
    "pickle.dump(all_features, open('testDictionary.pickle','wb'))"
   ],
   "metadata": {
    "collapsed": false
   }
  },
  {
   "cell_type": "code",
   "execution_count": 31,
   "outputs": [],
   "source": [
    "all_features = pickle.load(open('testDictionary.pickle','rb'))\n",
    "all_features['mfcc_delta'] = array2\n",
    "pickle.dump(all_features, open('testDictionary.pickle','wb'))"
   ],
   "metadata": {
    "collapsed": false
   }
  },
  {
   "cell_type": "code",
   "execution_count": 32,
   "outputs": [],
   "source": [
    "all_features = pickle.load(open('testDictionary.pickle','rb'))"
   ],
   "metadata": {
    "collapsed": false
   }
  },
  {
   "cell_type": "code",
   "execution_count": 3,
   "outputs": [],
   "source": [
    "import torchaudio.sox_effects.sox_effects as sox"
   ],
   "metadata": {
    "collapsed": false
   }
  },
  {
   "cell_type": "code",
   "execution_count": 6,
   "outputs": [],
   "source": [
    "sox.init_sox_effects()"
   ],
   "metadata": {
    "collapsed": false
   }
  },
  {
   "cell_type": "code",
   "execution_count": 7,
   "outputs": [
    {
     "data": {
      "text/plain": "{'allpass': 'frequency width[h|k|q|o]',\n 'band': '[-n] center [width[h|k|q|o]]',\n 'bandpass': '[-c] frequency width[h|k|q|o]',\n 'bandreject': 'frequency width[h|k|q|o]',\n 'bass': 'gain [frequency(100) [width[s|h|k|q|o]](0.5s)]',\n 'bend': '[-f frame-rate(25)] [-o over-sample(16)] {start,cents,end}',\n 'biquad': 'b0 b1 b2 a0 a1 a2',\n 'chorus': 'gain-in gain-out delay decay speed depth [ -s | -t ]',\n 'channels': 'number',\n 'compand': \"attack1,decay1{,attack2,decay2} [soft-knee-dB:]in-dB1[,out-dB1]{,in-dB2,out-dB2} [gain [initial-volume-dB [delay]]]\\n\\twhere {} means optional and repeatable and [] means optional.\\n\\tdB values are floating point or -inf'; times are in seconds.\",\n 'contrast': '[enhancement (75)]',\n 'dcshift': 'shift [ limitergain ]\\n\\tThe peak limiter has a gain much less than 1.0 (ie 0.05 or 0.02) which\\n\\tis only used on peaks to prevent clipping. (default is no limiter)',\n 'deemph': '',\n 'delay': '{position}',\n 'dither': '[-S|-s|-f filter] [-a] [-p precision]\\n  (none)   Use TPDF\\n  -S       Use sloped TPDF (without noise shaping)\\n  -s       Shape noise (with shibata filter)\\n  -f name  Set shaping filter to one of: lipshitz, f-weighted,\\n           modified-e-weighted, improved-e-weighted, gesemann,\\n           shibata, low-shibata, high-shibata.\\n  -a       Automatically turn on & off dithering as needed (use with caution!)\\n  -p bits  Override the target sample precision',\n 'divide': '',\n 'downsample': '[factor (2)]',\n 'earwax': '',\n 'echo': 'gain-in gain-out delay decay [ delay decay ... ]',\n 'echos': 'gain-in gain-out delay decay [ delay decay ... ]',\n 'equalizer': 'frequency width[q|o|h|k] gain',\n 'fade': '[ type ] fade-in-length [ stop-position [ fade-out-length ] ]\\n       Time is in hh:mm:ss.frac format.\\n       Fade type one of q, h, t, l or p.',\n 'fir': '[coef-file|coefs]',\n 'firfit': '[knots-file]',\n 'flanger': \"[delay depth regen width speed shape phase interp]\\n                  .\\n                 /|regen\\n                / |\\n            +--(  |------------+\\n            |   \\\\ |            |   .\\n           _V_   \\\\|  _______   |   |\\\\ width   ___\\n          |   |   ' |       |  |   | \\\\       |   |\\n      +-->| + |---->| DELAY |--+-->|  )----->|   |\\n      |   |___|     |_______|      | /       |   |\\n      |           delay : depth    |/        |   |\\n  In  |                 : interp   '         |   | Out\\n  --->+               __:__                  | + |--->\\n      |              |     |speed            |   |\\n      |              |  ~  |shape            |   |\\n      |              |_____|phase            |   |\\n      +------------------------------------->|   |\\n                                             |___|\\n       RANGE DEFAULT DESCRIPTION\\ndelay   0 30    0    base delay in milliseconds\\ndepth   0 10    2    added swept delay in milliseconds\\nregen -95 +95   0    percentage regeneration (delayed signal feedback)\\nwidth   0 100   71   percentage of delayed signal mixed with original\\nspeed  0.1 10  0.5   sweeps per second (Hz) \\nshape    --    sin   swept wave shape: sine|triangle\\nphase   0 100   25   swept wave percentage phase-shift for multi-channel\\n                     (e.g. stereo) flange; 0 = 100 = same phase on each channel\\ninterp   --    lin   delay-line interpolation: linear|quadratic\",\n 'gain': '[-e|-b|-B|-r] [-n] [-l|-h] [gain-dB]\\n-e\\t Equalise channels: peak to that with max peak;\\n-B\\t Balance channels: rms to that with max rms; no clip protection\\n-b\\t Balance channels: rms to that with max rms; clip protection\\n\\t   Note -Bn = -bn\\n-r\\t Reclaim headroom (as much as possible without clipping); see -h\\n-n\\t Norm file to 0dBfs(output precision); gain-dB, if present, usually <0\\n-l\\t Use simple limiter\\n-h\\t Apply attenuation for headroom for subsequent effects; gain-dB, if\\n\\t   present, is subject to reclaim by a subsequent gain -r\\ngain-dB\\t Apply gain in dB',\n 'highpass': '[-1|-2] frequency [width[q|o|h|k](0.707q)]',\n 'hilbert': '[-n taps]',\n 'loudness': '[gain [ref]]',\n 'lowpass': '[-1|-2] frequency [width[q|o|h|k]](0.707q)',\n 'mcompand': 'quoted_compand_args [crossover_frequency[k] quoted_compand_args [...]]\\n\\nquoted_compand_args are as for the compand effect:\\n\\n  attack1,decay1[,attack2,decay2...]\\n                 in-dB1,out-dB1[,in-dB2,out-dB2...]\\n                [ gain [ initial-volume [ delay ] ] ]',\n 'norm': '[level]',\n 'oops': '',\n 'overdrive': '[gain [colour]]',\n 'pad': '{length[@position]}',\n 'phaser': 'gain-in gain-out delay decay speed [ -s | -t ]',\n 'pitch': '[-q] shift-in-cents [segment-ms [search-ms [overlap-ms]]]',\n 'rate': '[-q|-l|-m|-h|-v] [override-options] RATE[k]\\n                    BAND-\\n     QUALITY        WIDTH  REJ dB   TYPICAL USE\\n -q  quick          n/a  ~30 @ Fs/4 playback on ancient hardware\\n -l  low            80%     100     playback on old hardware\\n -m  medium         95%     100     audio playback\\n -h  high (default) 95%     125     16-bit mastering (use with dither)\\n -v  very high      95%     175     24-bit mastering\\n              OVERRIDE OPTIONS (only with -m, -h, -v)\\n -M/-I/-L     Phase response = minimum/intermediate/linear(default)\\n -s           Steep filter (band-width = 99%)\\n -a           Allow aliasing above the pass-band\\n -b 74-99.7   Any band-width %\\n -p 0-100     Any phase response (0 = minimum, 25 = intermediate,\\n              50 = linear, 100 = maximum)',\n 'remix': '[-m|-a] [-p] <0|in-chan[v|p|i volume]{,in-chan[v|p|i volume]}>',\n 'repeat': '[count (1)]',\n 'reverb': '[-w|--wet-only] [reverberance (50%) [HF-damping (50%) [room-scale (100%) [stereo-depth (100%) [pre-delay (0ms) [wet-gain (0dB)]]]]]]',\n 'reverse': '',\n 'riaa': '',\n 'silence': '[ -l ] above_periods [ duration threshold[d|%] ] [ below_periods duration threshold[d|%] ]',\n 'sinc': '[-a att|-b beta] [-p phase|-M|-I|-L] [-t tbw|-n taps] [freqHP][-freqLP [-t tbw|-n taps]]',\n 'speed': 'factor[c]',\n 'stat': '[ -s N ] [ -rms ] [-freq] [ -v ] [ -d ]',\n 'stats': '[-b bits|-x bits|-s scale] [-w window-time]',\n 'stretch': 'factor [window fade shift fading]\\n       (expansion, frame in ms, lin/..., unit<1.0, unit<0.5)\\n       (defaults: 1.0 20 lin ...)',\n 'swap': '',\n 'synth': '[-j KEY] [-n] [length [offset [phase [p1 [p2 [p3]]]]]]] {type [combine] [[%]freq[k][:|+|/|-[%]freq2[k]] [offset [phase [p1 [p2 [p3]]]]]]}',\n 'tempo': '[-q] [-m | -s | -l] factor [segment-ms [search-ms [overlap-ms]]]',\n 'treble': 'gain [frequency(3000) [width[s|h|k|q|o]](0.5s)]',\n 'tremolo': 'speed_Hz [depth_percent]',\n 'trim': '{position}',\n 'upsample': '[factor (2)]',\n 'vad': '[options]\\n\\t-t trigger-level                (7)\\n\\t-T trigger-time-constant        (0.25 s)\\n\\t-s search-time                  (1 s)\\n\\t-g allowed-gap                  (0.25 s)\\n\\t-p pre-trigger-time             (0 s)\\nAdvanced options:\\n\\t-b noise-est-boot-time          (0.35 s)\\n\\t-N noise-est-time-constant-up   (0.1 s)\\n\\t-n noise-est-time-constant-down (0.01 s)\\n\\t-r noise-reduction-amount       (1.35)\\n\\t-f measurement-frequency        (20 Hz)\\n\\t-m measurement-duration         (0.1 s)\\n\\t-M measurement-time-constant    (0.4 s)\\n\\t-h high-pass-filter             (50 Hz)\\n\\t-l low-pass-filter              (6000 Hz)\\n\\t-H high-pass-lifter             (150 Hz)\\n\\t-L low-pass-lifter              (2000 Hz)',\n 'vol': 'GAIN [TYPE [LIMITERGAIN]]\\n\\t(default TYPE=amplitude: 1 is constant, < 0 change phase;\\n\\tTYPE=power 1 is constant; TYPE=dB: 0 is constant, +6 doubles ampl.)\\n\\tThe peak limiter has a gain much less than 1 (e.g. 0.05 or 0.02) and\\n\\tis only used on peaks (to prevent clipping); default is no limiter.'}"
     },
     "execution_count": 7,
     "metadata": {},
     "output_type": "execute_result"
    }
   ],
   "source": [
    "sox.list_effects()"
   ],
   "metadata": {
    "collapsed": false
   }
  },
  {
   "cell_type": "code",
   "execution_count": 2,
   "outputs": [],
   "source": [
    "from spafe.features import gfcc"
   ],
   "metadata": {
    "collapsed": false
   }
  },
  {
   "cell_type": "code",
   "execution_count": null,
   "outputs": [],
   "source": [],
   "metadata": {
    "collapsed": false
   }
  }
 ],
 "metadata": {
  "kernelspec": {
   "display_name": "Python 3",
   "language": "python",
   "name": "python3"
  },
  "language_info": {
   "codemirror_mode": {
    "name": "ipython",
    "version": 2
   },
   "file_extension": ".py",
   "mimetype": "text/x-python",
   "name": "python",
   "nbconvert_exporter": "python",
   "pygments_lexer": "ipython2",
   "version": "2.7.6"
  }
 },
 "nbformat": 4,
 "nbformat_minor": 0
}
