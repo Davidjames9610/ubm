{
 "cells": [
  {
   "cell_type": "code",
   "execution_count": 3,
   "metadata": {
    "collapsed": true
   },
   "outputs": [],
   "source": [
    "from IPython.display import Audio\n",
    "import matplotlib.pyplot as plt\n",
    "from torchaudio.utils import download_asset\n",
    "import torch\n",
    "import torchaudio\n",
    "import torchaudio.functional as F"
   ]
  },
  {
   "cell_type": "code",
   "execution_count": 6,
   "outputs": [],
   "source": [
    "from torch.distributions import transforms\n",
    "from torchaudio.sox_effects import apply_effects_tensor\n",
    "\n",
    "SAMPLE_SPEECH = download_asset(\"tutorial-assets/Lab41-SRI-VOiCES-src-sp0307-ch127535-sg0042-8000hz.wav\")\n",
    "\n",
    "waveform, sample_rate = torchaudio.load(SAMPLE_SPEECH,normalize=True)\n",
    "waveform_reversed, sample_rate = apply_effects_tensor(waveform, sample_rate, [[\"reverse\"]])\n",
    "transform = torchaudio.transforms.Vad(sample_rate=sample_rate, trigger_level=7.5)\n",
    "waveform_reversed_front_trim = transform(waveform_reversed)\n",
    "waveform_end_trim, sample_rate = apply_effects_tensor(\n",
    "    waveform_reversed_front_trim, sample_rate, [[\"reverse\"]]\n",
    ")"
   ],
   "metadata": {
    "collapsed": false
   }
  },
  {
   "cell_type": "code",
   "execution_count": null,
   "outputs": [],
   "source": [],
   "metadata": {
    "collapsed": false
   }
  }
 ],
 "metadata": {
  "kernelspec": {
   "display_name": "Python 3",
   "language": "python",
   "name": "python3"
  },
  "language_info": {
   "codemirror_mode": {
    "name": "ipython",
    "version": 2
   },
   "file_extension": ".py",
   "mimetype": "text/x-python",
   "name": "python",
   "nbconvert_exporter": "python",
   "pygments_lexer": "ipython2",
   "version": "2.7.6"
  }
 },
 "nbformat": 4,
 "nbformat_minor": 0
}
