{
 "cells": [
  {
   "cell_type": "code",
   "execution_count": 1,
   "metadata": {
    "collapsed": true
   },
   "outputs": [],
   "source": [
    "from importlib import reload\n",
    "import audio_datastore.audio_datastore as myads\n",
    "reload(myads)\n",
    "import os.path\n",
    "from collections import Counter\n",
    "import random\n",
    "from python_speech_features import mfcc, delta\n",
    "import scipy.io.wavfile as wav\n",
    "from spafe.utils import vis\n",
    "import matplotlib.pyplot as plt\n",
    "import misc.vad as vad\n",
    "from sklearn.mixture import GaussianMixture, _gaussian_mixture\n",
    "reload(vad)\n",
    "import numpy as np\n",
    "from scipy.special import logsumexp\n",
    "from collections import Counter\n",
    "# import helper_functions as hf\n",
    "# reload(hf)\n",
    "import pickle\n",
    "from scipy.io import wavfile"
   ]
  },
  {
   "cell_type": "code",
   "execution_count": 2,
   "outputs": [],
   "source": [
    "datasetFolder = r\"/Users/david/Documents/mastersCode/ubm/whale/setup/data_spliced\"\n",
    "ads = myads.AudioDatastore()\n",
    "ads.populate(datasetFolder,include_sub_folders=True, label_source=True)\n",
    "Counter(ads.labels).values()\n",
    "adsTest, adsTrain = myads.split(ads, 15)"
   ],
   "metadata": {
    "collapsed": false
   }
  },
  {
   "cell_type": "code",
   "execution_count": 3,
   "outputs": [],
   "source": [
    "# each sound file is different / different sample rate.\n",
    "# they all need to be set to the same sample rate - they are :)\n",
    "fs_bh, aud_bh = wavfile.read(adsTrain.files[0])\n",
    "fs_br, aud_br = wavfile.read(adsTrain.files[13])\n",
    "fs_hb, aud_hb = wavfile.read(adsTrain.files[-1])"
   ],
   "metadata": {
    "collapsed": false
   }
  },
  {
   "cell_type": "code",
   "execution_count": null,
   "outputs": [],
   "source": [],
   "metadata": {
    "collapsed": false
   }
  },
  {
   "cell_type": "code",
   "execution_count": null,
   "outputs": [],
   "source": [],
   "metadata": {
    "collapsed": false
   }
  }
 ],
 "metadata": {
  "kernelspec": {
   "display_name": "Python 3",
   "language": "python",
   "name": "python3"
  },
  "language_info": {
   "codemirror_mode": {
    "name": "ipython",
    "version": 2
   },
   "file_extension": ".py",
   "mimetype": "text/x-python",
   "name": "python",
   "nbconvert_exporter": "python",
   "pygments_lexer": "ipython2",
   "version": "2.7.6"
  }
 },
 "nbformat": 4,
 "nbformat_minor": 0
}
