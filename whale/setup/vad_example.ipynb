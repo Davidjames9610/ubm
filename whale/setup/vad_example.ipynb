{
 "cells": [
  {
   "cell_type": "code",
   "execution_count": 4,
   "metadata": {
    "collapsed": true
   },
   "outputs": [
    {
     "ename": "ImportError",
     "evalue": "dlopen(/Users/david/.conda/envs/ubm/lib/python3.10/site-packages/_webrtcvad.cpython-310-darwin.so, 0x0002): tried: '/Users/david/.conda/envs/ubm/lib/python3.10/site-packages/_webrtcvad.cpython-310-darwin.so' (mach-o file, but is an incompatible architecture (have 'x86_64', need 'arm64')), '/System/Volumes/Preboot/Cryptexes/OS/Users/david/.conda/envs/ubm/lib/python3.10/site-packages/_webrtcvad.cpython-310-darwin.so' (no such file), '/Users/david/.conda/envs/ubm/lib/python3.10/site-packages/_webrtcvad.cpython-310-darwin.so' (mach-o file, but is an incompatible architecture (have 'x86_64', need 'arm64'))",
     "output_type": "error",
     "traceback": [
      "\u001B[0;31m---------------------------------------------------------------------------\u001B[0m",
      "\u001B[0;31mImportError\u001B[0m                               Traceback (most recent call last)",
      "Cell \u001B[0;32mIn[4], line 3\u001B[0m\n\u001B[1;32m      1\u001B[0m \u001B[38;5;66;03m# aim: use webrtcvad on spliced data\u001B[39;00m\n\u001B[0;32m----> 3\u001B[0m \u001B[38;5;28;01mimport\u001B[39;00m \u001B[38;5;21;01mwebrtcvad\u001B[39;00m\n",
      "File \u001B[0;32m~/.conda/envs/ubm/lib/python3.10/site-packages/webrtcvad.py:3\u001B[0m\n\u001B[1;32m      1\u001B[0m \u001B[38;5;28;01mimport\u001B[39;00m \u001B[38;5;21;01mpkg_resources\u001B[39;00m\n\u001B[0;32m----> 3\u001B[0m \u001B[38;5;28;01mimport\u001B[39;00m \u001B[38;5;21;01m_webrtcvad\u001B[39;00m\n\u001B[1;32m      5\u001B[0m __author__ \u001B[38;5;241m=\u001B[39m \u001B[38;5;124m\"\u001B[39m\u001B[38;5;124mJohn Wiseman jjwiseman@gmail.com\u001B[39m\u001B[38;5;124m\"\u001B[39m\n\u001B[1;32m      6\u001B[0m __copyright__ \u001B[38;5;241m=\u001B[39m \u001B[38;5;124m\"\u001B[39m\u001B[38;5;124mCopyright (C) 2016 John Wiseman\u001B[39m\u001B[38;5;124m\"\u001B[39m\n",
      "\u001B[0;31mImportError\u001B[0m: dlopen(/Users/david/.conda/envs/ubm/lib/python3.10/site-packages/_webrtcvad.cpython-310-darwin.so, 0x0002): tried: '/Users/david/.conda/envs/ubm/lib/python3.10/site-packages/_webrtcvad.cpython-310-darwin.so' (mach-o file, but is an incompatible architecture (have 'x86_64', need 'arm64')), '/System/Volumes/Preboot/Cryptexes/OS/Users/david/.conda/envs/ubm/lib/python3.10/site-packages/_webrtcvad.cpython-310-darwin.so' (no such file), '/Users/david/.conda/envs/ubm/lib/python3.10/site-packages/_webrtcvad.cpython-310-darwin.so' (mach-o file, but is an incompatible architecture (have 'x86_64', need 'arm64'))"
     ]
    }
   ],
   "source": [
    "# aim: use webrtcvad on spliced data\n",
    "\n",
    "import webrtcvad # not working"
   ]
  },
  {
   "cell_type": "code",
   "execution_count": null,
   "outputs": [],
   "source": [],
   "metadata": {
    "collapsed": false
   }
  }
 ],
 "metadata": {
  "kernelspec": {
   "display_name": "Python 3",
   "language": "python",
   "name": "python3"
  },
  "language_info": {
   "codemirror_mode": {
    "name": "ipython",
    "version": 2
   },
   "file_extension": ".py",
   "mimetype": "text/x-python",
   "name": "python",
   "nbconvert_exporter": "python",
   "pygments_lexer": "ipython2",
   "version": "2.7.6"
  }
 },
 "nbformat": 4,
 "nbformat_minor": 0
}
