{
 "cells": [
  {
   "cell_type": "code",
   "execution_count": 4,
   "metadata": {
    "collapsed": true
   },
   "outputs": [
    {
     "name": "stdout",
     "output_type": "stream",
     "text": [
      "['/Applications/PyCharm.app/Contents/plugins/python/helpers-pro/jupyter_debug', '/Applications/PyCharm.app/Contents/plugins/python/helpers/pydev', '/Users/david/Documents/mastersCode/ubm/gmm_ubm', '/Users/david/.conda/envs/ubm/lib/python310.zip', '/Users/david/.conda/envs/ubm/lib/python3.10', '/Users/david/.conda/envs/ubm/lib/python3.10/lib-dynload', '', '/Users/david/.conda/envs/ubm/lib/python3.10/site-packages', '/Users/david/Documents/mastersCode/ubm']\n"
     ]
    }
   ],
   "source": [
    "import sys\n",
    "# sys.path.append(\"/Users/david/Documents/mastersCode/ubm\")\n",
    "print(sys.path)"
   ]
  },
  {
   "cell_type": "code",
   "execution_count": 52,
   "outputs": [],
   "source": [
    "# test for gmm-ubm on whale calls\n",
    "from importlib import reload\n",
    "import audio_datastore.audio_datastore as myads\n",
    "reload(myads)\n",
    "from collections import Counter\n",
    "import misc.vad as vad\n",
    "from sklearn.mixture import GaussianMixture, _gaussian_mixture\n",
    "reload(vad)\n",
    "import numpy as np\n",
    "from scipy.special import logsumexp\n",
    "eps = np.finfo(np.float64).eps"
   ],
   "metadata": {
    "collapsed": false
   }
  },
  {
   "cell_type": "code",
   "execution_count": 7,
   "outputs": [],
   "source": [
    "# 27 files in total\n",
    "# test = 5\n",
    "# enrol = 8\n",
    "# train = 15\n",
    "\n",
    "datasetFolder = r\"/Users/david/Documents/mastersCode/ubm/whale/setup/data_spliced\"\n",
    "ads = myads.AudioDatastore()\n",
    "ads.populate(datasetFolder,include_sub_folders=True, label_source=True)\n",
    "Counter(ads.labels).values()\n",
    "adsTest, adsTrain = myads.split(ads, 5)\n",
    "adsEnroll, adsTrain = myads.split(adsTrain, 8)\n",
    "adsTrain, _ = myads.split(adsTrain, 15)\n",
    "adsNorm, _ = myads.split(ads, 27)"
   ],
   "metadata": {
    "collapsed": false
   }
  },
  {
   "cell_type": "code",
   "execution_count": 47,
   "outputs": [],
   "source": [
    "# extract all features and use to get feature normalization\n",
    "import helper_functions as hf\n",
    "reload(hf)\n",
    "all_features = []\n",
    "for file in adsNorm.files:\n",
    "    feature = hf.helper_feature_extraction(file)\n",
    "    all_features.append(feature)"
   ],
   "metadata": {
    "collapsed": false
   }
  },
  {
   "cell_type": "code",
   "execution_count": 49,
   "outputs": [],
   "source": [
    "# collect normalization factors\n",
    "import pickle\n",
    "normFactors = hf.get_norm_factors(all_features)"
   ],
   "metadata": {
    "collapsed": false
   }
  },
  {
   "cell_type": "code",
   "execution_count": 50,
   "outputs": [],
   "source": [
    "train_features = []\n",
    "for i in range(len(adsTrain.files)):\n",
    "    train_feature = hf.helper_feature_extraction(adsTrain.files[i], normFactors)\n",
    "    train_features.append(train_feature)"
   ],
   "metadata": {
    "collapsed": false
   }
  },
  {
   "cell_type": "code",
   "execution_count": 64,
   "outputs": [
    {
     "name": "stdout",
     "output_type": "stream",
     "text": [
      "sklearn model-28.484390176316168\n"
     ]
    }
   ],
   "source": [
    "ubm = GaussianMixture(n_components=32, covariance_type='diag')\n",
    "train_features_flattened = np.array([item for sublist in train_features for item in sublist])\n",
    "ubm.fit(train_features_flattened)\n",
    "print('sklearn model' + str(ubm.score(train_features[0])))"
   ],
   "metadata": {
    "collapsed": false
   }
  },
  {
   "cell_type": "code",
   "execution_count": 65,
   "outputs": [
    {
     "name": "stdout",
     "output_type": "stream",
     "text": [
      "speaker enrollment complete\n"
     ]
    }
   ],
   "source": [
    "# ENROLL\n",
    "\n",
    "# [4] map enroll\n",
    "import helper_functions as hf\n",
    "\n",
    "# do stuff\n",
    "numComponents = 32\n",
    "numFeatures = train_features[0].shape[1]\n",
    "relevanceFactor = 16\n",
    "speakers = np.unique(adsEnroll.labels)\n",
    "numSpeakers = len(speakers)\n",
    "gmmCellArray = []\n",
    "\n",
    "for i in range(len(speakers)):\n",
    "    adsTrainSubset = myads.subset(adsEnroll, speakers[i])\n",
    "    N = np.zeros((1, numComponents))\n",
    "    F = np.zeros((numFeatures, numComponents))\n",
    "    S = np.zeros((numFeatures, numComponents))\n",
    "\n",
    "    for file in adsTrainSubset.files:\n",
    "        speaker_feature = hf.helper_feature_extraction(file, normFactors)\n",
    "        if len(speaker_feature) > 0:\n",
    "            # BW stats, # TODO make this in to function\n",
    "            n,f,s,l = hf.helper_expectation(speaker_feature, ubm)\n",
    "            N = N + n\n",
    "            F = F + f\n",
    "            S = S + s\n",
    "        else:\n",
    "            print('skipping train file because len = 0')\n",
    "    N = np.maximum(N, eps)\n",
    "\n",
    "    gmm = hf.helper_maximization(N,F,S,numComponents)\n",
    "\n",
    "    alpha = N / (N + relevanceFactor)\n",
    "\n",
    "    mu = (alpha.T*gmm.means_) + ((1-alpha).T*ubm.means_)\n",
    "    gmm.means_ = mu\n",
    "\n",
    "\n",
    "    sigma = alpha*(S/N) + (1-alpha)*(ubm.covariances_.T + np.square(ubm.means_).T) - np.square(gmm.means_).T\n",
    "\n",
    "    sigma = np.maximum(sigma, eps).T\n",
    "    gmm.covariances_ = sigma\n",
    "\n",
    "    gmm.precisions_cholesky_ = _gaussian_mixture._compute_precision_cholesky(gmm.covariances_, 'diag')\n",
    "\n",
    "    weights = alpha*(N/np.sum(N)) + (1-alpha)*ubm.weights_.T\n",
    "    weights = np.squeeze(weights/np.sum(weights))\n",
    "    gmm.weights_ = weights\n",
    "\n",
    "    gmmCellArray.append(gmm)\n",
    "\n",
    "print('speaker enrollment complete')\n"
   ],
   "metadata": {
    "collapsed": false
   }
  },
  {
   "cell_type": "code",
   "execution_count": 66,
   "outputs": [
    {
     "name": "stdout",
     "output_type": "stream",
     "text": [
      "-36.37366943787317 -41.134242852415\n"
     ]
    }
   ],
   "source": [
    "adsTrainSubset = myads.subset(adsEnroll, speakers[0])\n",
    "speaker_feature = hf.helper_feature_extraction(adsTrainSubset.files[1], normFactors)\n",
    "adapted_score = gmmCellArray[0].score(speaker_feature)\n",
    "ubm_score = ubm.score(speaker_feature)\n",
    "print(adapted_score, ubm_score)"
   ],
   "metadata": {
    "collapsed": false
   }
  },
  {
   "cell_type": "code",
   "execution_count": 67,
   "outputs": [],
   "source": [
    "enrolled_gmms = {}\n",
    "for i in range(len(gmmCellArray)):\n",
    "    enrolled_gmms[speakers[i]] = gmmCellArray[i]"
   ],
   "metadata": {
    "collapsed": false
   }
  },
  {
   "cell_type": "code",
   "execution_count": 68,
   "outputs": [],
   "source": [
    "def running_mean(x, N):\n",
    "    cumsum = np.cumsum(np.insert(x, 0, 0))\n",
    "    return (cumsum[N:] - cumsum[:-N]) / float(N)"
   ],
   "metadata": {
    "collapsed": false
   }
  },
  {
   "cell_type": "code",
   "execution_count": 69,
   "outputs": [],
   "source": [
    "# false rejection rate -\n",
    "# The speaker false rejection rate (FRR) is the rate that a given speaker is incorrectly rejected. Use the known speaker set to determine the speaker false rejection rate for a set of thresholds.\n",
    "\n",
    "llr = []\n",
    "\n",
    "for i in range(len(speakers)):\n",
    "    cur_speaker = speakers[i]\n",
    "    local_gmm = enrolled_gmms[cur_speaker]\n",
    "    adsTestSubset = myads.subset(adsTest, cur_speaker)\n",
    "    llrPerSpeaker = np.zeros(len(adsTestSubset.files))\n",
    "\n",
    "    for y in range(len(adsTestSubset.files)):\n",
    "        file = adsTestSubset.files[y]\n",
    "        speaker_feature = hf.helper_feature_extraction(file, normFactors)\n",
    "\n",
    "        if len(speaker_feature) > 0:\n",
    "\n",
    "            logLikelihood = local_gmm._estimate_weighted_log_prob(speaker_feature)\n",
    "            lspeaker = logsumexp(logLikelihood, axis=1)\n",
    "\n",
    "            logLikelihood = ubm._estimate_weighted_log_prob(speaker_feature)\n",
    "            lubm = logsumexp(logLikelihood, axis=1)\n",
    "\n",
    "            llrPerSpeaker[y] = np.mean(running_mean(lspeaker-lubm, 3))\n",
    "\n",
    "    llr.append(llrPerSpeaker)"
   ],
   "metadata": {
    "collapsed": false
   }
  },
  {
   "cell_type": "code",
   "execution_count": 70,
   "outputs": [],
   "source": [
    "llr_cat = np.concatenate(llr, axis=0)\n",
    "thresholds = np.arange(-0.5,2.5,0.01)\n",
    "thresholds = np.expand_dims(thresholds, axis=1)\n",
    "ones = np.ones((1, len(llr_cat)))\n",
    "thresholds = thresholds * ones\n",
    "frr = np.mean((llr_cat < thresholds), axis=1)"
   ],
   "metadata": {
    "collapsed": false
   }
  },
  {
   "cell_type": "code",
   "execution_count": 71,
   "outputs": [
    {
     "data": {
      "text/plain": "<Figure size 640x480 with 1 Axes>",
      "image/png": "[encoded data removed]"
     },
     "metadata": {},
     "output_type": "display_data"
    }
   ],
   "source": [
    "import matplotlib.pyplot as plt\n",
    "\n",
    "plt.plot(thresholds, frr * 100)\n",
    "plt.title('false rejection rate vs threshold')\n",
    "plt.show()"
   ],
   "metadata": {
    "collapsed": false
   }
  },
  {
   "cell_type": "code",
   "execution_count": 72,
   "outputs": [
    {
     "data": {
      "text/plain": "array([[ 1.55391908, -1.15144737, -1.02500332],\n       [-0.44586417,  9.97429716, -0.43248312],\n       [-1.34122677, -1.38601136,  1.20679867]])"
     },
     "execution_count": 72,
     "metadata": {},
     "output_type": "execute_result"
    }
   ],
   "source": [
    "# confusion matrix\n",
    "\n",
    "# false rejection rate -\n",
    "# The speaker false rejection rate (FRR) is the rate that a given speaker is incorrectly rejected. Use the known speaker set to determine the speaker false rejection rate for a set of thresholds.\n",
    "\n",
    "all_whales = []\n",
    "for i in range(len(speakers)):\n",
    "    whale_model = enrolled_gmms[speakers[i]]\n",
    "    cur_whale = []\n",
    "\n",
    "    # loop through data\n",
    "    for y in range(len(speakers)):\n",
    "        dataSubset = myads.subset(adsTest, speakers[y])\n",
    "        data_ll = []\n",
    "\n",
    "        for z in range(len(dataSubset.files)):\n",
    "            file = dataSubset.files[z]\n",
    "            whale_feature = hf.helper_feature_extraction(file, normFactors)\n",
    "\n",
    "            logLikelihood = whale_model._estimate_weighted_log_prob(whale_feature)\n",
    "            lspeaker = logsumexp(logLikelihood, axis=1)\n",
    "\n",
    "            logLikelihood = ubm._estimate_weighted_log_prob(whale_feature)\n",
    "            lubm = logsumexp(logLikelihood, axis=1)\n",
    "\n",
    "            data_ll.append(np.mean(running_mean(lspeaker-lubm, 3)))\n",
    "\n",
    "        cur_whale.append(np.mean(data_ll))\n",
    "\n",
    "    all_whales.append(cur_whale)\n",
    "\n",
    "np.array(all_whales)"
   ],
   "metadata": {
    "collapsed": false
   }
  },
  {
   "cell_type": "code",
   "execution_count": 30,
   "outputs": [],
   "source": [
    "pickle.dump(np.array(all_whales), open('mfcc_base_result.pickle','wb'))"
   ],
   "metadata": {
    "collapsed": false
   }
  },
  {
   "cell_type": "code",
   "execution_count": null,
   "outputs": [],
   "source": [
    "# MFCC base result\n",
    "# [[ 0.85938588, -0.32007101, -0.59410135],\n",
    "# [-0.40123801,  5.29921182, -0.40368823],\n",
    "# [-0.61298323, -0.19562526,  1.16089304]]\n",
    "\n",
    "# MFCC + deltas\n",
    "# 1.553919,-1.151447,-1.025003\n",
    "# -0.445864,9.974297,-0.432483\n",
    "# -1.341227,-1.386011,1.206799\n"
   ],
   "metadata": {
    "collapsed": false
   }
  }
 ],
 "metadata": {
  "kernelspec": {
   "display_name": "Python 3",
   "language": "python",
   "name": "python3"
  },
  "language_info": {
   "codemirror_mode": {
    "name": "ipython",
    "version": 2
   },
   "file_extension": ".py",
   "mimetype": "text/x-python",
   "name": "python",
   "nbconvert_exporter": "python",
   "pygments_lexer": "ipython2",
   "version": "2.7.6"
  }
 },
 "nbformat": 4,
 "nbformat_minor": 0
}
