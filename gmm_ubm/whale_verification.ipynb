{
 "cells": [
  {
   "cell_type": "code",
   "execution_count": 4,
   "metadata": {
    "collapsed": true
   },
   "outputs": [
    {
     "name": "stdout",
     "output_type": "stream",
     "text": [
      "['/Applications/PyCharm.app/Contents/plugins/python/helpers-pro/jupyter_debug', '/Applications/PyCharm.app/Contents/plugins/python/helpers/pydev', '/Users/david/Documents/mastersCode/ubm/gmm_ubm', '/Users/david/.conda/envs/ubm/lib/python310.zip', '/Users/david/.conda/envs/ubm/lib/python3.10', '/Users/david/.conda/envs/ubm/lib/python3.10/lib-dynload', '', '/Users/david/.conda/envs/ubm/lib/python3.10/site-packages', '/Users/david/Documents/mastersCode/ubm']\n"
     ]
    }
   ],
   "source": [
    "import sys\n",
    "# sys.path.append(\"/Users/david/Documents/mastersCode/ubm\")\n",
    "print(sys.path)"
   ]
  },
  {
   "cell_type": "code",
   "execution_count": 5,
   "outputs": [],
   "source": [
    "# test for gmm-ubm on whale calls\n",
    "from importlib import reload\n",
    "import audio_datastore.audio_datastore as myads\n",
    "reload(myads)\n",
    "import os.path\n",
    "from collections import Counter\n",
    "import random\n",
    "from python_speech_features import mfcc\n",
    "import scipy.io.wavfile as wav\n",
    "from spafe.utils import vis\n",
    "import matplotlib.pyplot as plt\n",
    "import misc.vad as vad\n",
    "from sklearn.mixture import GaussianMixture, _gaussian_mixture\n",
    "reload(vad)\n",
    "import numpy as np\n",
    "import librosa.feature as fe\n",
    "reload(fe)\n",
    "import librosa.util.utils as librosa_utils\n",
    "import whale.setup.constants as const\n",
    "from scipy.special import logsumexp"
   ],
   "metadata": {
    "collapsed": false
   }
  },
  {
   "cell_type": "code",
   "execution_count": 6,
   "outputs": [],
   "source": [
    "# helper functions\n",
    "\n",
    "# [2] feature extraction\n",
    "# \t• Normalize the audio\n",
    "# \t• Use detectSpeech to remove nonspeech regions from the audio\n",
    "# \t• Extract features from the audio\n",
    "# \t• Normalize the features\n",
    "#   * Apply cepstral mean normalization\n",
    "\n",
    "eps = np.finfo(np.float64).eps\n",
    "\n",
    "def helper_feature_extraction(raw_audio_file, norm = None):\n",
    "    # read in file\n",
    "    (signal_rate, signal) = wav.read(raw_audio_file)\n",
    "\n",
    "    # normalise\n",
    "    signal = librosa_utils.normalize(signal)\n",
    "\n",
    "    # detect / vad, not working currently\n",
    "\n",
    "    # fe\n",
    "    mfcc_feats = fe.mfcc(y=signal,sr=const.SAMPLING_RATE, n_mfcc=13, n_fft=1024).T\n",
    "\n",
    "    # feature normalisation and Cepstral mean subtraction (for channel noise)\n",
    "    if norm:\n",
    "        mfcc_feats = (mfcc_feats - norm.means) / norm.std\n",
    "        mfcc_feats = mfcc_feats - np.mean(mfcc_feats)\n",
    "        return mfcc_feats\n",
    "    else:\n",
    "        return mfcc_feats"
   ],
   "metadata": {
    "collapsed": false
   }
  },
  {
   "cell_type": "code",
   "execution_count": 7,
   "outputs": [],
   "source": [
    "# 27 files in total\n",
    "# test = 5\n",
    "# enrol = 8\n",
    "# train = 15\n",
    "\n",
    "datasetFolder = r\"/Users/david/Documents/mastersCode/ubm/whale/setup/data_spliced\"\n",
    "ads = myads.AudioDatastore()\n",
    "ads.populate(datasetFolder,include_sub_folders=True, label_source=True)\n",
    "Counter(ads.labels).values()\n",
    "adsTest, adsTrain = myads.split(ads, 5)\n",
    "adsEnroll, adsTrain = myads.split(adsTrain, 8)\n",
    "adsTrain, _ = myads.split(adsTrain, 15)\n",
    "adsNorm, _ = myads.split(ads, 27)"
   ],
   "metadata": {
    "collapsed": false
   }
  },
  {
   "cell_type": "code",
   "execution_count": 8,
   "outputs": [],
   "source": [
    "# extract all features and use to get feature normalization\n",
    "all_features = []\n",
    "for file in adsNorm.files:\n",
    "    feature = helper_feature_extraction(file)\n",
    "    all_features.append(feature)"
   ],
   "metadata": {
    "collapsed": false
   }
  },
  {
   "cell_type": "code",
   "execution_count": 9,
   "outputs": [],
   "source": [
    "def get_norm_factors(all_f):\n",
    "    means = []\n",
    "    std = []\n",
    "    for f in all_f:\n",
    "        means.append(np.mean(f, axis=0))\n",
    "        std.append(np.std(f, axis=0))\n",
    "\n",
    "    means = np.array(means)\n",
    "    means = np.mean(means, axis=0)\n",
    "\n",
    "    std = np.array(std)\n",
    "    std = np.mean(std, axis=0)\n",
    "\n",
    "    class NormFactor:\n",
    "        def __init__(self, m, s):\n",
    "            self.means = m\n",
    "            self.std = s\n",
    "\n",
    "    return NormFactor(means, std)"
   ],
   "metadata": {
    "collapsed": false
   }
  },
  {
   "cell_type": "code",
   "execution_count": 10,
   "outputs": [],
   "source": [
    "# collect normalization factors\n",
    "import pickle\n",
    "# import helper_functions\n",
    "\n",
    "normFactors = get_norm_factors(all_features)"
   ],
   "metadata": {
    "collapsed": false
   }
  },
  {
   "cell_type": "code",
   "execution_count": 11,
   "outputs": [],
   "source": [
    "train_features = []\n",
    "for i in range(len(adsTrain.files)):\n",
    "    train_feature = helper_feature_extraction(adsTrain.files[i], normFactors)\n",
    "    train_features.append(train_feature)"
   ],
   "metadata": {
    "collapsed": false
   }
  },
  {
   "cell_type": "code",
   "execution_count": 12,
   "outputs": [
    {
     "name": "stdout",
     "output_type": "stream",
     "text": [
      "sklearn model-15.133091264287247\n"
     ]
    }
   ],
   "source": [
    "ubm = GaussianMixture(n_components=32, covariance_type='diag')\n",
    "train_features_flattened = np.array([item for sublist in train_features for item in sublist])\n",
    "ubm.fit(train_features_flattened)\n",
    "print('sklearn model' + str(ubm.score(train_features[0])))"
   ],
   "metadata": {
    "collapsed": false
   }
  },
  {
   "cell_type": "code",
   "execution_count": 13,
   "outputs": [
    {
     "name": "stdout",
     "output_type": "stream",
     "text": [
      "speaker enrollment complete\n"
     ]
    }
   ],
   "source": [
    "# ENROLL\n",
    "\n",
    "# [4] map enroll\n",
    "import helper_functions as hf\n",
    "\n",
    "# do stuff\n",
    "numComponents = 32\n",
    "numFeatures = 13\n",
    "relevanceFactor = 16\n",
    "speakers = np.unique(adsEnroll.labels)\n",
    "numSpeakers = len(speakers)\n",
    "gmmCellArray = []\n",
    "\n",
    "for i in range(len(speakers)):\n",
    "    adsTrainSubset = myads.subset(adsEnroll, speakers[i])\n",
    "    N = np.zeros((1, numComponents))\n",
    "    F = np.zeros((numFeatures, numComponents))\n",
    "    S = np.zeros((numFeatures, numComponents))\n",
    "\n",
    "    for file in adsTrainSubset.files:\n",
    "        speaker_feature = helper_feature_extraction(file, normFactors)\n",
    "        if len(speaker_feature) > 0:\n",
    "            # BW stats, # TODO make this in to function\n",
    "            n,f,s,l = hf.helper_expectation(speaker_feature, ubm)\n",
    "            N = N + n\n",
    "            F = F + f\n",
    "            S = S + s\n",
    "        else:\n",
    "            print('skipping train file because len = 0')\n",
    "\n",
    "    gmm = hf.helper_maximization(N,F,S,numComponents)\n",
    "\n",
    "    alpha = N / (N + relevanceFactor)\n",
    "\n",
    "    mu = (alpha.T*gmm.means_) + ((1-alpha).T*ubm.means_)\n",
    "    gmm.means_ = mu\n",
    "\n",
    "    sigma = alpha*(S/N) + (1-alpha)*(ubm.covariances_.T + np.square(ubm.means_).T) - np.square(gmm.means_).T\n",
    "    sigma = np.maximum(sigma, eps).T\n",
    "    gmm.covariances_ = sigma\n",
    "\n",
    "    gmm.precisions_cholesky_ = _gaussian_mixture._compute_precision_cholesky(gmm.covariances_, 'diag')\n",
    "\n",
    "    weights = alpha*(N/np.sum(N)) + (1-alpha)*ubm.weights_.T\n",
    "    weights = np.squeeze(weights/np.sum(weights))\n",
    "    gmm.weights_ = weights\n",
    "\n",
    "    gmmCellArray.append(gmm)\n",
    "\n",
    "print('speaker enrollment complete')\n"
   ],
   "metadata": {
    "collapsed": false
   }
  },
  {
   "cell_type": "code",
   "execution_count": 14,
   "outputs": [
    {
     "name": "stdout",
     "output_type": "stream",
     "text": [
      "-18.95687669208021 -21.43734392015952\n"
     ]
    }
   ],
   "source": [
    "adsTrainSubset = myads.subset(adsEnroll, speakers[0])\n",
    "speaker_feature = helper_feature_extraction(adsTrainSubset.files[1], normFactors)\n",
    "adapted_score = gmmCellArray[0].score(speaker_feature)\n",
    "ubm_score = ubm.score(speaker_feature)\n",
    "print(adapted_score, ubm_score)"
   ],
   "metadata": {
    "collapsed": false
   }
  },
  {
   "cell_type": "code",
   "execution_count": 15,
   "outputs": [],
   "source": [
    "enrolled_gmms = {}\n",
    "for i in range(len(gmmCellArray)):\n",
    "    enrolled_gmms[speakers[i]] = gmmCellArray[i]"
   ],
   "metadata": {
    "collapsed": false
   }
  },
  {
   "cell_type": "code",
   "execution_count": 16,
   "outputs": [],
   "source": [
    "def running_mean(x, N):\n",
    "    cumsum = np.cumsum(np.insert(x, 0, 0))\n",
    "    return (cumsum[N:] - cumsum[:-N]) / float(N)"
   ],
   "metadata": {
    "collapsed": false
   }
  },
  {
   "cell_type": "code",
   "execution_count": 17,
   "outputs": [],
   "source": [
    "# false rejection rate -\n",
    "# The speaker false rejection rate (FRR) is the rate that a given speaker is incorrectly rejected. Use the known speaker set to determine the speaker false rejection rate for a set of thresholds.\n",
    "\n",
    "llr = []\n",
    "\n",
    "for i in range(len(speakers)):\n",
    "    cur_speaker = speakers[i]\n",
    "    local_gmm = enrolled_gmms[cur_speaker]\n",
    "    adsTestSubset = myads.subset(adsTest, cur_speaker)\n",
    "    llrPerSpeaker = np.zeros(len(adsTestSubset.files))\n",
    "\n",
    "    for y in range(len(adsTestSubset.files)):\n",
    "        file = adsTestSubset.files[y]\n",
    "        speaker_feature = helper_feature_extraction(file, normFactors)\n",
    "\n",
    "        if len(speaker_feature) > 0:\n",
    "\n",
    "            logLikelihood = local_gmm._estimate_weighted_log_prob(speaker_feature)\n",
    "            lspeaker = logsumexp(logLikelihood, axis=1)\n",
    "\n",
    "            logLikelihood = ubm._estimate_weighted_log_prob(speaker_feature)\n",
    "            lubm = logsumexp(logLikelihood, axis=1)\n",
    "\n",
    "            llrPerSpeaker[y] = np.mean(running_mean(lspeaker-lubm, 3))\n",
    "\n",
    "    llr.append(llrPerSpeaker)"
   ],
   "metadata": {
    "collapsed": false
   }
  },
  {
   "cell_type": "code",
   "execution_count": 18,
   "outputs": [],
   "source": [
    "llr_cat = np.concatenate(llr, axis=0)\n",
    "thresholds = np.arange(-0.5,2.5,0.01)\n",
    "thresholds = np.expand_dims(thresholds, axis=1)\n",
    "ones = np.ones((1, len(llr_cat)))\n",
    "thresholds = thresholds * ones\n",
    "frr = np.mean((llr_cat < thresholds), axis=1)"
   ],
   "metadata": {
    "collapsed": false
   }
  },
  {
   "cell_type": "code",
   "execution_count": 19,
   "outputs": [
    {
     "data": {
      "text/plain": "<Figure size 640x480 with 1 Axes>",
      "image/png": "[encoded data removed]"
     },
     "metadata": {},
     "output_type": "display_data"
    }
   ],
   "source": [
    "import matplotlib.pyplot as plt\n",
    "\n",
    "plt.plot(thresholds, frr * 100)\n",
    "plt.title('false rejection rate vs threshold')\n",
    "plt.show()"
   ],
   "metadata": {
    "collapsed": false
   }
  },
  {
   "cell_type": "code",
   "execution_count": 29,
   "outputs": [
    {
     "data": {
      "text/plain": "array([[ 0.85938588, -0.32007101, -0.59410135],\n       [-0.40123801,  5.29921182, -0.40368823],\n       [-0.61298323, -0.19562526,  1.16089304]])"
     },
     "execution_count": 29,
     "metadata": {},
     "output_type": "execute_result"
    }
   ],
   "source": [
    "# confusion matrix\n",
    "\n",
    "# false rejection rate -\n",
    "# The speaker false rejection rate (FRR) is the rate that a given speaker is incorrectly rejected. Use the known speaker set to determine the speaker false rejection rate for a set of thresholds.\n",
    "\n",
    "all_whales = []\n",
    "for i in range(len(speakers)):\n",
    "    whale_model = enrolled_gmms[speakers[i]]\n",
    "    cur_whale = []\n",
    "\n",
    "    # loop through data\n",
    "    for y in range(len(speakers)):\n",
    "        dataSubset = myads.subset(adsTest, speakers[y])\n",
    "        data_ll = []\n",
    "\n",
    "        for z in range(len(dataSubset.files)):\n",
    "            file = dataSubset.files[z]\n",
    "            whale_feature = helper_feature_extraction(file, normFactors)\n",
    "\n",
    "            logLikelihood = whale_model._estimate_weighted_log_prob(whale_feature)\n",
    "            lspeaker = logsumexp(logLikelihood, axis=1)\n",
    "\n",
    "            logLikelihood = ubm._estimate_weighted_log_prob(whale_feature)\n",
    "            lubm = logsumexp(logLikelihood, axis=1)\n",
    "\n",
    "            data_ll.append(np.mean(running_mean(lspeaker-lubm, 3)))\n",
    "\n",
    "        cur_whale.append(np.mean(data_ll))\n",
    "\n",
    "    all_whales.append(cur_whale)\n",
    "\n",
    "np.array(all_whales) # is this working?"
   ],
   "metadata": {
    "collapsed": false
   }
  },
  {
   "cell_type": "code",
   "execution_count": null,
   "outputs": [],
   "source": [],
   "metadata": {
    "collapsed": false
   }
  }
 ],
 "metadata": {
  "kernelspec": {
   "display_name": "Python 3",
   "language": "python",
   "name": "python3"
  },
  "language_info": {
   "codemirror_mode": {
    "name": "ipython",
    "version": 2
   },
   "file_extension": ".py",
   "mimetype": "text/x-python",
   "name": "python",
   "nbconvert_exporter": "python",
   "pygments_lexer": "ipython2",
   "version": "2.7.6"
  }
 },
 "nbformat": 4,
 "nbformat_minor": 0
}
