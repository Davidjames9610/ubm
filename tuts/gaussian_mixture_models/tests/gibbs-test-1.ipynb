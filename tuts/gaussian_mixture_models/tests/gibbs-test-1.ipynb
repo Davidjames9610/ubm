{
 "cells": [
  {
   "cell_type": "code",
   "execution_count": 9,
   "metadata": {
    "collapsed": true
   },
   "outputs": [],
   "source": [
    "# test collapsed gibbs sampler\n",
    "\n",
    "import numpy as np"
   ]
  },
  {
   "cell_type": "code",
   "execution_count": 1,
   "outputs": [
    {
     "name": "stdout",
     "output_type": "stream",
     "text": [
      "['/Users/david/Documents/mastersCode/ubm/tuts/gaussian_mixture_models/tests', '/Users/david/.conda/envs/ubm/lib/python310.zip', '/Users/david/.conda/envs/ubm/lib/python3.10', '/Users/david/.conda/envs/ubm/lib/python3.10/lib-dynload', '', '/Users/david/.conda/envs/ubm/lib/python3.10/site-packages', '/Users/david/Documents/mastersCode/ubm']\n"
     ]
    }
   ],
   "source": [
    "import sys\n",
    "sys.path.append(\"/Users/david/Documents/mastersCode/ubm\")\n",
    "print(sys.path)"
   ],
   "metadata": {
    "collapsed": false
   }
  },
  {
   "cell_type": "code",
   "execution_count": 2,
   "outputs": [],
   "source": [
    "sys.path.append(\"/Users/david/Documents/mastersCode/ubm/tuts/gaussian_mixture_models/gibbs/kamper\")"
   ],
   "metadata": {
    "collapsed": false
   }
  },
  {
   "cell_type": "code",
   "execution_count": 3,
   "outputs": [
    {
     "name": "stdout",
     "output_type": "stream",
     "text": [
      "['/Applications/PyCharm.app/Contents/plugins/python/helpers-pro/jupyter_debug', '/Applications/PyCharm.app/Contents/plugins/python/helpers/pydev', '/Users/david/Documents/mastersCode/ubm/tuts/gaussian_mixture_models/tests', '/Users/david/.conda/envs/ubm/lib/python310.zip', '/Users/david/.conda/envs/ubm/lib/python3.10', '/Users/david/.conda/envs/ubm/lib/python3.10/lib-dynload', '', '/Users/david/.conda/envs/ubm/lib/python3.10/site-packages', '/Users/david/Documents/mastersCode/ubm', '/Users/david/Documents/mastersCode/ubm/tuts/gaussian_mixture_models/gibbs/kamper']\n"
     ]
    }
   ],
   "source": [
    "print(sys.path)"
   ],
   "metadata": {
    "collapsed": false
   }
  },
  {
   "cell_type": "code",
   "execution_count": 28,
   "outputs": [
    {
     "data": {
      "text/plain": "<module 'tuts.gaussian_mixture_models.gibbs.kamper.fbgmm' from '/Users/david/Documents/mastersCode/ubm/tuts/gaussian_mixture_models/gibbs/kamper/fbgmm.py'>"
     },
     "execution_count": 28,
     "metadata": {},
     "output_type": "execute_result"
    }
   ],
   "source": [
    "from tuts.gaussian_mixture_models.gibbs.kamper import niw, fbgmm\n",
    "from tuts.gaussian_mixture_models.gibbs.kamper.plot_utils import plot_mixture_model, plot_ellipse, colors\n",
    "from importlib import reload\n",
    "reload(fbgmm)"
   ],
   "metadata": {
    "collapsed": false
   }
  },
  {
   "cell_type": "code",
   "execution_count": 24,
   "outputs": [],
   "source": [
    "# # Data parameters\n",
    "# D = 2           # dimensions\n",
    "# N = 100         # number of points to generate\n",
    "# K_true = 4      # the true number of components\n",
    "#\n",
    "# # Model parameters\n",
    "# alpha = 1.\n",
    "# K = 4           # number of components\n",
    "# n_iter = 20\n",
    "#\n",
    "# # Generate data\n",
    "# mu_scale = 4.0\n",
    "# covar_scale = 0.7\n",
    "# z_true = np.random.randint(0, K_true, N)\n",
    "# mu = np.random.randn(D, K_true)*mu_scale\n",
    "# X = mu[:, z_true] + np.random.randn(D, N)*covar_scale\n",
    "# X = X.T"
   ],
   "metadata": {
    "collapsed": false
   }
  },
  {
   "cell_type": "code",
   "execution_count": 25,
   "outputs": [
    {
     "name": "stdout",
     "output_type": "stream",
     "text": [
      "Loading a Data Set\n",
      "Number of clusters: 3\n",
      "Number of data: 250\n"
     ]
    }
   ],
   "source": [
    "print(\"Loading a Data Set\")\n",
    "x = np.loadtxt(\"../data/data_3_clusters.txt\") # Observation1(Corresponds to x_1 in the graphical model)\n",
    "z_truth_n = np.loadtxt(\"../data/data_3_clusters_labels.txt\") # True label (True z_n)\n",
    "K = 3 # Number of clusters\n",
    "N = len(x) # Number of data\n",
    "D = len(x[0]) # Number of dimention\n",
    "print(f\"Number of clusters: {K}\"); print(f\"Number of data: {len(x)}\");"
   ],
   "metadata": {
    "collapsed": false
   }
  },
  {
   "cell_type": "code",
   "execution_count": 44,
   "outputs": [],
   "source": [
    "# first with example given\n",
    "\n",
    "import random\n",
    "import logging\n",
    "import matplotlib.pyplot as plt\n",
    "\n",
    "# logging.basicConfig(level=logging.INFO)\n",
    "\n",
    "random.seed(1)\n",
    "np.random.seed(1)\n",
    "\n",
    "# Data parameters\n",
    "D = 2           # dimensions\n",
    "N = 10          # number of points to generate\n",
    "K_true = 4      # the true number of components\n",
    "\n",
    "# Model parameters\n",
    "alpha = 1.\n",
    "K = 6           # number of components\n",
    "n_iter = 10\n",
    "\n",
    "# Generate data\n",
    "mu_scale = 4.0\n",
    "covar_scale = 0.7\n",
    "z_true = np.random.randint(0, K_true, N)\n",
    "mu = np.random.randn(D, K_true)*mu_scale\n",
    "X = mu[:, z_true] + np.random.randn(D, N)*covar_scale\n",
    "X = X.T\n",
    "\n",
    "# Intialize prior\n",
    "m_0 = np.zeros(D)\n",
    "k_0 = covar_scale**2/mu_scale**2\n",
    "v_0 = D + 3\n",
    "S_0 = covar_scale**2*v_0*np.eye(D)\n",
    "prior = niw.NIW(m_0, k_0, v_0, S_0)\n",
    "\n",
    "# Setup FBGMM\n",
    "fmgmm = fbgmm.FBGMM(X, prior, alpha, K, \"rand\")\n",
    "\n",
    "# Perform Gibbs sampling\n",
    "# logger.info(\"Initial log marginal prob: \" + str(fmgmm.log_marg()))\n",
    "record = fmgmm.gibbs_sample(n_iter)"
   ],
   "metadata": {
    "collapsed": false
   }
  },
  {
   "cell_type": "code",
   "execution_count": 45,
   "outputs": [
    {
     "data": {
      "text/plain": "<Figure size 1600x480 with 1 Axes>",
      "image/png": "[encoded data removed]"
     },
     "metadata": {},
     "output_type": "display_data"
    }
   ],
   "source": [
    "fig = plt.figure()\n",
    "ax = fig.add_subplot(111)\n",
    "for k in range(fmgmm.components.K):\n",
    "    mu, sigma = fmgmm.components.rand_k(k)\n",
    "    plot_ellipse(ax, mu, sigma)\n",
    "plt.show()"
   ],
   "metadata": {
    "collapsed": false
   }
  },
  {
   "cell_type": "code",
   "execution_count": 40,
   "outputs": [],
   "source": [],
   "metadata": {
    "collapsed": false
   }
  },
  {
   "cell_type": "code",
   "execution_count": null,
   "outputs": [],
   "source": [],
   "metadata": {
    "collapsed": false
   }
  },
  {
   "cell_type": "code",
   "execution_count": null,
   "outputs": [],
   "source": [],
   "metadata": {
    "collapsed": false
   }
  }
 ],
 "metadata": {
  "kernelspec": {
   "display_name": "Python 3",
   "language": "python",
   "name": "python3"
  },
  "language_info": {
   "codemirror_mode": {
    "name": "ipython",
    "version": 2
   },
   "file_extension": ".py",
   "mimetype": "text/x-python",
   "name": "python",
   "nbconvert_exporter": "python",
   "pygments_lexer": "ipython2",
   "version": "2.7.6"
  }
 },
 "nbformat": 4,
 "nbformat_minor": 0
}
