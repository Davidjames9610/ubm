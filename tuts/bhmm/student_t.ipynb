{
 "cells": [
  {
   "cell_type": "markdown",
   "source": [
    "# aim:\n",
    "\n",
    "check custom student-t lines up with one from scipy\n",
    "plot pdf for 1d at mean, does it go above 0 ?\n"
   ],
   "metadata": {
    "collapsed": false
   }
  },
  {
   "cell_type": "code",
   "execution_count": 1,
   "outputs": [],
   "source": [
    "# init things\n",
    "from sklearn.cluster import KMeans\n",
    "from scipy.stats import wishart, dirichlet, invwishart, multivariate_normal, beta, multivariate_t, multinomial\n",
    "from sklearn.metrics.cluster import adjusted_rand_score as ari\n",
    "from sklearn.mixture._gaussian_mixture import _compute_precision_cholesky\n",
    "import numpy as np\n",
    "import plot_hmm\n",
    "import numba_functions\n",
    "from numpy.random import binomial\n",
    "import matplotlib.pyplot as plt\n",
    "from scipy.special import gammaln"
   ],
   "metadata": {
    "collapsed": false
   }
  },
  {
   "cell_type": "code",
   "execution_count": 17,
   "outputs": [],
   "source": [
    "\n",
    "def _multivariate_students_t(x, mu, shape, v, D):\n",
    "    \"\"\"\n",
    "    Return the value of the log multivariate Student's t PDF at `X[i]`.\n",
    "    \"\"\"\n",
    "    delta = x - mu\n",
    "    v = int(v)\n",
    "\n",
    "    logdet_covar = np.linalg.slogdet(shape)[1]\n",
    "    inv_covar = np.linalg.inv(shape)\n",
    "\n",
    "    return gammaln((v + D) / 2) - gammaln((v) / 2) - D/2.*np.log(v) - D/2.*np.log(np.pi) - logdet_covar/2 - \\\n",
    "         (v + D)/2. * np.log(1 + 1./v * np.dot(np.dot(delta, inv_covar), delta))\n",
    "\n",
    "def student_t_giw(x, mt, kt, nut, St, D):\n",
    "    loc = mt\n",
    "    shape = St * (kt + 1.)/(kt*(nut - D + 1.))\n",
    "    df = (nut - D + 1.)\n",
    "    return _multivariate_students_t(x, loc, shape, df, D)\n",
    "\n",
    "def scipy_t_wrapper(x, mt, kt, nut, St, D):\n",
    "    loc = mt\n",
    "    shape = St * (kt + 1.)/(kt*(nut - D + 1.))\n",
    "    df = (nut - D + 1.)\n",
    "    return multivariate_t.logpdf(x, loc, shape, df)\n"
   ],
   "metadata": {
    "collapsed": false
   }
  },
  {
   "cell_type": "code",
   "execution_count": 20,
   "outputs": [
    {
     "data": {
      "text/plain": "<matplotlib.collections.PathCollection at 0x15b9c5ae0>"
     },
     "execution_count": 20,
     "metadata": {},
     "output_type": "execute_result"
    },
    {
     "data": {
      "text/plain": "<Figure size 640x480 with 1 Axes>",
      "image/png": "[encoded data removed]"
     },
     "metadata": {},
     "output_type": "display_data"
    }
   ],
   "source": [
    "m0 = np.array([-10, 20])\n",
    "k0 = 1   # how much we believe m0\n",
    "nu0 = 4 # since nu0 + 2 will mean <sigma> = S0\n",
    "S0 = np.array([[20,0],[0,20]])\n",
    "D = 2\n",
    "N = 100\n",
    "\n",
    "samples = multivariate_normal.rvs(m0, S0, N)\n",
    "# plt.scatter(samples[:,0], samples[:, 1])\n",
    "\n",
    "pdfs = np.zeros((N, 2))\n",
    "for i in range(N):\n",
    "    pdfs[i, ] = scipy_t_wrapper(samples[i], m0, k0, nu0, S0, D), student_t_giw(samples[i], m0, k0, nu0, S0, D)\n",
    "\n",
    "plt.scatter(pdfs[:,0], pdfs[:, 1])"
   ],
   "metadata": {
    "collapsed": false
   }
  },
  {
   "cell_type": "code",
   "execution_count": 25,
   "outputs": [
    {
     "data": {
      "text/plain": "array([[-1192.42599079,   646.43170256],\n       [  646.43170256,  -186.08818082]])"
     },
     "execution_count": 25,
     "metadata": {},
     "output_type": "execute_result"
    }
   ],
   "source": [
    "def is_symmetric_positive_semidefinite(matrix):\n",
    "    # Check for symmetry\n",
    "    if not (matrix == matrix.T).all():\n",
    "        return False\n",
    "\n",
    "    # Check for positive semidefiniteness\n",
    "    try:\n",
    "        np.linalg.cholesky(matrix)\n",
    "        return True\n",
    "    except np.linalg.LinAlgError:\n",
    "        return False\n",
    "\n",
    "# now get values which are causing issues:\n",
    "xn = np.array([9.28876729, -4.62840729])\n",
    "Sn = np.array([[-1192.42599079, 646.43170256], [646.43170256, -186.08818082]])\n",
    "mn = np.array([2.67748355, -1.06180212])\n",
    "kn = 210\n",
    "nun = 204\n",
    "\n",
    "# is_symmetric_positive_semidefinite(S0)\n",
    "\n",
    "\n",
    "Sn.T\n",
    "\n",
    "# # student_t_giw(xn, mn, kn, nun, Sn, D)\n",
    "# scipy_t_wrapper(xn, mn, kn, nun, Sn, D)"
   ],
   "metadata": {
    "collapsed": false
   }
  },
  {
   "cell_type": "code",
   "execution_count": 27,
   "outputs": [
    {
     "name": "stdout",
     "output_type": "stream",
     "text": [
      "Original Matrix:\n",
      "[[-1192.42599079   646.43170256]\n",
      " [  646.43170256  -186.08818082]]\n",
      "\n",
      "Updated Matrix (Symmetric Positive Semidefinite):\n",
      "[[ 25.05942686  51.26181152]\n",
      " [ 51.26181152 104.86166882]]\n"
     ]
    }
   ],
   "source": [
    "def ensure_symmetric_positive_semidefinite(A):\n",
    "    # Ensure symmetry\n",
    "    A = (A + A.T) / 2.0\n",
    "\n",
    "    # Ensure positive semidefiniteness\n",
    "    eigvals, eigvecs = np.linalg.eigh(A)\n",
    "    eigvals[eigvals < 0] = 0\n",
    "    A = eigvecs @ np.diag(eigvals) @ eigvecs.T\n",
    "\n",
    "    return A\n",
    "\n",
    "# Example usage\n",
    "S = np.array([[2, 1], [1, 3]])\n",
    "updated_S = ensure_symmetric_positive_semidefinite(Sn)\n",
    "\n",
    "print(\"Original Matrix:\")\n",
    "print(Sn)\n",
    "print(\"\\nUpdated Matrix (Symmetric Positive Semidefinite):\")\n",
    "print(updated_S)"
   ],
   "metadata": {
    "collapsed": false
   }
  },
  {
   "cell_type": "code",
   "execution_count": null,
   "outputs": [],
   "source": [],
   "metadata": {
    "collapsed": false
   }
  }
 ],
 "metadata": {
  "kernelspec": {
   "display_name": "Python 3",
   "language": "python",
   "name": "python3"
  },
  "language_info": {
   "codemirror_mode": {
    "name": "ipython",
    "version": 2
   },
   "file_extension": ".py",
   "mimetype": "text/x-python",
   "name": "python",
   "nbconvert_exporter": "python",
   "pygments_lexer": "ipython2",
   "version": "2.7.6"
  }
 },
 "nbformat": 4,
 "nbformat_minor": 0
}
