{
 "cells": [
  {
   "cell_type": "code",
   "execution_count": 1,
   "metadata": {
    "collapsed": true
   },
   "outputs": [],
   "source": [
    "%matplotlib inline"
   ]
  },
  {
   "cell_type": "markdown",
   "source": [
    "Sampling from a Hierarchical Dirichlet Process\n",
    "\n",
    "Sampling from a Hierarchical Dirichlet Process\n",
    "As we saw earlier the Dirichlet process describes the distribution of a random probability distribution. The Dirichlet process takes two parameters: a base distribution $H_0$ and a dispersion parameter $\\alpha$. A sample from the Dirichlet process is itself a probability distribution that looks like $H_0$. On average, the larger $\\alpha$ is, the closer a sample from $\\mathrm{DP}\\left(\\alpha H_0\\right)$ will be to $H_0$.\n",
    "Suppose we're feeling masochistic and want to input a distribution sampled from a Dirichlet process as base distribution to a new Dirichlet process. (It will turn out that there are good reasons for this!) Conceptually this makes sense. But can we construct such a thing in practice? Said another way, can we build a sampler that will draw samples from a probability distribution drawn from these nested Dirichlet processes? We might initially try construct a sample (a probability distribution) from the first Dirichlet process before feeding it into the second.\n",
    "But recall that fully constructing a sample (a probability distribution!) from a Dirichlet process would require drawing a countably infinite number of samples from $H_0$ and from the beta distribution to generate the weights. This would take forever, even with Hadoop!\n",
    "Dan Roy, et al helpfully described a technique of using stochastic memoization to construct a distribution sampled from a Dirichlet process in a just-in-time manner. This process provides us with the equivalent of the Scipy rvs method for the sampled distribution. Stochastic memoization is equivalent to the Chinese restaurant process: sometimes you get seated an an occupied table (i.e. sometimes you're given a sample you've seen before) and sometimes you're put at a new table (given a unique sample).\n",
    "Here is our memoization class again:\n"
   ],
   "metadata": {
    "collapsed": false
   }
  },
  {
   "cell_type": "code",
   "execution_count": 2,
   "outputs": [],
   "source": [
    "from numpy.random import choice\n",
    "from scipy.stats import beta\n",
    "\n",
    "class DirichletProcessSample():\n",
    "    def __init__(self, base_measure, alpha):\n",
    "        self.base_measure = base_measure\n",
    "        self.alpha = alpha\n",
    "\n",
    "        self.cache = []\n",
    "        self.weights = []\n",
    "        self.total_stick_used = 0.\n",
    "\n",
    "    def __call__(self):\n",
    "        remaining = 1.0 - self.total_stick_used\n",
    "        i = DirichletProcessSample.roll_die(self.weights + [remaining])\n",
    "        if i is not None and i < len(self.weights) :\n",
    "            return self.cache[i]\n",
    "        else:\n",
    "            stick_piece = beta(1, self.alpha).rvs() * remaining\n",
    "            self.total_stick_used += stick_piece\n",
    "            self.weights.append(stick_piece)\n",
    "            new_value = self.base_measure()\n",
    "            self.cache.append(new_value)\n",
    "            return new_value\n",
    "\n",
    "    @staticmethod\n",
    "    def roll_die(weights):\n",
    "        if weights:\n",
    "            return choice(range(len(weights)), p=weights)\n",
    "        else:\n",
    "            return None"
   ],
   "metadata": {
    "collapsed": false
   }
  },
  {
   "cell_type": "code",
   "execution_count": null,
   "outputs": [],
   "source": [],
   "metadata": {
    "collapsed": false
   }
  }
 ],
 "metadata": {
  "kernelspec": {
   "display_name": "Python 3",
   "language": "python",
   "name": "python3"
  },
  "language_info": {
   "codemirror_mode": {
    "name": "ipython",
    "version": 2
   },
   "file_extension": ".py",
   "mimetype": "text/x-python",
   "name": "python",
   "nbconvert_exporter": "python",
   "pygments_lexer": "ipython2",
   "version": "2.7.6"
  }
 },
 "nbformat": 4,
 "nbformat_minor": 0
}
