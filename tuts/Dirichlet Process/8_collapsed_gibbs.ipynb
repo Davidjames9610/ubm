{
 "cells": [
  {
   "cell_type": "markdown",
   "source": [
    "Collapsed Gibbs Sampling for Bayesian Mixture Models (with a Nonparametric Extension)"
   ],
   "metadata": {
    "collapsed": false
   }
  },
  {
   "cell_type": "code",
   "execution_count": 1,
   "outputs": [],
   "source": [
    "%matplotlib inline\n",
    "import pandas as pd\n",
    "import numpy as np\n",
    "import matplotlib.pyplot as plt\n",
    "\n",
    "from collections import namedtuple, Counter\n",
    "from scipy import stats\n",
    "from numpy import random"
   ],
   "metadata": {
    "collapsed": false
   }
  },
  {
   "cell_type": "code",
   "execution_count": 2,
   "outputs": [],
   "source": [
    "np.random.seed(12345)"
   ],
   "metadata": {
    "collapsed": false
   }
  },
  {
   "cell_type": "code",
   "execution_count": 3,
   "outputs": [
    {
     "data": {
      "text/plain": "<Figure size 640x480 with 1 Axes>",
      "image/png": "[encoded data removed]"
     },
     "metadata": {},
     "output_type": "display_data"
    }
   ],
   "source": [
    "data = pd.read_csv(\"clusters.csv\", header=None)\n",
    "second_column = data.iloc[:, 1]\n",
    "data = pd.DataFrame(second_column)\n",
    "data_array = second_column.values\n",
    "# data = data.drop('0', axis=1)\n",
    "_=data.hist(bins=20)"
   ],
   "metadata": {
    "collapsed": false
   }
  },
  {
   "cell_type": "code",
   "execution_count": 70,
   "outputs": [],
   "source": [
    "SuffStat = namedtuple('SuffStat', 'theta N')\n",
    "\n",
    "def update_suffstats(state):\n",
    "    for cluster_id, N in Counter(state['assignment']).items():\n",
    "        points_in_cluster = []\n",
    "        for x, cid in zip(data_array, state['assignment']):\n",
    "            if cid == cluster_id:\n",
    "                points_in_cluster.append(x)\n",
    "        mean = np.array(points_in_cluster).mean()\n",
    "        state['suffstats'][cluster_id] = SuffStat(mean, N)\n",
    "\n",
    "def initial_state(num_clusters=3, alpha=1.0):\n",
    "    cluster_ids = list(range(num_clusters))\n",
    "\n",
    "    state = {\n",
    "        'cluster_ids_': cluster_ids,\n",
    "        'data_': data_array,\n",
    "        'num_clusters_': num_clusters,\n",
    "        'cluster_variance_': .01,\n",
    "        'alpha_': alpha,\n",
    "        'hyperparameters_': {\n",
    "            \"mean\": 0,\n",
    "            \"variance\": 1,\n",
    "        },\n",
    "        'suffstats': {cid: None for cid in cluster_ids},\n",
    "        'assignment': [random.choice(cluster_ids) for _ in data.T],\n",
    "        'pi': [alpha / num_clusters for _ in cluster_ids],\n",
    "        'cluster_means': [-1, 0, 1]\n",
    "    }\n",
    "    update_suffstats(state)\n",
    "    return state\n",
    "\n",
    "state = initial_state()"
   ],
   "metadata": {
    "collapsed": false
   }
  },
  {
   "cell_type": "code",
   "execution_count": 14,
   "outputs": [],
   "source": [
    "def log_predictive_likelihood(data_id, cluster_id, state):\n",
    "    \"\"\"Predictive likelihood of the data at data_id is generated\n",
    "    by cluster_id given the current state.\n",
    "\n",
    "    From Section 2.4 of\n",
    "    http://www.cs.ubc.ca/~murphyk/Papers/bayesGauss.pdf\n",
    "    \"\"\"\n",
    "    ss = state['suffstats'][cluster_id]\n",
    "    hp_mean = state['hyperparameters_']['mean']\n",
    "    hp_var = state['hyperparameters_']['variance']\n",
    "    param_var = state['cluster_variance_']\n",
    "    x = state['data_'][data_id]\n",
    "    return _log_predictive_likelihood(ss, hp_mean, hp_var, param_var, x)\n",
    "\n",
    "\n",
    "def _log_predictive_likelihood(ss, hp_mean, hp_var, param_var, x):\n",
    "    posterior_sigma2 = 1 / (ss.N * 1. / param_var + 1. / hp_var)\n",
    "    predictive_mu = posterior_sigma2 * (hp_mean * 1. / hp_var + ss.N * ss.theta * 1. / param_var)\n",
    "    predictive_sigma2 = param_var + posterior_sigma2\n",
    "    predictive_sd = np.sqrt(predictive_sigma2)\n",
    "    return stats.norm(predictive_mu, predictive_sd).logpdf(x)\n",
    "\n",
    "\n",
    "def log_cluster_assign_score(cluster_id, state):\n",
    "    \"\"\"Log-likelihood that a new point generated will\n",
    "    be assigned to cluster_id given the current state.\n",
    "    \"\"\"\n",
    "    current_cluster_size = state['suffstats'][cluster_id].N\n",
    "    num_clusters = state['num_clusters_']\n",
    "    alpha = state['alpha_']\n",
    "    return np.log(current_cluster_size + alpha * 1. / num_clusters)"
   ],
   "metadata": {
    "collapsed": false
   }
  },
  {
   "cell_type": "code",
   "execution_count": 27,
   "outputs": [],
   "source": [
    "# To simplify the computation of things like\n",
    "#  (where we remove point\n",
    "#  from the summary statistics), we create two simple functions to add and remove a point from the summary statistics for a given cluster.\n",
    "\n",
    "def cluster_assignment_distribution(data_id, state):\n",
    "    \"\"\"Compute the marginal distribution of cluster assignment\n",
    "    for each cluster.\n",
    "    \"\"\"\n",
    "    scores = {}\n",
    "    for cid in state['cluster_ids_']:\n",
    "        scores[cid] = log_predictive_likelihood(data_id, cid, state)\n",
    "        scores[cid] += log_cluster_assign_score(cid, state)\n",
    "\n",
    "    # scores = {cid: np.exp(score) for cid, score in scores.iteritems()}\n",
    "    # normalization = 1.0/sum(scores.values())\n",
    "    # scores = {cid: score*normalization for cid, score in scores.iteritems()}\n",
    "    for key in scores:\n",
    "        scores[key] = np.exp(scores[key])\n",
    "    normalization = 1.0/sum(scores.values())\n",
    "    for key in scores:\n",
    "        scores[key] = scores[key] * normalization\n",
    "\n",
    "    return scores\n",
    "\n",
    "def add_datapoint_to_suffstats(x, ss):\n",
    "    \"\"\"Add datapoint to sufficient stats for normal component\n",
    "    \"\"\"\n",
    "    return SuffStat((ss.theta*(ss.N)+x)/(ss.N+1), ss.N+1)\n",
    "\n",
    "\n",
    "def remove_datapoint_from_suffstats(x, ss):\n",
    "    \"\"\"Remove datapoint from sufficient stats for normal component\n",
    "    \"\"\"\n",
    "    return SuffStat((ss.theta*(ss.N)-x*1.0)/(ss.N-1), ss.N-1)\n"
   ],
   "metadata": {
    "collapsed": false
   }
  },
  {
   "cell_type": "code",
   "execution_count": 16,
   "outputs": [],
   "source": [
    "# Finally, we're ready to create a function that takes a Gibbs step on the state. For each datapoint, it\n",
    "#\n",
    "# Removes the datapoint from its current cluster.\n",
    "# Computes the posterior probability of the point being assigned to each cluster (given the other current assignments).\n",
    "# Assigns the datapoint to a cluster sampled from this probability distribution.\n",
    "\n",
    "def gibbs_step(state):\n",
    "    pairs = zip(state['data_'], state['assignment'])\n",
    "    for data_id, (datapoint, cid) in enumerate(pairs):\n",
    "\n",
    "        state['suffstats'][cid] = remove_datapoint_from_suffstats(datapoint,\n",
    "                                                                  state['suffstats'][cid])\n",
    "        scores = cluster_assignment_distribution(data_id, state).items()\n",
    "        labels, scores = zip(*scores)\n",
    "        cid = random.choice(labels, p=scores)\n",
    "        state['assignment'][data_id] = cid\n",
    "        state['suffstats'][cid] = add_datapoint_to_suffstats(state['data_'][data_id], state['suffstats'][cid])\n"
   ],
   "metadata": {
    "collapsed": false
   }
  },
  {
   "cell_type": "code",
   "execution_count": 17,
   "outputs": [],
   "source": [
    "def plot_clusters(state):\n",
    "    gby = pd.DataFrame({\n",
    "            'data': state['data_'],\n",
    "            'assignment': state['assignment']}\n",
    "        ).groupby(by='assignment')['data']\n",
    "    hist_data = [gby.get_group(cid).tolist()\n",
    "                 for cid in gby.groups.keys()]\n",
    "    plt.hist(hist_data,\n",
    "             bins=20,\n",
    "             histtype='stepfilled', alpha=.5 )"
   ],
   "metadata": {
    "collapsed": false
   }
  },
  {
   "cell_type": "code",
   "execution_count": 28,
   "outputs": [],
   "source": [
    "state = initial_state()\n",
    "plot_clusters(state)"
   ],
   "metadata": {
    "collapsed": false
   }
  },
  {
   "cell_type": "code",
   "execution_count": 31,
   "outputs": [
    {
     "data": {
      "text/plain": "<Figure size 640x480 with 1 Axes>",
      "image/png": "[encoded data removed]"
     },
     "metadata": {},
     "output_type": "display_data"
    }
   ],
   "source": [
    "for _ in range(20): gibbs_step(state)\n",
    "plot_clusters(state)"
   ],
   "metadata": {
    "collapsed": false
   }
  },
  {
   "cell_type": "markdown",
   "source": [
    "Nonparametric Mixture Models!\n",
    "\n",
    "Nonparametric Mixture Models!\n",
    "It turns out, the collapsed Gibbs sampler for mixture models is almost identical in the context of a nonparametric model. This model uses a Dirichlet process prior instead of a Dirichlet distribution prior. It doesn't require us to specify how many clusters we are looking for in our data.\n",
    "\n",
    "The cluster assignment score changes slightly. It is proportional to $N_k^{-i}$ for each known cluster. We assign a datapoint to a new cluster with probability proportional to $\\alpha$ (which is now the DP dispersion parameter)."
   ],
   "metadata": {
    "collapsed": false
   }
  },
  {
   "cell_type": "code",
   "execution_count": 51,
   "outputs": [],
   "source": [
    "def log_cluster_assign_score_dp(cluster_id, state):\n",
    "    \"\"\"Log-likelihood that a new point generated will\n",
    "    be assigned to cluster_id given the current state.\n",
    "    \"\"\"\n",
    "    if cluster_id == \"new\":\n",
    "        return np.log(state[\"alpha_\"])\n",
    "    else:\n",
    "        return np.log(state['suffstats'][cluster_id].N)"
   ],
   "metadata": {
    "collapsed": false
   }
  },
  {
   "cell_type": "code",
   "execution_count": 59,
   "outputs": [],
   "source": [
    "def log_predictive_likelihood_dp(data_id, cluster_id, state):\n",
    "    \"\"\"Predictive likelihood of the data at data_id is generated\n",
    "    by cluster_id given the currenbt state.\n",
    "\n",
    "    From Section 2.4 of\n",
    "    http://www.cs.ubc.ca/~murphyk/Papers/bayesGauss.pdf\n",
    "    \"\"\"\n",
    "    if cluster_id == \"new\":\n",
    "        ss = SuffStat(0, 0)\n",
    "    else:\n",
    "        ss = state['suffstats'][cluster_id]\n",
    "\n",
    "    hp_mean = state['hyperparameters_']['mean']\n",
    "    hp_var = state['hyperparameters_']['variance']\n",
    "    param_var = state['cluster_variance_']\n",
    "    x = state['data_'][data_id]\n",
    "    return _log_predictive_likelihood(ss, hp_mean, hp_var, param_var, x)"
   ],
   "metadata": {
    "collapsed": false
   }
  },
  {
   "cell_type": "code",
   "execution_count": 60,
   "outputs": [],
   "source": [
    "def cluster_assignment_distribution_dp(data_id, state):\n",
    "    \"\"\"Compute the marginal distribution of cluster assignment\n",
    "    for each cluster.\n",
    "    \"\"\"\n",
    "    scores = {}\n",
    "    cluster_ids = (state['cluster_ids_']) + ['new']\n",
    "    for cid in cluster_ids:\n",
    "        scores[cid] = log_predictive_likelihood_dp(data_id, cid, state)\n",
    "        scores[cid] += log_cluster_assign_score_dp(cid, state)\n",
    "\n",
    "    for key in scores:\n",
    "        scores[key] = np.exp(scores[key])\n",
    "    normalization = 1.0/sum(scores.values())\n",
    "    for key in scores:\n",
    "        scores[key] = scores[key] * normalization\n",
    "    return scores"
   ],
   "metadata": {
    "collapsed": false
   }
  },
  {
   "cell_type": "code",
   "execution_count": 73,
   "outputs": [],
   "source": [
    "def create_cluster(state):\n",
    "    state[\"num_clusters_\"] += 1\n",
    "    cluster_id = max((state['cluster_ids_'])) + 1\n",
    "    state['suffstats'][cluster_id]= (SuffStat(0, 0))\n",
    "    state['cluster_ids_'].append(cluster_id)\n",
    "    return cluster_id\n",
    "\n",
    "def destroy_cluster(state, cluster_id):\n",
    "    state[\"num_clusters_\"] = 1\n",
    "    del state['suffstats'][cluster_id]\n",
    "    state['cluster_ids_'].remove(cluster_id)\n",
    "\n",
    "def prune_clusters(state):\n",
    "    for cid in state['cluster_ids_']:\n",
    "        if state['suffstats'][cid].N == 0:\n",
    "            destroy_cluster(state, cid)"
   ],
   "metadata": {
    "collapsed": false
   }
  },
  {
   "cell_type": "code",
   "execution_count": 74,
   "outputs": [],
   "source": [
    "def sample_assignment(data_id, state):\n",
    "    \"\"\"Sample new assignment from marginal distribution.\n",
    "    If cluster is \"`new`\", create a new cluster.\n",
    "    \"\"\"\n",
    "    scores = cluster_assignment_distribution_dp(data_id, state).items()\n",
    "    labels, scores = zip(*scores)\n",
    "    cid = random.choice(labels, p=scores)\n",
    "    if cid == \"new\":\n",
    "        return create_cluster(state)\n",
    "    else:\n",
    "        return int(cid)\n",
    "\n",
    "def gibbs_step_dp(state):\n",
    "    \"\"\"Collapsed Gibbs sampler for Dirichlet Process Mixture Model\n",
    "    \"\"\"\n",
    "    pairs = zip(state['data_'], state['assignment'])\n",
    "    for data_id, (datapoint, cid) in enumerate(pairs):\n",
    "        state['suffstats'][cid] = remove_datapoint_from_suffstats(datapoint, state['suffstats'][cid])\n",
    "        prune_clusters(state)\n",
    "        cid = sample_assignment(data_id, state)\n",
    "        state['assignment'][data_id] = cid\n",
    "        state['suffstats'][cid] = add_datapoint_to_suffstats(state['data_'][data_id], state['suffstats'][cid])"
   ],
   "metadata": {
    "collapsed": false
   }
  },
  {
   "cell_type": "code",
   "execution_count": 75,
   "outputs": [
    {
     "data": {
      "text/plain": "<Figure size 640x480 with 1 Axes>",
      "image/png": "[encoded data removed]"
     },
     "metadata": {},
     "output_type": "display_data"
    }
   ],
   "source": [
    "state = initial_state(num_clusters=2, alpha=0.1)\n",
    "plot_clusters(state)"
   ],
   "metadata": {
    "collapsed": false
   }
  },
  {
   "cell_type": "code",
   "execution_count": 76,
   "outputs": [
    {
     "data": {
      "text/plain": "<Figure size 640x480 with 1 Axes>",
      "image/png": "[encoded data removed]"
     },
     "metadata": {},
     "output_type": "display_data"
    }
   ],
   "source": [
    "gibbs_step_dp(state)\n",
    "plot_clusters(state)"
   ],
   "metadata": {
    "collapsed": false
   }
  },
  {
   "cell_type": "code",
   "execution_count": 77,
   "outputs": [
    {
     "name": "stderr",
     "output_type": "stream",
     "text": [
      "/var/folders/8g/9gktnhys29123gd2vy8kl6q40000gn/T/ipykernel_2794/3251378706.py:34: RuntimeWarning: divide by zero encountered in double_scalars\n",
      "  return SuffStat((ss.theta*(ss.N)-x*1.0)/(ss.N-1), ss.N-1)\n"
     ]
    },
    {
     "data": {
      "text/plain": "<Figure size 640x480 with 1 Axes>",
      "image/png": "[encoded data removed]"
     },
     "metadata": {},
     "output_type": "display_data"
    }
   ],
   "source": [
    "for _ in range(10): gibbs_step_dp(state)\n",
    "plot_clusters(state)"
   ],
   "metadata": {
    "collapsed": false
   }
  },
  {
   "cell_type": "code",
   "execution_count": 83,
   "outputs": [
    {
     "data": {
      "text/plain": "array([0.22186838, 0.3180247 , 0.46010693])"
     },
     "execution_count": 83,
     "metadata": {},
     "output_type": "execute_result"
    }
   ],
   "source": [
    "ss = state['suffstats']\n",
    "alpha = [ss[cid].N + state['alpha_'] / state['num_clusters_']\n",
    "         for cid in state['cluster_ids_']]\n",
    "stats.dirichlet(alpha).rvs(size=1).flatten()"
   ],
   "metadata": {
    "collapsed": false
   }
  },
  {
   "cell_type": "code",
   "execution_count": 84,
   "outputs": [
    {
     "name": "stdout",
     "output_type": "stream",
     "text": [
      "cluster_id: 1 mean -0.01742199288758225\n",
      "cluster_id: 2 mean -0.40009668115852975\n",
      "cluster_id: 3 mean 0.595568007283275\n"
     ]
    }
   ],
   "source": [
    "for cluster_id in state['cluster_ids_']:\n",
    "    cluster_var = state['cluster_variance_']\n",
    "    hp_mean = state['hyperparameters_']['mean']\n",
    "    hp_var = state['hyperparameters_']['variance']\n",
    "    ss = state['suffstats'][cluster_id]\n",
    "\n",
    "    numerator = hp_mean / hp_var + ss.theta * ss.N / cluster_var\n",
    "    denominator = (1.0 / hp_var + ss.N / cluster_var)\n",
    "    posterior_mu = numerator / denominator\n",
    "    posterior_var = 1.0 / denominator\n",
    "\n",
    "    mean = stats.norm(posterior_mu, np.sqrt(posterior_var)).rvs()\n",
    "    print(\"cluster_id:\", cluster_id, \"mean\", mean)"
   ],
   "metadata": {
    "collapsed": false
   }
  },
  {
   "cell_type": "code",
   "execution_count": null,
   "outputs": [],
   "source": [],
   "metadata": {
    "collapsed": false
   }
  }
 ],
 "metadata": {
  "kernelspec": {
   "display_name": "Python 3",
   "language": "python",
   "name": "python3"
  },
  "language_info": {
   "codemirror_mode": {
    "name": "ipython",
    "version": 2
   },
   "file_extension": ".py",
   "mimetype": "text/x-python",
   "name": "python",
   "nbconvert_exporter": "python",
   "pygments_lexer": "ipython2",
   "version": "2.7.6"
  }
 },
 "nbformat": 4,
 "nbformat_minor": 0
}
