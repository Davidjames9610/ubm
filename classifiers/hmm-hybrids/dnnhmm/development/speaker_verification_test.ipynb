{
 "cells": [
  {
   "cell_type": "code",
   "execution_count": 1,
   "metadata": {
    "collapsed": true
   },
   "outputs": [
    {
     "name": "stdout",
     "output_type": "stream",
     "text": [
      "['/Users/david/Documents/mastersCode/ubm/classifiers/hmm-hybrids/dnnhmm/development', '/Users/david/.conda/envs/ubm/lib/python310.zip', '/Users/david/.conda/envs/ubm/lib/python3.10', '/Users/david/.conda/envs/ubm/lib/python3.10/lib-dynload', '', '/Users/david/.conda/envs/ubm/lib/python3.10/site-packages', '/Users/david/Documents/mastersCode/ubm']\n"
     ]
    }
   ],
   "source": [
    "# aim: runn dnn hmm hybrid using previous code, then can condense into normal classifier structure\n",
    "\n",
    "# get data:\n",
    "\n",
    "import sys\n",
    "sys.path.append(\"/Users/david/Documents/mastersCode/ubm\")\n",
    "print(sys.path)"
   ]
  },
  {
   "cell_type": "code",
   "execution_count": 5,
   "outputs": [
    {
     "data": {
      "text/plain": "<module 'feature_extraction.fe_spafe.fe_spafe' from '/Users/david/Documents/mastersCode/ubm/feature_extraction/fe_spafe/fe_spafe.py'>"
     },
     "execution_count": 5,
     "metadata": {},
     "output_type": "execute_result"
    }
   ],
   "source": [
    "# test for gmm-ubm on whale calls\n",
    "from importlib import reload\n",
    "import audio_datastore.audio_datastore as myads\n",
    "reload(myads)\n",
    "from collections import Counter\n",
    "import numpy as np\n",
    "import config\n",
    "import librosa\n",
    "import utils as my_utils\n",
    "import matplotlib.pyplot as plt\n",
    "import feature_extraction.fe_spafe.fe_spafe as fe_spafe\n",
    "import feature_extraction.fe_base as fe_base\n",
    "import os.path\n",
    "reload(fe_base)\n",
    "reload(fe_spafe)"
   ],
   "metadata": {
    "collapsed": false
   }
  },
  {
   "cell_type": "code",
   "execution_count": 3,
   "outputs": [],
   "source": [
    "# create ads\n",
    "# female ads\n",
    "datasetFolder = r\"/Users/david/Documents/data/speech/ivectors/SPEECH DATA/FEMALE/MIC\"\n",
    "female_ads = myads.AudioDatastore()\n",
    "female_ads.populate(datasetFolder, include_sub_folders=True, label_source=True)\n",
    "Counter(female_ads.labels).values()\n",
    "# male ads\n",
    "datasetFolder = r\"/Users/david/Documents/data/speech/ivectors/SPEECH DATA/MALE/MIC\"\n",
    "male_ads = myads.AudioDatastore()\n",
    "male_ads.populate(datasetFolder, include_sub_folders=True, label_source=True)\n",
    "Counter(male_ads.labels).values()\n",
    "# combine ads\n",
    "ads = myads.AudioDatastore()\n",
    "ads.set([datasetFolder], files=female_ads.files + male_ads.files, labels=female_ads.labels + male_ads.labels)\n",
    "# split ads\n",
    "developmentLabels = [\"M01\", \"M02\", \"M03\", \"M04\", \"M06\", \"M07\", \"M08\", \"M09\", \"F01\", \"F02\", \"F03\", \"F04\", \"F06\", \"F07\",\n",
    "                     \"F08\", \"F09\"]\n",
    "evaluationLabels = [\"M05\", \"M10\", \"F05\", \"F10\"]\n",
    "adsTrain = myads.subset(ads, developmentLabels)\n",
    "adsEvaluate = myads.subset(ads, evaluationLabels)\n",
    "# numFilesPerSpeakerForEnrollment = 3\n",
    "adsEnroll, adsTest = myads.split(adsEvaluate, 5)\n",
    "adsTest, _ = myads.split(adsTest, 5)\n"
   ],
   "metadata": {
    "collapsed": false
   }
  },
  {
   "cell_type": "code",
   "execution_count": 9,
   "outputs": [
    {
     "name": "stderr",
     "output_type": "stream",
     "text": [
      "Downloading: \"https://github.com/snakers4/silero-vad/zipball/master\" to /Users/david/.cache/torch/hub/master.zip\n"
     ]
    }
   ],
   "source": [
    "import torch\n",
    "torch.set_num_threads(1)\n",
    "model, torch_utils = torch.hub.load(repo_or_dir='snakers4/silero-vad',\n",
    "                              model='silero_vad',\n",
    "                              force_reload=True)\n",
    "(get_speech_timestamps,\n",
    " _, read_audio,\n",
    " *_) = torch_utils"
   ],
   "metadata": {
    "collapsed": false
   }
  },
  {
   "cell_type": "code",
   "execution_count": 12,
   "outputs": [],
   "source": [
    "from feature_extraction.fe_configs import NormFactor\n",
    "from spafe.features.mfcc import *\n",
    "\n",
    "def get_log_features(sign, norm: NormFactor = None):\n",
    "        features, _ = mel_spectrogram(sig=sign, fs=config.SAMPLE_RATE)\n",
    "        features = zero_handling(features)\n",
    "        features = np.log(features)\n",
    "        if norm:\n",
    "            features = (features - norm.means) / norm.std\n",
    "            features = features - np.mean(features)\n",
    "        return features"
   ],
   "metadata": {
    "collapsed": false
   }
  },
  {
   "cell_type": "code",
   "execution_count": 14,
   "outputs": [],
   "source": [
    "import dnnhmm\n",
    "from audio_datastore.audio_datastore import subset\n",
    "import processing.processing\n",
    "import processing.process_method_base as process_method_base\n",
    "import spafe.features.mfcc as mfcc\n",
    "# from librosa.feature.spectral import mfcc\n",
    "\n",
    "process_method = process_method_base.ProcessMethodBase(snr_db=40, reverb=False, model=model, get_speech_timestamps=get_speech_timestamps)\n",
    "\n",
    "speakers = np.unique(adsEnroll.labels)\n",
    "# normalisation\n",
    "all_features = []\n",
    "for i in range(len(speakers)):\n",
    "    ads_train_subset = subset(adsEnroll, speakers[i])\n",
    "    speaker_features = []\n",
    "    for file in ads_train_subset.files:\n",
    "        signal = process_method.pre_process(file)\n",
    "        speaker_features.append(get_log_features(signal))\n",
    "    speaker_features_flattened = np.array([item for sublist in speaker_features for item in sublist])\n",
    "    all_features.append(speaker_features_flattened)\n",
    "\n",
    "means = []\n",
    "std = []\n",
    "for feature in all_features:\n",
    "    means.append(np.mean(feature, axis=0))\n",
    "    std.append(np.std(feature, axis=0))\n",
    "\n",
    "means = np.array(means)\n",
    "means = np.mean(means, axis=0)\n",
    "\n",
    "std = np.array(std)\n",
    "std = np.mean(std, axis=0)\n",
    "\n",
    "norm_factor = NormFactor(means, std)"
   ],
   "metadata": {
    "collapsed": false
   }
  },
  {
   "cell_type": "code",
   "execution_count": 20,
   "outputs": [],
   "source": [
    "from hmmlearn import hmm\n",
    "\n",
    "speakers = np.unique(adsEnroll.labels)\n",
    "speakers = speakers\n",
    "hmms = {}\n",
    "for i in range(len(speakers)):\n",
    "    ads_train_subset = subset(adsEnroll, speakers[i])\n",
    "    speaker_features = []\n",
    "    for file in ads_train_subset.files:\n",
    "        signal = process_method.pre_process(file)\n",
    "        speaker_features.append(get_log_features(signal, norm_factor))\n",
    "    speaker_features_flattened = np.array([item for sublist in speaker_features for item in sublist])\n",
    "    new_hmm = hmm.GMMHMM(n_components=4, n_mix=2)\n",
    "    new_hmm.fit(speaker_features_flattened)\n",
    "    hmms[i] = new_hmm"
   ],
   "metadata": {
    "collapsed": false
   }
  },
  {
   "cell_type": "code",
   "execution_count": 24,
   "outputs": [],
   "source": [
    "# quick test\n",
    "hmm_outer_scores = {}\n",
    "for i in range(len(speakers)):\n",
    "    ads_train_subset = subset(adsTest, speakers[i])\n",
    "    speaker_features = []\n",
    "    for file in ads_train_subset.files:\n",
    "        signal = process_method.pre_process(file)\n",
    "        speaker_features.append(get_log_features(signal, norm_factor))\n",
    "    speaker_features_flattened = np.array([item for sublist in speaker_features for item in sublist])\n",
    "    hmm_inner_scores = {}\n",
    "    for y in range(len(hmms)):\n",
    "        hmm_score = hmms[y].score(speaker_features_flattened)\n",
    "        hmm_inner_scores[y] = hmm_score\n",
    "    hmm_outer_scores[i] = hmm_inner_scores\n",
    "\n",
    "# working so far !"
   ],
   "metadata": {
    "collapsed": false
   }
  },
  {
   "cell_type": "code",
   "execution_count": null,
   "outputs": [],
   "source": [
    "# now add dnn\n",
    "\n"
   ],
   "metadata": {
    "collapsed": false
   }
  }
 ],
 "metadata": {
  "kernelspec": {
   "display_name": "Python 3",
   "language": "python",
   "name": "python3"
  },
  "language_info": {
   "codemirror_mode": {
    "name": "ipython",
    "version": 2
   },
   "file_extension": ".py",
   "mimetype": "text/x-python",
   "name": "python",
   "nbconvert_exporter": "python",
   "pygments_lexer": "ipython2",
   "version": "2.7.6"
  }
 },
 "nbformat": 4,
 "nbformat_minor": 0
}
