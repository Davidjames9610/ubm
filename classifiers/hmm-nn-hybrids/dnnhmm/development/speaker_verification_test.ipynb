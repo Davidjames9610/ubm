{
 "cells": [
  {
   "cell_type": "code",
   "execution_count": 1,
   "metadata": {
    "collapsed": true
   },
   "outputs": [
    {
     "name": "stdout",
     "output_type": "stream",
     "text": [
      "['/Users/david/Documents/mastersCode/ubm/classifiers/hmm-hybrids/dnnhmm/development', '/Users/david/.conda/envs/ubm/lib/python310.zip', '/Users/david/.conda/envs/ubm/lib/python3.10', '/Users/david/.conda/envs/ubm/lib/python3.10/lib-dynload', '', '/Users/david/.conda/envs/ubm/lib/python3.10/site-packages', '/Users/david/Documents/mastersCode/ubm']\n"
     ]
    }
   ],
   "source": [
    "# aim: runn dnn hmm hybrid using previous code, then can condense into normal classifier structure\n",
    "\n",
    "# get data:\n",
    "\n",
    "import sys\n",
    "sys.path.append(\"/Users/david/Documents/mastersCode/ubm\")\n",
    "print(sys.path)"
   ]
  },
  {
   "cell_type": "code",
   "execution_count": 2,
   "outputs": [
    {
     "data": {
      "text/plain": "<module 'feature_extraction.fe_spafe.fe_spafe' from '/Users/david/Documents/mastersCode/ubm/feature_extraction/fe_spafe/fe_spafe.py'>"
     },
     "execution_count": 2,
     "metadata": {},
     "output_type": "execute_result"
    }
   ],
   "source": [
    "# test for gmm-ubm on whale calls\n",
    "from importlib import reload\n",
    "import audio_datastore.audio_datastore as myads\n",
    "reload(myads)\n",
    "from collections import Counter\n",
    "import numpy as np\n",
    "import config\n",
    "import librosa\n",
    "import utils as my_utils\n",
    "import matplotlib.pyplot as plt\n",
    "import feature_extraction.fe_spafe.fe_spafe as fe_spafe\n",
    "import feature_extraction.fe_base as fe_base\n",
    "import os.path\n",
    "import dnnhmm\n",
    "reload(dnnhmm)\n",
    "reload(fe_base)\n",
    "reload(fe_spafe)"
   ],
   "metadata": {
    "collapsed": false
   }
  },
  {
   "cell_type": "code",
   "execution_count": 3,
   "outputs": [],
   "source": [
    "# create ads\n",
    "# female ads\n",
    "datasetFolder = r\"/Users/david/Documents/data/speech/ivectors/SPEECH DATA/FEMALE/MIC\"\n",
    "female_ads = myads.AudioDatastore()\n",
    "female_ads.populate(datasetFolder, include_sub_folders=True, label_source=True)\n",
    "Counter(female_ads.labels).values()\n",
    "# male ads\n",
    "datasetFolder = r\"/Users/david/Documents/data/speech/ivectors/SPEECH DATA/MALE/MIC\"\n",
    "male_ads = myads.AudioDatastore()\n",
    "male_ads.populate(datasetFolder, include_sub_folders=True, label_source=True)\n",
    "Counter(male_ads.labels).values()\n",
    "# combine ads\n",
    "ads = myads.AudioDatastore()\n",
    "ads.set([datasetFolder], files=female_ads.files + male_ads.files, labels=female_ads.labels + male_ads.labels)\n",
    "# split ads\n",
    "developmentLabels = [\"M01\", \"M02\", \"M03\", \"M04\", \"M06\", \"M07\", \"M08\", \"M09\", \"F01\", \"F02\", \"F03\", \"F04\", \"F06\", \"F07\",\n",
    "                     \"F08\", \"F09\"]\n",
    "evaluationLabels = [\"M05\", \"M10\", \"F05\", \"F10\"]\n",
    "adsTrain = myads.subset(ads, developmentLabels)\n",
    "adsEvaluate = myads.subset(ads, evaluationLabels)\n",
    "# numFilesPerSpeakerForEnrollment = 3\n",
    "adsEnroll, adsTest = myads.split(adsEvaluate, 5)\n",
    "adsTest, _ = myads.split(adsTest, 5)\n"
   ],
   "metadata": {
    "collapsed": false
   }
  },
  {
   "cell_type": "code",
   "execution_count": 7,
   "outputs": [
    {
     "name": "stdout",
     "output_type": "stream",
     "text": [
      "dict_keys(['F10', 'F05', 'M05', 'M10'])\n",
      "dict_values([236, 236, 236, 236])\n"
     ]
    }
   ],
   "source": [
    "# quick aside to create pickled files to speed up things and create consistency between classifiers\n",
    "\n",
    "from collections import Counter\n",
    "\n",
    "print(Counter(adsEvaluate.labels).keys()) # equals to list(set(words))\n",
    "print(Counter(adsEvaluate.labels).values()) # counts the elements' frequency"
   ],
   "metadata": {
    "collapsed": false
   }
  },
  {
   "cell_type": "code",
   "execution_count": 4,
   "outputs": [
    {
     "name": "stderr",
     "output_type": "stream",
     "text": [
      "Downloading: \"https://github.com/snakers4/silero-vad/zipball/master\" to /Users/david/.cache/torch/hub/master.zip\n"
     ]
    }
   ],
   "source": [
    "import torch\n",
    "torch.set_num_threads(1)\n",
    "model, torch_utils = torch.hub.load(repo_or_dir='snakers4/silero-vad',\n",
    "                              model='silero_vad',\n",
    "                              force_reload=True)\n",
    "(get_speech_timestamps,\n",
    " _, read_audio,\n",
    " *_) = torch_utils"
   ],
   "metadata": {
    "collapsed": false
   }
  },
  {
   "cell_type": "code",
   "execution_count": 5,
   "outputs": [],
   "source": [
    "from feature_extraction.fe_configs import NormFactor\n",
    "from spafe.features.mfcc import *\n",
    "\n",
    "def get_log_features(sign, norm: NormFactor = None):\n",
    "        features, _ = mel_spectrogram(sig=sign, fs=config.SAMPLE_RATE)\n",
    "        features = zero_handling(features)\n",
    "        features = np.log(features)\n",
    "        if norm:\n",
    "            features = (features - norm.means) / norm.std\n",
    "            features = features - np.mean(features)\n",
    "        return features"
   ],
   "metadata": {
    "collapsed": false
   }
  },
  {
   "cell_type": "code",
   "execution_count": 6,
   "outputs": [],
   "source": [
    "\n",
    "from audio_datastore.audio_datastore import subset\n",
    "import processing.processing\n",
    "import processing.process_method_base as process_method_base\n",
    "import spafe.features.mfcc as mfcc\n",
    "# from librosa.feature.spectral import mfcc\n",
    "\n",
    "process_method = process_method_base.ProcessMethodBase(snr_db=None, reverb=False, model=model, get_speech_timestamps=get_speech_timestamps)\n",
    "\n",
    "speakers = np.unique(adsEnroll.labels)\n",
    "# normalisation\n",
    "all_features = []\n",
    "for i in range(len(speakers)):\n",
    "    ads_train_subset = subset(adsEnroll, speakers[i])\n",
    "    speaker_features = []\n",
    "    for file in ads_train_subset.files:\n",
    "        signal = process_method.pre_process(file)\n",
    "        speaker_features.append(get_log_features(signal))\n",
    "    speaker_features_flattened = np.array([item for sublist in speaker_features for item in sublist])\n",
    "    all_features.append(speaker_features_flattened)\n",
    "\n",
    "means = []\n",
    "std = []\n",
    "for feature in all_features:\n",
    "    means.append(np.mean(feature, axis=0))\n",
    "    std.append(np.std(feature, axis=0))\n",
    "\n",
    "means = np.array(means)\n",
    "means = np.mean(means, axis=0)\n",
    "\n",
    "std = np.array(std)\n",
    "std = np.mean(std, axis=0)\n",
    "\n",
    "norm_factor = NormFactor(means, std)"
   ],
   "metadata": {
    "collapsed": false
   }
  },
  {
   "cell_type": "code",
   "execution_count": 7,
   "outputs": [],
   "source": [
    "from hmmlearn import hmm\n",
    "\n",
    "speakers = np.unique(adsEnroll.labels)\n",
    "speakers = speakers\n",
    "hmms = {}\n",
    "for i in range(len(speakers)):\n",
    "    ads_train_subset = subset(adsEnroll, speakers[i])\n",
    "    speaker_features = []\n",
    "    for file in ads_train_subset.files:\n",
    "        signal = process_method.pre_process(file)\n",
    "        speaker_features.append(get_log_features(signal, norm_factor))\n",
    "    speaker_features_flattened = np.array([item for sublist in speaker_features for item in sublist])\n",
    "    new_hmm = hmm.GMMHMM(n_components=4, n_mix=2)\n",
    "    new_hmm.fit(speaker_features_flattened)\n",
    "    hmms[i] = new_hmm"
   ],
   "metadata": {
    "collapsed": false
   }
  },
  {
   "cell_type": "code",
   "execution_count": 9,
   "outputs": [
    {
     "name": "stdout",
     "output_type": "stream",
     "text": [
      "[[-26033. -30874. -34057. -42347.]\n",
      " [-23659. -20534. -26400. -28038.]\n",
      " [-33962. -33384. -25812. -30300.]\n",
      " [-25905. -25228. -22185. -20299.]]\n"
     ]
    }
   ],
   "source": [
    "# quick test\n",
    "hmm_outer_scores = []\n",
    "for i in range(len(speakers)):\n",
    "    ads_train_subset = subset(adsTest, speakers[i])\n",
    "    speaker_features = []\n",
    "    for file in ads_train_subset.files:\n",
    "        signal = process_method.pre_process(file)\n",
    "        speaker_features.append(get_log_features(signal, norm_factor))\n",
    "    speaker_features_flattened = np.array([item for sublist in speaker_features for item in sublist])\n",
    "    hmm_inner_scores = []\n",
    "    for y in range(len(hmms)):\n",
    "        hmm_score = hmms[y].score(speaker_features_flattened)\n",
    "        hmm_inner_scores.append(hmm_score)\n",
    "    hmm_outer_scores.append(hmm_inner_scores)\n",
    "\n",
    "# working so far !\n",
    "print(np.round(hmm_outer_scores))"
   ],
   "metadata": {
    "collapsed": false
   }
  },
  {
   "cell_type": "code",
   "execution_count": 10,
   "outputs": [
    {
     "name": "stdout",
     "output_type": "stream",
     "text": [
      "Iteration 1, loss = 0.77249282\n",
      "Validation score: 0.830303\n",
      "Iteration 2, loss = 0.29100970\n",
      "Validation score: 0.860606\n",
      "Iteration 3, loss = 0.20679184\n",
      "Validation score: 0.872727\n",
      "Iteration 4, loss = 0.15566818\n",
      "Validation score: 0.884848\n",
      "Iteration 5, loss = 0.12758465\n",
      "Validation score: 0.903030\n",
      "Iteration 6, loss = 0.10334486\n",
      "Validation score: 0.909091\n",
      "Iteration 7, loss = 0.08512648\n",
      "Validation score: 0.909091\n",
      "Iteration 8, loss = 0.07082514\n",
      "Validation score: 0.939394\n",
      "Iteration 9, loss = 0.06202437\n",
      "Validation score: 0.927273\n",
      "Iteration 10, loss = 0.06029941\n",
      "Validation score: 0.927273\n",
      "Iteration 11, loss = 0.05041202\n",
      "Validation score: 0.921212\n",
      "Iteration 12, loss = 0.04071344\n",
      "Validation score: 0.921212\n",
      "Iteration 13, loss = 0.03297901\n",
      "Validation score: 0.939394\n",
      "Iteration 14, loss = 0.03069996\n",
      "Validation score: 0.933333\n",
      "Iteration 15, loss = 0.02462052\n",
      "Validation score: 0.951515\n",
      "Iteration 16, loss = 0.02119992\n",
      "Validation score: 0.933333\n",
      "Iteration 17, loss = 0.01820187\n",
      "Validation score: 0.927273\n",
      "Iteration 18, loss = 0.01656882\n",
      "Validation score: 0.939394\n",
      "Iteration 19, loss = 0.01354003\n",
      "Validation score: 0.927273\n",
      "Iteration 20, loss = 0.01252939\n",
      "Validation score: 0.933333\n",
      "Iteration 21, loss = 0.01049251\n",
      "Validation score: 0.933333\n",
      "Iteration 22, loss = 0.00953583\n",
      "Validation score: 0.939394\n",
      "Iteration 23, loss = 0.00814622\n",
      "Validation score: 0.939394\n",
      "Iteration 24, loss = 0.00804105\n",
      "Validation score: 0.939394\n",
      "Iteration 25, loss = 0.00720400\n",
      "Validation score: 0.939394\n",
      "Iteration 26, loss = 0.00640646\n",
      "Validation score: 0.933333\n",
      "Validation score did not improve more than tol=0.000100 for 10 consecutive epochs. Stopping.\n",
      "Iteration 1, loss = 0.82053369\n",
      "Validation score: 0.782609\n",
      "Iteration 2, loss = 0.36812529\n",
      "Validation score: 0.811594\n",
      "Iteration 3, loss = 0.28539896\n",
      "Validation score: 0.833333\n",
      "Iteration 4, loss = 0.22707239\n",
      "Validation score: 0.855072\n",
      "Iteration 5, loss = 0.18591734\n",
      "Validation score: 0.855072\n",
      "Iteration 6, loss = 0.15839287\n",
      "Validation score: 0.855072\n",
      "Iteration 7, loss = 0.13617201\n",
      "Validation score: 0.862319\n",
      "Iteration 8, loss = 0.12976524\n",
      "Validation score: 0.862319\n",
      "Iteration 9, loss = 0.11155614\n",
      "Validation score: 0.862319\n",
      "Iteration 10, loss = 0.10191023\n",
      "Validation score: 0.869565\n",
      "Iteration 11, loss = 0.09655942\n",
      "Validation score: 0.884058\n",
      "Iteration 12, loss = 0.09555800\n",
      "Validation score: 0.891304\n",
      "Iteration 13, loss = 0.08815718\n",
      "Validation score: 0.855072\n",
      "Iteration 14, loss = 0.07667813\n",
      "Validation score: 0.891304\n",
      "Iteration 15, loss = 0.06837440\n",
      "Validation score: 0.891304\n",
      "Iteration 16, loss = 0.05485673\n",
      "Validation score: 0.862319\n",
      "Iteration 17, loss = 0.05752243\n",
      "Validation score: 0.905797\n",
      "Iteration 18, loss = 0.04620647\n",
      "Validation score: 0.855072\n",
      "Iteration 19, loss = 0.04770297\n",
      "Validation score: 0.905797\n",
      "Iteration 20, loss = 0.03794475\n",
      "Validation score: 0.884058\n",
      "Iteration 21, loss = 0.03385371\n",
      "Validation score: 0.905797\n",
      "Iteration 22, loss = 0.03063040\n",
      "Validation score: 0.905797\n",
      "Iteration 23, loss = 0.02783442\n",
      "Validation score: 0.905797\n",
      "Iteration 24, loss = 0.02405417\n",
      "Validation score: 0.891304\n",
      "Iteration 25, loss = 0.02330993\n",
      "Validation score: 0.898551\n",
      "Iteration 26, loss = 0.02332742\n",
      "Validation score: 0.905797\n",
      "Iteration 27, loss = 0.01860205\n",
      "Validation score: 0.891304\n",
      "Iteration 28, loss = 0.01845167\n",
      "Validation score: 0.920290\n",
      "Iteration 29, loss = 0.01807949\n",
      "Validation score: 0.891304\n",
      "Iteration 30, loss = 0.01491659\n",
      "Validation score: 0.905797\n",
      "Iteration 31, loss = 0.01350261\n",
      "Validation score: 0.891304\n",
      "Iteration 32, loss = 0.01253591\n",
      "Validation score: 0.905797\n",
      "Iteration 33, loss = 0.01139637\n",
      "Validation score: 0.905797\n",
      "Iteration 34, loss = 0.01130742\n",
      "Validation score: 0.905797\n",
      "Iteration 35, loss = 0.00996147\n",
      "Validation score: 0.898551\n",
      "Iteration 36, loss = 0.00955866\n",
      "Validation score: 0.913043\n",
      "Iteration 37, loss = 0.00921265\n",
      "Validation score: 0.905797\n",
      "Iteration 38, loss = 0.00803036\n",
      "Validation score: 0.891304\n",
      "Iteration 39, loss = 0.00786669\n",
      "Validation score: 0.891304\n",
      "Validation score did not improve more than tol=0.000100 for 10 consecutive epochs. Stopping.\n",
      "Iteration 1, loss = 0.65027134\n",
      "Validation score: 0.891304\n",
      "Iteration 2, loss = 0.26697153\n",
      "Validation score: 0.869565\n",
      "Iteration 3, loss = 0.19609893\n",
      "Validation score: 0.927536\n",
      "Iteration 4, loss = 0.16054126\n",
      "Validation score: 0.927536\n",
      "Iteration 5, loss = 0.13969099\n",
      "Validation score: 0.949275\n",
      "Iteration 6, loss = 0.10656567\n",
      "Validation score: 0.934783\n",
      "Iteration 7, loss = 0.09439124\n",
      "Validation score: 0.949275\n",
      "Iteration 8, loss = 0.07781589\n",
      "Validation score: 0.942029\n",
      "Iteration 9, loss = 0.06892566\n",
      "Validation score: 0.956522\n",
      "Iteration 10, loss = 0.06089752\n",
      "Validation score: 0.963768\n",
      "Iteration 11, loss = 0.05347799\n",
      "Validation score: 0.942029\n",
      "Iteration 12, loss = 0.05723347\n",
      "Validation score: 0.949275\n",
      "Iteration 13, loss = 0.05211374\n",
      "Validation score: 0.956522\n",
      "Iteration 14, loss = 0.04256838\n",
      "Validation score: 0.956522\n",
      "Iteration 15, loss = 0.03934530\n",
      "Validation score: 0.942029\n",
      "Iteration 16, loss = 0.03933529\n",
      "Validation score: 0.963768\n",
      "Iteration 17, loss = 0.03895359\n",
      "Validation score: 0.949275\n",
      "Iteration 18, loss = 0.03511418\n",
      "Validation score: 0.942029\n",
      "Iteration 19, loss = 0.03096806\n",
      "Validation score: 0.956522\n",
      "Iteration 20, loss = 0.02410737\n",
      "Validation score: 0.942029\n",
      "Iteration 21, loss = 0.02053685\n",
      "Validation score: 0.956522\n",
      "Validation score did not improve more than tol=0.000100 for 10 consecutive epochs. Stopping.\n",
      "Iteration 1, loss = 0.74719209\n",
      "Validation score: 0.891667\n",
      "Iteration 2, loss = 0.31741333\n",
      "Validation score: 0.916667\n",
      "Iteration 3, loss = 0.21869968\n",
      "Validation score: 0.916667\n",
      "Iteration 4, loss = 0.17029907\n",
      "Validation score: 0.925000\n",
      "Iteration 5, loss = 0.13325203\n",
      "Validation score: 0.941667\n",
      "Iteration 6, loss = 0.10996520\n",
      "Validation score: 0.966667\n",
      "Iteration 7, loss = 0.09177397\n",
      "Validation score: 0.958333\n",
      "Iteration 8, loss = 0.07814485\n",
      "Validation score: 0.958333\n",
      "Iteration 9, loss = 0.07183997\n",
      "Validation score: 0.958333\n",
      "Iteration 10, loss = 0.05913411\n",
      "Validation score: 0.975000\n",
      "Iteration 11, loss = 0.05127867\n",
      "Validation score: 0.966667\n",
      "Iteration 12, loss = 0.04454569\n",
      "Validation score: 0.975000\n",
      "Iteration 13, loss = 0.03785498\n",
      "Validation score: 0.966667\n",
      "Iteration 14, loss = 0.03446681\n",
      "Validation score: 0.966667\n",
      "Iteration 15, loss = 0.02917848\n",
      "Validation score: 0.966667\n",
      "Iteration 16, loss = 0.02743244\n",
      "Validation score: 0.966667\n",
      "Iteration 17, loss = 0.02386333\n",
      "Validation score: 0.975000\n",
      "Iteration 18, loss = 0.02055636\n",
      "Validation score: 0.966667\n",
      "Iteration 19, loss = 0.01896283\n",
      "Validation score: 0.966667\n",
      "Iteration 20, loss = 0.01664717\n",
      "Validation score: 0.966667\n",
      "Iteration 21, loss = 0.01455749\n",
      "Validation score: 0.975000\n",
      "Validation score did not improve more than tol=0.000100 for 10 consecutive epochs. Stopping.\n"
     ]
    }
   ],
   "source": [
    "# now add dnn\n",
    "dnn_hmms = {}\n",
    "for i in range(len(speakers)):\n",
    "    ads_train_subset = subset(adsEnroll, speakers[i])\n",
    "    speaker_features = []\n",
    "    for file in ads_train_subset.files:\n",
    "        signal = process_method.pre_process(file)\n",
    "        speaker_features.append(get_log_features(signal, norm_factor))\n",
    "    # speaker_features_flattened = np.array([item for sublist in speaker_features for item in sublist])\n",
    "    new_mlp = dnnhmm.DNNHMM(hmm.GMMHMM(n_components=4, n_mix=2))\n",
    "    new_mlp.train_hmm(speaker_features)\n",
    "    new_mlp.train_mlp()\n",
    "    dnn_hmms[i] = new_mlp"
   ],
   "metadata": {
    "collapsed": false
   }
  },
  {
   "cell_type": "code",
   "execution_count": null,
   "outputs": [],
   "source": [],
   "metadata": {
    "collapsed": false
   }
  },
  {
   "cell_type": "code",
   "execution_count": 11,
   "outputs": [],
   "source": [
    "# quick test\n",
    "mlp_outer_scores = []\n",
    "for i in range(len(speakers)):\n",
    "    ads_train_subset = subset(adsTest, speakers[i])\n",
    "    speaker_features = []\n",
    "    for file in ads_train_subset.files:\n",
    "        signal = process_method.pre_process(file)\n",
    "        speaker_features.append(get_log_features(signal, norm_factor))\n",
    "    speaker_features_flattened = np.array([item for sublist in speaker_features for item in sublist])\n",
    "    mlp_inner_scores = []\n",
    "    for y in range(len(hmms)):\n",
    "        hmm_score = dnn_hmms[y].loglike_mlp(speaker_features_flattened)\n",
    "        mlp_inner_scores.append(hmm_score)\n",
    "    mlp_outer_scores.append(mlp_inner_scores)\n",
    "\n",
    "# working so far !"
   ],
   "metadata": {
    "collapsed": false
   }
  },
  {
   "cell_type": "code",
   "execution_count": 27,
   "outputs": [
    {
     "name": "stdout",
     "output_type": "stream",
     "text": [
      "[[-26186.348405991877, -30951.582642497502, -34337.337663872735, -42511.4314143481], [-23578.60166740599, -20513.837129695086, -26463.073823870283, -28078.309609488835], [-33816.96531357519, -33439.47442495654, -25657.287939052254, -30241.137868100843], [-26215.406039149017, -25295.441801430872, -22703.556856953557, -20355.859795153203]]\n"
     ]
    }
   ],
   "source": [
    "print(hmm_outer_scores)"
   ],
   "metadata": {
    "collapsed": false
   }
  },
  {
   "cell_type": "code",
   "execution_count": 28,
   "outputs": [
    {
     "name": "stdout",
     "output_type": "stream",
     "text": [
      "[[-804.2398526071192, -816.7565163129756, -874.8330908080607, -880.2422092383745], [-710.9287883907743, -705.9644981859483, -787.6079317787905, -754.5472107983993], [-768.4360025418348, -775.4445422359298, -846.4546311481761, -803.5215430134876], [-641.3732829732586, -580.5644505148076, -680.3259458107187, -629.7522106616628]]\n"
     ]
    }
   ],
   "source": [
    "print(mlp_outer_scores)\n",
    "# doesnt really work - interesting\n",
    "# maybe using rnn will work better..."
   ],
   "metadata": {
    "collapsed": false
   }
  },
  {
   "cell_type": "code",
   "execution_count": null,
   "outputs": [],
   "source": [],
   "metadata": {
    "collapsed": false
   }
  }
 ],
 "metadata": {
  "kernelspec": {
   "display_name": "Python 3",
   "language": "python",
   "name": "python3"
  },
  "language_info": {
   "codemirror_mode": {
    "name": "ipython",
    "version": 2
   },
   "file_extension": ".py",
   "mimetype": "text/x-python",
   "name": "python",
   "nbconvert_exporter": "python",
   "pygments_lexer": "ipython2",
   "version": "2.7.6"
  }
 },
 "nbformat": 4,
 "nbformat_minor": 0
}
