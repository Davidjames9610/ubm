{
 "cells": [
  {
   "cell_type": "code",
   "execution_count": 2,
   "metadata": {
    "collapsed": true
   },
   "outputs": [
    {
     "ename": "KeyboardInterrupt",
     "evalue": "",
     "output_type": "error",
     "traceback": [
      "\u001B[0;31m---------------------------------------------------------------------------\u001B[0m",
      "\u001B[0;31mKeyboardInterrupt\u001B[0m                         Traceback (most recent call last)",
      "Cell \u001B[0;32mIn[2], line 38\u001B[0m\n\u001B[1;32m     36\u001B[0m \u001B[38;5;66;03m# Run the Gibbs sampler\u001B[39;00m\n\u001B[1;32m     37\u001B[0m \u001B[38;5;28;01mfor\u001B[39;00m iteration \u001B[38;5;129;01min\u001B[39;00m \u001B[38;5;28mrange\u001B[39m(num_iterations):\n\u001B[0;32m---> 38\u001B[0m     \u001B[38;5;28;01mfor\u001B[39;00m t \u001B[38;5;129;01min\u001B[39;00m \u001B[38;5;28mrange\u001B[39m(\u001B[38;5;28mlen\u001B[39m(observed_seq)):\n\u001B[1;32m     39\u001B[0m         \u001B[38;5;66;03m# Sample a new value for the hidden state at time t\u001B[39;00m\n\u001B[1;32m     40\u001B[0m         conditional_probs \u001B[38;5;241m=\u001B[39m np\u001B[38;5;241m.\u001B[39mzeros(\u001B[38;5;241m2\u001B[39m)\n\u001B[1;32m     41\u001B[0m         \u001B[38;5;28;01mfor\u001B[39;00m hidden_state \u001B[38;5;129;01min\u001B[39;00m [\u001B[38;5;241m0\u001B[39m, \u001B[38;5;241m1\u001B[39m]:\n",
      "Cell \u001B[0;32mIn[2], line 38\u001B[0m\n\u001B[1;32m     36\u001B[0m \u001B[38;5;66;03m# Run the Gibbs sampler\u001B[39;00m\n\u001B[1;32m     37\u001B[0m \u001B[38;5;28;01mfor\u001B[39;00m iteration \u001B[38;5;129;01min\u001B[39;00m \u001B[38;5;28mrange\u001B[39m(num_iterations):\n\u001B[0;32m---> 38\u001B[0m     \u001B[38;5;28;01mfor\u001B[39;00m t \u001B[38;5;129;01min\u001B[39;00m \u001B[38;5;28mrange\u001B[39m(\u001B[38;5;28mlen\u001B[39m(observed_seq)):\n\u001B[1;32m     39\u001B[0m         \u001B[38;5;66;03m# Sample a new value for the hidden state at time t\u001B[39;00m\n\u001B[1;32m     40\u001B[0m         conditional_probs \u001B[38;5;241m=\u001B[39m np\u001B[38;5;241m.\u001B[39mzeros(\u001B[38;5;241m2\u001B[39m)\n\u001B[1;32m     41\u001B[0m         \u001B[38;5;28;01mfor\u001B[39;00m hidden_state \u001B[38;5;129;01min\u001B[39;00m [\u001B[38;5;241m0\u001B[39m, \u001B[38;5;241m1\u001B[39m]:\n",
      "File \u001B[0;32m_pydevd_bundle/pydevd_cython_darwin_310_64.pyx:1179\u001B[0m, in \u001B[0;36m_pydevd_bundle.pydevd_cython_darwin_310_64.SafeCallWrapper.__call__\u001B[0;34m()\u001B[0m\n",
      "File \u001B[0;32m_pydevd_bundle/pydevd_cython_darwin_310_64.pyx:620\u001B[0m, in \u001B[0;36m_pydevd_bundle.pydevd_cython_darwin_310_64.PyDBFrame.trace_dispatch\u001B[0;34m()\u001B[0m\n",
      "File \u001B[0;32m_pydevd_bundle/pydevd_cython_darwin_310_64.pyx:1095\u001B[0m, in \u001B[0;36m_pydevd_bundle.pydevd_cython_darwin_310_64.PyDBFrame.trace_dispatch\u001B[0;34m()\u001B[0m\n",
      "File \u001B[0;32m_pydevd_bundle/pydevd_cython_darwin_310_64.pyx:1053\u001B[0m, in \u001B[0;36m_pydevd_bundle.pydevd_cython_darwin_310_64.PyDBFrame.trace_dispatch\u001B[0;34m()\u001B[0m\n",
      "File \u001B[0;32m/Applications/PyCharm.app/Contents/plugins/python/helpers-pro/jupyter_debug/pydev_jupyter_plugin.py:169\u001B[0m, in \u001B[0;36mstop\u001B[0;34m(plugin, pydb, frame, event, args, stop_info, arg, step_cmd)\u001B[0m\n\u001B[1;32m    167\u001B[0m     frame \u001B[38;5;241m=\u001B[39m suspend_jupyter(main_debugger, thread, frame, step_cmd)\n\u001B[1;32m    168\u001B[0m     \u001B[38;5;28;01mif\u001B[39;00m frame:\n\u001B[0;32m--> 169\u001B[0m         \u001B[43mmain_debugger\u001B[49m\u001B[38;5;241;43m.\u001B[39;49m\u001B[43mdo_wait_suspend\u001B[49m\u001B[43m(\u001B[49m\u001B[43mthread\u001B[49m\u001B[43m,\u001B[49m\u001B[43m \u001B[49m\u001B[43mframe\u001B[49m\u001B[43m,\u001B[49m\u001B[43m \u001B[49m\u001B[43mevent\u001B[49m\u001B[43m,\u001B[49m\u001B[43m \u001B[49m\u001B[43marg\u001B[49m\u001B[43m)\u001B[49m\n\u001B[1;32m    170\u001B[0m         \u001B[38;5;28;01mreturn\u001B[39;00m \u001B[38;5;28;01mTrue\u001B[39;00m\n\u001B[1;32m    171\u001B[0m \u001B[38;5;28;01mreturn\u001B[39;00m \u001B[38;5;28;01mFalse\u001B[39;00m\n",
      "File \u001B[0;32m/Applications/PyCharm.app/Contents/plugins/python/helpers/pydev/pydevd.py:1160\u001B[0m, in \u001B[0;36mPyDB.do_wait_suspend\u001B[0;34m(self, thread, frame, event, arg, send_suspend_message, is_unhandled_exception)\u001B[0m\n\u001B[1;32m   1157\u001B[0m         from_this_thread\u001B[38;5;241m.\u001B[39mappend(frame_id)\n\u001B[1;32m   1159\u001B[0m \u001B[38;5;28;01mwith\u001B[39;00m \u001B[38;5;28mself\u001B[39m\u001B[38;5;241m.\u001B[39m_threads_suspended_single_notification\u001B[38;5;241m.\u001B[39mnotify_thread_suspended(thread_id, stop_reason):\n\u001B[0;32m-> 1160\u001B[0m     \u001B[38;5;28;43mself\u001B[39;49m\u001B[38;5;241;43m.\u001B[39;49m\u001B[43m_do_wait_suspend\u001B[49m\u001B[43m(\u001B[49m\u001B[43mthread\u001B[49m\u001B[43m,\u001B[49m\u001B[43m \u001B[49m\u001B[43mframe\u001B[49m\u001B[43m,\u001B[49m\u001B[43m \u001B[49m\u001B[43mevent\u001B[49m\u001B[43m,\u001B[49m\u001B[43m \u001B[49m\u001B[43marg\u001B[49m\u001B[43m,\u001B[49m\u001B[43m \u001B[49m\u001B[43msuspend_type\u001B[49m\u001B[43m,\u001B[49m\u001B[43m \u001B[49m\u001B[43mfrom_this_thread\u001B[49m\u001B[43m)\u001B[49m\n",
      "File \u001B[0;32m/Applications/PyCharm.app/Contents/plugins/python/helpers/pydev/pydevd.py:1175\u001B[0m, in \u001B[0;36mPyDB._do_wait_suspend\u001B[0;34m(self, thread, frame, event, arg, suspend_type, from_this_thread)\u001B[0m\n\u001B[1;32m   1172\u001B[0m             \u001B[38;5;28mself\u001B[39m\u001B[38;5;241m.\u001B[39m_call_mpl_hook()\n\u001B[1;32m   1174\u001B[0m         \u001B[38;5;28mself\u001B[39m\u001B[38;5;241m.\u001B[39mprocess_internal_commands()\n\u001B[0;32m-> 1175\u001B[0m         \u001B[43mtime\u001B[49m\u001B[38;5;241;43m.\u001B[39;49m\u001B[43msleep\u001B[49m\u001B[43m(\u001B[49m\u001B[38;5;241;43m0.01\u001B[39;49m\u001B[43m)\u001B[49m\n\u001B[1;32m   1177\u001B[0m \u001B[38;5;28mself\u001B[39m\u001B[38;5;241m.\u001B[39mcancel_async_evaluation(get_current_thread_id(thread), \u001B[38;5;28mstr\u001B[39m(\u001B[38;5;28mid\u001B[39m(frame)))\n\u001B[1;32m   1179\u001B[0m \u001B[38;5;66;03m# process any stepping instructions\u001B[39;00m\n",
      "\u001B[0;31mKeyboardInterrupt\u001B[0m: "
     ]
    }
   ],
   "source": [
    "import numpy as np\n",
    "\n",
    "# Define the HMM parameters\n",
    "transition_probs = np.array([[0.7, 0.3], [0.4, 0.6]]) # state transition probabilities\n",
    "observation_probs = np.array([[0.9, 0.1], [0.2, 0.8]]) # observation probabilities\n",
    "initial_probs = np.array([0.5, 0.5]) # initial state probabilities\n",
    "\n",
    "# Define the observed sequence\n",
    "observed_seq = [0, 1, 1, 0, 1]\n",
    "\n",
    "# Define the number of iterations to run the Gibbs sampler\n",
    "num_iterations = 10000\n",
    "\n",
    "# Initialize the hidden state sequence randomly\n",
    "hidden_seq = np.random.choice([0, 1], size=len(observed_seq), p=initial_probs)\n",
    "\n",
    "# Define a function to calculate the conditional probability of a hidden state given the observed sequence\n",
    "def calculate_conditional_prob(hidden_state, observed_seq, current_hidden_seq, t):\n",
    "    current_hidden_seq[t] = hidden_state\n",
    "    # Calculate the probability of the observed sequence given the current hidden state sequence\n",
    "    obs_prob = 1.0\n",
    "    for i in range(len(observed_seq)):\n",
    "        obs_prob *= observation_probs[current_hidden_seq[i], observed_seq[i]]\n",
    "    # Calculate the probability of the current hidden state given the previous and next hidden states\n",
    "    if t == 0:\n",
    "        transition_prob = initial_probs[hidden_state]\n",
    "    else:\n",
    "        transition_prob = transition_probs[current_hidden_seq[t-1], hidden_state]\n",
    "    if t == len(observed_seq) - 1:\n",
    "        next_transition_prob = 1.0\n",
    "    else:\n",
    "        next_transition_prob = transition_probs[hidden_state, current_hidden_seq[t+1]]\n",
    "    # Return the conditional probability of the hidden state\n",
    "    return obs_prob * transition_prob * next_transition_prob\n",
    "\n",
    "# Run the Gibbs sampler\n",
    "for iteration in range(num_iterations):\n",
    "    for t in range(len(observed_seq)):\n",
    "        # Sample a new value for the hidden state at time t\n",
    "        conditional_probs = np.zeros(2)\n",
    "        for hidden_state in [0, 1]:\n",
    "            conditional_probs[hidden_state] = calculate_conditional_prob(hidden_state, observed_seq, hidden_seq, t)\n",
    "        hidden_seq[t] = np.random.choice([0, 1], p=conditional_probs / np.sum(conditional_probs))\n",
    "\n",
    "# Calculate the most likely hidden state sequence\n",
    "most_likely_hidden_seq = np.zeros(len(observed_seq), dtype=int)\n",
    "for t in range(len(observed_seq)):\n",
    "    conditional_probs = np.zeros(2)\n",
    "    for hidden_state in [0, 1]:\n",
    "        conditional_probs[hidden_state] = calculate_conditional_prob(hidden_state, observed_seq, hidden_seq, t)\n",
    "    most_likely_hidden_seq[t] = np.argmax(conditional_probs)\n",
    "\n",
    "print(\"Observed sequence:\", observed_seq)\n",
    "print(\"Most likely hidden state sequence:\", most_likely_hidden_seq)\n"
   ]
  },
  {
   "cell_type": "code",
   "execution_count": null,
   "outputs": [],
   "source": [],
   "metadata": {
    "collapsed": false
   }
  }
 ],
 "metadata": {
  "kernelspec": {
   "display_name": "Python 3",
   "language": "python",
   "name": "python3"
  },
  "language_info": {
   "codemirror_mode": {
    "name": "ipython",
    "version": 2
   },
   "file_extension": ".py",
   "mimetype": "text/x-python",
   "name": "python",
   "nbconvert_exporter": "python",
   "pygments_lexer": "ipython2",
   "version": "2.7.6"
  }
 },
 "nbformat": 4,
 "nbformat_minor": 0
}
