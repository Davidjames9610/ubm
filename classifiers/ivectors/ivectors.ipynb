{
 "cells": [
  {
   "cell_type": "code",
   "execution_count": 1,
   "outputs": [
    {
     "name": "stdout",
     "output_type": "stream",
     "text": [
      "['/Users/david/Documents/mastersCode/ubm/classifiers/ivectors', '/opt/homebrew/Caskroom/miniconda/base/envs/webrtcvad/lib/python39.zip', '/opt/homebrew/Caskroom/miniconda/base/envs/webrtcvad/lib/python3.9', '/opt/homebrew/Caskroom/miniconda/base/envs/webrtcvad/lib/python3.9/lib-dynload', '', '/opt/homebrew/Caskroom/miniconda/base/envs/webrtcvad/lib/python3.9/site-packages', '/Users/david/Documents/mastersCode/ubm']\n"
     ]
    }
   ],
   "source": [
    "import sys\n",
    "\n",
    "sys.path.append(\"/Users/david/Documents/mastersCode/ubm\")\n",
    "print(sys.path)"
   ],
   "metadata": {
    "collapsed": false
   }
  },
  {
   "cell_type": "code",
   "execution_count": 2,
   "outputs": [],
   "source": [
    "from importlib import reload\n",
    "import audio_datastore.audio_datastore as myads\n",
    "reload(myads)\n",
    "import os.path\n",
    "import wave\n",
    "from collections import Counter\n",
    "import config\n",
    "import random\n",
    "from python_speech_features import mfcc, delta\n",
    "import scipy.io.wavfile as wav\n",
    "from spafe.utils import vis\n",
    "import matplotlib.pyplot as plt\n",
    "import misc.vad as vad\n",
    "from sklearn.mixture import GaussianMixture, _gaussian_mixture\n",
    "reload(vad)\n",
    "import numpy as np\n",
    "from scipy.special import logsumexp\n",
    "from collections import Counter\n",
    "import helper_functions as hf\n",
    "reload(hf)\n",
    "import pickle\n",
    "import contextlib"
   ],
   "metadata": {
    "collapsed": false
   }
  },
  {
   "cell_type": "code",
   "execution_count": 3,
   "outputs": [],
   "source": [
    "# create ads\n",
    "# female ads\n",
    "datasetFolder = r\"/Users/david/Documents/data/speech/ivectors/SPEECH DATA/FEMALE/MIC\"\n",
    "female_ads = myads.AudioDatastore()\n",
    "female_ads.populate(datasetFolder,include_sub_folders=True, label_source=True)\n",
    "Counter(female_ads.labels).values()\n",
    "# male ads\n",
    "datasetFolder = r\"/Users/david/Documents/data/speech/ivectors/SPEECH DATA/MALE/MIC\"\n",
    "male_ads = myads.AudioDatastore()\n",
    "male_ads.populate(datasetFolder,include_sub_folders=True, label_source=True)\n",
    "Counter(male_ads.labels).values()\n",
    "# combine ads\n",
    "ads = myads.AudioDatastore()\n",
    "ads.set([datasetFolder], files=female_ads.files + male_ads.files, labels=female_ads.labels+male_ads.labels)"
   ],
   "metadata": {
    "collapsed": false
   }
  },
  {
   "cell_type": "code",
   "execution_count": 4,
   "outputs": [],
   "source": [
    "# split ads\n",
    "developmentLabels = [\"M01\",\"M02\",\"M03\",\"M04\",\"M06\",\"M07\",\"M08\",\"M09\",\"F01\",\"F02\",\"F03\",\"F04\",\"F06\",\"F07\",\"F08\",\"F09\"]\n",
    "evaluationLabels = [\"M05\",\"M10\",\"F05\",\"F10\"]\n",
    "adsTrain = myads.subset(ads, developmentLabels)\n",
    "adsEvaluate = myads.subset(ads, evaluationLabels)\n",
    "numFilesPerSpeakerForEnrollment = 3\n",
    "adsEnroll, adsDet = myads.split(adsEvaluate, 3)\n",
    "adsTest, adsDet = myads.split(adsDet, 2)"
   ],
   "metadata": {
    "collapsed": false
   }
  },
  {
   "cell_type": "code",
   "execution_count": 28,
   "outputs": [
    {
     "data": {
      "text/plain": "<module 'misc.webrtcvad_segment' from '/Users/david/Documents/mastersCode/ubm/misc/webrtcvad_segment.py'>"
     },
     "execution_count": 28,
     "metadata": {},
     "output_type": "execute_result"
    }
   ],
   "source": [
    "# test vad\n",
    "import misc.webrtcvad_segment as webrtcvad_segment\n",
    "reload(webrtcvad_segment)"
   ],
   "metadata": {
    "collapsed": false
   }
  },
  {
   "cell_type": "code",
   "execution_count": 30,
   "outputs": [
    {
     "name": "stdout",
     "output_type": "stream",
     "text": [
      "main\n"
     ]
    }
   ],
   "source": [
    "segments = webrtcvad_segment.main(adsTrain.files[0])"
   ],
   "metadata": {
    "collapsed": false
   }
  },
  {
   "cell_type": "code",
   "execution_count": 12,
   "outputs": [],
   "source": [
    "def write_wave(path, audio, sample_rate):\n",
    "    \"\"\"Writes a .wav file.\n",
    "\n",
    "    Takes path, PCM audio data, and sample rate.\n",
    "    \"\"\"\n",
    "    with contextlib.closing(wave.open(path, 'wb')) as wf:\n",
    "        wf.setnchannels(1)\n",
    "        wf.setsampwidth(2)\n",
    "        wf.setframerate(sample_rate)\n",
    "        wf.writeframes(audio)"
   ],
   "metadata": {
    "collapsed": false
   }
  },
  {
   "cell_type": "code",
   "execution_count": 16,
   "outputs": [
    {
     "name": "stdout",
     "output_type": "stream",
     "text": [
      "1111111111+(0.0)1111111111111111111111111111111111111111111111111111111111111111111111111111111111111111111111111111111111111111111111111-(3.929999999999989)\n",
      " Writing chunk-00.wav\n"
     ]
    }
   ],
   "source": [
    "for i, segment in enumerate(segments):\n",
    "    path = 'chunk-%002d.wav' % (i,)\n",
    "    print(' Writing %s' % (path,))\n",
    "    write_wave(path, segment, config.SAMPLE_RATE)"
   ],
   "metadata": {
    "collapsed": false
   }
  },
  {
   "cell_type": "code",
   "execution_count": null,
   "outputs": [],
   "source": [],
   "metadata": {
    "collapsed": false
   }
  },
  {
   "cell_type": "code",
   "execution_count": 10,
   "outputs": [],
   "source": [
    "amount = 0\n",
    "for i, segment in enumerate(segments):\n",
    "    amount = amount + 1"
   ],
   "metadata": {
    "collapsed": false
   }
  },
  {
   "cell_type": "code",
   "execution_count": 8,
   "outputs": [
    {
     "data": {
      "text/plain": "16000"
     },
     "execution_count": 8,
     "metadata": {},
     "output_type": "execute_result"
    }
   ],
   "source": [
    "config.SAMPLE_RATE"
   ],
   "metadata": {
    "collapsed": false
   }
  },
  {
   "cell_type": "code",
   "execution_count": 15,
   "outputs": [],
   "source": [
    "speedUpExamples = True\n",
    "if speedUpExamples:\n",
    "    adsTrain, _ = myads.split(adsTrain, 10)\n",
    "    adsDet, _ = myads.split(adsDet, 7)"
   ],
   "metadata": {
    "collapsed": false
   }
  },
  {
   "cell_type": "code",
   "execution_count": 16,
   "outputs": [],
   "source": [
    "# set sample rate,\n",
    "fs, _ = wav.read(adsTrain.files[0])"
   ],
   "metadata": {
    "collapsed": false
   }
  },
  {
   "cell_type": "code",
   "execution_count": 17,
   "outputs": [
    {
     "name": "stdout",
     "output_type": "stream",
     "text": [
      "completed 0 iterations\n",
      "completed 50 iterations\n",
      "completed 100 iterations\n",
      "completed 150 iterations\n",
      "completed training feature fe!\n"
     ]
    }
   ],
   "source": [
    "reload = False\n",
    "\n",
    "try:\n",
    "    if reload :\n",
    "        raise Exception('reloading')\n",
    "    training_features = pickle.load(open('training_features.pickle','rb'))\n",
    "except:\n",
    "    zero_indices = []\n",
    "    training_features = []\n",
    "    for i in range(len(adsTrain.files)):\n",
    "        if i%50 == 0:\n",
    "            print('completed ' + str(i) + ' iterations')\n",
    "        feat = hf.helper_feature_extraction(adsTrain.files[i])\n",
    "        training_features.append(feat)\n",
    "    print('completed training feature fe!')\n",
    "    pickle.dump(training_features, open('training_features.pickle','wb'))"
   ],
   "metadata": {
    "collapsed": false
   }
  },
  {
   "cell_type": "code",
   "execution_count": 18,
   "outputs": [],
   "source": [
    "# remove [] vectors in training files and pop the file from ads\n",
    "adsTrainCleaned, training_features_cleaned = myads.clean_zeros(adsTrain, training_features)"
   ],
   "metadata": {
    "collapsed": false
   }
  },
  {
   "cell_type": "code",
   "execution_count": 19,
   "outputs": [],
   "source": [
    "# collect normalization factors\n",
    "\n",
    "import numpy as np\n",
    "means = []\n",
    "std = []\n",
    "for feature in training_features_cleaned:\n",
    "    if len(feature) > 0:\n",
    "        means.append(np.mean(feature, axis=0))\n",
    "        std.append(np.std(feature, axis=0))\n",
    "\n",
    "means = np.array(means)\n",
    "means = np.mean(means, axis=0)\n",
    "\n",
    "std = np.array(std)\n",
    "std = np.mean(std, axis=0)\n",
    "\n",
    "class NormFactor:\n",
    "  def __init__(self, m, s):\n",
    "    self.means = m\n",
    "    self.std = s\n",
    "\n",
    "normFactors = NormFactor(means, std)\n",
    "\n",
    "pickle.dump(normFactors, open('normFactors.pickle','wb'))"
   ],
   "metadata": {
    "collapsed": false
   }
  },
  {
   "cell_type": "code",
   "execution_count": 20,
   "outputs": [],
   "source": [
    "normalised_features = []\n",
    "\n",
    "for i in range(len(training_features_cleaned)):\n",
    "    normalised = (training_features_cleaned[i] - means) / std\n",
    "    normalised = normalised - np.mean(normalised)\n",
    "    normalised_features.append(normalised)\n",
    "pickle.dump(normalised_features, open('normalised_features.pickle','wb'))"
   ],
   "metadata": {
    "collapsed": false
   }
  },
  {
   "cell_type": "code",
   "execution_count": 21,
   "outputs": [
    {
     "name": "stdout",
     "output_type": "stream",
     "text": [
      "sklearn model ll = -28.237638693823634\n"
     ]
    }
   ],
   "source": [
    "# train ubm\n",
    "numComponents = 32\n",
    "ubm = GaussianMixture(n_components=numComponents, covariance_type='diag')\n",
    "train_features_flattened = np.array([item for sublist in normalised_features for item in sublist])\n",
    "ubm.fit(train_features_flattened)\n",
    "print('sklearn model ll = ' + str(ubm.score(normalised_features[0])))\n",
    "# pickle.dump(ubm, open('ubm.pickle','wb'))"
   ],
   "metadata": {
    "collapsed": false
   }
  },
  {
   "cell_type": "code",
   "execution_count": 22,
   "outputs": [
    {
     "ename": "FileNotFoundError",
     "evalue": "[Errno 2] No such file or directory: 'ubm.pickle'",
     "output_type": "error",
     "traceback": [
      "\u001B[0;31m---------------------------------------------------------------------------\u001B[0m",
      "\u001B[0;31mFileNotFoundError\u001B[0m                         Traceback (most recent call last)",
      "Cell \u001B[0;32mIn[22], line 2\u001B[0m\n\u001B[1;32m      1\u001B[0m \u001B[38;5;66;03m# load\u001B[39;00m\n\u001B[0;32m----> 2\u001B[0m ubm \u001B[38;5;241m=\u001B[39m pickle\u001B[38;5;241m.\u001B[39mload(\u001B[38;5;28;43mopen\u001B[39;49m\u001B[43m(\u001B[49m\u001B[38;5;124;43m'\u001B[39;49m\u001B[38;5;124;43mubm.pickle\u001B[39;49m\u001B[38;5;124;43m'\u001B[39;49m\u001B[43m,\u001B[49m\u001B[43m \u001B[49m\u001B[38;5;124;43m'\u001B[39;49m\u001B[38;5;124;43mrb\u001B[39;49m\u001B[38;5;124;43m'\u001B[39;49m\u001B[43m)\u001B[49m)\n\u001B[1;32m      3\u001B[0m \u001B[38;5;66;03m# normFactors = pickle.load(open('normFactors.pickle','rb'))\u001B[39;00m\n\u001B[1;32m      4\u001B[0m \u001B[38;5;66;03m# normalised_features = pickle.load(open('normalised_features.pickle','rb'))\u001B[39;00m\n",
      "File \u001B[0;32m~/.conda/envs/ubm/lib/python3.10/site-packages/IPython/core/interactiveshell.py:282\u001B[0m, in \u001B[0;36m_modified_open\u001B[0;34m(file, *args, **kwargs)\u001B[0m\n\u001B[1;32m    275\u001B[0m \u001B[38;5;28;01mif\u001B[39;00m file \u001B[38;5;129;01min\u001B[39;00m {\u001B[38;5;241m0\u001B[39m, \u001B[38;5;241m1\u001B[39m, \u001B[38;5;241m2\u001B[39m}:\n\u001B[1;32m    276\u001B[0m     \u001B[38;5;28;01mraise\u001B[39;00m \u001B[38;5;167;01mValueError\u001B[39;00m(\n\u001B[1;32m    277\u001B[0m         \u001B[38;5;124mf\u001B[39m\u001B[38;5;124m\"\u001B[39m\u001B[38;5;124mIPython won\u001B[39m\u001B[38;5;124m'\u001B[39m\u001B[38;5;124mt let you open fd=\u001B[39m\u001B[38;5;132;01m{\u001B[39;00mfile\u001B[38;5;132;01m}\u001B[39;00m\u001B[38;5;124m by default \u001B[39m\u001B[38;5;124m\"\u001B[39m\n\u001B[1;32m    278\u001B[0m         \u001B[38;5;124m\"\u001B[39m\u001B[38;5;124mas it is likely to crash IPython. If you know what you are doing, \u001B[39m\u001B[38;5;124m\"\u001B[39m\n\u001B[1;32m    279\u001B[0m         \u001B[38;5;124m\"\u001B[39m\u001B[38;5;124myou can use builtins\u001B[39m\u001B[38;5;124m'\u001B[39m\u001B[38;5;124m open.\u001B[39m\u001B[38;5;124m\"\u001B[39m\n\u001B[1;32m    280\u001B[0m     )\n\u001B[0;32m--> 282\u001B[0m \u001B[38;5;28;01mreturn\u001B[39;00m \u001B[43mio_open\u001B[49m\u001B[43m(\u001B[49m\u001B[43mfile\u001B[49m\u001B[43m,\u001B[49m\u001B[43m \u001B[49m\u001B[38;5;241;43m*\u001B[39;49m\u001B[43margs\u001B[49m\u001B[43m,\u001B[49m\u001B[43m \u001B[49m\u001B[38;5;241;43m*\u001B[39;49m\u001B[38;5;241;43m*\u001B[39;49m\u001B[43mkwargs\u001B[49m\u001B[43m)\u001B[49m\n",
      "\u001B[0;31mFileNotFoundError\u001B[0m: [Errno 2] No such file or directory: 'ubm.pickle'"
     ]
    }
   ],
   "source": [
    "# load\n",
    "# ubm = pickle.load(open('ubm.pickle', 'rb'))\n",
    "# normFactors = pickle.load(open('normFactors.pickle','rb'))\n",
    "# normalised_features = pickle.load(open('normalised_features.pickle','rb'))"
   ],
   "metadata": {
    "collapsed": false
   }
  },
  {
   "cell_type": "code",
   "execution_count": 12,
   "outputs": [],
   "source": [
    "for i in normalised_features:\n",
    "    if len(i) == 0:\n",
    "        print('sad face')"
   ],
   "metadata": {
    "collapsed": false
   }
  },
  {
   "cell_type": "code",
   "execution_count": 30,
   "outputs": [],
   "source": [
    "features_mat = pickle.load(open('all_features.pickle','rb'))\n",
    "ubm_mat = pickle.load(open('ubm-mat.pickle', 'rb'))"
   ],
   "metadata": {
    "collapsed": false
   }
  },
  {
   "cell_type": "code",
   "execution_count": 64,
   "outputs": [
    {
     "name": "stdout",
     "output_type": "stream",
     "text": [
      "BW stats completed\n"
     ]
    }
   ],
   "source": [
    "# BW stats\n",
    "\n",
    "numComponents = 32\n",
    "numFeatures = features_mat[0].shape[1]\n",
    "\n",
    "Nc = []\n",
    "Fc = []\n",
    "\n",
    "for feature in features_mat:\n",
    "    logLikelihood = ubm_mat._estimate_weighted_log_prob(feature).T\n",
    "    amax = np.max(logLikelihood, axis=0)\n",
    "    logLikelihoodSum = amax + logsumexp(logLikelihood - amax, axis=0)\n",
    "    normPost = logLikelihood - logLikelihoodSum\n",
    "    gamma = np.exp(normPost).T\n",
    "    n = np.sum(gamma, axis=0)\n",
    "    f = np.dot(feature.T, gamma)\n",
    "    s = np.dot(np.multiply(feature.T, feature.T), gamma)\n",
    "\n",
    "    Nc.append(np.reshape(n, (1,1,numComponents), order=\"F\"))\n",
    "    Fc.append(np.reshape(f, (numFeatures,1,numComponents), order=\"F\"))\n",
    "\n",
    "print('BW stats completed')"
   ],
   "metadata": {
    "collapsed": false
   }
  },
  {
   "cell_type": "code",
   "execution_count": null,
   "outputs": [],
   "source": [],
   "metadata": {
    "collapsed": false
   }
  },
  {
   "cell_type": "code",
   "execution_count": 65,
   "outputs": [],
   "source": [
    "# Expand stats into matrices and center\n",
    "ubm = ubm_mat\n",
    "means = ubm.means_\n",
    "muc = np.reshape(means, (numFeatures, 1, numComponents))\n",
    "N = []\n",
    "F = []\n",
    "for i in range(len(features_mat)):\n",
    "    N.append(np.repeat(np.reshape(Nc[i], (1, numComponents), order=\"F\"), numFeatures))\n",
    "    F.append(np.reshape(Fc[i] - np.multiply(Nc[i], muc), (-1, 1), order=\"F\"))\n"
   ],
   "metadata": {
    "collapsed": false
   }
  },
  {
   "cell_type": "code",
   "execution_count": 62,
   "outputs": [],
   "source": [
    "# test\n",
    "from scipy.io import loadmat\n",
    "F_mat = loadmat('F.mat')['F']"
   ],
   "metadata": {
    "collapsed": false
   }
  },
  {
   "cell_type": "code",
   "execution_count": 66,
   "outputs": [],
   "source": [
    "Sigma = np.reshape(ubm.covariances_, (-1, 1))"
   ],
   "metadata": {
    "collapsed": false
   }
  },
  {
   "cell_type": "code",
   "execution_count": 70,
   "outputs": [],
   "source": [
    "# Training Total Variability Space\n",
    "\n",
    "numTdim = 32\n",
    "if speedUpExamples:\n",
    "    numTdim = 16\n",
    "\n",
    "T = np.random.randn(Sigma.shape[0], numTdim)\n",
    "T = T / np.linalg.norm(T,2)\n",
    "I = np.eye(numTdim)\n",
    "Ey = []\n",
    "Eyy = []\n",
    "Linv = []\n",
    "numIterations = 5\n",
    "numSpeakers = len(features_mat)\n",
    "from scipy.io import loadmat\n",
    "T = loadmat('T.mat')['T']"
   ],
   "metadata": {
    "collapsed": false
   }
  },
  {
   "cell_type": "code",
   "execution_count": 71,
   "outputs": [
    {
     "name": "stdout",
     "output_type": "stream",
     "text": [
      "training total variability space 0 / 5\n",
      "training total variability space 1 / 5\n",
      "training total variability space 2 / 5\n",
      "training total variability space 3 / 5\n",
      "training total variability space 4 / 5\n"
     ]
    }
   ],
   "source": [
    "for i in range(numIterations):\n",
    "    Ey = []\n",
    "    Eyy = []\n",
    "    Linv = []\n",
    "    # Calculate the posterior distribution of the hidden variable\n",
    "    TtimesInverseSSdiag = (T / Sigma).T\n",
    "    for s in range(numSpeakers):\n",
    "        L=(I + np.dot(np.multiply(TtimesInverseSSdiag,N[s]),T))\n",
    "        Linv.append(np.linalg.pinv(L))\n",
    "        Ey.append(np.dot(np.dot(Linv[s],TtimesInverseSSdiag),F[s]))\n",
    "        Eyy.append(Linv[s] + np.dot(Ey[s],Ey[s].T))\n",
    "\n",
    "    # 2. Accumulate statistics across the speakers\n",
    "    Eymat=np.concatenate(Ey, axis=1)\n",
    "    FFmat=np.concatenate(F, axis=1)\n",
    "    Kt=np.dot(FFmat,Eymat.T)\n",
    "    K = np.hsplit(Kt.T, numComponents)\n",
    "\n",
    "    newT = []\n",
    "    for c in range(numComponents):\n",
    "        AcLocal = np.zeros((numTdim, numTdim))\n",
    "        for s in range(numSpeakers):\n",
    "            AcLocal = AcLocal + np.multiply(Nc[s][:,:,c],Eyy[s])\n",
    "\n",
    "        # update T\n",
    "        newTc = np.dot(np.linalg.pinv(AcLocal),K[c]).T\n",
    "        newT.append(newTc)\n",
    "\n",
    "    T = np.concatenate(newT, axis=0)\n",
    "    print('training total variability space', i, '/', numIterations)"
   ],
   "metadata": {
    "collapsed": false
   }
  },
  {
   "cell_type": "code",
   "execution_count": 51,
   "outputs": [],
   "source": [],
   "metadata": {
    "collapsed": false
   }
  },
  {
   "cell_type": "code",
   "execution_count": 55,
   "outputs": [
    {
     "data": {
      "text/plain": "(7568, 1)"
     },
     "execution_count": 55,
     "metadata": {},
     "output_type": "execute_result"
    }
   ],
   "source": [],
   "metadata": {
    "collapsed": false
   }
  },
  {
   "cell_type": "code",
   "execution_count": null,
   "outputs": [],
   "source": [],
   "metadata": {
    "collapsed": false
   }
  }
 ],
 "metadata": {
  "kernelspec": {
   "display_name": "Python 3",
   "language": "python",
   "name": "python3"
  },
  "language_info": {
   "codemirror_mode": {
    "name": "ipython",
    "version": 2
   },
   "file_extension": ".py",
   "mimetype": "text/x-python",
   "name": "python",
   "nbconvert_exporter": "python",
   "pygments_lexer": "ipython2",
   "version": "2.7.6"
  }
 },
 "nbformat": 4,
 "nbformat_minor": 0
}
