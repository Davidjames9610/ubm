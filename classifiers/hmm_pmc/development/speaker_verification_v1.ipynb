{
 "cells": [
  {
   "cell_type": "code",
   "execution_count": 2,
   "metadata": {
    "collapsed": true
   },
   "outputs": [
    {
     "name": "stdout",
     "output_type": "stream",
     "text": [
      "['/Applications/PyCharm.app/Contents/plugins/python/helpers-pro/jupyter_debug', '/Applications/PyCharm.app/Contents/plugins/python/helpers/pydev', '/Users/david/Documents/mastersCode/ubm/classifiers/hmm-pmc/development', '/Users/david/.conda/envs/ubm/lib/python310.zip', '/Users/david/.conda/envs/ubm/lib/python3.10', '/Users/david/.conda/envs/ubm/lib/python3.10/lib-dynload', '', '/Users/david/.conda/envs/ubm/lib/python3.10/site-packages', '/Users/david/Documents/mastersCode/ubm', '/Users/david/Documents/mastersCode/ubm']\n"
     ]
    }
   ],
   "source": [
    "# new test with updated database and classifier using different processing method\n",
    "\n",
    "import sys\n",
    "sys.path.append(\"/Users/david/Documents/mastersCode/ubm\")\n",
    "print(sys.path)"
   ]
  },
  {
   "cell_type": "code",
   "execution_count": 3,
   "outputs": [
    {
     "name": "stderr",
     "output_type": "stream",
     "text": [
      "Using cache found in /Users/david/.cache/torch/hub/snakers4_silero-vad_master\n",
      "Using cache found in /Users/david/.cache/torch/hub/snakers4_silero-vad_master\n"
     ]
    }
   ],
   "source": [
    "from importlib import reload\n",
    "import audio_datastore.audio_datastore as myads\n",
    "reload(myads)\n",
    "from importlib import reload\n",
    "from collections import Counter\n",
    "import pickle\n",
    "import time"
   ],
   "metadata": {
    "collapsed": false
   }
  },
  {
   "cell_type": "code",
   "execution_count": 4,
   "outputs": [],
   "source": [
    "from data.pitch_tracking_database.load_data import *\n",
    "speech_pitch_tracking_db = pickle.load(open(normalised_30,'rb'))\n",
    "ads = speech_pitch_tracking_db['ads']"
   ],
   "metadata": {
    "collapsed": false
   }
  },
  {
   "cell_type": "code",
   "execution_count": 5,
   "outputs": [],
   "source": [
    "# split ads\n",
    "developmentLabels = [\"M03\",\"M04\",\"M05\",\"M06\",\"M07\",\"M08\",\"M09\",\"M10\",\"F05\",\"F06\",\"F07\",\"F08\",\"F09\",\"F10\",\n",
    "                     \"F03\",\"F04\"]\n",
    "evaluationLabels = [\"M01\",\"M02\",\"F01\",\"F02\"]\n",
    "adsTrain = myads.subset(ads, developmentLabels)\n",
    "adsEvaluate = myads.subset(ads, evaluationLabels)\n",
    "numFilesPerSpeakerForEnrollment = 4\n",
    "adsEnroll, adsDet = myads.split(adsEvaluate, numFilesPerSpeakerForEnrollment)\n",
    "adsTest = adsDet\n",
    "# adsDet, adsTest = myads.split(adsDet, 2)\n",
    "# adsTrain.info('Train')\n",
    "# adsEnroll.info('Enroll')\n",
    "# adsTest.info('Test')"
   ],
   "metadata": {
    "collapsed": false
   }
  },
  {
   "cell_type": "code",
   "execution_count": null,
   "outputs": [],
   "source": [
    "from classifiers.classifier_base import ClassifierBase\n",
    "from classifiers.hmm_pmc.classifier_hmm_pmc import ClassifierHMMPMC\n",
    "from my_torch.tuts2.torch_transforms import ComposeTransform\n",
    "\n",
    "def test_classifiers(ads_train, ads_test, classifiers: [ClassifierHMMPMC], verbose=False):\n",
    "    index = 1\n",
    "    if verbose:\n",
    "        print('running all')\n",
    "\n",
    "    for classifier in classifiers:\n",
    "        if verbose:\n",
    "            print('\\n')\n",
    "            print('test #', index)\n",
    "        print(classifier.info)\n",
    "\n",
    "        classifier.train(ads_train)\n",
    "        classifier.train_noise_hmm()\n",
    "        classifier.adapt_speaker_models()\n",
    "        classifier.test_all(ads_test)\n",
    "\n",
    "        index = index + 1\n",
    "        if verbose:\n",
    "            print('\\n')"
   ],
   "metadata": {
    "collapsed": false
   }
  },
  {
   "cell_type": "code",
   "execution_count": null,
   "outputs": [],
   "source": [],
   "metadata": {
    "collapsed": false
   }
  }
 ],
 "metadata": {
  "kernelspec": {
   "display_name": "Python 3",
   "language": "python",
   "name": "python3"
  },
  "language_info": {
   "codemirror_mode": {
    "name": "ipython",
    "version": 2
   },
   "file_extension": ".py",
   "mimetype": "text/x-python",
   "name": "python",
   "nbconvert_exporter": "python",
   "pygments_lexer": "ipython2",
   "version": "2.7.6"
  }
 },
 "nbformat": 4,
 "nbformat_minor": 0
}
