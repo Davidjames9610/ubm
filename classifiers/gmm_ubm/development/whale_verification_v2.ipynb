{
 "cells": [
  {
   "cell_type": "code",
   "execution_count": 1,
   "metadata": {
    "collapsed": true
   },
   "outputs": [
    {
     "name": "stdout",
     "output_type": "stream",
     "text": [
      "['/Users/david/Documents/mastersCode/ubm/classifiers/gmm_ubm/development', '/Users/david/.conda/envs/ubm/lib/python310.zip', '/Users/david/.conda/envs/ubm/lib/python3.10', '/Users/david/.conda/envs/ubm/lib/python3.10/lib-dynload', '', '/Users/david/.conda/envs/ubm/lib/python3.10/site-packages', '/Users/david/Documents/mastersCode/ubm']\n"
     ]
    }
   ],
   "source": [
    "import sys\n",
    "sys.path.append(\"/Users/david/Documents/mastersCode/ubm\")\n",
    "print(sys.path)"
   ]
  },
  {
   "cell_type": "code",
   "execution_count": 2,
   "outputs": [
    {
     "name": "stderr",
     "output_type": "stream",
     "text": [
      "Using cache found in /Users/david/.cache/torch/hub/snakers4_silero-vad_master\n",
      "Using cache found in /Users/david/.cache/torch/hub/snakers4_silero-vad_master\n"
     ]
    }
   ],
   "source": [
    "# test for gmm-ubm on whale calls\n",
    "from importlib import reload\n",
    "import audio_datastore.audio_datastore as myads\n",
    "reload(myads)\n",
    "from collections import Counter"
   ],
   "metadata": {
    "collapsed": false
   }
  },
  {
   "cell_type": "code",
   "execution_count": 3,
   "outputs": [],
   "source": [
    "datasetFolder = r\"/Users/david/Documents/mastersCode/ubm/whale/setup/data_spliced\"\n",
    "ads = myads.AudioDatastore()\n",
    "ads.populate(datasetFolder,include_sub_folders=True, label_source=True)\n",
    "Counter(ads.labels).values()\n",
    "adsTest, adsTrain = myads.split(ads, 5)\n",
    "adsEnroll, adsTrain = myads.split(adsTrain, 8)\n",
    "adsTrain, _ = myads.split(adsTrain, 15)\n",
    "adsNorm, _ = myads.split(ads, 27)"
   ],
   "metadata": {
    "collapsed": false
   }
  },
  {
   "cell_type": "code",
   "execution_count": 4,
   "outputs": [
    {
     "data": {
      "text/plain": "<module 'processing.processing' from '/Users/david/Documents/mastersCode/ubm/processing/processing.py'>"
     },
     "execution_count": 4,
     "metadata": {},
     "output_type": "execute_result"
    }
   ],
   "source": [
    "import feature_extraction.fe_spafe.fe_spafe as fe_spafe\n",
    "import feature_extraction.fe_base as fe_base\n",
    "import classifiers.classifier_base as classifier_base\n",
    "import classifiers.gmm_ubm.classifier_gmm_ubm as classifier_gmm_ubm\n",
    "import processing.process_method_base as process_method_base\n",
    "import processing.processing as processing\n",
    "reload(fe_base)\n",
    "reload(fe_spafe)\n",
    "reload(classifier_base)\n",
    "reload(classifier_gmm_ubm)\n",
    "reload(process_method_base)\n",
    "reload(processing)"
   ],
   "metadata": {
    "collapsed": false
   }
  },
  {
   "cell_type": "code",
   "execution_count": 5,
   "outputs": [
    {
     "ename": "AttributeError",
     "evalue": "module 'feature_extraction.fe_spafe.fe_spafe' has no attribute 'FeatureExtractorSpafe'",
     "output_type": "error",
     "traceback": [
      "\u001B[0;31m---------------------------------------------------------------------------\u001B[0m",
      "\u001B[0;31mAttributeError\u001B[0m                            Traceback (most recent call last)",
      "Cell \u001B[0;32mIn[5], line 12\u001B[0m\n\u001B[1;32m      1\u001B[0m \u001B[38;5;66;03m# processing\u001B[39;00m\n\u001B[1;32m      2\u001B[0m process_methods \u001B[38;5;241m=\u001B[39m [\n\u001B[1;32m      3\u001B[0m     process_method_base\u001B[38;5;241m.\u001B[39mProcessMethodBase(snr_db\u001B[38;5;241m=\u001B[39m\u001B[38;5;241m40\u001B[39m, reverb\u001B[38;5;241m=\u001B[39m\u001B[38;5;28;01mFalse\u001B[39;00m),\n\u001B[1;32m      4\u001B[0m     \u001B[38;5;66;03m# process_method_base.ProcessMethodBase(snr_db=15, reverb=False),\u001B[39;00m\n\u001B[0;32m   (...)\u001B[0m\n\u001B[1;32m      8\u001B[0m     \u001B[38;5;66;03m# process_method_base.ProcessMethodBase(snr_db=5, reverb=True),\u001B[39;00m\n\u001B[1;32m      9\u001B[0m ]\n\u001B[1;32m     11\u001B[0m fe_methods \u001B[38;5;241m=\u001B[39m [\n\u001B[0;32m---> 12\u001B[0m     \u001B[43mfe_spafe\u001B[49m\u001B[38;5;241;43m.\u001B[39;49m\u001B[43mFeatureExtractorSpafe\u001B[49m(fe_spafe\u001B[38;5;241m.\u001B[39mMFCC),\n\u001B[1;32m     13\u001B[0m     \u001B[38;5;66;03m# fe_spafe.FeatureExtractorSpafe(fe_spafe.MFCC),\u001B[39;00m\n\u001B[1;32m     14\u001B[0m     \u001B[38;5;66;03m# fe_spafe.FeatureExtractorSpafe(fe_spafe.MFCC),\u001B[39;00m\n\u001B[1;32m     15\u001B[0m     \u001B[38;5;66;03m# fe_spafe.FeatureExtractorSpafe(fe_spafe.MFCC),\u001B[39;00m\n\u001B[1;32m     16\u001B[0m     \u001B[38;5;66;03m# fe_spafe.FeatureExtractorSpafe(fe_spafe.MFCC),\u001B[39;00m\n\u001B[1;32m     17\u001B[0m ]\n\u001B[1;32m     19\u001B[0m classifiers \u001B[38;5;241m=\u001B[39m {}\n\u001B[1;32m     20\u001B[0m \u001B[38;5;28;01mfor\u001B[39;00m i \u001B[38;5;129;01min\u001B[39;00m \u001B[38;5;28mrange\u001B[39m(\u001B[38;5;28mlen\u001B[39m(fe_methods)):\n",
      "\u001B[0;31mAttributeError\u001B[0m: module 'feature_extraction.fe_spafe.fe_spafe' has no attribute 'FeatureExtractorSpafe'"
     ]
    }
   ],
   "source": [
    "# processing\n",
    "process_methods = [\n",
    "    process_method_base.ProcessMethodBase(snr_db=40, reverb=False),\n",
    "    # process_method_base.ProcessMethodBase(snr_db=15, reverb=False),\n",
    "    # process_method_base.ProcessMethodBase(snr_db=5, reverb=False),\n",
    "    # process_method_base.ProcessMethodBase(snr_db=40, reverb=True),\n",
    "    # process_method_base.ProcessMethodBase(snr_db=15, reverb=True),\n",
    "    # process_method_base.ProcessMethodBase(snr_db=5, reverb=True),\n",
    "]\n",
    "\n",
    "fe_methods = [\n",
    "    fe_spafe.FeatureExtractorMfcc(),\n",
    "    # fe_spafe.FeatureExtractorSpafe(fe_spafe.MFCC),\n",
    "    # fe_spafe.FeatureExtractorSpafe(fe_spafe.MFCC),\n",
    "    # fe_spafe.FeatureExtractorSpafe(fe_spafe.MFCC),\n",
    "    # fe_spafe.FeatureExtractorSpafe(fe_spafe.MFCC),\n",
    "]\n",
    "\n",
    "classifiers = {}\n",
    "for i in range(len(fe_methods)):\n",
    "    classifier = classifier_gmm_ubm.ClassifierGMMUBM(fe_methods[i], process_methods[i])\n",
    "    classifier.set_normalisation(adsNorm)\n",
    "    classifier.train(adsTrain)\n",
    "    classifier.enroll(adsEnroll)\n",
    "    classifier.test_all(adsTest)\n",
    "\n"
   ],
   "metadata": {
    "collapsed": false
   }
  },
  {
   "cell_type": "code",
   "execution_count": null,
   "outputs": [],
   "source": [],
   "metadata": {
    "collapsed": false
   }
  }
 ],
 "metadata": {
  "kernelspec": {
   "display_name": "Python 3",
   "language": "python",
   "name": "python3"
  },
  "language_info": {
   "codemirror_mode": {
    "name": "ipython",
    "version": 2
   },
   "file_extension": ".py",
   "mimetype": "text/x-python",
   "name": "python",
   "nbconvert_exporter": "python",
   "pygments_lexer": "ipython2",
   "version": "2.7.6"
  }
 },
 "nbformat": 4,
 "nbformat_minor": 0
}
