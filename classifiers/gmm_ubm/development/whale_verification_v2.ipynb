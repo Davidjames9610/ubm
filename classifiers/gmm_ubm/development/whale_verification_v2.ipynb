{
 "cells": [
  {
   "cell_type": "code",
   "execution_count": 1,
   "metadata": {
    "collapsed": true
   },
   "outputs": [
    {
     "name": "stdout",
     "output_type": "stream",
     "text": [
      "['/Users/david/Documents/mastersCode/ubm/classifiers/gmm_ubm/development', '/Users/david/.conda/envs/ubm/lib/python310.zip', '/Users/david/.conda/envs/ubm/lib/python3.10', '/Users/david/.conda/envs/ubm/lib/python3.10/lib-dynload', '', '/Users/david/.conda/envs/ubm/lib/python3.10/site-packages', '/Users/david/Documents/mastersCode/ubm']\n"
     ]
    }
   ],
   "source": [
    "import sys\n",
    "sys.path.append(\"/Users/david/Documents/mastersCode/ubm\")\n",
    "print(sys.path)"
   ]
  },
  {
   "cell_type": "code",
   "execution_count": 2,
   "outputs": [],
   "source": [
    "# test for gmm-ubm on whale calls\n",
    "from importlib import reload\n",
    "import audio_datastore.audio_datastore as myads\n",
    "reload(myads)\n",
    "from collections import Counter"
   ],
   "metadata": {
    "collapsed": false
   }
  },
  {
   "cell_type": "code",
   "execution_count": 3,
   "outputs": [],
   "source": [
    "datasetFolder = r\"/Users/david/Documents/mastersCode/ubm/whale/setup/data_spliced\"\n",
    "ads = myads.AudioDatastore()\n",
    "ads.populate(datasetFolder,include_sub_folders=True, label_source=True)\n",
    "Counter(ads.labels).values()\n",
    "adsTest, adsTrain = myads.split(ads, 5)\n",
    "adsEnroll, adsTrain = myads.split(adsTrain, 8)\n",
    "adsTrain, _ = myads.split(adsTrain, 15)\n",
    "adsNorm, _ = myads.split(ads, 27)"
   ],
   "metadata": {
    "collapsed": false
   }
  },
  {
   "cell_type": "code",
   "execution_count": 9,
   "outputs": [
    {
     "data": {
      "text/plain": "<module 'classifiers.gmm_ubm.classifier_gmm_ubm' from '/Users/david/Documents/mastersCode/ubm/classifiers/gmm_ubm/classifier_gmm_ubm.py'>"
     },
     "execution_count": 9,
     "metadata": {},
     "output_type": "execute_result"
    }
   ],
   "source": [
    "import feature_extraction.fe_spafe.fe_spafe as fe_spafe\n",
    "import feature_extraction.fe_base as fe_base\n",
    "import classifiers.classifier_base as classifier_base\n",
    "import classifiers.gmm_ubm.classifier_gmm_ubm as classifier_gmm_ubm\n",
    "reload(fe_base)\n",
    "reload(fe_spafe)\n",
    "reload(classifier_base)\n",
    "reload(classifier_gmm_ubm)"
   ],
   "metadata": {
    "collapsed": false
   }
  },
  {
   "cell_type": "code",
   "execution_count": 12,
   "outputs": [
    {
     "ename": "AttributeError",
     "evalue": "'FeatureExtractorSpafe' object has no attribute 'get_normalisation'",
     "output_type": "error",
     "traceback": [
      "\u001B[0;31m---------------------------------------------------------------------------\u001B[0m",
      "\u001B[0;31mAttributeError\u001B[0m                            Traceback (most recent call last)",
      "Cell \u001B[0;32mIn[12], line 12\u001B[0m\n\u001B[1;32m     10\u001B[0m \u001B[38;5;28;01mfor\u001B[39;00m fe_method \u001B[38;5;129;01min\u001B[39;00m fe_methods:\n\u001B[1;32m     11\u001B[0m     classifier \u001B[38;5;241m=\u001B[39m classifier_gmm_ubm\u001B[38;5;241m.\u001B[39mClassifierGMMUBM(fe_method)\n\u001B[0;32m---> 12\u001B[0m     \u001B[43mclassifier\u001B[49m\u001B[38;5;241;43m.\u001B[39;49m\u001B[43mget_normalisation\u001B[49m\u001B[43m(\u001B[49m\u001B[43madsNorm\u001B[49m\u001B[43m)\u001B[49m\n\u001B[1;32m     13\u001B[0m     \u001B[38;5;66;03m# classifier.train(adsTrain)\u001B[39;00m\n\u001B[1;32m     14\u001B[0m     \u001B[38;5;66;03m# classifier.enroll(adsEnroll)\u001B[39;00m\n\u001B[1;32m     15\u001B[0m     \u001B[38;5;66;03m# classifier.test(ads)\u001B[39;00m\n\u001B[1;32m     16\u001B[0m     \u001B[38;5;66;03m# classifiers[fe_method.__str__()] = classifier\u001B[39;00m\n",
      "File \u001B[0;32m~/Documents/mastersCode/ubm/classifiers/classifier_base.py:23\u001B[0m, in \u001B[0;36mClassifierBase.get_normalisation\u001B[0;34m(self, ads)\u001B[0m\n\u001B[1;32m     22\u001B[0m \u001B[38;5;28;01mdef\u001B[39;00m \u001B[38;5;21mget_normalisation\u001B[39m(\u001B[38;5;28mself\u001B[39m, ads: AudioDatastore):\n\u001B[0;32m---> 23\u001B[0m     \u001B[38;5;28;43mself\u001B[39;49m\u001B[38;5;241;43m.\u001B[39;49m\u001B[43mfe_method\u001B[49m\u001B[38;5;241;43m.\u001B[39;49m\u001B[43mget_normalisation\u001B[49m(ads)\n",
      "\u001B[0;31mAttributeError\u001B[0m: 'FeatureExtractorSpafe' object has no attribute 'get_normalisation'"
     ]
    }
   ],
   "source": [
    "fe_types = fe_spafe.fe_types\n",
    "\n",
    "fe_methods = [\n",
    "    fe_spafe.FeatureExtractorSpafe(fe_types[0]),\n",
    "    fe_spafe.FeatureExtractorSpafeDelta(fe_types[0]),\n",
    "    fe_spafe.FeatureExtractorSpafeDeltaDeltas(fe_types[0])\n",
    "]\n",
    "\n",
    "classifiers = {}\n",
    "for fe_method in fe_methods:\n",
    "    classifier = classifier_gmm_ubm.ClassifierGMMUBM(fe_method)\n",
    "    classifier.set_normalisation(adsNorm)\n",
    "    # classifier.train(adsTrain)\n",
    "    # classifier.enroll(adsEnroll)\n",
    "    # classifier.test(ads)\n",
    "    # classifiers[fe_method.__str__()] = classifier"
   ],
   "metadata": {
    "collapsed": false
   }
  },
  {
   "cell_type": "code",
   "execution_count": 44,
   "outputs": [
    {
     "data": {
      "text/plain": "'FeatureExtractorMFCC'"
     },
     "execution_count": 44,
     "metadata": {},
     "output_type": "execute_result"
    }
   ],
   "source": [],
   "metadata": {
    "collapsed": false
   }
  },
  {
   "cell_type": "code",
   "execution_count": 11,
   "outputs": [
    {
     "ename": "TypeError",
     "evalue": "'module' object is not subscriptable",
     "output_type": "error",
     "traceback": [
      "\u001B[0;31m---------------------------------------------------------------------------\u001B[0m",
      "\u001B[0;31mTypeError\u001B[0m                                 Traceback (most recent call last)",
      "Cell \u001B[0;32mIn[11], line 3\u001B[0m\n\u001B[1;32m      1\u001B[0m fe_methods \u001B[38;5;241m=\u001B[39m []\n\u001B[1;32m      2\u001B[0m \u001B[38;5;28;01mfor\u001B[39;00m mfcc_type \u001B[38;5;129;01min\u001B[39;00m mfcc_types:\n\u001B[0;32m----> 3\u001B[0m     fe_method \u001B[38;5;241m=\u001B[39m \u001B[43mfe_mfcc\u001B[49m\u001B[43m[\u001B[49m\u001B[43mmfcc_type\u001B[49m\u001B[43m]\u001B[49m\n",
      "\u001B[0;31mTypeError\u001B[0m: 'module' object is not subscriptable"
     ]
    }
   ],
   "source": [],
   "metadata": {
    "collapsed": false
   }
  },
  {
   "cell_type": "code",
   "execution_count": null,
   "outputs": [],
   "source": [],
   "metadata": {
    "collapsed": false
   }
  }
 ],
 "metadata": {
  "kernelspec": {
   "display_name": "Python 3",
   "language": "python",
   "name": "python3"
  },
  "language_info": {
   "codemirror_mode": {
    "name": "ipython",
    "version": 2
   },
   "file_extension": ".py",
   "mimetype": "text/x-python",
   "name": "python",
   "nbconvert_exporter": "python",
   "pygments_lexer": "ipython2",
   "version": "2.7.6"
  }
 },
 "nbformat": 4,
 "nbformat_minor": 0
}
