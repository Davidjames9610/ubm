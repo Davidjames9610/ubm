{
 "cells": [
  {
   "cell_type": "code",
   "execution_count": null,
   "metadata": {
    "collapsed": true
   },
   "outputs": [],
   "source": [
    "# at the moment I have two ways of calculating SBD and adding noise to signals,\n",
    "# I need this to be one way and I need to know how is is working reliably\n",
    "# also there is a case for letting torch taking over everything in term of data augmentation -\n",
    "\n",
    "# updates will need to take place basically in the process methods - then can also use torchs data store - will be cool as well because can make use of batches when training hmms - which could work quite well actually.\n",
    "# this will therefore mostly update the inputs but the classifers will be the same - will have to convert between tensors and numpy quite a lot tho\n",
    "# will need to have a look at data augmentation"
   ]
  }
 ],
 "metadata": {
  "kernelspec": {
   "display_name": "Python 3",
   "language": "python",
   "name": "python3"
  },
  "language_info": {
   "codemirror_mode": {
    "name": "ipython",
    "version": 2
   },
   "file_extension": ".py",
   "mimetype": "text/x-python",
   "name": "python",
   "nbconvert_exporter": "python",
   "pygments_lexer": "ipython2",
   "version": "2.7.6"
  }
 },
 "nbformat": 4,
 "nbformat_minor": 0
}
