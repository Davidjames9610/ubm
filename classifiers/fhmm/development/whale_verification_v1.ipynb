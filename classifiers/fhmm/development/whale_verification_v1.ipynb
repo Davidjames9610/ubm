{
 "cells": [
  {
   "cell_type": "code",
   "execution_count": 3,
   "metadata": {
    "collapsed": true
   },
   "outputs": [
    {
     "name": "stdout",
     "output_type": "stream",
     "text": [
      "['/Applications/PyCharm.app/Contents/plugins/python/helpers-pro/jupyter_debug', '/Applications/PyCharm.app/Contents/plugins/python/helpers/pydev', '/Users/david/Documents/mastersCode/ubm/classifiers/fhmm/development', '/Users/david/.conda/envs/ubm/lib/python310.zip', '/Users/david/.conda/envs/ubm/lib/python3.10', '/Users/david/.conda/envs/ubm/lib/python3.10/lib-dynload', '', '/Users/david/.conda/envs/ubm/lib/python3.10/site-packages', '/Users/david/Documents/mastersCode/ubm']\n"
     ]
    }
   ],
   "source": [
    "import sys\n",
    "sys.path.append(\"/Users/david/Documents/mastersCode/ubm\")\n",
    "print(sys.path)"
   ]
  },
  {
   "cell_type": "code",
   "execution_count": 4,
   "outputs": [],
   "source": [
    "# test for gmm-ubm on whale calls\n",
    "from importlib import reload\n",
    "import audio_datastore.audio_datastore as myads\n",
    "reload(myads)\n",
    "from collections import Counter\n",
    "import numpy as np\n",
    "import librosa"
   ],
   "metadata": {
    "collapsed": false
   }
  },
  {
   "cell_type": "code",
   "execution_count": 5,
   "outputs": [],
   "source": [
    "datasetFolder = r\"/Users/david/Documents/mastersCode/ubm/whale/setup/data_spliced\"\n",
    "ads = myads.AudioDatastore()\n",
    "ads.populate(datasetFolder,include_sub_folders=True, label_source=True)\n",
    "Counter(ads.labels).values()\n",
    "adsTest, adsTrain = myads.split(ads, 5)\n",
    "adsEnroll, adsTrain = myads.split(adsTrain, 8)\n",
    "adsTrain, _ = myads.split(adsTrain, 15)\n",
    "adsNorm, _ = myads.split(ads, 27)"
   ],
   "metadata": {
    "collapsed": false
   }
  },
  {
   "cell_type": "code",
   "execution_count": 11,
   "outputs": [
    {
     "data": {
      "text/plain": "<module 'processing.processing' from '/Users/david/Documents/mastersCode/ubm/processing/processing.py'>"
     },
     "execution_count": 11,
     "metadata": {},
     "output_type": "execute_result"
    }
   ],
   "source": [
    "import feature_extraction.fe_spafe.fe_spafe as fe_spafe\n",
    "import feature_extraction.fe_base as fe_base\n",
    "import classifiers.classifier_base as classifier_base\n",
    "import classifiers.fhmm.classifier_fhmm as classifier_fhmm\n",
    "import processing.process_method_base as process_method_base\n",
    "import processing.processing as processing\n",
    "reload(fe_base)\n",
    "reload(fe_spafe)\n",
    "reload(classifier_base)\n",
    "reload(classifier_fhmm)\n",
    "reload(process_method_base)\n",
    "reload(processing)"
   ],
   "metadata": {
    "collapsed": false
   }
  },
  {
   "cell_type": "code",
   "execution_count": 15,
   "outputs": [
    {
     "name": "stderr",
     "output_type": "stream",
     "text": [
      "Fitting a model with 119 free scalar parameters with only 52 data points will result in a degenerate solution.\n"
     ]
    },
    {
     "name": "stdout",
     "output_type": "stream",
     "text": [
      "testing for  spafe.features.mfcc.mfcc\n"
     ]
    },
    {
     "data": {
      "text/plain": "<Figure size 640x480 with 2 Axes>",
      "image/png": "[encoded data removed]"
     },
     "metadata": {},
     "output_type": "display_data"
    }
   ],
   "source": [
    "# processing\n",
    "process_methods = [\n",
    "    process_method_base.ProcessMethodBase(snr_db=10, reverb=False),\n",
    "    # process_method_base.ProcessMethodBase(snr_db=15, reverb=False),\n",
    "    # process_method_base.ProcessMethodBase(snr_db=5, reverb=False),\n",
    "    # process_method_base.ProcessMethodBase(snr_db=40, reverb=True),\n",
    "    # process_method_base.ProcessMethodBase(snr_db=15, reverb=True),\n",
    "    # process_method_base.ProcessMethodBase(snr_db=5, reverb=True),\n",
    "]\n",
    "\n",
    "fe_methods = [\n",
    "    fe_spafe.FeatureExtractorSpafe(fe_spafe.MFCC),\n",
    "    # fe_spafe.FeatureExtractorSpafe(fe_spafe.MFCC),\n",
    "    # fe_spafe.FeatureExtractorSpafe(fe_spafe.MFCC),\n",
    "    # fe_spafe.FeatureExtractorSpafe(fe_spafe.MFCC),\n",
    "    # fe_spafe.FeatureExtractorSpafe(fe_spafe.MFCC),\n",
    "]\n",
    "\n",
    "noise_example = np.random.normal(0, np.sqrt(1), 1000)\n",
    "librosa.util.normalize(noise_example, axis=0)\n",
    "\n",
    "classifiers = {}\n",
    "for i in range(len(fe_methods)):\n",
    "    classifier = classifier_fhmm.ClassifierFHMM(fe_methods[i], process_methods[i])\n",
    "    classifier.set_normalisation(adsNorm)\n",
    "    classifier.train(adsTrain)\n",
    "    classifier.train_noise_hmm(noise_example, 10)\n",
    "    classifier.adapt_speaker_models()\n",
    "    classifier.test(adsNorm)\n"
   ],
   "metadata": {
    "collapsed": false
   }
  },
  {
   "cell_type": "code",
   "execution_count": null,
   "outputs": [],
   "source": [],
   "metadata": {
    "collapsed": false
   }
  }
 ],
 "metadata": {
  "kernelspec": {
   "display_name": "Python 3",
   "language": "python",
   "name": "python3"
  },
  "language_info": {
   "codemirror_mode": {
    "name": "ipython",
    "version": 2
   },
   "file_extension": ".py",
   "mimetype": "text/x-python",
   "name": "python",
   "nbconvert_exporter": "python",
   "pygments_lexer": "ipython2",
   "version": "2.7.6"
  }
 },
 "nbformat": 4,
 "nbformat_minor": 0
}
