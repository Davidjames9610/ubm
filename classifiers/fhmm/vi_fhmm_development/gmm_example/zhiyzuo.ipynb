{
 "cells": [
  {
   "cell_type": "code",
   "execution_count": 1,
   "metadata": {
    "collapsed": true
   },
   "outputs": [],
   "source": [
    "import numpy as np\n",
    "import scipy as sp\n",
    "from zhiyzuo_ugmm import UGMM"
   ]
  },
  {
   "cell_type": "code",
   "execution_count": 2,
   "outputs": [],
   "source": [
    "# import seaborn as sns\n",
    "from matplotlib import pyplot as plt\n",
    "%matplotlib inline"
   ],
   "metadata": {
    "collapsed": false
   }
  },
  {
   "cell_type": "code",
   "execution_count": 3,
   "outputs": [
    {
     "data": {
      "text/plain": "array([ 8.13522973,  0.67766111, -9.84869405])"
     },
     "execution_count": 3,
     "metadata": {},
     "output_type": "execute_result"
    }
   ],
   "source": [
    "num_components = 3\n",
    "mu_arr = np.random.choice(np.arange(-10, 10, 2),num_components) + np.random.random(num_components)\n",
    "mu_arr"
   ],
   "metadata": {
    "collapsed": false
   }
  },
  {
   "cell_type": "code",
   "execution_count": 4,
   "outputs": [],
   "source": [
    "SAMPLE = 1000"
   ],
   "metadata": {
    "collapsed": false
   }
  },
  {
   "cell_type": "markdown",
   "source": [],
   "metadata": {
    "collapsed": false
   }
  },
  {
   "cell_type": "code",
   "execution_count": 5,
   "outputs": [],
   "source": [
    "X = np.random.normal(loc=mu_arr[0], scale=1, size=SAMPLE)\n",
    "for i, mu in enumerate(mu_arr[1:]):\n",
    "    X = np.append(X, np.random.normal(loc=mu, scale=1, size=SAMPLE))"
   ],
   "metadata": {
    "collapsed": false
   }
  },
  {
   "cell_type": "code",
   "execution_count": 6,
   "outputs": [
    {
     "data": {
      "text/plain": "(array([  1.,   3.,  13.,  85., 191., 295., 252., 121.,  33.,   6.]),\n array([-14.11926722, -13.36949448, -12.61972174, -11.869949  ,\n        -11.12017626, -10.37040352,  -9.62063078,  -8.87085804,\n         -8.1210853 ,  -7.37131256,  -6.62153982]),\n <BarContainer object of 10 artists>)"
     },
     "execution_count": 6,
     "metadata": {},
     "output_type": "execute_result"
    },
    {
     "data": {
      "text/plain": "<Figure size 1500x400 with 1 Axes>",
      "image/png": "[encoded data removed]"
     },
     "metadata": {},
     "output_type": "display_data"
    }
   ],
   "source": [
    "fig, ax = plt.subplots(figsize=(15, 4))\n",
    "plt.hist(X[:SAMPLE])\n",
    "plt.hist(X[SAMPLE:SAMPLE*2])\n",
    "plt.hist(X[SAMPLE*2:])"
   ],
   "metadata": {
    "collapsed": false
   }
  },
  {
   "cell_type": "code",
   "execution_count": 9,
   "outputs": [
    {
     "name": "stdout",
     "output_type": "stream",
     "text": [
      "Init mean\n",
      "[ 7.5049227  17.28702076 10.09930687]\n",
      "Init s2\n",
      "[0.72084448 0.20071424 0.82798595]\n"
     ]
    }
   ],
   "source": [
    "ugmm = UGMM(X, 3)\n",
    "ugmm.fit()"
   ],
   "metadata": {
    "collapsed": false
   }
  },
  {
   "cell_type": "code",
   "execution_count": 8,
   "outputs": [],
   "source": [
    "phi_argmax = ugmm.phi.argmax(1) # prob of gaus ? posterior"
   ],
   "metadata": {
    "collapsed": false
   }
  },
  {
   "cell_type": "code",
   "execution_count": 9,
   "outputs": [
    {
     "data": {
      "text/plain": "[-9.839090169086262, 0.6355374240220704, 8.06969710228523]"
     },
     "execution_count": 9,
     "metadata": {},
     "output_type": "execute_result"
    }
   ],
   "source": [
    "sorted(mu_arr)\n",
    "sorted(ugmm.m)"
   ],
   "metadata": {
    "collapsed": false
   }
  },
  {
   "cell_type": "code",
   "execution_count": null,
   "outputs": [],
   "source": [],
   "metadata": {
    "collapsed": false
   }
  }
 ],
 "metadata": {
  "kernelspec": {
   "display_name": "Python 3",
   "language": "python",
   "name": "python3"
  },
  "language_info": {
   "codemirror_mode": {
    "name": "ipython",
    "version": 2
   },
   "file_extension": ".py",
   "mimetype": "text/x-python",
   "name": "python",
   "nbconvert_exporter": "python",
   "pygments_lexer": "ipython2",
   "version": "2.7.6"
  }
 },
 "nbformat": 4,
 "nbformat_minor": 0
}
