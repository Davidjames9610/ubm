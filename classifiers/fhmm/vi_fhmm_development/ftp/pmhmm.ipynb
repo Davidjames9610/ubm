{
 "cells": [
  {
   "cell_type": "code",
   "execution_count": 3,
   "metadata": {
    "collapsed": true
   },
   "outputs": [],
   "source": [
    "\n",
    "import numpy as np\n",
    "from scipy.io import loadmat\n"
   ]
  },
  {
   "cell_type": "code",
   "execution_count": 6,
   "outputs": [],
   "source": [
    "# def pmhmm(X, T, M=2, K=4, cyc=100, tol=0.0001, iters=10):\n",
    "\n",
    "X = loadmat('X.mat')['X']\n",
    "test = loadmat('test.mat')\n",
    "\n",
    "M=2\n",
    "K=4\n",
    "cyc=100\n",
    "tol=0.0001\n",
    "iters=10\n",
    "\n",
    "p = X.shape[1]\n",
    "N = X.shape[0]\n",
    "T = N\n",
    "N = N/T\n",
    "\n",
    "tiny = test['tiny']\n",
    "Cov = test['Cov']\n",
    "XX = test['XX']\n",
    "Xalt = test['Xalt']\n",
    "\n",
    "Pi = loadmat('vars.mat')['Pi']\n",
    "P = loadmat('vars.mat')['P']\n",
    "Mu = loadmat('vars.mat')['Mu']\n",
    "\n",
    "gamma = test['gamma']\n",
    "k1 = test['k1'] #(dot(2, pi)) ** (- p / 2)\n",
    "mf = test['mf'] #ones(dot(N, T), dot(M, K)) / K\n",
    "h = test['h']\n",
    "# ones(dot(N, T), dot(M, K)) / K\n",
    "# alpha = zeros(dot(N, T), dot(M, K))\n",
    "# beta = zeros(dot(N, T), dot(M, K))\n",
    "# logmf = log(mf)\n",
    "# exph = exp(h)\n",
    "\n",
    "\n"
   ],
   "metadata": {
    "collapsed": false
   }
  },
  {
   "cell_type": "code",
   "execution_count": null,
   "outputs": [],
   "source": [],
   "metadata": {
    "collapsed": false
   }
  }
 ],
 "metadata": {
  "kernelspec": {
   "display_name": "Python 3",
   "language": "python",
   "name": "python3"
  },
  "language_info": {
   "codemirror_mode": {
    "name": "ipython",
    "version": 2
   },
   "file_extension": ".py",
   "mimetype": "text/x-python",
   "name": "python",
   "nbconvert_exporter": "python",
   "pygments_lexer": "ipython2",
   "version": "2.7.6"
  }
 },
 "nbformat": 4,
 "nbformat_minor": 0
}
