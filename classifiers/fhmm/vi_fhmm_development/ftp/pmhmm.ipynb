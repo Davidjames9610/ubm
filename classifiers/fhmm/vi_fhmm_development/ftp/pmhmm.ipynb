{
 "cells": [
  {
   "cell_type": "code",
   "execution_count": 2,
   "metadata": {
    "collapsed": true
   },
   "outputs": [],
   "source": [
    "\n",
    "import numpy as np\n",
    "from scipy.io import loadmat\n"
   ]
  },
  {
   "cell_type": "code",
   "execution_count": 54,
   "outputs": [],
   "source": [
    "# def pmhmm(X, T, M=2, K=4, cyc=100, tol=0.0001, iters=10):\n",
    "\n",
    "X = loadmat('X.mat')['X']\n",
    "test = loadmat('test.mat')\n",
    "\n",
    "M=2\n",
    "K=2\n",
    "cyc=100\n",
    "tol=0.0001\n",
    "iters=10\n",
    "\n",
    "p = X.shape[1]\n",
    "N = X.shape[0]\n",
    "T = N\n",
    "N = int(N/T)\n",
    "\n",
    "tiny = test['tiny']\n",
    "Cov = test['Cov']\n",
    "XX = test['XX']\n",
    "Xalt = test['Xalt']\n",
    "\n",
    "Pi = loadmat('vars.mat')['Pi']\n",
    "P = loadmat('vars.mat')['P']\n",
    "Mu = loadmat('vars.mat')['Mu']\n",
    "\n",
    "\n",
    "k1 = test['k1'] #(dot(2, pi)) ** (- p / 2)\n",
    "mf = np.ones((N*T,M*K)) / K\n",
    "h = np.ones((N*T,M*K)) / K\n",
    "alpha = np.zeros((N*T,M*K))\n",
    "beta = np.zeros((N*T,M*K))\n",
    "logmf = np.log(mf)\n",
    "exph = np.exp(h)\n"
   ],
   "metadata": {
    "collapsed": false
   }
  },
  {
   "cell_type": "code",
   "execution_count": 55,
   "outputs": [],
   "source": [
    "# for cycle in cyc:\n",
    "cycle = 0\n",
    "gamma = np.zeros((N*T,M*K))\n",
    "Eta = np.zeros((M*K,M*K))\n",
    "Xi = np.zeros((M*K, K))\n",
    "iCov = np.linalg.inv(Cov)\n",
    "k2 = k1 / np.sqrt(np.linalg.det(Cov))\n",
    "\n",
    "itermf = iters\n",
    "\n",
    "# for l in iters:\n",
    "l = 0\n",
    "\n",
    "mfo = np.copy(mf)\n",
    "logmfo = np.copy(logmf)\n",
    "\n",
    "# for i in T:\n",
    "i = 0\n",
    "d2 = i\n",
    "d = Xalt[d2, :]\n",
    "yhat = np.dot(mf[d2, :], Mu)\n",
    "# for j in M:\n",
    "j = 0\n",
    "d1 = np.arange(i*K, i*K + K)\n",
    "Muj = Mu[d1, :]\n",
    "\n",
    "# h[d2, d1] = np.dot(np.dot(Muj, iCov), (d - yhat).T)\n",
    "# + np.dot(np.dot(np.dot(Muj, iCov), Muj.T), mf(d2, d1).T)\n",
    "h[d1,d2] = Muj @ iCov @ (d-yhat).T + Muj @ iCov @ Muj.T @ mf[d2, d1].T- 0.5 * np.diag(Muj @ iCov @ Muj.T)\n",
    "h[d1,d2] = h[d1,d2] - max(h[d1,d2])*np.ones((1,K))\n",
    "\n",
    "\t    # h(d2,d1)=(Muj*iCov*(d-yhat)'+Muj*iCov*Muj'*mf(d2,d1)' ...\n",
    "\t    #     - 0.5*diag(Muj*iCov*Muj')*ones(1,N))';\n",
    "    #     h[d2, d1] = (\n",
    "    #                 dot(dot(Muj, iCov), (d - yhat).T) + dot(dot(dot\n",
    "\n"
   ],
   "metadata": {
    "collapsed": false
   }
  },
  {
   "cell_type": "code",
   "execution_count": 20,
   "outputs": [
    {
     "data": {
      "text/plain": "True"
     },
     "execution_count": 20,
     "metadata": {},
     "output_type": "execute_result"
    }
   ],
   "source": [
    "np.allclose(iCov, test['iCov'])"
   ],
   "metadata": {
    "collapsed": false
   }
  },
  {
   "cell_type": "code",
   "execution_count": null,
   "outputs": [],
   "source": [],
   "metadata": {
    "collapsed": false
   }
  }
 ],
 "metadata": {
  "kernelspec": {
   "display_name": "Python 3",
   "language": "python",
   "name": "python3"
  },
  "language_info": {
   "codemirror_mode": {
    "name": "ipython",
    "version": 2
   },
   "file_extension": ".py",
   "mimetype": "text/x-python",
   "name": "python",
   "nbconvert_exporter": "python",
   "pygments_lexer": "ipython2",
   "version": "2.7.6"
  }
 },
 "nbformat": 4,
 "nbformat_minor": 0
}
