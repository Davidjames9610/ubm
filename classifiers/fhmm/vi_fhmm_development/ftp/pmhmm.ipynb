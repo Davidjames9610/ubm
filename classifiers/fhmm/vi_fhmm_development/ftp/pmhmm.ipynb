{
 "cells": [
  {
   "cell_type": "code",
   "execution_count": 1,
   "metadata": {
    "collapsed": true
   },
   "outputs": [],
   "source": [
    "\n",
    "import numpy as np\n",
    "from scipy.io import loadmat\n",
    "from helper_functions import *\n"
   ]
  },
  {
   "cell_type": "code",
   "execution_count": 2,
   "outputs": [],
   "source": [
    "# def pmhmm(X, T, M=2, K=4, cyc=100, tol=0.0001, iters=10):\n",
    "\n",
    "X = loadmat('X.mat')['X']\n",
    "test = loadmat('test.mat')\n",
    "\n",
    "M=2\n",
    "K=2\n",
    "cyc=100\n",
    "tol=0.0001\n",
    "iters=10\n",
    "\n",
    "p = X.shape[1]\n",
    "T = X.shape[0]\n",
    "\n",
    "tiny = test['tiny']\n",
    "Cov = test['Cov']\n",
    "XX = test['XX']\n",
    "Xalt = test['Xalt']\n",
    "\n",
    "Pi = loadmat('vars.mat')['Pi']\n",
    "P = loadmat('vars.mat')['P']\n",
    "Mu = loadmat('vars.mat')['Mu']\n",
    "\n",
    "\n",
    "LL = []\n",
    "lik = 0\n",
    "likbase = 0\n",
    "\n",
    "k1 = test['k1'] #(dot(2, pi)) ** (- p / 2)\n",
    "mf = np.ones((T,M*K)) / K\n",
    "\n",
    "alpha = np.zeros((T,M*K))\n",
    "beta = np.zeros((T,M*K))\n",
    "logmf = np.log(mf)\n",
    "h = np.ones((T,M*K)) / K\n",
    "exph = np.exp(h)\n"
   ],
   "metadata": {
    "collapsed": false
   }
  },
  {
   "cell_type": "code",
   "execution_count": 2,
   "outputs": [],
   "source": [
    "for cycle in range(cyc):\n",
    "\n",
    "    gamma = np.zeros((T,M*K))\n",
    "    Eta = np.zeros((M*K,M*K))\n",
    "    Xi = np.zeros((M*K, K))\n",
    "    iCov = np.linalg.inv(Cov)\n",
    "    k2 = k1 / np.sqrt(np.linalg.det(Cov))\n",
    "\n",
    "    itermf = iters\n",
    "\n",
    "    for l in range(iters):\n",
    "\n",
    "        mfo = np.copy(mf)\n",
    "        logmfo = np.copy(logmf)\n",
    "\n",
    "        # compute h based on mf\n",
    "\n",
    "        for i in range(T):\n",
    "            d2 = i\n",
    "            d = Xalt[d2, :]\n",
    "            yhat = np.dot(mf[d2, :], Mu)\n",
    "            for j in range(M):\n",
    "                d1 = np.arange(j*K, j*K + K)\n",
    "                Muj = Mu[d1, :]\n",
    "                h[d2, d1] = Muj @ iCov @ (d-yhat).T + Muj @ iCov @ Muj.T @ mf[d2, d1].T - 0.5 * np.diag(Muj @ iCov @ Muj.T)\n",
    "                h[d2, d1] = h[d2, d1] - max(h[d2, d1])*np.ones((1,K))\n",
    "        exph = np.exp(h)\n",
    "\n",
    "        # compute mf based on h using BW (EM)\n",
    "\n",
    "        scale = np.zeros((T, M))\n",
    "\n",
    "        for j in range(M):\n",
    "\n",
    "            # alpha\n",
    "            d1 = np.arange(j*K, j*K + K)\n",
    "            d2 = 0\n",
    "            alpha[d2, d1] = exph[d2,d1] * Pi[:,j].T\n",
    "            scale[d2, j] = np.sum(alpha[d2,d1], axis=0) + tiny\n",
    "            alpha[d2, d1] = alpha[d2,d1] / scale[d2,j]\n",
    "            for i in range(1,T):\n",
    "                d2 = i\n",
    "                alpha[d2,d1] = alpha[d2-1, d1]@P[d1, :]*exph[d2,d1]\n",
    "                scale[d2, j] = np.sum(alpha[d2,d1], axis=0) + tiny\n",
    "                alpha[d2, d1] = alpha[d2,d1] / scale[d2,j]\n",
    "\n",
    "            # beta\n",
    "            d2=T-1\n",
    "            beta[d2,d1] = np.ones((1, K)) / scale[d2, j]\n",
    "            for i in range(T - 2, -1, -1):\n",
    "                d2 = i\n",
    "                beta[d2,d1] = beta[d2 + 1,d1] * exph[d2 + 1,d1] @ P[d1, :].T\n",
    "                beta[d2,d1] = beta[d2,d1] / scale[d2, j]\n",
    "\n",
    "            # mf\n",
    "            mf[:, d1] = alpha[:,d1] * beta[:,d1]\n",
    "            mf[:,d1] = np.divide(mf[:,d1], (np.ones((2, 1)) * np.sum(mf[:,d1], axis=1) + tiny).T)\n",
    "\n",
    "        mf = np.where(mf<tiny, tiny, mf)\n",
    "        logmf = np.log(mf)\n",
    "        delmf = np.sum(mf*logmf)-np.sum(mf*logmfo)\n",
    "        if delmf < T*1e-6:\n",
    "            itermf = l\n",
    "            break\n",
    "\n",
    "    oldlik = lik\n",
    "    lik = calc_mf_like(Xalt, T, mf, M, K, Mu, Cov, P, Pi)\n",
    "    LL.append(lik)\n",
    "\n",
    "    print('cycle: ', cycle,', mf iters: ', itermf,' loglike: ', lik)\n",
    "\n",
    "    if cycle <= 1:\n",
    "        likbase = lik\n",
    "    elif lik-likbase < 1+tol * oldlik-likbase:\n",
    "        print('cycle break', cycle)\n",
    "        break\n"
   ],
   "metadata": {
    "collapsed": false
   }
  },
  {
   "cell_type": "code",
   "execution_count": 21,
   "outputs": [],
   "source": [],
   "metadata": {
    "collapsed": false
   }
  },
  {
   "cell_type": "code",
   "execution_count": 52,
   "outputs": [
    {
     "data": {
      "text/plain": "array([[9.85967654e-305, 1.00000000e+000, 2.00000000e+000]])"
     },
     "execution_count": 52,
     "metadata": {},
     "output_type": "execute_result"
    }
   ],
   "source": [
    "test = [0,1,2]\n",
    "np.where(test<tiny, tiny, test)"
   ],
   "metadata": {
    "collapsed": false
   }
  },
  {
   "cell_type": "code",
   "execution_count": 32,
   "outputs": [],
   "source": [
    "\n",
    "test = np.array([int(x) for x in bin(1)[2:]])\n",
    "if len(test) < K:\n",
    "    zeros = np.zeros((K-len(test)))"
   ],
   "metadata": {
    "collapsed": false
   }
  },
  {
   "cell_type": "code",
   "execution_count": 6,
   "outputs": [],
   "source": [
    "# (np.ones((2, 1)) * np.sum(mf[:,d1], axis=1) + tiny).T"
   ],
   "metadata": {
    "collapsed": false
   }
  },
  {
   "cell_type": "code",
   "execution_count": 7,
   "outputs": [],
   "source": [
    "# np.allclose(iCov, test['iCov'])"
   ],
   "metadata": {
    "collapsed": false
   }
  }
 ],
 "metadata": {
  "kernelspec": {
   "display_name": "Python 3",
   "language": "python",
   "name": "python3"
  },
  "language_info": {
   "codemirror_mode": {
    "name": "ipython",
    "version": 2
   },
   "file_extension": ".py",
   "mimetype": "text/x-python",
   "name": "python",
   "nbconvert_exporter": "python",
   "pygments_lexer": "ipython2",
   "version": "2.7.6"
  }
 },
 "nbformat": 4,
 "nbformat_minor": 0
}
