{
 "cells": [
  {
   "cell_type": "code",
   "execution_count": 1,
   "metadata": {
    "collapsed": true
   },
   "outputs": [
    {
     "name": "stdout",
     "output_type": "stream",
     "text": [
      "['/Users/david/Documents/mastersCode/ubm/classifiers/hmm-nn-hybrids/dnnhmm/development', '/Users/david/.conda/envs/ubm/lib/python310.zip', '/Users/david/.conda/envs/ubm/lib/python3.10', '/Users/david/.conda/envs/ubm/lib/python3.10/lib-dynload', '', '/Users/david/.conda/envs/ubm/lib/python3.10/site-packages', '/Users/david/Documents/mastersCode/ubm']\n"
     ]
    }
   ],
   "source": [
    "# aim: runn dnn hmm hybrid using previous code, then can condense into normal classifier structure\n",
    "\n",
    "# get data:\n",
    "\n",
    "import sys\n",
    "sys.path.append(\"/Users/david/Documents/mastersCode/ubm\")\n",
    "print(sys.path)"
   ]
  },
  {
   "cell_type": "code",
   "execution_count": 2,
   "outputs": [
    {
     "ename": "URLError",
     "evalue": "<urlopen error [Errno 8] nodename nor servname provided, or not known>",
     "output_type": "error",
     "traceback": [
      "\u001B[0;31m---------------------------------------------------------------------------\u001B[0m",
      "\u001B[0;31mgaierror\u001B[0m                                  Traceback (most recent call last)",
      "File \u001B[0;32m~/.conda/envs/ubm/lib/python3.10/urllib/request.py:1348\u001B[0m, in \u001B[0;36mAbstractHTTPHandler.do_open\u001B[0;34m(self, http_class, req, **http_conn_args)\u001B[0m\n\u001B[1;32m   1347\u001B[0m \u001B[38;5;28;01mtry\u001B[39;00m:\n\u001B[0;32m-> 1348\u001B[0m     \u001B[43mh\u001B[49m\u001B[38;5;241;43m.\u001B[39;49m\u001B[43mrequest\u001B[49m\u001B[43m(\u001B[49m\u001B[43mreq\u001B[49m\u001B[38;5;241;43m.\u001B[39;49m\u001B[43mget_method\u001B[49m\u001B[43m(\u001B[49m\u001B[43m)\u001B[49m\u001B[43m,\u001B[49m\u001B[43m \u001B[49m\u001B[43mreq\u001B[49m\u001B[38;5;241;43m.\u001B[39;49m\u001B[43mselector\u001B[49m\u001B[43m,\u001B[49m\u001B[43m \u001B[49m\u001B[43mreq\u001B[49m\u001B[38;5;241;43m.\u001B[39;49m\u001B[43mdata\u001B[49m\u001B[43m,\u001B[49m\u001B[43m \u001B[49m\u001B[43mheaders\u001B[49m\u001B[43m,\u001B[49m\n\u001B[1;32m   1349\u001B[0m \u001B[43m              \u001B[49m\u001B[43mencode_chunked\u001B[49m\u001B[38;5;241;43m=\u001B[39;49m\u001B[43mreq\u001B[49m\u001B[38;5;241;43m.\u001B[39;49m\u001B[43mhas_header\u001B[49m\u001B[43m(\u001B[49m\u001B[38;5;124;43m'\u001B[39;49m\u001B[38;5;124;43mTransfer-encoding\u001B[39;49m\u001B[38;5;124;43m'\u001B[39;49m\u001B[43m)\u001B[49m\u001B[43m)\u001B[49m\n\u001B[1;32m   1350\u001B[0m \u001B[38;5;28;01mexcept\u001B[39;00m \u001B[38;5;167;01mOSError\u001B[39;00m \u001B[38;5;28;01mas\u001B[39;00m err: \u001B[38;5;66;03m# timeout error\u001B[39;00m\n",
      "File \u001B[0;32m~/.conda/envs/ubm/lib/python3.10/http/client.py:1282\u001B[0m, in \u001B[0;36mHTTPConnection.request\u001B[0;34m(self, method, url, body, headers, encode_chunked)\u001B[0m\n\u001B[1;32m   1281\u001B[0m \u001B[38;5;124;03m\"\"\"Send a complete request to the server.\"\"\"\u001B[39;00m\n\u001B[0;32m-> 1282\u001B[0m \u001B[38;5;28;43mself\u001B[39;49m\u001B[38;5;241;43m.\u001B[39;49m\u001B[43m_send_request\u001B[49m\u001B[43m(\u001B[49m\u001B[43mmethod\u001B[49m\u001B[43m,\u001B[49m\u001B[43m \u001B[49m\u001B[43murl\u001B[49m\u001B[43m,\u001B[49m\u001B[43m \u001B[49m\u001B[43mbody\u001B[49m\u001B[43m,\u001B[49m\u001B[43m \u001B[49m\u001B[43mheaders\u001B[49m\u001B[43m,\u001B[49m\u001B[43m \u001B[49m\u001B[43mencode_chunked\u001B[49m\u001B[43m)\u001B[49m\n",
      "File \u001B[0;32m~/.conda/envs/ubm/lib/python3.10/http/client.py:1328\u001B[0m, in \u001B[0;36mHTTPConnection._send_request\u001B[0;34m(self, method, url, body, headers, encode_chunked)\u001B[0m\n\u001B[1;32m   1327\u001B[0m     body \u001B[38;5;241m=\u001B[39m _encode(body, \u001B[38;5;124m'\u001B[39m\u001B[38;5;124mbody\u001B[39m\u001B[38;5;124m'\u001B[39m)\n\u001B[0;32m-> 1328\u001B[0m \u001B[38;5;28;43mself\u001B[39;49m\u001B[38;5;241;43m.\u001B[39;49m\u001B[43mendheaders\u001B[49m\u001B[43m(\u001B[49m\u001B[43mbody\u001B[49m\u001B[43m,\u001B[49m\u001B[43m \u001B[49m\u001B[43mencode_chunked\u001B[49m\u001B[38;5;241;43m=\u001B[39;49m\u001B[43mencode_chunked\u001B[49m\u001B[43m)\u001B[49m\n",
      "File \u001B[0;32m~/.conda/envs/ubm/lib/python3.10/http/client.py:1277\u001B[0m, in \u001B[0;36mHTTPConnection.endheaders\u001B[0;34m(self, message_body, encode_chunked)\u001B[0m\n\u001B[1;32m   1276\u001B[0m     \u001B[38;5;28;01mraise\u001B[39;00m CannotSendHeader()\n\u001B[0;32m-> 1277\u001B[0m \u001B[38;5;28;43mself\u001B[39;49m\u001B[38;5;241;43m.\u001B[39;49m\u001B[43m_send_output\u001B[49m\u001B[43m(\u001B[49m\u001B[43mmessage_body\u001B[49m\u001B[43m,\u001B[49m\u001B[43m \u001B[49m\u001B[43mencode_chunked\u001B[49m\u001B[38;5;241;43m=\u001B[39;49m\u001B[43mencode_chunked\u001B[49m\u001B[43m)\u001B[49m\n",
      "File \u001B[0;32m~/.conda/envs/ubm/lib/python3.10/http/client.py:1037\u001B[0m, in \u001B[0;36mHTTPConnection._send_output\u001B[0;34m(self, message_body, encode_chunked)\u001B[0m\n\u001B[1;32m   1036\u001B[0m \u001B[38;5;28;01mdel\u001B[39;00m \u001B[38;5;28mself\u001B[39m\u001B[38;5;241m.\u001B[39m_buffer[:]\n\u001B[0;32m-> 1037\u001B[0m \u001B[38;5;28;43mself\u001B[39;49m\u001B[38;5;241;43m.\u001B[39;49m\u001B[43msend\u001B[49m\u001B[43m(\u001B[49m\u001B[43mmsg\u001B[49m\u001B[43m)\u001B[49m\n\u001B[1;32m   1039\u001B[0m \u001B[38;5;28;01mif\u001B[39;00m message_body \u001B[38;5;129;01mis\u001B[39;00m \u001B[38;5;129;01mnot\u001B[39;00m \u001B[38;5;28;01mNone\u001B[39;00m:\n\u001B[1;32m   1040\u001B[0m \n\u001B[1;32m   1041\u001B[0m     \u001B[38;5;66;03m# create a consistent interface to message_body\u001B[39;00m\n",
      "File \u001B[0;32m~/.conda/envs/ubm/lib/python3.10/http/client.py:975\u001B[0m, in \u001B[0;36mHTTPConnection.send\u001B[0;34m(self, data)\u001B[0m\n\u001B[1;32m    974\u001B[0m \u001B[38;5;28;01mif\u001B[39;00m \u001B[38;5;28mself\u001B[39m\u001B[38;5;241m.\u001B[39mauto_open:\n\u001B[0;32m--> 975\u001B[0m     \u001B[38;5;28;43mself\u001B[39;49m\u001B[38;5;241;43m.\u001B[39;49m\u001B[43mconnect\u001B[49m\u001B[43m(\u001B[49m\u001B[43m)\u001B[49m\n\u001B[1;32m    976\u001B[0m \u001B[38;5;28;01melse\u001B[39;00m:\n",
      "File \u001B[0;32m~/.conda/envs/ubm/lib/python3.10/http/client.py:1447\u001B[0m, in \u001B[0;36mHTTPSConnection.connect\u001B[0;34m(self)\u001B[0m\n\u001B[1;32m   1445\u001B[0m \u001B[38;5;124m\"\u001B[39m\u001B[38;5;124mConnect to a host on a given (SSL) port.\u001B[39m\u001B[38;5;124m\"\u001B[39m\n\u001B[0;32m-> 1447\u001B[0m \u001B[38;5;28;43msuper\u001B[39;49m\u001B[43m(\u001B[49m\u001B[43m)\u001B[49m\u001B[38;5;241;43m.\u001B[39;49m\u001B[43mconnect\u001B[49m\u001B[43m(\u001B[49m\u001B[43m)\u001B[49m\n\u001B[1;32m   1449\u001B[0m \u001B[38;5;28;01mif\u001B[39;00m \u001B[38;5;28mself\u001B[39m\u001B[38;5;241m.\u001B[39m_tunnel_host:\n",
      "File \u001B[0;32m~/.conda/envs/ubm/lib/python3.10/http/client.py:941\u001B[0m, in \u001B[0;36mHTTPConnection.connect\u001B[0;34m(self)\u001B[0m\n\u001B[1;32m    940\u001B[0m sys\u001B[38;5;241m.\u001B[39maudit(\u001B[38;5;124m\"\u001B[39m\u001B[38;5;124mhttp.client.connect\u001B[39m\u001B[38;5;124m\"\u001B[39m, \u001B[38;5;28mself\u001B[39m, \u001B[38;5;28mself\u001B[39m\u001B[38;5;241m.\u001B[39mhost, \u001B[38;5;28mself\u001B[39m\u001B[38;5;241m.\u001B[39mport)\n\u001B[0;32m--> 941\u001B[0m \u001B[38;5;28mself\u001B[39m\u001B[38;5;241m.\u001B[39msock \u001B[38;5;241m=\u001B[39m \u001B[38;5;28;43mself\u001B[39;49m\u001B[38;5;241;43m.\u001B[39;49m\u001B[43m_create_connection\u001B[49m\u001B[43m(\u001B[49m\n\u001B[1;32m    942\u001B[0m \u001B[43m    \u001B[49m\u001B[43m(\u001B[49m\u001B[38;5;28;43mself\u001B[39;49m\u001B[38;5;241;43m.\u001B[39;49m\u001B[43mhost\u001B[49m\u001B[43m,\u001B[49m\u001B[38;5;28;43mself\u001B[39;49m\u001B[38;5;241;43m.\u001B[39;49m\u001B[43mport\u001B[49m\u001B[43m)\u001B[49m\u001B[43m,\u001B[49m\u001B[43m \u001B[49m\u001B[38;5;28;43mself\u001B[39;49m\u001B[38;5;241;43m.\u001B[39;49m\u001B[43mtimeout\u001B[49m\u001B[43m,\u001B[49m\u001B[43m \u001B[49m\u001B[38;5;28;43mself\u001B[39;49m\u001B[38;5;241;43m.\u001B[39;49m\u001B[43msource_address\u001B[49m\u001B[43m)\u001B[49m\n\u001B[1;32m    943\u001B[0m \u001B[38;5;66;03m# Might fail in OSs that don't implement TCP_NODELAY\u001B[39;00m\n",
      "File \u001B[0;32m~/.conda/envs/ubm/lib/python3.10/socket.py:824\u001B[0m, in \u001B[0;36mcreate_connection\u001B[0;34m(address, timeout, source_address)\u001B[0m\n\u001B[1;32m    823\u001B[0m err \u001B[38;5;241m=\u001B[39m \u001B[38;5;28;01mNone\u001B[39;00m\n\u001B[0;32m--> 824\u001B[0m \u001B[38;5;28;01mfor\u001B[39;00m res \u001B[38;5;129;01min\u001B[39;00m \u001B[43mgetaddrinfo\u001B[49m\u001B[43m(\u001B[49m\u001B[43mhost\u001B[49m\u001B[43m,\u001B[49m\u001B[43m \u001B[49m\u001B[43mport\u001B[49m\u001B[43m,\u001B[49m\u001B[43m \u001B[49m\u001B[38;5;241;43m0\u001B[39;49m\u001B[43m,\u001B[49m\u001B[43m \u001B[49m\u001B[43mSOCK_STREAM\u001B[49m\u001B[43m)\u001B[49m:\n\u001B[1;32m    825\u001B[0m     af, socktype, proto, canonname, sa \u001B[38;5;241m=\u001B[39m res\n",
      "File \u001B[0;32m~/.conda/envs/ubm/lib/python3.10/socket.py:955\u001B[0m, in \u001B[0;36mgetaddrinfo\u001B[0;34m(host, port, family, type, proto, flags)\u001B[0m\n\u001B[1;32m    954\u001B[0m addrlist \u001B[38;5;241m=\u001B[39m []\n\u001B[0;32m--> 955\u001B[0m \u001B[38;5;28;01mfor\u001B[39;00m res \u001B[38;5;129;01min\u001B[39;00m \u001B[43m_socket\u001B[49m\u001B[38;5;241;43m.\u001B[39;49m\u001B[43mgetaddrinfo\u001B[49m\u001B[43m(\u001B[49m\u001B[43mhost\u001B[49m\u001B[43m,\u001B[49m\u001B[43m \u001B[49m\u001B[43mport\u001B[49m\u001B[43m,\u001B[49m\u001B[43m \u001B[49m\u001B[43mfamily\u001B[49m\u001B[43m,\u001B[49m\u001B[43m \u001B[49m\u001B[38;5;28;43mtype\u001B[39;49m\u001B[43m,\u001B[49m\u001B[43m \u001B[49m\u001B[43mproto\u001B[49m\u001B[43m,\u001B[49m\u001B[43m \u001B[49m\u001B[43mflags\u001B[49m\u001B[43m)\u001B[49m:\n\u001B[1;32m    956\u001B[0m     af, socktype, proto, canonname, sa \u001B[38;5;241m=\u001B[39m res\n",
      "\u001B[0;31mgaierror\u001B[0m: [Errno 8] nodename nor servname provided, or not known",
      "\nDuring handling of the above exception, another exception occurred:\n",
      "\u001B[0;31mURLError\u001B[0m                                  Traceback (most recent call last)",
      "Cell \u001B[0;32mIn[2], line 3\u001B[0m\n\u001B[1;32m      1\u001B[0m \u001B[38;5;66;03m# test for gmm-ubm on whale calls\u001B[39;00m\n\u001B[1;32m      2\u001B[0m \u001B[38;5;28;01mfrom\u001B[39;00m \u001B[38;5;21;01mimportlib\u001B[39;00m \u001B[38;5;28;01mimport\u001B[39;00m reload\n\u001B[0;32m----> 3\u001B[0m \u001B[38;5;28;01mimport\u001B[39;00m \u001B[38;5;21;01maudio_datastore\u001B[39;00m\u001B[38;5;21;01m.\u001B[39;00m\u001B[38;5;21;01maudio_datastore\u001B[39;00m \u001B[38;5;28;01mas\u001B[39;00m \u001B[38;5;21;01mmyads\u001B[39;00m\n\u001B[1;32m      4\u001B[0m reload(myads)\n\u001B[1;32m      5\u001B[0m \u001B[38;5;28;01mfrom\u001B[39;00m \u001B[38;5;21;01mcollections\u001B[39;00m \u001B[38;5;28;01mimport\u001B[39;00m Counter\n",
      "File \u001B[0;32m~/Documents/mastersCode/ubm/audio_datastore/audio_datastore.py:14\u001B[0m\n\u001B[1;32m      9\u001B[0m \u001B[38;5;28;01mimport\u001B[39;00m \u001B[38;5;21;01mrandom\u001B[39;00m\n\u001B[1;32m     11\u001B[0m \u001B[38;5;28;01mimport\u001B[39;00m \u001B[38;5;21;01mutils\u001B[39;00m\n\u001B[0;32m---> 14\u001B[0m \u001B[38;5;28;01mclass\u001B[39;00m \u001B[38;5;21;01mAudioDatastore\u001B[39;00m:\n\u001B[1;32m     15\u001B[0m     \u001B[38;5;28;01mdef\u001B[39;00m \u001B[38;5;21m__init__\u001B[39m(\u001B[38;5;28mself\u001B[39m, folders\u001B[38;5;241m=\u001B[39m\u001B[38;5;28;01mNone\u001B[39;00m, files\u001B[38;5;241m=\u001B[39m\u001B[38;5;28;01mNone\u001B[39;00m, labels\u001B[38;5;241m=\u001B[39m\u001B[38;5;28;01mNone\u001B[39;00m, data\u001B[38;5;241m=\u001B[39m\u001B[38;5;28;01mNone\u001B[39;00m, ads_type\u001B[38;5;241m=\u001B[39m\u001B[38;5;124m'\u001B[39m\u001B[38;5;124mfiles\u001B[39m\u001B[38;5;124m'\u001B[39m, average_power\u001B[38;5;241m=\u001B[39m\u001B[38;5;28;01mNone\u001B[39;00m):\n\u001B[1;32m     16\u001B[0m         \u001B[38;5;28mself\u001B[39m\u001B[38;5;241m.\u001B[39mfolders \u001B[38;5;241m=\u001B[39m folders\n",
      "File \u001B[0;32m~/Documents/mastersCode/ubm/audio_datastore/audio_datastore.py:64\u001B[0m, in \u001B[0;36mAudioDatastore\u001B[0;34m()\u001B[0m\n\u001B[1;32m     61\u001B[0m     \u001B[38;5;28mprint\u001B[39m(Counter(\u001B[38;5;28mself\u001B[39m\u001B[38;5;241m.\u001B[39mlabels)\u001B[38;5;241m.\u001B[39mvalues())\n\u001B[1;32m     62\u001B[0m     \u001B[38;5;28mprint\u001B[39m(\u001B[38;5;124m'\u001B[39m\u001B[38;5;130;01m\\n\u001B[39;00m\u001B[38;5;124m'\u001B[39m)\n\u001B[0;32m---> 64\u001B[0m \u001B[38;5;28;01mdef\u001B[39;00m \u001B[38;5;21mget_average_power\u001B[39m(\u001B[38;5;28mself\u001B[39m, amount\u001B[38;5;241m=\u001B[39m\u001B[38;5;241m50\u001B[39m, process_method\u001B[38;5;241m=\u001B[39m\u001B[43mtorch_c\u001B[49m\u001B[38;5;241;43m.\u001B[39;49m\u001B[43mfile_to_numpy\u001B[49m\u001B[43m(\u001B[49m\u001B[43m)\u001B[49m):\n\u001B[1;32m     65\u001B[0m     data \u001B[38;5;241m=\u001B[39m \u001B[38;5;28mgetattr\u001B[39m(\u001B[38;5;28mself\u001B[39m, \u001B[38;5;28mself\u001B[39m\u001B[38;5;241m.\u001B[39mads_type)\n\u001B[1;32m     66\u001B[0m     random_samples \u001B[38;5;241m=\u001B[39m random\u001B[38;5;241m.\u001B[39msample(data, amount)\n",
      "File \u001B[0;32m~/Documents/mastersCode/ubm/my_torch/tuts2/combo_torch_transforms.py:21\u001B[0m, in \u001B[0;36mfile_to_numpy\u001B[0;34m()\u001B[0m\n\u001B[1;32m     17\u001B[0m \u001B[38;5;28;01mdef\u001B[39;00m \u001B[38;5;21mfile_to_numpy\u001B[39m():\n\u001B[1;32m     18\u001B[0m     \u001B[38;5;28;01mreturn\u001B[39;00m torch_t\u001B[38;5;241m.\u001B[39mComposeTransform([\n\u001B[1;32m     19\u001B[0m         torch_t\u001B[38;5;241m.\u001B[39mFileToTensor(),\n\u001B[1;32m     20\u001B[0m         torch_t\u001B[38;5;241m.\u001B[39mNormalizeSox(),\n\u001B[0;32m---> 21\u001B[0m         \u001B[43mtorch_t\u001B[49m\u001B[38;5;241;43m.\u001B[39;49m\u001B[43mSileroVad\u001B[49m\u001B[43m(\u001B[49m\u001B[43m)\u001B[49m,\n\u001B[1;32m     22\u001B[0m         torch_t\u001B[38;5;241m.\u001B[39mTensorToNumpy()\n\u001B[1;32m     23\u001B[0m     ])\n",
      "File \u001B[0;32m~/Documents/mastersCode/ubm/my_torch/tuts2/torch_transforms.py:157\u001B[0m, in \u001B[0;36mSileroVad.__init__\u001B[0;34m(self, sample_rate)\u001B[0m\n\u001B[1;32m    156\u001B[0m \u001B[38;5;28;01mdef\u001B[39;00m \u001B[38;5;21m__init__\u001B[39m(\u001B[38;5;28mself\u001B[39m, sample_rate\u001B[38;5;241m=\u001B[39mconfig\u001B[38;5;241m.\u001B[39mSAMPLING_RATE):\n\u001B[0;32m--> 157\u001B[0m     model, utils \u001B[38;5;241m=\u001B[39m \u001B[43mtorch\u001B[49m\u001B[38;5;241;43m.\u001B[39;49m\u001B[43mhub\u001B[49m\u001B[38;5;241;43m.\u001B[39;49m\u001B[43mload\u001B[49m\u001B[43m(\u001B[49m\u001B[43mrepo_or_dir\u001B[49m\u001B[38;5;241;43m=\u001B[39;49m\u001B[38;5;124;43m'\u001B[39;49m\u001B[38;5;124;43msnakers4/silero-vad\u001B[39;49m\u001B[38;5;124;43m'\u001B[39;49m\u001B[43m,\u001B[49m\n\u001B[1;32m    158\u001B[0m \u001B[43m                                  \u001B[49m\u001B[43mmodel\u001B[49m\u001B[38;5;241;43m=\u001B[39;49m\u001B[38;5;124;43m'\u001B[39;49m\u001B[38;5;124;43msilero_vad\u001B[39;49m\u001B[38;5;124;43m'\u001B[39;49m\u001B[43m,\u001B[49m\n\u001B[1;32m    159\u001B[0m \u001B[43m                                  \u001B[49m\u001B[43mforce_reload\u001B[49m\u001B[38;5;241;43m=\u001B[39;49m\u001B[38;5;28;43;01mFalse\u001B[39;49;00m\u001B[43m)\u001B[49m\n\u001B[1;32m    160\u001B[0m     (get_speech_timestamps,\n\u001B[1;32m    161\u001B[0m      save_audio,\n\u001B[1;32m    162\u001B[0m      read_audio,\n\u001B[1;32m    163\u001B[0m      VADIterator,\n\u001B[1;32m    164\u001B[0m      collect_chunks) \u001B[38;5;241m=\u001B[39m utils\n\u001B[1;32m    165\u001B[0m     \u001B[38;5;28mself\u001B[39m\u001B[38;5;241m.\u001B[39msample_rate \u001B[38;5;241m=\u001B[39m sample_rate\n",
      "File \u001B[0;32m~/.conda/envs/ubm/lib/python3.10/site-packages/torch/hub.py:539\u001B[0m, in \u001B[0;36mload\u001B[0;34m(repo_or_dir, model, source, trust_repo, force_reload, verbose, skip_validation, *args, **kwargs)\u001B[0m\n\u001B[1;32m    535\u001B[0m     \u001B[38;5;28;01mraise\u001B[39;00m \u001B[38;5;167;01mValueError\u001B[39;00m(\n\u001B[1;32m    536\u001B[0m         \u001B[38;5;124mf\u001B[39m\u001B[38;5;124m'\u001B[39m\u001B[38;5;124mUnknown source: \u001B[39m\u001B[38;5;124m\"\u001B[39m\u001B[38;5;132;01m{\u001B[39;00msource\u001B[38;5;132;01m}\u001B[39;00m\u001B[38;5;124m\"\u001B[39m\u001B[38;5;124m. Allowed values: \u001B[39m\u001B[38;5;124m\"\u001B[39m\u001B[38;5;124mgithub\u001B[39m\u001B[38;5;124m\"\u001B[39m\u001B[38;5;124m | \u001B[39m\u001B[38;5;124m\"\u001B[39m\u001B[38;5;124mlocal\u001B[39m\u001B[38;5;124m\"\u001B[39m\u001B[38;5;124m.\u001B[39m\u001B[38;5;124m'\u001B[39m)\n\u001B[1;32m    538\u001B[0m \u001B[38;5;28;01mif\u001B[39;00m source \u001B[38;5;241m==\u001B[39m \u001B[38;5;124m'\u001B[39m\u001B[38;5;124mgithub\u001B[39m\u001B[38;5;124m'\u001B[39m:\n\u001B[0;32m--> 539\u001B[0m     repo_or_dir \u001B[38;5;241m=\u001B[39m \u001B[43m_get_cache_or_reload\u001B[49m\u001B[43m(\u001B[49m\u001B[43mrepo_or_dir\u001B[49m\u001B[43m,\u001B[49m\u001B[43m \u001B[49m\u001B[43mforce_reload\u001B[49m\u001B[43m,\u001B[49m\u001B[43m \u001B[49m\u001B[43mtrust_repo\u001B[49m\u001B[43m,\u001B[49m\u001B[43m \u001B[49m\u001B[38;5;124;43m\"\u001B[39;49m\u001B[38;5;124;43mload\u001B[39;49m\u001B[38;5;124;43m\"\u001B[39;49m\u001B[43m,\u001B[49m\n\u001B[1;32m    540\u001B[0m \u001B[43m                                       \u001B[49m\u001B[43mverbose\u001B[49m\u001B[38;5;241;43m=\u001B[39;49m\u001B[43mverbose\u001B[49m\u001B[43m,\u001B[49m\u001B[43m \u001B[49m\u001B[43mskip_validation\u001B[49m\u001B[38;5;241;43m=\u001B[39;49m\u001B[43mskip_validation\u001B[49m\u001B[43m)\u001B[49m\n\u001B[1;32m    542\u001B[0m model \u001B[38;5;241m=\u001B[39m _load_local(repo_or_dir, model, \u001B[38;5;241m*\u001B[39margs, \u001B[38;5;241m*\u001B[39m\u001B[38;5;241m*\u001B[39mkwargs)\n\u001B[1;32m    543\u001B[0m \u001B[38;5;28;01mreturn\u001B[39;00m model\n",
      "File \u001B[0;32m~/.conda/envs/ubm/lib/python3.10/site-packages/torch/hub.py:180\u001B[0m, in \u001B[0;36m_get_cache_or_reload\u001B[0;34m(github, force_reload, trust_repo, calling_fn, verbose, skip_validation)\u001B[0m\n\u001B[1;32m    178\u001B[0m     os\u001B[38;5;241m.\u001B[39mmakedirs(hub_dir)\n\u001B[1;32m    179\u001B[0m \u001B[38;5;66;03m# Parse github repo information\u001B[39;00m\n\u001B[0;32m--> 180\u001B[0m repo_owner, repo_name, ref \u001B[38;5;241m=\u001B[39m \u001B[43m_parse_repo_info\u001B[49m\u001B[43m(\u001B[49m\u001B[43mgithub\u001B[49m\u001B[43m)\u001B[49m\n\u001B[1;32m    181\u001B[0m \u001B[38;5;66;03m# Github allows branch name with slash '/',\u001B[39;00m\n\u001B[1;32m    182\u001B[0m \u001B[38;5;66;03m# this causes confusion with path on both Linux and Windows.\u001B[39;00m\n\u001B[1;32m    183\u001B[0m \u001B[38;5;66;03m# Backslash is not allowed in Github branch name so no need to\u001B[39;00m\n\u001B[1;32m    184\u001B[0m \u001B[38;5;66;03m# to worry about it.\u001B[39;00m\n\u001B[1;32m    185\u001B[0m normalized_br \u001B[38;5;241m=\u001B[39m ref\u001B[38;5;241m.\u001B[39mreplace(\u001B[38;5;124m'\u001B[39m\u001B[38;5;124m/\u001B[39m\u001B[38;5;124m'\u001B[39m, \u001B[38;5;124m'\u001B[39m\u001B[38;5;124m_\u001B[39m\u001B[38;5;124m'\u001B[39m)\n",
      "File \u001B[0;32m~/.conda/envs/ubm/lib/python3.10/site-packages/torch/hub.py:134\u001B[0m, in \u001B[0;36m_parse_repo_info\u001B[0;34m(github)\u001B[0m\n\u001B[1;32m    129\u001B[0m \u001B[38;5;28;01mif\u001B[39;00m ref \u001B[38;5;129;01mis\u001B[39;00m \u001B[38;5;28;01mNone\u001B[39;00m:\n\u001B[1;32m    130\u001B[0m     \u001B[38;5;66;03m# The ref wasn't specified by the user, so we need to figure out the\u001B[39;00m\n\u001B[1;32m    131\u001B[0m     \u001B[38;5;66;03m# default branch: main or master. Our assumption is that if main exists\u001B[39;00m\n\u001B[1;32m    132\u001B[0m     \u001B[38;5;66;03m# then it's the default branch, otherwise it's master.\u001B[39;00m\n\u001B[1;32m    133\u001B[0m     \u001B[38;5;28;01mtry\u001B[39;00m:\n\u001B[0;32m--> 134\u001B[0m         \u001B[38;5;28;01mwith\u001B[39;00m \u001B[43murlopen\u001B[49m\u001B[43m(\u001B[49m\u001B[38;5;124;43mf\u001B[39;49m\u001B[38;5;124;43m\"\u001B[39;49m\u001B[38;5;124;43mhttps://github.com/\u001B[39;49m\u001B[38;5;132;43;01m{\u001B[39;49;00m\u001B[43mrepo_owner\u001B[49m\u001B[38;5;132;43;01m}\u001B[39;49;00m\u001B[38;5;124;43m/\u001B[39;49m\u001B[38;5;132;43;01m{\u001B[39;49;00m\u001B[43mrepo_name\u001B[49m\u001B[38;5;132;43;01m}\u001B[39;49;00m\u001B[38;5;124;43m/tree/main/\u001B[39;49m\u001B[38;5;124;43m\"\u001B[39;49m\u001B[43m)\u001B[49m:\n\u001B[1;32m    135\u001B[0m             ref \u001B[38;5;241m=\u001B[39m \u001B[38;5;124m'\u001B[39m\u001B[38;5;124mmain\u001B[39m\u001B[38;5;124m'\u001B[39m\n\u001B[1;32m    136\u001B[0m     \u001B[38;5;28;01mexcept\u001B[39;00m HTTPError \u001B[38;5;28;01mas\u001B[39;00m e:\n",
      "File \u001B[0;32m~/.conda/envs/ubm/lib/python3.10/urllib/request.py:216\u001B[0m, in \u001B[0;36murlopen\u001B[0;34m(url, data, timeout, cafile, capath, cadefault, context)\u001B[0m\n\u001B[1;32m    214\u001B[0m \u001B[38;5;28;01melse\u001B[39;00m:\n\u001B[1;32m    215\u001B[0m     opener \u001B[38;5;241m=\u001B[39m _opener\n\u001B[0;32m--> 216\u001B[0m \u001B[38;5;28;01mreturn\u001B[39;00m \u001B[43mopener\u001B[49m\u001B[38;5;241;43m.\u001B[39;49m\u001B[43mopen\u001B[49m\u001B[43m(\u001B[49m\u001B[43murl\u001B[49m\u001B[43m,\u001B[49m\u001B[43m \u001B[49m\u001B[43mdata\u001B[49m\u001B[43m,\u001B[49m\u001B[43m \u001B[49m\u001B[43mtimeout\u001B[49m\u001B[43m)\u001B[49m\n",
      "File \u001B[0;32m~/.conda/envs/ubm/lib/python3.10/urllib/request.py:519\u001B[0m, in \u001B[0;36mOpenerDirector.open\u001B[0;34m(self, fullurl, data, timeout)\u001B[0m\n\u001B[1;32m    516\u001B[0m     req \u001B[38;5;241m=\u001B[39m meth(req)\n\u001B[1;32m    518\u001B[0m sys\u001B[38;5;241m.\u001B[39maudit(\u001B[38;5;124m'\u001B[39m\u001B[38;5;124murllib.Request\u001B[39m\u001B[38;5;124m'\u001B[39m, req\u001B[38;5;241m.\u001B[39mfull_url, req\u001B[38;5;241m.\u001B[39mdata, req\u001B[38;5;241m.\u001B[39mheaders, req\u001B[38;5;241m.\u001B[39mget_method())\n\u001B[0;32m--> 519\u001B[0m response \u001B[38;5;241m=\u001B[39m \u001B[38;5;28;43mself\u001B[39;49m\u001B[38;5;241;43m.\u001B[39;49m\u001B[43m_open\u001B[49m\u001B[43m(\u001B[49m\u001B[43mreq\u001B[49m\u001B[43m,\u001B[49m\u001B[43m \u001B[49m\u001B[43mdata\u001B[49m\u001B[43m)\u001B[49m\n\u001B[1;32m    521\u001B[0m \u001B[38;5;66;03m# post-process response\u001B[39;00m\n\u001B[1;32m    522\u001B[0m meth_name \u001B[38;5;241m=\u001B[39m protocol\u001B[38;5;241m+\u001B[39m\u001B[38;5;124m\"\u001B[39m\u001B[38;5;124m_response\u001B[39m\u001B[38;5;124m\"\u001B[39m\n",
      "File \u001B[0;32m~/.conda/envs/ubm/lib/python3.10/urllib/request.py:536\u001B[0m, in \u001B[0;36mOpenerDirector._open\u001B[0;34m(self, req, data)\u001B[0m\n\u001B[1;32m    533\u001B[0m     \u001B[38;5;28;01mreturn\u001B[39;00m result\n\u001B[1;32m    535\u001B[0m protocol \u001B[38;5;241m=\u001B[39m req\u001B[38;5;241m.\u001B[39mtype\n\u001B[0;32m--> 536\u001B[0m result \u001B[38;5;241m=\u001B[39m \u001B[38;5;28;43mself\u001B[39;49m\u001B[38;5;241;43m.\u001B[39;49m\u001B[43m_call_chain\u001B[49m\u001B[43m(\u001B[49m\u001B[38;5;28;43mself\u001B[39;49m\u001B[38;5;241;43m.\u001B[39;49m\u001B[43mhandle_open\u001B[49m\u001B[43m,\u001B[49m\u001B[43m \u001B[49m\u001B[43mprotocol\u001B[49m\u001B[43m,\u001B[49m\u001B[43m \u001B[49m\u001B[43mprotocol\u001B[49m\u001B[43m \u001B[49m\u001B[38;5;241;43m+\u001B[39;49m\n\u001B[1;32m    537\u001B[0m \u001B[43m                          \u001B[49m\u001B[38;5;124;43m'\u001B[39;49m\u001B[38;5;124;43m_open\u001B[39;49m\u001B[38;5;124;43m'\u001B[39;49m\u001B[43m,\u001B[49m\u001B[43m \u001B[49m\u001B[43mreq\u001B[49m\u001B[43m)\u001B[49m\n\u001B[1;32m    538\u001B[0m \u001B[38;5;28;01mif\u001B[39;00m result:\n\u001B[1;32m    539\u001B[0m     \u001B[38;5;28;01mreturn\u001B[39;00m result\n",
      "File \u001B[0;32m~/.conda/envs/ubm/lib/python3.10/urllib/request.py:496\u001B[0m, in \u001B[0;36mOpenerDirector._call_chain\u001B[0;34m(self, chain, kind, meth_name, *args)\u001B[0m\n\u001B[1;32m    494\u001B[0m \u001B[38;5;28;01mfor\u001B[39;00m handler \u001B[38;5;129;01min\u001B[39;00m handlers:\n\u001B[1;32m    495\u001B[0m     func \u001B[38;5;241m=\u001B[39m \u001B[38;5;28mgetattr\u001B[39m(handler, meth_name)\n\u001B[0;32m--> 496\u001B[0m     result \u001B[38;5;241m=\u001B[39m \u001B[43mfunc\u001B[49m\u001B[43m(\u001B[49m\u001B[38;5;241;43m*\u001B[39;49m\u001B[43margs\u001B[49m\u001B[43m)\u001B[49m\n\u001B[1;32m    497\u001B[0m     \u001B[38;5;28;01mif\u001B[39;00m result \u001B[38;5;129;01mis\u001B[39;00m \u001B[38;5;129;01mnot\u001B[39;00m \u001B[38;5;28;01mNone\u001B[39;00m:\n\u001B[1;32m    498\u001B[0m         \u001B[38;5;28;01mreturn\u001B[39;00m result\n",
      "File \u001B[0;32m~/.conda/envs/ubm/lib/python3.10/urllib/request.py:1391\u001B[0m, in \u001B[0;36mHTTPSHandler.https_open\u001B[0;34m(self, req)\u001B[0m\n\u001B[1;32m   1390\u001B[0m \u001B[38;5;28;01mdef\u001B[39;00m \u001B[38;5;21mhttps_open\u001B[39m(\u001B[38;5;28mself\u001B[39m, req):\n\u001B[0;32m-> 1391\u001B[0m     \u001B[38;5;28;01mreturn\u001B[39;00m \u001B[38;5;28;43mself\u001B[39;49m\u001B[38;5;241;43m.\u001B[39;49m\u001B[43mdo_open\u001B[49m\u001B[43m(\u001B[49m\u001B[43mhttp\u001B[49m\u001B[38;5;241;43m.\u001B[39;49m\u001B[43mclient\u001B[49m\u001B[38;5;241;43m.\u001B[39;49m\u001B[43mHTTPSConnection\u001B[49m\u001B[43m,\u001B[49m\u001B[43m \u001B[49m\u001B[43mreq\u001B[49m\u001B[43m,\u001B[49m\n\u001B[1;32m   1392\u001B[0m \u001B[43m        \u001B[49m\u001B[43mcontext\u001B[49m\u001B[38;5;241;43m=\u001B[39;49m\u001B[38;5;28;43mself\u001B[39;49m\u001B[38;5;241;43m.\u001B[39;49m\u001B[43m_context\u001B[49m\u001B[43m,\u001B[49m\u001B[43m \u001B[49m\u001B[43mcheck_hostname\u001B[49m\u001B[38;5;241;43m=\u001B[39;49m\u001B[38;5;28;43mself\u001B[39;49m\u001B[38;5;241;43m.\u001B[39;49m\u001B[43m_check_hostname\u001B[49m\u001B[43m)\u001B[49m\n",
      "File \u001B[0;32m~/.conda/envs/ubm/lib/python3.10/urllib/request.py:1351\u001B[0m, in \u001B[0;36mAbstractHTTPHandler.do_open\u001B[0;34m(self, http_class, req, **http_conn_args)\u001B[0m\n\u001B[1;32m   1348\u001B[0m         h\u001B[38;5;241m.\u001B[39mrequest(req\u001B[38;5;241m.\u001B[39mget_method(), req\u001B[38;5;241m.\u001B[39mselector, req\u001B[38;5;241m.\u001B[39mdata, headers,\n\u001B[1;32m   1349\u001B[0m                   encode_chunked\u001B[38;5;241m=\u001B[39mreq\u001B[38;5;241m.\u001B[39mhas_header(\u001B[38;5;124m'\u001B[39m\u001B[38;5;124mTransfer-encoding\u001B[39m\u001B[38;5;124m'\u001B[39m))\n\u001B[1;32m   1350\u001B[0m     \u001B[38;5;28;01mexcept\u001B[39;00m \u001B[38;5;167;01mOSError\u001B[39;00m \u001B[38;5;28;01mas\u001B[39;00m err: \u001B[38;5;66;03m# timeout error\u001B[39;00m\n\u001B[0;32m-> 1351\u001B[0m         \u001B[38;5;28;01mraise\u001B[39;00m URLError(err)\n\u001B[1;32m   1352\u001B[0m     r \u001B[38;5;241m=\u001B[39m h\u001B[38;5;241m.\u001B[39mgetresponse()\n\u001B[1;32m   1353\u001B[0m \u001B[38;5;28;01mexcept\u001B[39;00m:\n",
      "\u001B[0;31mURLError\u001B[0m: <urlopen error [Errno 8] nodename nor servname provided, or not known>"
     ]
    }
   ],
   "source": [
    "# test for gmm-ubm on whale calls\n",
    "from importlib import reload\n",
    "import audio_datastore.audio_datastore as myads\n",
    "reload(myads)\n",
    "from collections import Counter\n",
    "import numpy as np\n",
    "import config\n",
    "import librosa\n",
    "import utils as my_utils\n",
    "import matplotlib.pyplot as plt\n",
    "import feature_extraction.fe_spafe.fe_spafe as fe_spafe\n",
    "import feature_extraction.fe_base as fe_base\n",
    "import os.path\n",
    "import dnnhmm\n",
    "reload(dnnhmm)\n",
    "reload(fe_base)\n",
    "reload(fe_spafe)"
   ],
   "metadata": {
    "collapsed": false
   }
  },
  {
   "cell_type": "code",
   "execution_count": 3,
   "outputs": [],
   "source": [
    "# create ads\n",
    "# female ads\n",
    "datasetFolder = r\"/Users/david/Documents/data/speech/ivectors/SPEECH DATA/FEMALE/MIC\"\n",
    "female_ads = myads.AudioDatastore()\n",
    "female_ads.populate(datasetFolder, include_sub_folders=True, label_source=True)\n",
    "Counter(female_ads.labels).values()\n",
    "# male ads\n",
    "datasetFolder = r\"/Users/david/Documents/data/speech/ivectors/SPEECH DATA/MALE/MIC\"\n",
    "male_ads = myads.AudioDatastore()\n",
    "male_ads.populate(datasetFolder, include_sub_folders=True, label_source=True)\n",
    "Counter(male_ads.labels).values()\n",
    "# combine ads\n",
    "ads = myads.AudioDatastore()\n",
    "ads.set([datasetFolder], files=female_ads.files + male_ads.files, labels=female_ads.labels + male_ads.labels)\n",
    "# split ads\n",
    "developmentLabels = [\"M01\", \"M02\", \"M03\", \"M04\", \"M06\", \"M07\", \"M08\", \"M09\", \"F01\", \"F02\", \"F03\", \"F04\", \"F06\", \"F07\",\n",
    "                     \"F08\", \"F09\"]\n",
    "evaluationLabels = [\"M05\", \"M10\", \"F05\", \"F10\"]\n",
    "adsTrain = myads.subset(ads, developmentLabels)\n",
    "adsEvaluate = myads.subset(ads, evaluationLabels)\n",
    "# numFilesPerSpeakerForEnrollment = 3\n",
    "adsEnroll, adsTest = myads.split(adsEvaluate, 5)\n",
    "adsTest, _ = myads.split(adsTest, 5)\n"
   ],
   "metadata": {
    "collapsed": false
   }
  },
  {
   "cell_type": "code",
   "execution_count": 7,
   "outputs": [
    {
     "name": "stdout",
     "output_type": "stream",
     "text": [
      "dict_keys(['F10', 'F05', 'M05', 'M10'])\n",
      "dict_values([236, 236, 236, 236])\n"
     ]
    }
   ],
   "source": [
    "# quick aside to create pickled files to speed up things and create consistency between classifiers\n",
    "\n",
    "from collections import Counter\n",
    "\n",
    "print(Counter(adsEvaluate.labels).keys()) # equals to list(set(words))\n",
    "print(Counter(adsEvaluate.labels).values()) # counts the elements' frequency"
   ],
   "metadata": {
    "collapsed": false
   }
  },
  {
   "cell_type": "code",
   "execution_count": 4,
   "outputs": [
    {
     "name": "stderr",
     "output_type": "stream",
     "text": [
      "Downloading: \"https://github.com/snakers4/silero-vad/zipball/master\" to /Users/david/.cache/torch/hub/master.zip\n"
     ]
    }
   ],
   "source": [
    "import torch\n",
    "torch.set_num_threads(1)\n",
    "model, torch_utils = torch.hub.load(repo_or_dir='snakers4/silero-vad',\n",
    "                              model='silero_vad',\n",
    "                              force_reload=True)\n",
    "(get_speech_timestamps,\n",
    " _, read_audio,\n",
    " *_) = torch_utils"
   ],
   "metadata": {
    "collapsed": false
   }
  },
  {
   "cell_type": "code",
   "execution_count": 5,
   "outputs": [],
   "source": [
    "from feature_extraction.fe_configs import NormFactor\n",
    "from spafe.features.mfcc import *\n",
    "\n",
    "def get_log_features(sign, norm: NormFactor = None):\n",
    "        features, _ = mel_spectrogram(sig=sign, fs=config.SAMPLE_RATE)\n",
    "        features = zero_handling(features)\n",
    "        features = np.log(features)\n",
    "        if norm:\n",
    "            features = (features - norm.means) / norm.std\n",
    "            features = features - np.mean(features)\n",
    "        return features"
   ],
   "metadata": {
    "collapsed": false
   }
  },
  {
   "cell_type": "code",
   "execution_count": 6,
   "outputs": [],
   "source": [
    "\n",
    "from audio_datastore.audio_datastore import subset\n",
    "import processing.processing\n",
    "import processing.process_method_base as process_method_base\n",
    "import spafe.features.mfcc as mfcc\n",
    "# from librosa.feature.spectral import mfcc\n",
    "\n",
    "process_method = process_method_base.ProcessMethodBase(snr_db=None, reverb=False, model=model, get_speech_timestamps=get_speech_timestamps)\n",
    "\n",
    "speakers = np.unique(adsEnroll.labels)\n",
    "# normalisation\n",
    "all_features = []\n",
    "for i in range(len(speakers)):\n",
    "    ads_train_subset = subset(adsEnroll, speakers[i])\n",
    "    speaker_features = []\n",
    "    for file in ads_train_subset.files:\n",
    "        signal = process_method.pre_process(file)\n",
    "        speaker_features.append(get_log_features(signal))\n",
    "    speaker_features_flattened = np.array([item for sublist in speaker_features for item in sublist])\n",
    "    all_features.append(speaker_features_flattened)\n",
    "\n",
    "means = []\n",
    "std = []\n",
    "for feature in all_features:\n",
    "    means.append(np.mean(feature, axis=0))\n",
    "    std.append(np.std(feature, axis=0))\n",
    "\n",
    "means = np.array(means)\n",
    "means = np.mean(means, axis=0)\n",
    "\n",
    "std = np.array(std)\n",
    "std = np.mean(std, axis=0)\n",
    "\n",
    "norm_factor = NormFactor(means, std)"
   ],
   "metadata": {
    "collapsed": false
   }
  },
  {
   "cell_type": "code",
   "execution_count": 7,
   "outputs": [],
   "source": [
    "from hmmlearn import hmm\n",
    "\n",
    "speakers = np.unique(adsEnroll.labels)\n",
    "speakers = speakers\n",
    "hmms = {}\n",
    "for i in range(len(speakers)):\n",
    "    ads_train_subset = subset(adsEnroll, speakers[i])\n",
    "    speaker_features = []\n",
    "    for file in ads_train_subset.files:\n",
    "        signal = process_method.pre_process(file)\n",
    "        speaker_features.append(get_log_features(signal, norm_factor))\n",
    "    speaker_features_flattened = np.array([item for sublist in speaker_features for item in sublist])\n",
    "    new_hmm = hmm.GMMHMM(n_components=4, n_mix=2)\n",
    "    new_hmm.fit(speaker_features_flattened)\n",
    "    hmms[i] = new_hmm"
   ],
   "metadata": {
    "collapsed": false
   }
  },
  {
   "cell_type": "code",
   "execution_count": 9,
   "outputs": [
    {
     "name": "stdout",
     "output_type": "stream",
     "text": [
      "[[-26033. -30874. -34057. -42347.]\n",
      " [-23659. -20534. -26400. -28038.]\n",
      " [-33962. -33384. -25812. -30300.]\n",
      " [-25905. -25228. -22185. -20299.]]\n"
     ]
    }
   ],
   "source": [
    "# quick test\n",
    "hmm_outer_scores = []\n",
    "for i in range(len(speakers)):\n",
    "    ads_train_subset = subset(adsTest, speakers[i])\n",
    "    speaker_features = []\n",
    "    for file in ads_train_subset.files:\n",
    "        signal = process_method.pre_process(file)\n",
    "        speaker_features.append(get_log_features(signal, norm_factor))\n",
    "    speaker_features_flattened = np.array([item for sublist in speaker_features for item in sublist])\n",
    "    hmm_inner_scores = []\n",
    "    for y in range(len(hmms)):\n",
    "        hmm_score = hmms[y].score(speaker_features_flattened)\n",
    "        hmm_inner_scores.append(hmm_score)\n",
    "    hmm_outer_scores.append(hmm_inner_scores)\n",
    "\n",
    "# working so far !\n",
    "print(np.round(hmm_outer_scores))"
   ],
   "metadata": {
    "collapsed": false
   }
  },
  {
   "cell_type": "code",
   "execution_count": 10,
   "outputs": [
    {
     "name": "stdout",
     "output_type": "stream",
     "text": [
      "Iteration 1, loss = 0.77249282\n",
      "Validation score: 0.830303\n",
      "Iteration 2, loss = 0.29100970\n",
      "Validation score: 0.860606\n",
      "Iteration 3, loss = 0.20679184\n",
      "Validation score: 0.872727\n",
      "Iteration 4, loss = 0.15566818\n",
      "Validation score: 0.884848\n",
      "Iteration 5, loss = 0.12758465\n",
      "Validation score: 0.903030\n",
      "Iteration 6, loss = 0.10334486\n",
      "Validation score: 0.909091\n",
      "Iteration 7, loss = 0.08512648\n",
      "Validation score: 0.909091\n",
      "Iteration 8, loss = 0.07082514\n",
      "Validation score: 0.939394\n",
      "Iteration 9, loss = 0.06202437\n",
      "Validation score: 0.927273\n",
      "Iteration 10, loss = 0.06029941\n",
      "Validation score: 0.927273\n",
      "Iteration 11, loss = 0.05041202\n",
      "Validation score: 0.921212\n",
      "Iteration 12, loss = 0.04071344\n",
      "Validation score: 0.921212\n",
      "Iteration 13, loss = 0.03297901\n",
      "Validation score: 0.939394\n",
      "Iteration 14, loss = 0.03069996\n",
      "Validation score: 0.933333\n",
      "Iteration 15, loss = 0.02462052\n",
      "Validation score: 0.951515\n",
      "Iteration 16, loss = 0.02119992\n",
      "Validation score: 0.933333\n",
      "Iteration 17, loss = 0.01820187\n",
      "Validation score: 0.927273\n",
      "Iteration 18, loss = 0.01656882\n",
      "Validation score: 0.939394\n",
      "Iteration 19, loss = 0.01354003\n",
      "Validation score: 0.927273\n",
      "Iteration 20, loss = 0.01252939\n",
      "Validation score: 0.933333\n",
      "Iteration 21, loss = 0.01049251\n",
      "Validation score: 0.933333\n",
      "Iteration 22, loss = 0.00953583\n",
      "Validation score: 0.939394\n",
      "Iteration 23, loss = 0.00814622\n",
      "Validation score: 0.939394\n",
      "Iteration 24, loss = 0.00804105\n",
      "Validation score: 0.939394\n",
      "Iteration 25, loss = 0.00720400\n",
      "Validation score: 0.939394\n",
      "Iteration 26, loss = 0.00640646\n",
      "Validation score: 0.933333\n",
      "Validation score did not improve more than tol=0.000100 for 10 consecutive epochs. Stopping.\n",
      "Iteration 1, loss = 0.82053369\n",
      "Validation score: 0.782609\n",
      "Iteration 2, loss = 0.36812529\n",
      "Validation score: 0.811594\n",
      "Iteration 3, loss = 0.28539896\n",
      "Validation score: 0.833333\n",
      "Iteration 4, loss = 0.22707239\n",
      "Validation score: 0.855072\n",
      "Iteration 5, loss = 0.18591734\n",
      "Validation score: 0.855072\n",
      "Iteration 6, loss = 0.15839287\n",
      "Validation score: 0.855072\n",
      "Iteration 7, loss = 0.13617201\n",
      "Validation score: 0.862319\n",
      "Iteration 8, loss = 0.12976524\n",
      "Validation score: 0.862319\n",
      "Iteration 9, loss = 0.11155614\n",
      "Validation score: 0.862319\n",
      "Iteration 10, loss = 0.10191023\n",
      "Validation score: 0.869565\n",
      "Iteration 11, loss = 0.09655942\n",
      "Validation score: 0.884058\n",
      "Iteration 12, loss = 0.09555800\n",
      "Validation score: 0.891304\n",
      "Iteration 13, loss = 0.08815718\n",
      "Validation score: 0.855072\n",
      "Iteration 14, loss = 0.07667813\n",
      "Validation score: 0.891304\n",
      "Iteration 15, loss = 0.06837440\n",
      "Validation score: 0.891304\n",
      "Iteration 16, loss = 0.05485673\n",
      "Validation score: 0.862319\n",
      "Iteration 17, loss = 0.05752243\n",
      "Validation score: 0.905797\n",
      "Iteration 18, loss = 0.04620647\n",
      "Validation score: 0.855072\n",
      "Iteration 19, loss = 0.04770297\n",
      "Validation score: 0.905797\n",
      "Iteration 20, loss = 0.03794475\n",
      "Validation score: 0.884058\n",
      "Iteration 21, loss = 0.03385371\n",
      "Validation score: 0.905797\n",
      "Iteration 22, loss = 0.03063040\n",
      "Validation score: 0.905797\n",
      "Iteration 23, loss = 0.02783442\n",
      "Validation score: 0.905797\n",
      "Iteration 24, loss = 0.02405417\n",
      "Validation score: 0.891304\n",
      "Iteration 25, loss = 0.02330993\n",
      "Validation score: 0.898551\n",
      "Iteration 26, loss = 0.02332742\n",
      "Validation score: 0.905797\n",
      "Iteration 27, loss = 0.01860205\n",
      "Validation score: 0.891304\n",
      "Iteration 28, loss = 0.01845167\n",
      "Validation score: 0.920290\n",
      "Iteration 29, loss = 0.01807949\n",
      "Validation score: 0.891304\n",
      "Iteration 30, loss = 0.01491659\n",
      "Validation score: 0.905797\n",
      "Iteration 31, loss = 0.01350261\n",
      "Validation score: 0.891304\n",
      "Iteration 32, loss = 0.01253591\n",
      "Validation score: 0.905797\n",
      "Iteration 33, loss = 0.01139637\n",
      "Validation score: 0.905797\n",
      "Iteration 34, loss = 0.01130742\n",
      "Validation score: 0.905797\n",
      "Iteration 35, loss = 0.00996147\n",
      "Validation score: 0.898551\n",
      "Iteration 36, loss = 0.00955866\n",
      "Validation score: 0.913043\n",
      "Iteration 37, loss = 0.00921265\n",
      "Validation score: 0.905797\n",
      "Iteration 38, loss = 0.00803036\n",
      "Validation score: 0.891304\n",
      "Iteration 39, loss = 0.00786669\n",
      "Validation score: 0.891304\n",
      "Validation score did not improve more than tol=0.000100 for 10 consecutive epochs. Stopping.\n",
      "Iteration 1, loss = 0.65027134\n",
      "Validation score: 0.891304\n",
      "Iteration 2, loss = 0.26697153\n",
      "Validation score: 0.869565\n",
      "Iteration 3, loss = 0.19609893\n",
      "Validation score: 0.927536\n",
      "Iteration 4, loss = 0.16054126\n",
      "Validation score: 0.927536\n",
      "Iteration 5, loss = 0.13969099\n",
      "Validation score: 0.949275\n",
      "Iteration 6, loss = 0.10656567\n",
      "Validation score: 0.934783\n",
      "Iteration 7, loss = 0.09439124\n",
      "Validation score: 0.949275\n",
      "Iteration 8, loss = 0.07781589\n",
      "Validation score: 0.942029\n",
      "Iteration 9, loss = 0.06892566\n",
      "Validation score: 0.956522\n",
      "Iteration 10, loss = 0.06089752\n",
      "Validation score: 0.963768\n",
      "Iteration 11, loss = 0.05347799\n",
      "Validation score: 0.942029\n",
      "Iteration 12, loss = 0.05723347\n",
      "Validation score: 0.949275\n",
      "Iteration 13, loss = 0.05211374\n",
      "Validation score: 0.956522\n",
      "Iteration 14, loss = 0.04256838\n",
      "Validation score: 0.956522\n",
      "Iteration 15, loss = 0.03934530\n",
      "Validation score: 0.942029\n",
      "Iteration 16, loss = 0.03933529\n",
      "Validation score: 0.963768\n",
      "Iteration 17, loss = 0.03895359\n",
      "Validation score: 0.949275\n",
      "Iteration 18, loss = 0.03511418\n",
      "Validation score: 0.942029\n",
      "Iteration 19, loss = 0.03096806\n",
      "Validation score: 0.956522\n",
      "Iteration 20, loss = 0.02410737\n",
      "Validation score: 0.942029\n",
      "Iteration 21, loss = 0.02053685\n",
      "Validation score: 0.956522\n",
      "Validation score did not improve more than tol=0.000100 for 10 consecutive epochs. Stopping.\n",
      "Iteration 1, loss = 0.74719209\n",
      "Validation score: 0.891667\n",
      "Iteration 2, loss = 0.31741333\n",
      "Validation score: 0.916667\n",
      "Iteration 3, loss = 0.21869968\n",
      "Validation score: 0.916667\n",
      "Iteration 4, loss = 0.17029907\n",
      "Validation score: 0.925000\n",
      "Iteration 5, loss = 0.13325203\n",
      "Validation score: 0.941667\n",
      "Iteration 6, loss = 0.10996520\n",
      "Validation score: 0.966667\n",
      "Iteration 7, loss = 0.09177397\n",
      "Validation score: 0.958333\n",
      "Iteration 8, loss = 0.07814485\n",
      "Validation score: 0.958333\n",
      "Iteration 9, loss = 0.07183997\n",
      "Validation score: 0.958333\n",
      "Iteration 10, loss = 0.05913411\n",
      "Validation score: 0.975000\n",
      "Iteration 11, loss = 0.05127867\n",
      "Validation score: 0.966667\n",
      "Iteration 12, loss = 0.04454569\n",
      "Validation score: 0.975000\n",
      "Iteration 13, loss = 0.03785498\n",
      "Validation score: 0.966667\n",
      "Iteration 14, loss = 0.03446681\n",
      "Validation score: 0.966667\n",
      "Iteration 15, loss = 0.02917848\n",
      "Validation score: 0.966667\n",
      "Iteration 16, loss = 0.02743244\n",
      "Validation score: 0.966667\n",
      "Iteration 17, loss = 0.02386333\n",
      "Validation score: 0.975000\n",
      "Iteration 18, loss = 0.02055636\n",
      "Validation score: 0.966667\n",
      "Iteration 19, loss = 0.01896283\n",
      "Validation score: 0.966667\n",
      "Iteration 20, loss = 0.01664717\n",
      "Validation score: 0.966667\n",
      "Iteration 21, loss = 0.01455749\n",
      "Validation score: 0.975000\n",
      "Validation score did not improve more than tol=0.000100 for 10 consecutive epochs. Stopping.\n"
     ]
    }
   ],
   "source": [
    "# now add dnn\n",
    "dnn_hmms = {}\n",
    "for i in range(len(speakers)):\n",
    "    ads_train_subset = subset(adsEnroll, speakers[i])\n",
    "    speaker_features = []\n",
    "    for file in ads_train_subset.files:\n",
    "        signal = process_method.pre_process(file)\n",
    "        speaker_features.append(get_log_features(signal, norm_factor))\n",
    "    # speaker_features_flattened = np.array([item for sublist in speaker_features for item in sublist])\n",
    "    new_mlp = dnnhmm.DNNHMM(hmm.GMMHMM(n_components=4, n_mix=2))\n",
    "    new_mlp.train_hmm(speaker_features)\n",
    "    new_mlp.train_mlp()\n",
    "    dnn_hmms[i] = new_mlp"
   ],
   "metadata": {
    "collapsed": false
   }
  },
  {
   "cell_type": "code",
   "execution_count": null,
   "outputs": [],
   "source": [],
   "metadata": {
    "collapsed": false
   }
  },
  {
   "cell_type": "code",
   "execution_count": 11,
   "outputs": [],
   "source": [
    "# quick test\n",
    "mlp_outer_scores = []\n",
    "for i in range(len(speakers)):\n",
    "    ads_train_subset = subset(adsTest, speakers[i])\n",
    "    speaker_features = []\n",
    "    for file in ads_train_subset.files:\n",
    "        signal = process_method.pre_process(file)\n",
    "        speaker_features.append(get_log_features(signal, norm_factor))\n",
    "    speaker_features_flattened = np.array([item for sublist in speaker_features for item in sublist])\n",
    "    mlp_inner_scores = []\n",
    "    for y in range(len(hmms)):\n",
    "        hmm_score = dnn_hmms[y].loglike_mlp(speaker_features_flattened)\n",
    "        mlp_inner_scores.append(hmm_score)\n",
    "    mlp_outer_scores.append(mlp_inner_scores)\n",
    "\n",
    "# working so far !"
   ],
   "metadata": {
    "collapsed": false
   }
  },
  {
   "cell_type": "code",
   "execution_count": 27,
   "outputs": [
    {
     "name": "stdout",
     "output_type": "stream",
     "text": [
      "[[-26186.348405991877, -30951.582642497502, -34337.337663872735, -42511.4314143481], [-23578.60166740599, -20513.837129695086, -26463.073823870283, -28078.309609488835], [-33816.96531357519, -33439.47442495654, -25657.287939052254, -30241.137868100843], [-26215.406039149017, -25295.441801430872, -22703.556856953557, -20355.859795153203]]\n"
     ]
    }
   ],
   "source": [
    "print(hmm_outer_scores)"
   ],
   "metadata": {
    "collapsed": false
   }
  },
  {
   "cell_type": "code",
   "execution_count": 28,
   "outputs": [
    {
     "name": "stdout",
     "output_type": "stream",
     "text": [
      "[[-804.2398526071192, -816.7565163129756, -874.8330908080607, -880.2422092383745], [-710.9287883907743, -705.9644981859483, -787.6079317787905, -754.5472107983993], [-768.4360025418348, -775.4445422359298, -846.4546311481761, -803.5215430134876], [-641.3732829732586, -580.5644505148076, -680.3259458107187, -629.7522106616628]]\n"
     ]
    }
   ],
   "source": [
    "print(mlp_outer_scores)\n",
    "# doesnt really work - interesting\n",
    "# maybe using rnn will work better..."
   ],
   "metadata": {
    "collapsed": false
   }
  },
  {
   "cell_type": "code",
   "execution_count": null,
   "outputs": [],
   "source": [],
   "metadata": {
    "collapsed": false
   }
  }
 ],
 "metadata": {
  "kernelspec": {
   "display_name": "Python 3",
   "language": "python",
   "name": "python3"
  },
  "language_info": {
   "codemirror_mode": {
    "name": "ipython",
    "version": 2
   },
   "file_extension": ".py",
   "mimetype": "text/x-python",
   "name": "python",
   "nbconvert_exporter": "python",
   "pygments_lexer": "ipython2",
   "version": "2.7.6"
  }
 },
 "nbformat": 4,
 "nbformat_minor": 0
}
