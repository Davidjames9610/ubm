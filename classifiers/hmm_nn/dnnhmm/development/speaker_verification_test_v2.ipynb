{
 "cells": [
  {
   "cell_type": "code",
   "execution_count": 24,
   "metadata": {
    "collapsed": true
   },
   "outputs": [
    {
     "name": "stdout",
     "output_type": "stream",
     "text": [
      "['/Applications/PyCharm.app/Contents/plugins/python/helpers-pro/jupyter_debug', '/Applications/PyCharm.app/Contents/plugins/python/helpers/pydev', '/Users/david/Documents/mastersCode/ubm/classifiers/hmm_nn/dnnhmm/development', '/Users/david/.conda/envs/ubm/lib/python310.zip', '/Users/david/.conda/envs/ubm/lib/python3.10', '/Users/david/.conda/envs/ubm/lib/python3.10/lib-dynload', '', '/Users/david/.conda/envs/ubm/lib/python3.10/site-packages', '/Users/david/Documents/mastersCode/ubm', '/Users/david/Documents/mastersCode/ubm']\n"
     ]
    }
   ],
   "source": [
    "# really not working ? could be that the nn needs more data - try again with\n",
    "# larger training set\n",
    "\n",
    "import sys\n",
    "sys.path.append(\"/Users/david/Documents/mastersCode/ubm\")\n",
    "print(sys.path)"
   ]
  },
  {
   "cell_type": "code",
   "execution_count": 2,
   "outputs": [
    {
     "name": "stderr",
     "output_type": "stream",
     "text": [
      "Using cache found in /Users/david/.cache/torch/hub/snakers4_silero-vad_master\n",
      "Using cache found in /Users/david/.cache/torch/hub/snakers4_silero-vad_master\n"
     ]
    }
   ],
   "source": [
    "from importlib import reload\n",
    "import audio_datastore.audio_datastore as myads\n",
    "reload(myads)\n",
    "from importlib import reload\n",
    "from collections import Counter\n",
    "import pickle\n",
    "import time"
   ],
   "metadata": {
    "collapsed": false
   }
  },
  {
   "cell_type": "code",
   "execution_count": 3,
   "outputs": [],
   "source": [
    "from data.pitch_tracking_database.load_data import *\n",
    "speech_pitch_tracking_db = pickle.load(open(normalised_30,'rb'))\n",
    "ads = speech_pitch_tracking_db['ads']"
   ],
   "metadata": {
    "collapsed": false
   }
  },
  {
   "cell_type": "code",
   "execution_count": 13,
   "outputs": [
    {
     "name": "stdout",
     "output_type": "stream",
     "text": [
      "Enroll database info: \n",
      "dict_keys(['F01', 'F02', 'M01', 'M02'])\n",
      "dict_values([20, 20, 20, 20])\n",
      "\n",
      "\n",
      "Test database info: \n",
      "dict_keys(['F01', 'F02', 'M01', 'M02'])\n",
      "dict_values([10, 10, 10, 10])\n",
      "\n",
      "\n"
     ]
    }
   ],
   "source": [
    "# split ads\n",
    "developmentLabels = [\"M03\",\"M04\",\"M05\",\"M06\",\"M07\",\"M08\",\"M09\",\"M10\",\"F05\",\"F06\",\"F07\",\"F08\",\"F09\",\"F10\",\n",
    "                     \"F03\",\"F04\"]\n",
    "evaluationLabels = [\"M01\",\"M02\",\"F01\",\"F02\"]\n",
    "adsTrain = myads.subset(ads, developmentLabels)\n",
    "adsEvaluate = myads.subset(ads, evaluationLabels)\n",
    "numFilesPerSpeakerForEnrollment = 20\n",
    "adsEnroll, adsDet = myads.split(adsEvaluate, numFilesPerSpeakerForEnrollment)\n",
    "adsTest = adsDet\n",
    "# adsDet, adsTest = myads.split(adsDet, 2)\n",
    "# adsTrain.info('Train')\n",
    "adsEnroll.info('Enroll')\n",
    "adsTest.info('Test')"
   ],
   "metadata": {
    "collapsed": false
   }
  },
  {
   "cell_type": "code",
   "execution_count": 14,
   "outputs": [],
   "source": [
    "from classifiers.classifier_base import ClassifierBase\n",
    "from my_torch.tuts2.torch_transforms import ComposeTransform\n",
    "\n",
    "def test_classifiers(ads_train, ads_test, classifiers: [ClassifierBase], verbose=False):\n",
    "    index = 1\n",
    "    if verbose:\n",
    "        print('running all')\n",
    "\n",
    "    for classifier in classifiers:\n",
    "        if verbose:\n",
    "            print('\\n')\n",
    "            print('test #', index)\n",
    "        print(classifier.info)\n",
    "\n",
    "        classifier.train(ads_train)\n",
    "        classifier.test_all(ads_test)\n",
    "        index = index + 1\n",
    "        if verbose:\n",
    "            print('\\n')"
   ],
   "metadata": {
    "collapsed": false
   }
  },
  {
   "cell_type": "code",
   "execution_count": 21,
   "outputs": [],
   "source": [
    "import classifiers.hmm_nn.dnnhmm.classifier_dnn_hmm as classifier_dnn_hmm\n",
    "reload(classifier_dnn_hmm)\n",
    "\n",
    "import my_torch.tuts2.torch_transforms as torch_t\n",
    "reload(torch_t)\n",
    "import feature_extraction.fe_spafe.fe_spafe as fe_methods\n",
    "reload(fe_methods)\n",
    "# from feature_extraction.fe_spafe.fe_spafe import FeatureExtractorLogMel\n",
    "\n",
    "# define fe methods\n",
    "\n",
    "fe_mfcc = fe_methods.FeatureExtractorMfcc()\n",
    "fe_mfcc.set_normalisation(adsDet)"
   ],
   "metadata": {
    "collapsed": false
   }
  },
  {
   "cell_type": "code",
   "execution_count": 22,
   "outputs": [],
   "source": [
    "# define classifiers\n",
    "\n",
    "classifier_a = classifier_dnn_hmm.ClassifierHMMDNN(\n",
    "    train_process=torch_t.ComposeProcessTransform([]),\n",
    "    test_process=torch_t.ComposeProcessTransform([]),\n",
    "    fe_method=torch_t.ComposeTransform([\n",
    "    fe_mfcc,\n",
    "    ]),\n",
    "    info='base log mel no augmentation'\n",
    ")"
   ],
   "metadata": {
    "collapsed": false
   }
  },
  {
   "cell_type": "code",
   "execution_count": 23,
   "outputs": [
    {
     "name": "stdout",
     "output_type": "stream",
     "text": [
      "running all\n",
      "\n",
      "\n",
      "test # 1\n",
      "base log mel no augmentation\n",
      "Iteration 1, loss = 0.52466031\n",
      "Validation score: 0.930147\n",
      "Iteration 2, loss = 0.18236137\n",
      "Validation score: 0.943015\n",
      "Iteration 3, loss = 0.12307818\n",
      "Validation score: 0.950368\n",
      "Iteration 4, loss = 0.09269840\n",
      "Validation score: 0.948529\n",
      "Iteration 5, loss = 0.07157302\n",
      "Validation score: 0.957721\n",
      "Iteration 6, loss = 0.06016759\n",
      "Validation score: 0.954044\n",
      "Iteration 7, loss = 0.04733019\n",
      "Validation score: 0.965074\n",
      "Iteration 8, loss = 0.03881012\n",
      "Validation score: 0.961397\n",
      "Iteration 9, loss = 0.03026363\n",
      "Validation score: 0.963235\n",
      "Iteration 10, loss = 0.02432772\n",
      "Validation score: 0.959559\n",
      "Iteration 11, loss = 0.01938744\n",
      "Validation score: 0.963235\n",
      "Iteration 12, loss = 0.01517494\n",
      "Validation score: 0.968750\n",
      "Iteration 13, loss = 0.01109818\n",
      "Validation score: 0.966912\n",
      "Iteration 14, loss = 0.01232086\n",
      "Validation score: 0.966912\n",
      "Iteration 15, loss = 0.01289565\n",
      "Validation score: 0.965074\n",
      "Iteration 16, loss = 0.00949164\n",
      "Validation score: 0.968750\n",
      "Iteration 17, loss = 0.00693905\n",
      "Validation score: 0.966912\n",
      "Iteration 18, loss = 0.01131854\n",
      "Validation score: 0.965074\n",
      "Iteration 19, loss = 0.00559652\n",
      "Validation score: 0.965074\n",
      "Iteration 20, loss = 0.00391868\n",
      "Validation score: 0.968750\n",
      "Iteration 21, loss = 0.00307536\n",
      "Validation score: 0.968750\n",
      "Iteration 22, loss = 0.00265034\n",
      "Validation score: 0.965074\n",
      "Iteration 23, loss = 0.00244646\n",
      "Validation score: 0.970588\n",
      "Iteration 24, loss = 0.00215106\n",
      "Validation score: 0.970588\n",
      "Iteration 25, loss = 0.00190977\n",
      "Validation score: 0.970588\n",
      "Iteration 26, loss = 0.00176668\n",
      "Validation score: 0.968750\n",
      "Iteration 27, loss = 0.00159849\n",
      "Validation score: 0.968750\n",
      "Iteration 28, loss = 0.00146832\n",
      "Validation score: 0.966912\n",
      "Iteration 29, loss = 0.00139944\n",
      "Validation score: 0.970588\n",
      "Iteration 30, loss = 0.00128157\n",
      "Validation score: 0.970588\n",
      "Iteration 31, loss = 0.00120935\n",
      "Validation score: 0.970588\n",
      "Iteration 32, loss = 0.00112106\n",
      "Validation score: 0.968750\n",
      "Iteration 33, loss = 0.00104864\n",
      "Validation score: 0.968750\n",
      "Iteration 34, loss = 0.00098476\n",
      "Validation score: 0.966912\n",
      "Validation score did not improve more than tol=0.000100 for 10 consecutive epochs. Stopping.\n",
      "Iteration 1, loss = 0.47167529\n",
      "Validation score: 0.907018\n",
      "Iteration 2, loss = 0.18825868\n",
      "Validation score: 0.942105\n",
      "Iteration 3, loss = 0.13378911\n",
      "Validation score: 0.938596\n",
      "Iteration 4, loss = 0.10596551\n",
      "Validation score: 0.950877\n",
      "Iteration 5, loss = 0.08850705\n",
      "Validation score: 0.943860\n",
      "Iteration 6, loss = 0.07094555\n",
      "Validation score: 0.942105\n",
      "Iteration 7, loss = 0.05718758\n",
      "Validation score: 0.959649\n",
      "Iteration 8, loss = 0.04799697\n",
      "Validation score: 0.945614\n",
      "Iteration 9, loss = 0.04107841\n",
      "Validation score: 0.949123\n",
      "Iteration 10, loss = 0.03257616\n",
      "Validation score: 0.952632\n",
      "Iteration 11, loss = 0.02675478\n",
      "Validation score: 0.950877\n",
      "Iteration 12, loss = 0.02134173\n",
      "Validation score: 0.954386\n",
      "Iteration 13, loss = 0.01923655\n",
      "Validation score: 0.957895\n",
      "Iteration 14, loss = 0.01636471\n",
      "Validation score: 0.957895\n",
      "Iteration 15, loss = 0.01048178\n",
      "Validation score: 0.950877\n",
      "Iteration 16, loss = 0.00888757\n",
      "Validation score: 0.952632\n",
      "Iteration 17, loss = 0.00761189\n",
      "Validation score: 0.954386\n",
      "Iteration 18, loss = 0.00664238\n",
      "Validation score: 0.959649\n",
      "Validation score did not improve more than tol=0.000100 for 10 consecutive epochs. Stopping.\n",
      "Iteration 1, loss = 0.42979409\n",
      "Validation score: 0.937785\n",
      "Iteration 2, loss = 0.14736201\n",
      "Validation score: 0.952959\n",
      "Iteration 3, loss = 0.10018746\n",
      "Validation score: 0.951442\n",
      "Iteration 4, loss = 0.07536091\n",
      "Validation score: 0.946889\n",
      "Iteration 5, loss = 0.05926085\n",
      "Validation score: 0.959029\n",
      "Iteration 6, loss = 0.04930821\n",
      "Validation score: 0.957511\n",
      "Iteration 7, loss = 0.03570476\n",
      "Validation score: 0.962064\n",
      "Iteration 8, loss = 0.02841442\n",
      "Validation score: 0.965099\n",
      "Iteration 9, loss = 0.02187623\n",
      "Validation score: 0.965099\n",
      "Iteration 10, loss = 0.01773240\n",
      "Validation score: 0.966616\n",
      "Iteration 11, loss = 0.01333470\n",
      "Validation score: 0.966616\n",
      "Iteration 12, loss = 0.01076822\n",
      "Validation score: 0.968134\n",
      "Iteration 13, loss = 0.00847458\n",
      "Validation score: 0.963581\n",
      "Iteration 14, loss = 0.00659790\n",
      "Validation score: 0.965099\n",
      "Iteration 15, loss = 0.00515835\n",
      "Validation score: 0.971168\n",
      "Iteration 16, loss = 0.00421706\n",
      "Validation score: 0.971168\n",
      "Iteration 17, loss = 0.00353593\n",
      "Validation score: 0.969651\n",
      "Iteration 18, loss = 0.00298012\n",
      "Validation score: 0.969651\n",
      "Iteration 19, loss = 0.00253286\n",
      "Validation score: 0.968134\n",
      "Iteration 20, loss = 0.00223597\n",
      "Validation score: 0.969651\n",
      "Iteration 21, loss = 0.00198643\n",
      "Validation score: 0.968134\n",
      "Iteration 22, loss = 0.00176037\n",
      "Validation score: 0.969651\n",
      "Iteration 23, loss = 0.00163581\n",
      "Validation score: 0.969651\n",
      "Iteration 24, loss = 0.00144323\n",
      "Validation score: 0.968134\n",
      "Iteration 25, loss = 0.00136315\n",
      "Validation score: 0.969651\n",
      "Iteration 26, loss = 0.00121739\n",
      "Validation score: 0.971168\n",
      "Validation score did not improve more than tol=0.000100 for 10 consecutive epochs. Stopping.\n",
      "Iteration 1, loss = 0.43595256\n",
      "Validation score: 0.924071\n",
      "Iteration 2, loss = 0.13098225\n",
      "Validation score: 0.949919\n",
      "Iteration 3, loss = 0.09454644\n",
      "Validation score: 0.962843\n",
      "Iteration 4, loss = 0.07319144\n",
      "Validation score: 0.961228\n",
      "Iteration 5, loss = 0.05867206\n",
      "Validation score: 0.957997\n",
      "Iteration 6, loss = 0.04781310\n",
      "Validation score: 0.959612\n",
      "Iteration 7, loss = 0.03947011\n",
      "Validation score: 0.959612\n",
      "Iteration 8, loss = 0.03275350\n",
      "Validation score: 0.962843\n",
      "Iteration 9, loss = 0.02492050\n",
      "Validation score: 0.964459\n",
      "Iteration 10, loss = 0.01973882\n",
      "Validation score: 0.967690\n",
      "Iteration 11, loss = 0.01469985\n",
      "Validation score: 0.970921\n",
      "Iteration 12, loss = 0.01239945\n",
      "Validation score: 0.969305\n",
      "Iteration 13, loss = 0.01019113\n",
      "Validation score: 0.970921\n",
      "Iteration 14, loss = 0.00883784\n",
      "Validation score: 0.969305\n",
      "Iteration 15, loss = 0.00675992\n",
      "Validation score: 0.972536\n",
      "Iteration 16, loss = 0.00587793\n",
      "Validation score: 0.975767\n",
      "Iteration 17, loss = 0.00458922\n",
      "Validation score: 0.970921\n",
      "Iteration 18, loss = 0.00366980\n",
      "Validation score: 0.974152\n",
      "Iteration 19, loss = 0.00299892\n",
      "Validation score: 0.974152\n",
      "Iteration 20, loss = 0.00267746\n",
      "Validation score: 0.974152\n",
      "Iteration 21, loss = 0.00232546\n",
      "Validation score: 0.974152\n",
      "Iteration 22, loss = 0.00211474\n",
      "Validation score: 0.975767\n",
      "Iteration 23, loss = 0.00192081\n",
      "Validation score: 0.974152\n",
      "Iteration 24, loss = 0.00168812\n",
      "Validation score: 0.970921\n",
      "Iteration 25, loss = 0.00158845\n",
      "Validation score: 0.972536\n",
      "Iteration 26, loss = 0.00141182\n",
      "Validation score: 0.972536\n",
      "Iteration 27, loss = 0.00128620\n",
      "Validation score: 0.974152\n",
      "Validation score did not improve more than tol=0.000100 for 10 consecutive epochs. Stopping.\n"
     ]
    },
    {
     "data": {
      "text/plain": "<Figure size 1600x480 with 2 Axes>",
      "image/png": "[encoded data removed]"
     },
     "metadata": {},
     "output_type": "display_data"
    },
    {
     "name": "stdout",
     "output_type": "stream",
     "text": [
      "\n",
      "\n"
     ]
    }
   ],
   "source": [
    "test_classifiers(adsEnroll, adsTest, [classifier_a], verbose=True)"
   ],
   "metadata": {
    "collapsed": false
   }
  },
  {
   "cell_type": "code",
   "execution_count": null,
   "outputs": [],
   "source": [],
   "metadata": {
    "collapsed": false
   }
  }
 ],
 "metadata": {
  "kernelspec": {
   "display_name": "Python 3",
   "language": "python",
   "name": "python3"
  },
  "language_info": {
   "codemirror_mode": {
    "name": "ipython",
    "version": 2
   },
   "file_extension": ".py",
   "mimetype": "text/x-python",
   "name": "python",
   "nbconvert_exporter": "python",
   "pygments_lexer": "ipython2",
   "version": "2.7.6"
  }
 },
 "nbformat": 4,
 "nbformat_minor": 0
}
