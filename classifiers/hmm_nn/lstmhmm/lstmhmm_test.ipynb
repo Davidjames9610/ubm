{
 "cells": [
  {
   "cell_type": "code",
   "execution_count": null,
   "metadata": {
    "collapsed": true
   },
   "outputs": [],
   "source": [
    "# demo for lstmhmm\n",
    "\n",
    "    # def train(self, ads_train: AudioDatastore):\n"
   ]
  },
  {
   "cell_type": "code",
   "execution_count": 1,
   "outputs": [
    {
     "name": "stdout",
     "output_type": "stream",
     "text": [
      "['/Users/david/Documents/mastersCode/ubm/classifiers/hmm_nn/lstmhmm', '/Users/david/.conda/envs/ubm/lib/python310.zip', '/Users/david/.conda/envs/ubm/lib/python3.10', '/Users/david/.conda/envs/ubm/lib/python3.10/lib-dynload', '', '/Users/david/.conda/envs/ubm/lib/python3.10/site-packages', '/Users/david/Documents/mastersCode/ubm']\n"
     ]
    }
   ],
   "source": [
    "import sys\n",
    "sys.path.append(\"/Users/david/Documents/mastersCode/ubm\")\n",
    "print(sys.path)"
   ],
   "metadata": {
    "collapsed": false
   }
  },
  {
   "cell_type": "code",
   "execution_count": 5,
   "outputs": [
    {
     "name": "stderr",
     "output_type": "stream",
     "text": [
      "Using cache found in /Users/david/.cache/torch/hub/snakers4_silero-vad_master\n"
     ]
    }
   ],
   "source": [
    "from importlib import reload\n",
    "import audio_datastore.audio_datastore as myads\n",
    "import classifiers.hmm_nn.lstmhmm.lstmhmm as lstmhmm\n",
    "reload(myads)\n",
    "reload(lstmhmm)\n",
    "import numpy as np"
   ],
   "metadata": {
    "collapsed": false
   }
  },
  {
   "cell_type": "code",
   "execution_count": 8,
   "outputs": [],
   "source": [
    "from data.pitch_tracking_database.load_data import *\n",
    "speech_pitch_tracking_db = pickle.load(open(normalised_30,'rb'))\n",
    "ads = speech_pitch_tracking_db['ads']\n",
    "\n",
    "# split ads\n",
    "developmentLabels = [\"M03\",\"M04\",\"M05\",\"M06\",\"M07\",\"M08\",\"M09\",\"M10\",\"F05\",\"F06\",\"F07\",\"F08\",\"F09\",\"F10\",\n",
    "                     \"F03\",\"F04\"]\n",
    "evaluationLabels = [\"M01\",\"M02\",\"F01\",\"F02\"]\n",
    "adsTrain = myads.subset(ads, developmentLabels)\n",
    "adsEvaluate = myads.subset(ads, evaluationLabels)\n",
    "numFilesPerSpeakerForEnrollment = 20\n",
    "adsEnroll, adsDet = myads.split(adsEvaluate, numFilesPerSpeakerForEnrollment)\n",
    "adsValidate, adsTest = myads.split(adsDet, 5)\n",
    "# adsDet, adsTest = myads.split(adsDet, 2)\n",
    "# adsTrain.info('Train')\n",
    "# adsEnroll.info('Enroll')\n",
    "# adsTest.info('Test')\n",
    "# adsValidate.info('Validate')"
   ],
   "metadata": {
    "collapsed": false
   }
  },
  {
   "cell_type": "code",
   "execution_count": null,
   "outputs": [],
   "source": [
    "\n",
    "\n",
    "\n",
    "def get_features(ads_train, fe_method, train_process):\n",
    "    speakers = np.unique(ads_train.labels)\n",
    "    speakers = speakers\n",
    "\n",
    "    all_features = {}\n",
    "\n",
    "    for s in range(len(speakers)):\n",
    "        ads_train_subset = myads.subset(ads_train, speakers[s])\n",
    "        features = []\n",
    "        for i in range(len(ads_train_subset.labels)):\n",
    "            feature = fe_method(train_process(ads_train_subset[i]))\n",
    "            features.append(feature)\n",
    "        all_features[speakers[s]] = features\n",
    "\n",
    "    return all_features\n",
    "        # features_flattened = np.array([item for sublist in features for item in sublist])\n",
    "        # model = LSTMHMM(n_mix=self.n_mix, n_components=self.n_components)\n",
    "        # model.fit(features)\n",
    "        # self.models[speakers[s]] = model"
   ],
   "metadata": {
    "collapsed": false
   }
  },
  {
   "cell_type": "code",
   "execution_count": 4,
   "outputs": [],
   "source": [
    "model = lstmhmm.LSTMHMM()\n",
    "\n"
   ],
   "metadata": {
    "collapsed": false
   }
  },
  {
   "cell_type": "code",
   "execution_count": null,
   "outputs": [],
   "source": [],
   "metadata": {
    "collapsed": false
   }
  }
 ],
 "metadata": {
  "kernelspec": {
   "display_name": "Python 3",
   "language": "python",
   "name": "python3"
  },
  "language_info": {
   "codemirror_mode": {
    "name": "ipython",
    "version": 2
   },
   "file_extension": ".py",
   "mimetype": "text/x-python",
   "name": "python",
   "nbconvert_exporter": "python",
   "pygments_lexer": "ipython2",
   "version": "2.7.6"
  }
 },
 "nbformat": 4,
 "nbformat_minor": 0
}
