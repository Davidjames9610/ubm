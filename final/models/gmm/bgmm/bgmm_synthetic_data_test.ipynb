{
 "cells": [
  {
   "cell_type": "code",
   "execution_count": 1,
   "metadata": {
    "collapsed": true
   },
   "outputs": [
    {
     "name": "stdout",
     "output_type": "stream",
     "text": [
      "['/Users/david/Documents/mastersCode/ubm/final/models/gmm/bgmm', '/Users/david/.conda/envs/ubm/lib/python310.zip', '/Users/david/.conda/envs/ubm/lib/python3.10', '/Users/david/.conda/envs/ubm/lib/python3.10/lib-dynload', '', '/Users/david/.conda/envs/ubm/lib/python3.10/site-packages', '/Users/david/Documents/mastersCode/ubm']\n"
     ]
    }
   ],
   "source": [
    "import sys\n",
    "\n",
    "sys.path.append(\"/Users/david/Documents/mastersCode/ubm\")\n",
    "print(sys.path)"
   ]
  },
  {
   "cell_type": "code",
   "execution_count": 13,
   "outputs": [],
   "source": [
    "import pickle\n",
    "from importlib import reload\n",
    "import numpy as np\n",
    "import matplotlib.pyplot as plt"
   ],
   "metadata": {
    "collapsed": false
   }
  },
  {
   "cell_type": "code",
   "execution_count": 7,
   "outputs": [],
   "source": [
    "# Load state sequence and data from the pickle file\n",
    "with open('/Users/david/Documents/mastersCode/ubm/final/models/gmm/data/gmm_data_a.pkl', 'rb') as file:\n",
    "    gmm_data = pickle.load(file)\n",
    "\n",
    "# Access the loaded data\n",
    "loaded_data = gmm_data['data']\n",
    "loaded_labels = gmm_data['labels']"
   ],
   "metadata": {
    "collapsed": false
   }
  },
  {
   "cell_type": "code",
   "execution_count": 11,
   "outputs": [],
   "source": [
    "import final.models.gmm.bgmm.bgmm as bgmm\n",
    "reload(bgmm)\n",
    "\n",
    "my_bgmm = bgmm.GMMGibbsSampler(loaded_data, 5, Z_true=loaded_labels)"
   ],
   "metadata": {
    "collapsed": false
   }
  },
  {
   "cell_type": "code",
   "execution_count": 12,
   "outputs": [
    {
     "name": "stdout",
     "output_type": "stream",
     "text": [
      "starting gibbs sampling\n"
     ]
    }
   ],
   "source": [
    "my_bgmm.fit()"
   ],
   "metadata": {
    "collapsed": false
   }
  },
  {
   "cell_type": "code",
   "execution_count": 14,
   "outputs": [
    {
     "data": {
      "text/plain": "<Figure size 640x480 with 1 Axes>",
      "image/png": "[encoded data removed]"
     },
     "metadata": {},
     "output_type": "display_data"
    }
   ],
   "source": [
    "plt.plot(range(0,len(my_bgmm.ARI)), my_bgmm.ARI, marker=\"None\")\n",
    "plt.xlabel('iteration')\n",
    "plt.ylabel('ARI')\n",
    "#plt.savefig(\"./image/ari.png\")\n",
    "plt.show()\n",
    "plt.close()"
   ],
   "metadata": {
    "collapsed": false
   }
  },
  {
   "cell_type": "code",
   "execution_count": 112,
   "outputs": [],
   "source": [
    "# MC integration\n",
    "from scipy.stats import  wishart, dirichlet, invwishart, multivariate_normal\n",
    "\n",
    "def niw_mc_estimate(x, m, v, nu, s, N):\n",
    "    mus = []\n",
    "    sigmas = []\n",
    "    for i in range(N):\n",
    "        mus.append(np.random.multivariate_normal(mean=m, cov=v, size=1).flatten())\n",
    "        sigmas.append(invwishart.rvs(size=1, df=nu, scale=s))\n",
    "    p = 0\n",
    "    for i in range(N):\n",
    "        p += multivariate_normal.pdf(x, mus[i], sigmas[i]) * multivariate_normal.pdf(mus[i], m, v) * invwishart.pdf(sigmas[i], df=nu, scale=s)\n",
    "    return p / N\n"
   ],
   "metadata": {
    "collapsed": false
   }
  },
  {
   "cell_type": "code",
   "execution_count": 121,
   "outputs": [
    {
     "name": "stdout",
     "output_type": "stream",
     "text": [
      "1.4246519372537228e-05\n"
     ]
    }
   ],
   "source": [
    "m0 = np.array([1,1])\n",
    "v0 = np.array([[1, 0],[0, 1]])\n",
    "\n",
    "s0 = np.array([[1, 0],[0, 1]])\n",
    "nu0 = 4\n",
    "\n",
    "x = np.array([4,1])\n",
    "\n",
    "print(niw_mc_estimate(x, m0, v0, nu0, s0, int(1e1)))\n",
    "\n",
    "\n"
   ],
   "metadata": {
    "collapsed": false
   }
  },
  {
   "cell_type": "code",
   "execution_count": null,
   "outputs": [],
   "source": [
    "def niw_mc_estimate_plot_scatters(x, m, v, nu, s, N):\n",
    "    mus = []\n",
    "    sigmas = []\n",
    "    for i in range(N):\n",
    "        mus.append(np.random.multivariate_normal(mean=m, cov=v, size=1).flatten())\n",
    "        sigmas.append(invwishart.rvs(size=1, df=nu, scale=s))\n",
    "    return np"
   ],
   "metadata": {
    "collapsed": false
   }
  },
  {
   "cell_type": "code",
   "execution_count": 92,
   "outputs": [
    {
     "data": {
      "text/plain": "array([21.80062438, 36.87571389])"
     },
     "execution_count": 92,
     "metadata": {},
     "output_type": "execute_result"
    }
   ],
   "source": [
    "np.max(x, axis=0)"
   ],
   "metadata": {
    "collapsed": false
   }
  },
  {
   "cell_type": "code",
   "execution_count": 111,
   "outputs": [
    {
     "name": "stdout",
     "output_type": "stream",
     "text": [
      "0.061897229942019134\n"
     ]
    }
   ],
   "source": [],
   "metadata": {
    "collapsed": false
   }
  },
  {
   "cell_type": "code",
   "execution_count": 81,
   "outputs": [
    {
     "name": "stdout",
     "output_type": "stream",
     "text": [
      "0.00036879479190479416\n"
     ]
    }
   ],
   "source": [],
   "metadata": {
    "collapsed": false
   }
  },
  {
   "cell_type": "code",
   "execution_count": 48,
   "outputs": [
    {
     "data": {
      "text/plain": "0.18991951299418494"
     },
     "execution_count": 48,
     "metadata": {},
     "output_type": "execute_result"
    }
   ],
   "source": [],
   "metadata": {
    "collapsed": false
   }
  },
  {
   "cell_type": "code",
   "execution_count": 47,
   "outputs": [
    {
     "name": "stdout",
     "output_type": "stream",
     "text": [
      "4.324863225724479\n"
     ]
    }
   ],
   "source": [],
   "metadata": {
    "collapsed": false
   }
  },
  {
   "cell_type": "code",
   "execution_count": null,
   "outputs": [],
   "source": [],
   "metadata": {
    "collapsed": false
   }
  }
 ],
 "metadata": {
  "kernelspec": {
   "display_name": "Python 3",
   "language": "python",
   "name": "python3"
  },
  "language_info": {
   "codemirror_mode": {
    "name": "ipython",
    "version": 2
   },
   "file_extension": ".py",
   "mimetype": "text/x-python",
   "name": "python",
   "nbconvert_exporter": "python",
   "pygments_lexer": "ipython2",
   "version": "2.7.6"
  }
 },
 "nbformat": 4,
 "nbformat_minor": 0
}
