{
 "cells": [
  {
   "cell_type": "code",
   "execution_count": 1,
   "metadata": {
    "collapsed": true
   },
   "outputs": [
    {
     "name": "stdout",
     "output_type": "stream",
     "text": [
      "['/Users/david/Documents/mastersCode/ubm/final/models/gmm/ibgmm', '/Users/david/.conda/envs/ubm/lib/python310.zip', '/Users/david/.conda/envs/ubm/lib/python3.10', '/Users/david/.conda/envs/ubm/lib/python3.10/lib-dynload', '', '/Users/david/.conda/envs/ubm/lib/python3.10/site-packages', '/Users/david/Documents/mastersCode/ubm']\n"
     ]
    }
   ],
   "source": [
    "import sys\n",
    "\n",
    "sys.path.append(\"/Users/david/Documents/mastersCode/ubm\")\n",
    "print(sys.path)"
   ]
  },
  {
   "cell_type": "code",
   "execution_count": 2,
   "outputs": [],
   "source": [
    "import pickle\n",
    "from importlib import reload\n",
    "import numpy as np\n",
    "import matplotlib.pyplot as plt"
   ],
   "metadata": {
    "collapsed": false
   }
  },
  {
   "cell_type": "code",
   "execution_count": 3,
   "outputs": [],
   "source": [
    "# Load state sequence and data from the pickle file\n",
    "with open('/Users/david/Documents/mastersCode/ubm/final/models/gmm/data/gmm_data_a.pkl', 'rb') as file:\n",
    "    gmm_data = pickle.load(file)\n",
    "\n",
    "# Access the loaded data\n",
    "loaded_data = gmm_data['data']\n",
    "loaded_labels = gmm_data['labels']"
   ],
   "metadata": {
    "collapsed": false
   }
  },
  {
   "cell_type": "code",
   "execution_count": 29,
   "outputs": [],
   "source": [
    "import final.models.gmm.ibgmm.ibgmm as ibgmm\n",
    "reload(ibgmm)\n",
    "\n",
    "my_bgmm = ibgmm.InfiniteGMMGibbsSampler(loaded_data, 5, Z_true=loaded_labels, iterations=10)"
   ],
   "metadata": {
    "collapsed": false
   }
  },
  {
   "cell_type": "code",
   "execution_count": 30,
   "outputs": [
    {
     "name": "stdout",
     "output_type": "stream",
     "text": [
      "starting gibbs sampling\n"
     ]
    },
    {
     "ename": "KeyboardInterrupt",
     "evalue": "",
     "output_type": "error",
     "traceback": [
      "\u001B[0;31m---------------------------------------------------------------------------\u001B[0m",
      "\u001B[0;31mKeyboardInterrupt\u001B[0m                         Traceback (most recent call last)",
      "Cell \u001B[0;32mIn[30], line 1\u001B[0m\n\u001B[0;32m----> 1\u001B[0m \u001B[43mmy_bgmm\u001B[49m\u001B[38;5;241;43m.\u001B[39;49m\u001B[43mfit\u001B[49m\u001B[43m(\u001B[49m\u001B[43m)\u001B[49m\n",
      "File \u001B[0;32m~/Documents/mastersCode/ubm/final/models/gmm/ibgmm/ibgmm.py:248\u001B[0m, in \u001B[0;36mInfiniteGMMGibbsSampler.fit\u001B[0;34m(self)\u001B[0m\n\u001B[1;32m    246\u001B[0m \u001B[38;5;28mprint\u001B[39m(\u001B[38;5;124m'\u001B[39m\u001B[38;5;124mstarting gibbs sampling\u001B[39m\u001B[38;5;124m'\u001B[39m)\n\u001B[1;32m    247\u001B[0m \u001B[38;5;28;01mfor\u001B[39;00m it \u001B[38;5;129;01min\u001B[39;00m \u001B[38;5;28mrange\u001B[39m(\u001B[38;5;28mself\u001B[39m\u001B[38;5;241m.\u001B[39miterations):\n\u001B[0;32m--> 248\u001B[0m     \u001B[38;5;28;43mself\u001B[39;49m\u001B[38;5;241;43m.\u001B[39;49m\u001B[43mgibbs_sweep\u001B[49m\u001B[43m(\u001B[49m\u001B[43m)\u001B[49m\n\u001B[1;32m    250\u001B[0m     \u001B[38;5;66;03m# save trace\u001B[39;00m\n\u001B[1;32m    251\u001B[0m     \u001B[38;5;66;03m# if it > self.burn_in:\u001B[39;00m\n\u001B[1;32m    252\u001B[0m     \u001B[38;5;28mself\u001B[39m\u001B[38;5;241m.\u001B[39mmu_trace\u001B[38;5;241m.\u001B[39mappend(\u001B[38;5;28mself\u001B[39m\u001B[38;5;241m.\u001B[39mmu)\n",
      "File \u001B[0;32m~/Documents/mastersCode/ubm/final/models/gmm/ibgmm/ibgmm.py:235\u001B[0m, in \u001B[0;36mInfiniteGMMGibbsSampler.gibbs_sweep\u001B[0;34m(self)\u001B[0m\n\u001B[1;32m    234\u001B[0m \u001B[38;5;28;01mdef\u001B[39;00m \u001B[38;5;21mgibbs_sweep\u001B[39m(\u001B[38;5;28mself\u001B[39m):\n\u001B[0;32m--> 235\u001B[0m     \u001B[38;5;28;43mself\u001B[39;49m\u001B[38;5;241;43m.\u001B[39;49m\u001B[43msample_z\u001B[49m\u001B[43m(\u001B[49m\u001B[43m)\u001B[49m\n\u001B[1;32m    236\u001B[0m     \u001B[38;5;28mself\u001B[39m\u001B[38;5;241m.\u001B[39mupdate_ss()\n\u001B[1;32m    237\u001B[0m     \u001B[38;5;28mself\u001B[39m\u001B[38;5;241m.\u001B[39msample_theta()\n",
      "File \u001B[0;32m~/Documents/mastersCode/ubm/final/models/gmm/ibgmm/ibgmm.py:174\u001B[0m, in \u001B[0;36mInfiniteGMMGibbsSampler.sample_z\u001B[0;34m(self)\u001B[0m\n\u001B[1;32m    171\u001B[0m \u001B[38;5;28mself\u001B[39m\u001B[38;5;241m.\u001B[39mremove_x_from_z(i)\n\u001B[1;32m    173\u001B[0m crp_k, crp_new \u001B[38;5;241m=\u001B[39m \u001B[38;5;28mself\u001B[39m\u001B[38;5;241m.\u001B[39mcalculate_crp()\n\u001B[0;32m--> 174\u001B[0m theta_k, theta_new \u001B[38;5;241m=\u001B[39m \u001B[38;5;28;43mself\u001B[39;49m\u001B[38;5;241;43m.\u001B[39;49m\u001B[43mcalculate_posterior_theta\u001B[49m\u001B[43m(\u001B[49m\u001B[43mx\u001B[49m\u001B[43m)\u001B[49m\n\u001B[1;32m    176\u001B[0m prob \u001B[38;5;241m=\u001B[39m np\u001B[38;5;241m.\u001B[39mhstack((crp_k\u001B[38;5;241m+\u001B[39mtheta_k,crp_new\u001B[38;5;241m+\u001B[39mtheta_new))\n\u001B[1;32m    178\u001B[0m post_cases_probs \u001B[38;5;241m=\u001B[39m compute_probabilities(prob)\n",
      "File \u001B[0;32m~/Documents/mastersCode/ubm/final/models/gmm/ibgmm/ibgmm.py:163\u001B[0m, in \u001B[0;36mInfiniteGMMGibbsSampler.calculate_posterior_theta\u001B[0;34m(self, x)\u001B[0m\n\u001B[1;32m    160\u001B[0m \u001B[38;5;28;01mfor\u001B[39;00m k \u001B[38;5;129;01min\u001B[39;00m \u001B[38;5;28mrange\u001B[39m(\u001B[38;5;28mself\u001B[39m\u001B[38;5;241m.\u001B[39mK):\n\u001B[1;32m    161\u001B[0m     theta_k[k] \u001B[38;5;241m=\u001B[39m multivariate_normal\u001B[38;5;241m.\u001B[39mlogpdf(x, mean\u001B[38;5;241m=\u001B[39m\u001B[38;5;28mself\u001B[39m\u001B[38;5;241m.\u001B[39mmu[k], cov\u001B[38;5;241m=\u001B[39m\u001B[38;5;28mself\u001B[39m\u001B[38;5;241m.\u001B[39msigma[k])\n\u001B[0;32m--> 163\u001B[0m theta_new \u001B[38;5;241m=\u001B[39m \u001B[38;5;28;43mself\u001B[39;49m\u001B[38;5;241;43m.\u001B[39;49m\u001B[43mniw_mc_estimate\u001B[49m\u001B[43m(\u001B[49m\u001B[43mx\u001B[49m\u001B[43m,\u001B[49m\u001B[43m \u001B[49m\u001B[38;5;28;43mint\u001B[39;49m\u001B[43m(\u001B[49m\u001B[38;5;241;43m1e2\u001B[39;49m\u001B[43m)\u001B[49m\u001B[43m,\u001B[49m\u001B[43m \u001B[49m\u001B[43mrandom_k\u001B[49m\u001B[38;5;241;43m=\u001B[39;49m\u001B[38;5;241;43m0\u001B[39;49m\u001B[43m)\u001B[49m\n\u001B[1;32m    165\u001B[0m \u001B[38;5;28;01mreturn\u001B[39;00m theta_k, theta_new\n",
      "File \u001B[0;32m~/Documents/mastersCode/ubm/final/models/gmm/ibgmm/ibgmm.py:145\u001B[0m, in \u001B[0;36mInfiniteGMMGibbsSampler.niw_mc_estimate\u001B[0;34m(self, x, n_mce, m, v, nu, s, random_k)\u001B[0m\n\u001B[1;32m    143\u001B[0m \u001B[38;5;28;01mfor\u001B[39;00m i \u001B[38;5;129;01min\u001B[39;00m \u001B[38;5;28mrange\u001B[39m(n_mce):\n\u001B[1;32m    144\u001B[0m     mus\u001B[38;5;241m.\u001B[39mappend(np\u001B[38;5;241m.\u001B[39mrandom\u001B[38;5;241m.\u001B[39mmultivariate_normal(mean\u001B[38;5;241m=\u001B[39mm, cov\u001B[38;5;241m=\u001B[39mv, size\u001B[38;5;241m=\u001B[39m\u001B[38;5;241m1\u001B[39m)\u001B[38;5;241m.\u001B[39mflatten())\n\u001B[0;32m--> 145\u001B[0m     sigmas\u001B[38;5;241m.\u001B[39mappend(\u001B[43minvwishart\u001B[49m\u001B[38;5;241;43m.\u001B[39;49m\u001B[43mrvs\u001B[49m\u001B[43m(\u001B[49m\u001B[43msize\u001B[49m\u001B[38;5;241;43m=\u001B[39;49m\u001B[38;5;241;43m1\u001B[39;49m\u001B[43m,\u001B[49m\u001B[43m \u001B[49m\u001B[43mdf\u001B[49m\u001B[38;5;241;43m=\u001B[39;49m\u001B[43mnu\u001B[49m\u001B[43m,\u001B[49m\u001B[43m \u001B[49m\u001B[43mscale\u001B[49m\u001B[38;5;241;43m=\u001B[39;49m\u001B[43ms\u001B[49m\u001B[43m)\u001B[49m)\n\u001B[1;32m    146\u001B[0m p \u001B[38;5;241m=\u001B[39m \u001B[38;5;241m0\u001B[39m\n\u001B[1;32m    147\u001B[0m \u001B[38;5;28;01mfor\u001B[39;00m i \u001B[38;5;129;01min\u001B[39;00m \u001B[38;5;28mrange\u001B[39m(n_mce):\n",
      "File \u001B[0;32m~/.conda/envs/ubm/lib/python3.10/site-packages/scipy/stats/_multivariate.py:2802\u001B[0m, in \u001B[0;36minvwishart_gen.rvs\u001B[0;34m(self, df, scale, size, random_state)\u001B[0m\n\u001B[1;32m   2799\u001B[0m \u001B[38;5;66;03m# Cholesky decomposition of inverted scale\u001B[39;00m\n\u001B[1;32m   2800\u001B[0m C \u001B[38;5;241m=\u001B[39m scipy\u001B[38;5;241m.\u001B[39mlinalg\u001B[38;5;241m.\u001B[39mcholesky(inv_scale, lower\u001B[38;5;241m=\u001B[39m\u001B[38;5;28;01mTrue\u001B[39;00m)\n\u001B[0;32m-> 2802\u001B[0m out \u001B[38;5;241m=\u001B[39m \u001B[38;5;28;43mself\u001B[39;49m\u001B[38;5;241;43m.\u001B[39;49m\u001B[43m_rvs\u001B[49m\u001B[43m(\u001B[49m\u001B[43mn\u001B[49m\u001B[43m,\u001B[49m\u001B[43m \u001B[49m\u001B[43mshape\u001B[49m\u001B[43m,\u001B[49m\u001B[43m \u001B[49m\u001B[43mdim\u001B[49m\u001B[43m,\u001B[49m\u001B[43m \u001B[49m\u001B[43mdf\u001B[49m\u001B[43m,\u001B[49m\u001B[43m \u001B[49m\u001B[43mC\u001B[49m\u001B[43m,\u001B[49m\u001B[43m \u001B[49m\u001B[43mrandom_state\u001B[49m\u001B[43m)\u001B[49m\n\u001B[1;32m   2804\u001B[0m \u001B[38;5;28;01mreturn\u001B[39;00m _squeeze_output(out)\n",
      "File \u001B[0;32m~/.conda/envs/ubm/lib/python3.10/site-packages/scipy/stats/_multivariate.py:2747\u001B[0m, in \u001B[0;36minvwishart_gen._rvs\u001B[0;34m(self, n, shape, dim, df, C, random_state)\u001B[0m\n\u001B[1;32m   2745\u001B[0m random_state \u001B[38;5;241m=\u001B[39m \u001B[38;5;28mself\u001B[39m\u001B[38;5;241m.\u001B[39m_get_random_state(random_state)\n\u001B[1;32m   2746\u001B[0m \u001B[38;5;66;03m# Get random draws A such that A ~ W(df, I)\u001B[39;00m\n\u001B[0;32m-> 2747\u001B[0m A \u001B[38;5;241m=\u001B[39m \u001B[38;5;28;43msuper\u001B[39;49m\u001B[43m(\u001B[49m\u001B[43m)\u001B[49m\u001B[38;5;241;43m.\u001B[39;49m\u001B[43m_standard_rvs\u001B[49m\u001B[43m(\u001B[49m\u001B[43mn\u001B[49m\u001B[43m,\u001B[49m\u001B[43m \u001B[49m\u001B[43mshape\u001B[49m\u001B[43m,\u001B[49m\u001B[43m \u001B[49m\u001B[43mdim\u001B[49m\u001B[43m,\u001B[49m\u001B[43m \u001B[49m\u001B[43mdf\u001B[49m\u001B[43m,\u001B[49m\u001B[43m \u001B[49m\u001B[43mrandom_state\u001B[49m\u001B[43m)\u001B[49m\n\u001B[1;32m   2749\u001B[0m \u001B[38;5;66;03m# Calculate SA = (CA)'^{-1} (CA)^{-1} ~ iW(df, scale)\u001B[39;00m\n\u001B[1;32m   2750\u001B[0m eye \u001B[38;5;241m=\u001B[39m np\u001B[38;5;241m.\u001B[39meye(dim)\n",
      "File \u001B[0;32m~/.conda/envs/ubm/lib/python3.10/site-packages/scipy/stats/_multivariate.py:2101\u001B[0m, in \u001B[0;36mwishart_gen._standard_rvs\u001B[0;34m(self, n, shape, dim, df, random_state)\u001B[0m\n\u001B[1;32m   2099\u001B[0m \u001B[38;5;66;03m# Input the covariances\u001B[39;00m\n\u001B[1;32m   2100\u001B[0m size_idx \u001B[38;5;241m=\u001B[39m \u001B[38;5;28mtuple\u001B[39m([\u001B[38;5;28mslice\u001B[39m(\u001B[38;5;28;01mNone\u001B[39;00m, \u001B[38;5;28;01mNone\u001B[39;00m, \u001B[38;5;28;01mNone\u001B[39;00m)]\u001B[38;5;241m*\u001B[39m\u001B[38;5;28mlen\u001B[39m(shape))\n\u001B[0;32m-> 2101\u001B[0m tril_idx \u001B[38;5;241m=\u001B[39m \u001B[43mnp\u001B[49m\u001B[38;5;241;43m.\u001B[39;49m\u001B[43mtril_indices\u001B[49m\u001B[43m(\u001B[49m\u001B[43mdim\u001B[49m\u001B[43m,\u001B[49m\u001B[43m \u001B[49m\u001B[43mk\u001B[49m\u001B[38;5;241;43m=\u001B[39;49m\u001B[38;5;241;43m-\u001B[39;49m\u001B[38;5;241;43m1\u001B[39;49m\u001B[43m)\u001B[49m\n\u001B[1;32m   2102\u001B[0m A[size_idx \u001B[38;5;241m+\u001B[39m tril_idx] \u001B[38;5;241m=\u001B[39m covariances\n\u001B[1;32m   2104\u001B[0m \u001B[38;5;66;03m# Input the variances\u001B[39;00m\n",
      "File \u001B[0;32m~/.conda/envs/ubm/lib/python3.10/site-packages/numpy/lib/twodim_base.py:978\u001B[0m, in \u001B[0;36mtril_indices\u001B[0;34m(n, k, m)\u001B[0m\n\u001B[1;32m    900\u001B[0m \u001B[38;5;129m@set_module\u001B[39m(\u001B[38;5;124m'\u001B[39m\u001B[38;5;124mnumpy\u001B[39m\u001B[38;5;124m'\u001B[39m)\n\u001B[1;32m    901\u001B[0m \u001B[38;5;28;01mdef\u001B[39;00m \u001B[38;5;21mtril_indices\u001B[39m(n, k\u001B[38;5;241m=\u001B[39m\u001B[38;5;241m0\u001B[39m, m\u001B[38;5;241m=\u001B[39m\u001B[38;5;28;01mNone\u001B[39;00m):\n\u001B[1;32m    902\u001B[0m     \u001B[38;5;124;03m\"\"\"\u001B[39;00m\n\u001B[1;32m    903\u001B[0m \u001B[38;5;124;03m    Return the indices for the lower-triangle of an (n, m) array.\u001B[39;00m\n\u001B[1;32m    904\u001B[0m \n\u001B[0;32m   (...)\u001B[0m\n\u001B[1;32m    976\u001B[0m \n\u001B[1;32m    977\u001B[0m \u001B[38;5;124;03m    \"\"\"\u001B[39;00m\n\u001B[0;32m--> 978\u001B[0m     tri_ \u001B[38;5;241m=\u001B[39m \u001B[43mtri\u001B[49m\u001B[43m(\u001B[49m\u001B[43mn\u001B[49m\u001B[43m,\u001B[49m\u001B[43m \u001B[49m\u001B[43mm\u001B[49m\u001B[43m,\u001B[49m\u001B[43m \u001B[49m\u001B[43mk\u001B[49m\u001B[38;5;241;43m=\u001B[39;49m\u001B[43mk\u001B[49m\u001B[43m,\u001B[49m\u001B[43m \u001B[49m\u001B[43mdtype\u001B[49m\u001B[38;5;241;43m=\u001B[39;49m\u001B[38;5;28;43mbool\u001B[39;49m\u001B[43m)\u001B[49m\n\u001B[1;32m    980\u001B[0m     \u001B[38;5;28;01mreturn\u001B[39;00m \u001B[38;5;28mtuple\u001B[39m(broadcast_to(inds, tri_\u001B[38;5;241m.\u001B[39mshape)[tri_]\n\u001B[1;32m    981\u001B[0m                  \u001B[38;5;28;01mfor\u001B[39;00m inds \u001B[38;5;129;01min\u001B[39;00m indices(tri_\u001B[38;5;241m.\u001B[39mshape, sparse\u001B[38;5;241m=\u001B[39m\u001B[38;5;28;01mTrue\u001B[39;00m))\n",
      "File \u001B[0;32m~/.conda/envs/ubm/lib/python3.10/site-packages/numpy/lib/twodim_base.py:424\u001B[0m, in \u001B[0;36mtri\u001B[0;34m(N, M, k, dtype, like)\u001B[0m\n\u001B[1;32m    421\u001B[0m \u001B[38;5;28;01mif\u001B[39;00m M \u001B[38;5;129;01mis\u001B[39;00m \u001B[38;5;28;01mNone\u001B[39;00m:\n\u001B[1;32m    422\u001B[0m     M \u001B[38;5;241m=\u001B[39m N\n\u001B[0;32m--> 424\u001B[0m m \u001B[38;5;241m=\u001B[39m greater_equal\u001B[38;5;241m.\u001B[39mouter(arange(N, dtype\u001B[38;5;241m=\u001B[39m\u001B[43m_min_int\u001B[49m\u001B[43m(\u001B[49m\u001B[38;5;241;43m0\u001B[39;49m\u001B[43m,\u001B[49m\u001B[43m \u001B[49m\u001B[43mN\u001B[49m\u001B[43m)\u001B[49m),\n\u001B[1;32m    425\u001B[0m                         arange(\u001B[38;5;241m-\u001B[39mk, M\u001B[38;5;241m-\u001B[39mk, dtype\u001B[38;5;241m=\u001B[39m_min_int(\u001B[38;5;241m-\u001B[39mk, M \u001B[38;5;241m-\u001B[39m k)))\n\u001B[1;32m    427\u001B[0m \u001B[38;5;66;03m# Avoid making a copy if the requested type is already bool\u001B[39;00m\n\u001B[1;32m    428\u001B[0m m \u001B[38;5;241m=\u001B[39m m\u001B[38;5;241m.\u001B[39mastype(dtype, copy\u001B[38;5;241m=\u001B[39m\u001B[38;5;28;01mFalse\u001B[39;00m)\n",
      "File \u001B[0;32m~/.conda/envs/ubm/lib/python3.10/site-packages/numpy/lib/twodim_base.py:35\u001B[0m, in \u001B[0;36m_min_int\u001B[0;34m(low, high)\u001B[0m\n\u001B[1;32m     33\u001B[0m \u001B[38;5;28;01mdef\u001B[39;00m \u001B[38;5;21m_min_int\u001B[39m(low, high):\n\u001B[1;32m     34\u001B[0m     \u001B[38;5;124;03m\"\"\" get small int that fits the range \"\"\"\u001B[39;00m\n\u001B[0;32m---> 35\u001B[0m     \u001B[38;5;28;01mif\u001B[39;00m high \u001B[38;5;241m<\u001B[39m\u001B[38;5;241m=\u001B[39m i1\u001B[38;5;241m.\u001B[39mmax \u001B[38;5;129;01mand\u001B[39;00m low \u001B[38;5;241m>\u001B[39m\u001B[38;5;241m=\u001B[39m \u001B[43mi1\u001B[49m\u001B[38;5;241;43m.\u001B[39;49m\u001B[43mmin\u001B[49m:\n\u001B[1;32m     36\u001B[0m         \u001B[38;5;28;01mreturn\u001B[39;00m int8\n\u001B[1;32m     37\u001B[0m     \u001B[38;5;28;01mif\u001B[39;00m high \u001B[38;5;241m<\u001B[39m\u001B[38;5;241m=\u001B[39m i2\u001B[38;5;241m.\u001B[39mmax \u001B[38;5;129;01mand\u001B[39;00m low \u001B[38;5;241m>\u001B[39m\u001B[38;5;241m=\u001B[39m i2\u001B[38;5;241m.\u001B[39mmin:\n",
      "File \u001B[0;32m~/.conda/envs/ubm/lib/python3.10/site-packages/numpy/core/getlimits.py:659\u001B[0m, in \u001B[0;36miinfo.min\u001B[0;34m(self)\u001B[0m\n\u001B[1;32m    656\u001B[0m     \u001B[38;5;28;01mif\u001B[39;00m \u001B[38;5;28mself\u001B[39m\u001B[38;5;241m.\u001B[39mkind \u001B[38;5;129;01mnot\u001B[39;00m \u001B[38;5;129;01min\u001B[39;00m \u001B[38;5;124m'\u001B[39m\u001B[38;5;124miu\u001B[39m\u001B[38;5;124m'\u001B[39m:\n\u001B[1;32m    657\u001B[0m         \u001B[38;5;28;01mraise\u001B[39;00m \u001B[38;5;167;01mValueError\u001B[39;00m(\u001B[38;5;124m\"\u001B[39m\u001B[38;5;124mInvalid integer data type \u001B[39m\u001B[38;5;132;01m%r\u001B[39;00m\u001B[38;5;124m.\u001B[39m\u001B[38;5;124m\"\u001B[39m \u001B[38;5;241m%\u001B[39m (\u001B[38;5;28mself\u001B[39m\u001B[38;5;241m.\u001B[39mkind,))\n\u001B[0;32m--> 659\u001B[0m \u001B[38;5;129m@property\u001B[39m\n\u001B[1;32m    660\u001B[0m \u001B[38;5;28;01mdef\u001B[39;00m \u001B[38;5;21mmin\u001B[39m(\u001B[38;5;28mself\u001B[39m):\n\u001B[1;32m    661\u001B[0m     \u001B[38;5;124;03m\"\"\"Minimum value of given dtype.\"\"\"\u001B[39;00m\n\u001B[1;32m    662\u001B[0m     \u001B[38;5;28;01mif\u001B[39;00m \u001B[38;5;28mself\u001B[39m\u001B[38;5;241m.\u001B[39mkind \u001B[38;5;241m==\u001B[39m \u001B[38;5;124m'\u001B[39m\u001B[38;5;124mu\u001B[39m\u001B[38;5;124m'\u001B[39m:\n",
      "\u001B[0;31mKeyboardInterrupt\u001B[0m: "
     ]
    }
   ],
   "source": [
    "my_bgmm.fit()"
   ],
   "metadata": {
    "collapsed": false
   }
  },
  {
   "cell_type": "code",
   "execution_count": null,
   "outputs": [],
   "source": [
    "plt.plot(range(0,len(my_bgmm.ARI)), my_bgmm.ARI, marker=\"None\")\n",
    "plt.xlabel('iteration')\n",
    "plt.ylabel('ARI')\n",
    "#plt.savefig(\"./image/ari.png\")\n",
    "plt.show()\n",
    "plt.close()"
   ],
   "metadata": {
    "collapsed": false
   }
  },
  {
   "cell_type": "code",
   "execution_count": null,
   "outputs": [],
   "source": [],
   "metadata": {
    "collapsed": false
   }
  }
 ],
 "metadata": {
  "kernelspec": {
   "display_name": "Python 3",
   "language": "python",
   "name": "python3"
  },
  "language_info": {
   "codemirror_mode": {
    "name": "ipython",
    "version": 2
   },
   "file_extension": ".py",
   "mimetype": "text/x-python",
   "name": "python",
   "nbconvert_exporter": "python",
   "pygments_lexer": "ipython2",
   "version": "2.7.6"
  }
 },
 "nbformat": 4,
 "nbformat_minor": 0
}
