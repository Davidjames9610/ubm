{
 "cells": [
  {
   "cell_type": "markdown",
   "source": [
    "# cross-validate,\n",
    "\n",
    "create dummy date to show CV pipeline"
   ],
   "metadata": {
    "collapsed": false
   }
  },
  {
   "cell_type": "code",
   "execution_count": 2,
   "outputs": [],
   "source": [
    "import numpy as np\n",
    "from sklearn.model_selection import train_test_split"
   ],
   "metadata": {
    "collapsed": false
   }
  },
  {
   "cell_type": "code",
   "execution_count": 3,
   "outputs": [],
   "source": [
    "n = 10\n",
    "classes = 5\n",
    "data = []\n",
    "for i in range(classes * n):\n",
    "    data.append([i])\n",
    "data = np.concatenate(data)\n",
    "labels = np.copy(data)"
   ],
   "metadata": {
    "collapsed": false
   }
  },
  {
   "cell_type": "code",
   "execution_count": 22,
   "outputs": [],
   "source": [],
   "metadata": {
    "collapsed": false
   }
  },
  {
   "cell_type": "code",
   "execution_count": 10,
   "outputs": [],
   "source": [
    "\n",
    "from sklearn.model_selection import RepeatedKFold\n",
    "random_state = 12883823\n",
    "rkf = RepeatedKFold(n_splits=4, n_repeats=1, random_state=random_state)\n",
    "\n",
    "def split_data_for_cross_validation(data, labels, n_splits, test_ratio=0.2):\n",
    "    \"\"\"\n",
    "    Parameters\n",
    "    data - to be split\n",
    "    n_splits - number of splits for k-fold\n",
    "    test_ratio = 0.2, ratio of data for final testing\n",
    "\n",
    "    Returns\n",
    "    data_train, label_train, data_val, label_val, X_test, y_test\n",
    "    \"\"\"\n",
    "    X_train, X_test, y_train, y_test = train_test_split(data, labels, test_size=test_ratio, random_state=42) # 20 % of data held out for final testing\n",
    "    random_state = None # 12883823\n",
    "    rkf = RepeatedKFold(n_splits=n_splits, n_repeats=1, random_state=random_state)\n",
    "\n",
    "    data_train = []\n",
    "    data_val = []\n",
    "    label_train = []\n",
    "    label_val = []\n",
    "    for train_indices, validate_indices in rkf.split(X_train):\n",
    "        data_train.append(X_train[train_indices])\n",
    "        label_train.append(y_train[train_indices])\n",
    "\n",
    "        data_val.append(X_train[validate_indices])\n",
    "        label_val.append(y_train[validate_indices])\n",
    "\n",
    "    return data_train, label_train, data_val, label_val, X_test, y_test\n"
   ],
   "metadata": {
    "collapsed": false
   }
  },
  {
   "cell_type": "code",
   "execution_count": 11,
   "outputs": [],
   "source": [
    "results = split_data_for_cross_validation(data, labels, 4)"
   ],
   "metadata": {
    "collapsed": false
   }
  },
  {
   "cell_type": "code",
   "execution_count": null,
   "outputs": [],
   "source": [],
   "metadata": {
    "collapsed": false
   }
  }
 ],
 "metadata": {
  "kernelspec": {
   "display_name": "Python 3",
   "language": "python",
   "name": "python3"
  },
  "language_info": {
   "codemirror_mode": {
    "name": "ipython",
    "version": 2
   },
   "file_extension": ".py",
   "mimetype": "text/x-python",
   "name": "python",
   "nbconvert_exporter": "python",
   "pygments_lexer": "ipython2",
   "version": "2.7.6"
  }
 },
 "nbformat": 4,
 "nbformat_minor": 0
}
