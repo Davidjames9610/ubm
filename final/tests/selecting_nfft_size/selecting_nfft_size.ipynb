{
 "cells": [
  {
   "cell_type": "code",
   "execution_count": 1,
   "metadata": {
    "collapsed": true
   },
   "outputs": [
    {
     "name": "stdout",
     "output_type": "stream",
     "text": [
      "['/Users/david/Documents/mastersCode/ubm/final/tests/selecting_nfft_size', '/Users/david/.conda/envs/ubm/lib/python310.zip', '/Users/david/.conda/envs/ubm/lib/python3.10', '/Users/david/.conda/envs/ubm/lib/python3.10/lib-dynload', '', '/Users/david/.conda/envs/ubm/lib/python3.10/site-packages', '/Users/david/Documents/mastersCode/ubm']\n"
     ]
    }
   ],
   "source": [
    "# demo de-noising using fhmm\n",
    "# this was attempt 1, all is working but need to streamline so that\n",
    "# it's simpler to run lots of tests\n",
    "\n",
    "import sys\n",
    "sys.path.append(\"/Users/david/Documents/mastersCode/ubm\")\n",
    "print(sys.path)"
   ]
  },
  {
   "cell_type": "code",
   "execution_count": 2,
   "outputs": [],
   "source": [
    "import librosa\n",
    "import torchaudio\n",
    "import numpy as np\n",
    "import config\n",
    "import os.path\n",
    "import math\n",
    "import os\n",
    "import pathlib\n",
    "import random\n",
    "import torch\n",
    "import utils\n",
    "import warnings\n",
    "import my_torch.torchio as tio\n",
    "import torchaudio.functional as F\n",
    "import torchaudio.transforms as T"
   ],
   "metadata": {
    "collapsed": false
   }
  },
  {
   "cell_type": "code",
   "execution_count": 15,
   "outputs": [
    {
     "name": "stdout",
     "output_type": "stream",
     "text": [
      "__collected samples__\n",
      "humpback_a :  18\n",
      "humpback_b :  11\n",
      "bowhead :  34\n",
      "noise :  62\n"
     ]
    }
   ],
   "source": [
    "from whale.setup import get_data, constants, annotations\n",
    "import importlib\n",
    "importlib.reload(constants)\n",
    "\n",
    "importlib.reload(get_data)\n",
    "from final import useful\n",
    "importlib.reload(useful)\n",
    "\n",
    "HUMPBACK_A = 'humpback_a'\n",
    "HUMPBACK_B = 'humpback_b'\n",
    "BOWHEAD = 'bowhead'\n",
    "NOISE = 'noise'\n",
    "\n",
    "# constants for fe and what not\n",
    "fs = 4000\n",
    "\n",
    "signal_types = [HUMPBACK_A, HUMPBACK_B, BOWHEAD, NOISE]\n",
    "\n",
    "# type to label\n",
    "signal_types_labels = {\n",
    "    HUMPBACK_A: 0,\n",
    "    HUMPBACK_B: 1,\n",
    "    BOWHEAD: 2,\n",
    "    NOISE: 3\n",
    "}\n",
    "\n",
    "# label to type\n",
    "label_to_type = {\n",
    "    0: HUMPBACK_A,\n",
    "    1: HUMPBACK_B,\n",
    "    2: BOWHEAD,\n",
    "    3: NOISE\n",
    "}\n",
    "\n",
    "get_data_dict = {\n",
    "    HUMPBACK_A: [get_data.GetDataSimple(constants.HUMPBACK_WAV_A,constants.SWOOPS_LABELS_A, fs, useful.file_to_audio)],\n",
    "    HUMPBACK_B:[get_data.GetDataSimple(constants.HUMPBACK_WAV_A,constants.HIGH_CALLS_LABELS_A, fs, useful.file_to_audio)],\n",
    "    BOWHEAD: [get_data.GetDataSimple(constants.BOWHEAD_AUDIO,constants.BOWHEAD_LABELS_WHALE, fs, useful.file_to_audio)],\n",
    "    NOISE: [get_data.GetDataSimple(constants.HUMPBACK_WAV_A,constants.HUMPBACK_LABEL_A_NOISE, fs, useful.file_to_audio),\n",
    "            get_data.GetDataSimple(constants.BOWHEAD_AUDIO,constants.BOWHEAD_LABELS_NOISE, fs, useful.file_to_audio)]\n",
    "}\n",
    "\n",
    "samples, labels = useful.get_samples(get_data_dict, signal_types, signal_types_labels)"
   ],
   "metadata": {
    "collapsed": false
   }
  },
  {
   "cell_type": "code",
   "execution_count": 16,
   "outputs": [],
   "source": [
    "import noisey\n",
    "\n",
    "def get_feature(samp, nfft):\n",
    "    # add optionals here if needed\n",
    "    # mfcc\n",
    "    # feat = librosa.feature.mfcc(y=samp,sr=4000,n_mfcc=13).T\n",
    "    feat = useful.get_log_power_feature(samp, nfft=nfft)\n",
    "    return feat\n",
    "\n",
    "signal_avg_db = -16 # from inspection\n",
    "\n",
    "def get_noise_for_sample(sig_db, sample, snr_1=30, snr_2=30, snr_3=30):\n",
    "    noise_power_1 = noisey.get_noise_power_given_signal_avg_db(sig_db, snr_1)\n",
    "    noise_power_2 = noisey.get_noise_power_given_signal_avg_db(sig_db, snr_2)\n",
    "    noise_power_3 = noisey.get_noise_power_given_signal_avg_db(sig_db, snr_3)\n",
    "    noise_sample, _ = noisey.generate_gaussian_noise(len(sample), noise_power_1, noise_power_2, noise_power_3)\n",
    "    return noise_sample"
   ],
   "metadata": {
    "collapsed": false
   }
  },
  {
   "cell_type": "code",
   "execution_count": 17,
   "outputs": [],
   "source": [
    "# separate using cross-validation\n",
    "import final.cross_validation as cv\n",
    "from final.cross_validation import *\n",
    "import importlib\n",
    "importlib.reload(cv)\n",
    "\n",
    "n_folds = 2\n",
    "cv_output = cv.split_data_for_cross_validation(samples, labels, n_folds, test_ratio=0.2)"
   ],
   "metadata": {
    "collapsed": false
   }
  },
  {
   "cell_type": "code",
   "execution_count": 31,
   "outputs": [],
   "source": [
    "cv_index = 1    # select train and test for this iteration\n",
    "importlib.reload(useful)\n",
    "train = useful.SampleHolder(cv_output[TRAIN_DATA][cv_index], cv_output[TRAIN_LABEL][cv_index])\n",
    "val = useful.SampleHolder(cv_output[VAL_DATA][cv_index], cv_output[VAL_LABEL][cv_index])\n",
    "test = useful.SampleHolder(cv_output[TEST_DATA], cv_output[TEST_LABEL])\n",
    "\n",
    "from hmmlearn.hmm import GaussianHMM\n",
    "\n",
    "n_components = 8\n",
    "nffts = [64, 128, 256, 512, 1024]\n",
    "nfft_index = 0\n",
    "snrdb = 10\n",
    "\n",
    "dicts_results = {}"
   ],
   "metadata": {
    "collapsed": false
   }
  },
  {
   "cell_type": "code",
   "execution_count": 32,
   "outputs": [
    {
     "name": "stdout",
     "output_type": "stream",
     "text": [
      "nfft_index 0\n",
      "fold 0\n",
      "results for:  64 fold:  0\n",
      "time 1.1835620403289795\n",
      "fold 1\n",
      "results for:  64 fold:  1\n",
      "time 1.192730188369751\n",
      "nfft_index 1\n",
      "fold 0\n",
      "results for:  128 fold:  0\n",
      "time 0.9681718349456787\n",
      "fold 1\n",
      "results for:  128 fold:  1\n",
      "time 0.9726767539978027\n",
      "nfft_index 2\n",
      "fold 0\n",
      "results for:  256 fold:  0\n",
      "time 0.9275012016296387\n",
      "fold 1\n",
      "results for:  256 fold:  1\n",
      "time 0.9444370269775391\n",
      "nfft_index 3\n",
      "fold 0\n",
      "results for:  512 fold:  0\n",
      "time 1.1576602458953857\n",
      "fold 1\n",
      "results for:  512 fold:  1\n",
      "time 1.2204389572143555\n",
      "nfft_index 4\n",
      "fold 0\n",
      "results for:  1024 fold:  0\n",
      "time 1.8331520557403564\n",
      "fold 1\n",
      "results for:  1024 fold:  1\n",
      "time 1.9089949131011963\n"
     ]
    }
   ],
   "source": [
    "for nfft_index in range(len(nffts)):\n",
    "    print('nfft_index', nfft_index)\n",
    "\n",
    "    for i in range(2):\n",
    "        print('fold', i)\n",
    "        cv_index = i\n",
    "\n",
    "        print('results for: ', nffts[nfft_index], 'fold: ', cv_index)\n",
    "\n",
    "        hmms = {\n",
    "            HUMPBACK_A: GaussianHMM(n_components),\n",
    "            HUMPBACK_B: GaussianHMM(n_components),\n",
    "            BOWHEAD: GaussianHMM(n_components),\n",
    "            NOISE: GaussianHMM(5)\n",
    "        }\n",
    "\n",
    "        train.features = []\n",
    "        for sample in train.samples:\n",
    "            train.features.append(get_feature(sample, nffts[nfft_index]))\n",
    "\n",
    "        for key in hmms:\n",
    "            cur_hmm = hmms[key]\n",
    "            feat_indicis = train.sample_labels == signal_types_labels[key]\n",
    "            hmm_features = [item for item, condition in zip(train.features, feat_indicis) if condition]\n",
    "            cur_hmm.fit(np.concatenate(hmm_features))\n",
    "\n",
    "        # get accuracy measure then decode combine\n",
    "        import sklearn.metrics\n",
    "        from final.tests import decode_combine as dc\n",
    "        importlib.reload(dc)\n",
    "        combined_model = dc.DecodeCombineGaussian([hmm for hmm in hmms.values()])\n",
    "\n",
    "        importlib.reload(useful)\n",
    "        val.features = []\n",
    "        noise_samples = []\n",
    "        noise_features = []\n",
    "        for i in range(len(val.samples)):\n",
    "\n",
    "             # ---- noise / reverb adjustments ---- START\n",
    "            noise_sample = get_noise_for_sample(signal_avg_db, val.samples[i], snrdb, snrdb, 30)\n",
    "            noise_samples.append(noise_sample)\n",
    "            noise_features.append(get_feature(noise_sample, nfft=nffts[nfft_index]))\n",
    "            adjusted_sample = val.samples[i] + noise_sample\n",
    "            # ---- noise / reverb adjustments ---- END\n",
    "\n",
    "            feature = get_feature(adjusted_sample, nfft=nffts[nfft_index])\n",
    "            val.features.append(feature)\n",
    "        val.update_feature_labels()\n",
    "\n",
    "        noise_hmm = GaussianHMM(5, covariance_type='full', init_params='')\n",
    "        noise_hmm.fit(np.concatenate(noise_features))\n",
    "\n",
    "        test.features = []\n",
    "        for i in range(len(test.samples)):\n",
    "\n",
    "            # ---- noise / reverb adjustments ---- START\n",
    "            noise_sample = get_noise_for_sample(signal_avg_db, test.samples[i], snrdb, snrdb, 30)\n",
    "            noise_samples.append(noise_sample)\n",
    "            noise_features.append(get_feature(noise_sample, nfft=nffts[nfft_index]))\n",
    "            adjusted_sample = test.samples[i] + noise_sample\n",
    "            # ---- noise / reverb adjustments ---- END\n",
    "\n",
    "            feature = get_feature(adjusted_sample, nfft=nffts[nfft_index])\n",
    "            test.features.append(feature)\n",
    "        test.update_feature_labels()\n",
    "\n",
    "        import time\n",
    "        import pandas as pd\n",
    "\n",
    "        from final.models.fhmm import FactorialHMM\n",
    "\n",
    "        fhmms = {}\n",
    "        for key in hmms:\n",
    "            fhmm = FactorialHMM(hmms[key], noise_hmm)\n",
    "            fhmms[key] = fhmm.hmm\n",
    "\n",
    "        combined_model_fhmm = dc.DecodeCombineGaussian([fhmm for fhmm in fhmms.values()])\n",
    "\n",
    "        # validation\n",
    "        start = time.time()\n",
    "        _, val_pred, _ = combined_model_fhmm.decode_hmmlearn(np.concatenate(val.features))\n",
    "        end = time.time()\n",
    "        print('time', end - start)\n",
    "        metrics = useful.perf_measure(np.concatenate(val.feature_labels), val_pred)\n",
    "        metrics['time'] = end - start\n",
    "        df = pd.DataFrame([metrics])\n",
    "\n",
    "        # test\n",
    "        _, val_pred, _ = combined_model_fhmm.decode_hmmlearn(np.concatenate(test.features))\n",
    "        metrics = useful.perf_measure(np.concatenate(test.feature_labels), val_pred)\n",
    "        metrics['time'] = 0\n",
    "        df_new = pd.DataFrame([metrics])\n",
    "\n",
    "        df = pd.concat([df, df_new],  ignore_index=True)\n",
    "\n",
    "        dicts_results[str(nfft_index) + str(cv_index)] = df\n",
    "\n",
    "        # Assuming 'result' is your DataFrame\n",
    "        # df.to_csv('output.csv', index=False)\n",
    "\n",
    "        # {'acc': 0.8788552375659906, 'tpr': 0.992887029288703, 'fpr': 0.3465674110835401}      | 30 db snr\n",
    "        # {'acc': 0.37735085945399394, 'tpr': 0.2629573170731707, 'fpr': 0.17641228939544104}   | 10 db snr"
   ],
   "metadata": {
    "collapsed": false,
    "pycharm": {
     "name": "#%% \n"
    }
   }
  },
  {
   "cell_type": "code",
   "execution_count": 34,
   "outputs": [],
   "source": [
    "concatenated_df = pd.concat(dicts_results.values(), axis=0, ignore_index=True)"
   ],
   "metadata": {
    "collapsed": false
   }
  },
  {
   "cell_type": "code",
   "execution_count": 14,
   "outputs": [
    {
     "data": {
      "text/plain": "{'ACC': 0.6971830985915493,\n 'TPR': 0.6911764705882353,\n 'FPR': 0.2972972972972973,\n 'TNR': 0.7027027027027027,\n 'PPV': 0.6811594202898551,\n 'NPV': 0.7123287671232876,\n 'FNR': 0.3088235294117647,\n 'FDR': 0.3188405797101449}"
     },
     "execution_count": 14,
     "metadata": {},
     "output_type": "execute_result"
    }
   ],
   "source": [
    "useful.perf_measure(np.concatenate(test.feature_labels), val_pred)"
   ],
   "metadata": {
    "collapsed": false
   }
  }
 ],
 "metadata": {
  "kernelspec": {
   "display_name": "Python 3",
   "language": "python",
   "name": "python3"
  },
  "language_info": {
   "codemirror_mode": {
    "name": "ipython",
    "version": 2
   },
   "file_extension": ".py",
   "mimetype": "text/x-python",
   "name": "python",
   "nbconvert_exporter": "python",
   "pygments_lexer": "ipython2",
   "version": "2.7.6"
  }
 },
 "nbformat": 4,
 "nbformat_minor": 0
}
