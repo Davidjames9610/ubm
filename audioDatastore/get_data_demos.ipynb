{
 "cells": [
  {
   "cell_type": "code",
   "execution_count": 4,
   "metadata": {
    "collapsed": true
   },
   "outputs": [],
   "source": [
    "\n",
    "\n",
    "import os\n",
    "import os.path\n",
    "from pathlib import Path\n"
   ]
  },
  {
   "cell_type": "code",
   "execution_count": 20,
   "outputs": [],
   "source": [
    "class AudioDatastore:\n",
    "    def __init__(self, folders=None, files=None, labels=None):\n",
    "        self.folders = folders\n",
    "        self.files = files\n",
    "        self.labels = labels\n",
    "\n",
    "    def set(self, folders=None, files=None, labels=None):\n",
    "        if folders:\n",
    "            self.folders = folders\n",
    "        if files:\n",
    "            self.files = files\n",
    "        if labels:\n",
    "            self.labels = labels\n",
    "\n",
    "    def populate(self, folders, include_sub_folders=False, label_source=None):\n",
    "        self.folders = folders\n",
    "\n",
    "        files = []\n",
    "        labels = []\n",
    "\n",
    "        # if include_sub_folders:\n",
    "        for folder_name in os.listdir(folders):\n",
    "            folder_path = Path(folders) / folder_name\n",
    "            if os.path.isdir(folder_path):\n",
    "                for file_name in os.listdir(folder_path):\n",
    "                    if file_name.endswith(\".wav\"):\n",
    "                        file_path = Path(folder_path) / file_name\n",
    "                        files.append(file_path)\n",
    "                        if label_source:\n",
    "                            labels.append(folder_name)\n",
    "\n",
    "        self.files = files\n",
    "        self.labels = labels\n",
    "\n",
    "def subset(audio_datastore: AudioDatastore, label):\n",
    "    labels = audio_datastore.labels\n",
    "    files = audio_datastore.files\n",
    "    folders = audio_datastore.folders\n",
    "    new_labels = []\n",
    "    new_files = []\n",
    "\n",
    "    for i in range(len(labels)):\n",
    "        if labels[i] in label:\n",
    "            new_labels.append(labels[i])\n",
    "            new_files.append(files[i])\n",
    "\n",
    "    new_ads = AudioDatastore(folders, files=new_files, labels=new_labels)\n",
    "\n",
    "    return new_ads\n"
   ],
   "metadata": {
    "collapsed": false,
    "pycharm": {
     "name": "#%%\n"
    }
   }
  },
  {
   "cell_type": "code",
   "execution_count": 21,
   "outputs": [],
   "source": [
    "\n",
    "datasetFolder = r\"C:\\Users\\David\\OneDrive\\Desktop\\matlab\\data\\speech_commands_v0.01\"\n",
    "\n",
    "ads = AudioDatastore()\n",
    "ads.populate(datasetFolder,include_sub_folders=True, label_source=True)"
   ],
   "metadata": {
    "collapsed": false,
    "pycharm": {
     "name": "#%%\n"
    }
   }
  },
  {
   "cell_type": "code",
   "execution_count": 22,
   "outputs": [],
   "source": [
    "ads_subset = subset(ads, label='stop')"
   ],
   "metadata": {
    "collapsed": false,
    "pycharm": {
     "name": "#%%\n"
    }
   }
  },
  {
   "cell_type": "code",
   "execution_count": 29,
   "outputs": [],
   "source": [
    "speakers = []\n",
    "for file in ads_subset.files:\n",
    "    nm = os.path.basename(file)\n",
    "    nm = nm.split('_')[0]\n",
    "    speakers.append('a' + nm)\n",
    "\n",
    "ads_subset.set(labels=speakers)"
   ],
   "metadata": {
    "collapsed": false,
    "pycharm": {
     "name": "#%%\n"
    }
   }
  },
  {
   "cell_type": "code",
   "execution_count": null,
   "outputs": [],
   "source": [],
   "metadata": {
    "collapsed": false,
    "pycharm": {
     "name": "#%%\n"
    }
   }
  }
 ],
 "metadata": {
  "kernelspec": {
   "display_name": "Python 3",
   "language": "python",
   "name": "python3"
  },
  "language_info": {
   "codemirror_mode": {
    "name": "ipython",
    "version": 2
   },
   "file_extension": ".py",
   "mimetype": "text/x-python",
   "name": "python",
   "nbconvert_exporter": "python",
   "pygments_lexer": "ipython2",
   "version": "2.7.6"
  }
 },
 "nbformat": 4,
 "nbformat_minor": 0
}