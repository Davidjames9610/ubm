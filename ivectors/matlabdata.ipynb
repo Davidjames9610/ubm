{
 "cells": [
  {
   "cell_type": "code",
   "execution_count": 1,
   "metadata": {
    "collapsed": true
   },
   "outputs": [],
   "source": [
    "import numpy as np"
   ]
  },
  {
   "cell_type": "code",
   "execution_count": 2,
   "outputs": [],
   "source": [
    "from scipy.io import loadmat\n"
   ],
   "metadata": {
    "collapsed": false
   }
  },
  {
   "cell_type": "code",
   "execution_count": 3,
   "outputs": [],
   "source": [
    "x = loadmat('all_features.mat')"
   ],
   "metadata": {
    "collapsed": false
   }
  },
  {
   "cell_type": "code",
   "execution_count": 8,
   "outputs": [],
   "source": [
    "all_features = x['all_features'].tolist()[0]"
   ],
   "metadata": {
    "collapsed": false
   }
  },
  {
   "cell_type": "code",
   "execution_count": 24,
   "outputs": [],
   "source": [
    "all_features_t = []\n",
    "for feature in all_features:\n",
    "    all_features_t.append(feature.T)"
   ],
   "metadata": {
    "collapsed": false
   }
  },
  {
   "cell_type": "code",
   "execution_count": 25,
   "outputs": [],
   "source": [
    "import pickle\n",
    "pickle.dump(all_features_t, open('all_features.pickle','wb'))"
   ],
   "metadata": {
    "collapsed": false
   }
  },
  {
   "cell_type": "code",
   "execution_count": 21,
   "outputs": [],
   "source": [
    "mu = loadmat('mu.mat')['mu'].T\n",
    "sigma =  loadmat('sigma.mat')['sigma'].T\n",
    "weights = loadmat('ComponentProportion.mat')['ComponentProportion'].T\n",
    "weights = weights.flatten()\n",
    "\n",
    "numComponents = mu.shape[0]\n",
    "numFeatures = mu.shape[1]"
   ],
   "metadata": {
    "collapsed": false
   }
  },
  {
   "cell_type": "code",
   "execution_count": 22,
   "outputs": [],
   "source": [
    "from sklearn.mixture import GaussianMixture, _gaussian_mixture\n",
    "\n",
    "# construct gmm\n",
    "\n",
    "ubm = GaussianMixture(n_components=numComponents, covariance_type='diag', weights_init=weights, precisions_init=sigma)\n",
    "\n",
    "ubm.means_ = mu\n",
    "ubm.covariances_ = sigma\n",
    "ubm.weights_ = weights\n",
    "ubm.precisions_cholesky_ = _gaussian_mixture._compute_precision_cholesky(sigma, 'diag')"
   ],
   "metadata": {
    "collapsed": false
   }
  },
  {
   "cell_type": "code",
   "execution_count": 23,
   "outputs": [],
   "source": [
    "pickle.dump(ubm, open('ubm-mat.pickle','wb'))"
   ],
   "metadata": {
    "collapsed": false
   }
  },
  {
   "cell_type": "code",
   "execution_count": null,
   "outputs": [],
   "source": [],
   "metadata": {
    "collapsed": false
   }
  }
 ],
 "metadata": {
  "kernelspec": {
   "display_name": "Python 3",
   "language": "python",
   "name": "python3"
  },
  "language_info": {
   "codemirror_mode": {
    "name": "ipython",
    "version": 2
   },
   "file_extension": ".py",
   "mimetype": "text/x-python",
   "name": "python",
   "nbconvert_exporter": "python",
   "pygments_lexer": "ipython2",
   "version": "2.7.6"
  }
 },
 "nbformat": 4,
 "nbformat_minor": 0
}
