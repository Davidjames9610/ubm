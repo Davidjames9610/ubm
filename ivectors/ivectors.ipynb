{
 "cells": [
  {
   "cell_type": "code",
   "execution_count": 2,
   "metadata": {
    "collapsed": true
   },
   "outputs": [],
   "source": [
    "from importlib import reload\n",
    "import audioDatastore.AudioDatastore as myads\n",
    "reload(myads)\n",
    "import os.path\n",
    "from collections import Counter\n",
    "import random\n",
    "from python_speech_features import mfcc, delta\n",
    "import scipy.io.wavfile as wav\n",
    "from spafe.utils import vis\n",
    "import matplotlib.pyplot as plt\n",
    "import misc.vad as vad\n",
    "from sklearn.mixture import GaussianMixture, _gaussian_mixture\n",
    "reload(vad)\n",
    "import numpy as np\n",
    "from scipy.special import logsumexp\n",
    "from collections import Counter\n",
    "import helper_functions as hf\n",
    "reload(hf)\n",
    "import pickle"
   ]
  },
  {
   "cell_type": "code",
   "execution_count": 3,
   "outputs": [],
   "source": [
    "# create ads\n",
    "# female ads\n",
    "datasetFolder = r\"C:\\Users\\David\\OneDrive\\Desktop\\matlab\\data\\SPEECH DATA\\FEMALE\\MIC\"\n",
    "female_ads = myads.AudioDatastore()\n",
    "female_ads.populate(datasetFolder,include_sub_folders=True, label_source=True)\n",
    "Counter(female_ads.labels).values()\n",
    "# male ads\n",
    "datasetFolder = r\"C:\\Users\\David\\OneDrive\\Desktop\\matlab\\data\\SPEECH DATA\\MALE\\MIC\"\n",
    "male_ads = myads.AudioDatastore()\n",
    "male_ads.populate(datasetFolder,include_sub_folders=True, label_source=True)\n",
    "Counter(male_ads.labels).values()\n",
    "# combine ads\n",
    "ads = myads.AudioDatastore()\n",
    "ads.set([datasetFolder], files=female_ads.files + male_ads.files, labels=female_ads.labels+male_ads.labels)"
   ],
   "metadata": {
    "collapsed": false,
    "pycharm": {
     "name": "#%%\n"
    }
   }
  },
  {
   "cell_type": "code",
   "execution_count": 4,
   "outputs": [],
   "source": [
    "# split ads\n",
    "developmentLabels = [\"M01\",\"M02\",\"M03\",\"M04\",\"M06\",\"M07\",\"M08\",\"M09\",\"F01\",\"F02\",\"F03\",\"F04\",\"F06\",\"F07\",\"F08\",\"F09\"]\n",
    "evaluationLabels = [\"M05\",\"M10\",\"F05\",\"F10\"]\n",
    "adsTrain = myads.subset(ads, developmentLabels)\n",
    "adsEvaluate = myads.subset(ads, evaluationLabels)\n",
    "numFilesPerSpeakerForEnrollment = 3\n",
    "adsEnroll, adsDet = myads.split(adsEvaluate, 3)\n",
    "adsTest, adsDet = myads.split(adsDet, 2)"
   ],
   "metadata": {
    "collapsed": false,
    "pycharm": {
     "name": "#%%\n"
    }
   }
  },
  {
   "cell_type": "code",
   "execution_count": 17,
   "outputs": [
    {
     "name": "stdout",
     "output_type": "stream",
     "text": [
      "9\n"
     ]
    }
   ],
   "source": [
    "# test removing indices\n",
    "\n",
    "files = adsTrain.files[0:10]\n",
    "files.pop(3)\n",
    "print(len(files))"
   ],
   "metadata": {
    "collapsed": false,
    "pycharm": {
     "name": "#%%\n"
    }
   }
  },
  {
   "cell_type": "code",
   "execution_count": 5,
   "outputs": [],
   "source": [
    "speedUpExamples = True\n",
    "if speedUpExamples:\n",
    "    adsTrain, _ = myads.split(adsTrain, 30)\n",
    "    adsDet, _ = myads.split(adsDet, 21)"
   ],
   "metadata": {
    "collapsed": false,
    "pycharm": {
     "name": "#%%\n"
    }
   }
  },
  {
   "cell_type": "code",
   "execution_count": 6,
   "outputs": [],
   "source": [
    "# set sample rate,\n",
    "fs, _ = wav.read(adsTrain.files[0])"
   ],
   "metadata": {
    "collapsed": false,
    "pycharm": {
     "name": "#%%\n"
    }
   }
  },
  {
   "cell_type": "code",
   "execution_count": 27,
   "outputs": [],
   "source": [
    "reload = False\n",
    "\n",
    "try:\n",
    "    if reload :\n",
    "        raise Exception('reloading')\n",
    "    training_features = pickle.load(open('training_features.pickle','rb'))\n",
    "except:\n",
    "    zero_indices = []\n",
    "    training_features = []\n",
    "    for i in range(len(adsTrain.files)):\n",
    "        if i%50 == 0:\n",
    "            print('completed ' + str(i) + ' iterations')\n",
    "        feat = hf.helper_feature_extraction(adsTrain.files[i])\n",
    "        training_features.append(feat)\n",
    "    print('completed training feature fe!')\n",
    "    pickle.dump(training_features, open('training_features.pickle','wb'))"
   ],
   "metadata": {
    "collapsed": false,
    "pycharm": {
     "name": "#%%\n"
    }
   }
  },
  {
   "cell_type": "code",
   "execution_count": null,
   "outputs": [],
   "source": [
    "# remove [] vectors in training files and pop the file from ads\n",
    "\n",
    "training_features, adsTrain = myads.clean_zeros(adsTrain, training_features)"
   ],
   "metadata": {
    "collapsed": false,
    "pycharm": {
     "name": "#%%\n"
    }
   }
  },
  {
   "cell_type": "code",
   "execution_count": 29,
   "outputs": [
    {
     "name": "stdout",
     "output_type": "stream",
     "text": [
      "training files len: 480 features len: 480\n",
      "480\n",
      "480\n",
      "473\n",
      "480\n"
     ]
    }
   ],
   "source": [
    "import copy\n",
    "\n",
    "print('training files len: ' + str(len(adsTrain.files)) + ' features len: ' + str(len(training_features)))\n",
    "\n",
    "copy_features = copy.copy(training_features)\n",
    "print(len(copy_features))\n",
    "print(len(training_features))\n",
    "# copy_ads = adsTrain\n",
    "\n",
    "zero_indices = []\n",
    "for i in range(len(copy_features)):\n",
    "    if len(copy_features[i]) == 0:\n",
    "        zero_indices.append(i)\n",
    "\n",
    "for index in sorted(zero_indices, reverse=True):\n",
    "    del copy_features[index]\n",
    "\n",
    "for i in range(len(copy_features)):\n",
    "    if len(copy_features[i]) == 0:\n",
    "        print('nope')\n",
    "\n",
    "print(len(copy_features))\n",
    "print(len(training_features))"
   ],
   "metadata": {
    "collapsed": false,
    "pycharm": {
     "name": "#%%\n"
    }
   }
  },
  {
   "cell_type": "code",
   "execution_count": 23,
   "outputs": [
    {
     "data": {
      "text/plain": "True"
     },
     "execution_count": 23,
     "metadata": {},
     "output_type": "execute_result"
    }
   ],
   "source": [
    "len(training_features[70]) == 0"
   ],
   "metadata": {
    "collapsed": false,
    "pycharm": {
     "name": "#%%\n"
    }
   }
  },
  {
   "cell_type": "code",
   "execution_count": 8,
   "outputs": [],
   "source": [
    "# collect normalization factors\n",
    "\n",
    "import numpy as np\n",
    "\n",
    "means = []\n",
    "std = []\n",
    "for feature in training_features:\n",
    "    if len(feature) > 0:\n",
    "        means.append(np.mean(feature, axis=0))\n",
    "        std.append(np.std(feature, axis=0))\n",
    "\n",
    "means = np.array(means)\n",
    "means = np.mean(means, axis=0)\n",
    "\n",
    "std = np.array(std)\n",
    "std = np.mean(std, axis=0)\n",
    "\n",
    "class NormFactor:\n",
    "  def __init__(self, m, s):\n",
    "    self.means = m\n",
    "    self.std = s\n",
    "\n",
    "normFactors = NormFactor(means, std)\n",
    "\n",
    "pickle.dump(normFactors, open('normFactors.pickle','wb'))"
   ],
   "metadata": {
    "collapsed": false,
    "pycharm": {
     "name": "#%%\n"
    }
   }
  },
  {
   "cell_type": "code",
   "execution_count": 10,
   "outputs": [],
   "source": [
    "normalised_features = []\n",
    "\n",
    "for i in range(len(training_features)):\n",
    "    if len(training_features[i]) > 0:\n",
    "        normalised = (training_features[i] - means) / std\n",
    "        normalised = normalised - np.mean(normalised)\n",
    "        normalised_features.append(normalised)"
   ],
   "metadata": {
    "collapsed": false,
    "pycharm": {
     "name": "#%%\n"
    }
   }
  },
  {
   "cell_type": "code",
   "execution_count": 12,
   "outputs": [
    {
     "name": "stdout",
     "output_type": "stream",
     "text": [
      "sklearn model ll = -13.556662227987568\n"
     ]
    }
   ],
   "source": [
    "# train ubm\n",
    "numComponents = 32\n",
    "ubm = GaussianMixture(n_components=numComponents, covariance_type='diag')\n",
    "train_features_flattened = np.array([item for sublist in normalised_features for item in sublist])\n",
    "ubm.fit(train_features_flattened)\n",
    "print('sklearn model ll = ' + str(ubm.score(normalised_features[0])))\n",
    "pickle.dump(ubm, open('ubm.pickle','wb'))"
   ],
   "metadata": {
    "collapsed": false,
    "pycharm": {
     "name": "#%%\n"
    }
   }
  },
  {
   "cell_type": "code",
   "execution_count": null,
   "outputs": [],
   "source": [
    "# load\n",
    "ubm = pickle.load(open('ubm.pickle', 'rb'))\n",
    "normFactors = pickle.load(open('normFactors.pickle','rb'))"
   ],
   "metadata": {
    "collapsed": false,
    "pycharm": {
     "name": "#%%\n"
    }
   }
  },
  {
   "cell_type": "code",
   "execution_count": 13,
   "outputs": [],
   "source": [
    "for i in normalised_features:\n",
    "    if len(i) == 0:\n",
    "        print('sad face')"
   ],
   "metadata": {
    "collapsed": false,
    "pycharm": {
     "name": "#%%\n"
    }
   }
  },
  {
   "cell_type": "code",
   "execution_count": 15,
   "outputs": [
    {
     "name": "stdout",
     "output_type": "stream",
     "text": [
      "skipping train file because len = 0, will this create issues ? hmm\n",
      "skipping train file because len = 0, will this create issues ? hmm\n",
      "skipping train file because len = 0, will this create issues ? hmm\n",
      "skipping train file because len = 0, will this create issues ? hmm\n",
      "skipping train file because len = 0, will this create issues ? hmm\n",
      "skipping train file because len = 0, will this create issues ? hmm\n",
      "skipping train file because len = 0, will this create issues ? hmm\n",
      "skipping train file because len = 0, will this create issues ? hmm\n",
      "skipping train file because len = 0, will this create issues ? hmm\n",
      "skipping train file because len = 0, will this create issues ? hmm\n",
      "skipping train file because len = 0, will this create issues ? hmm\n",
      "skipping train file because len = 0, will this create issues ? hmm\n",
      "skipping train file because len = 0, will this create issues ? hmm\n",
      "skipping train file because len = 0, will this create issues ? hmm\n"
     ]
    },
    {
     "ename": "KeyboardInterrupt",
     "evalue": "",
     "output_type": "error",
     "traceback": [
      "\u001B[1;31m---------------------------------------------------------------------------\u001B[0m",
      "\u001B[1;31mKeyboardInterrupt\u001B[0m                         Traceback (most recent call last)",
      "Input \u001B[1;32mIn [15]\u001B[0m, in \u001B[0;36m<cell line: 12>\u001B[1;34m()\u001B[0m\n\u001B[0;32m     10\u001B[0m F \u001B[38;5;241m=\u001B[39m []\n\u001B[0;32m     12\u001B[0m \u001B[38;5;28;01mfor\u001B[39;00m file \u001B[38;5;129;01min\u001B[39;00m adsTrain\u001B[38;5;241m.\u001B[39mfiles:\n\u001B[1;32m---> 13\u001B[0m     speaker_feature \u001B[38;5;241m=\u001B[39m \u001B[43mhf\u001B[49m\u001B[38;5;241;43m.\u001B[39;49m\u001B[43mhelper_feature_extraction\u001B[49m\u001B[43m(\u001B[49m\u001B[43mfile\u001B[49m\u001B[43m,\u001B[49m\u001B[43m \u001B[49m\u001B[43mnormFactors\u001B[49m\u001B[43m)\u001B[49m\n\u001B[0;32m     14\u001B[0m     \u001B[38;5;28;01mif\u001B[39;00m \u001B[38;5;28mlen\u001B[39m(speaker_feature) \u001B[38;5;241m>\u001B[39m \u001B[38;5;241m0\u001B[39m:\n\u001B[0;32m     15\u001B[0m         \u001B[38;5;66;03m# BW stats, # TODO make this in to function\u001B[39;00m\n\u001B[0;32m     16\u001B[0m         n,f,s,l \u001B[38;5;241m=\u001B[39m hfgmm\u001B[38;5;241m.\u001B[39mhelper_expectation(speaker_feature, ubm)\n",
      "File \u001B[1;32m~\\OneDrive\\Desktop\\pythonProjects\\ubm\\ivectors\\helper_functions.py:31\u001B[0m, in \u001B[0;36mhelper_feature_extraction\u001B[1;34m(raw_audio_file, norm)\u001B[0m\n\u001B[0;32m     29\u001B[0m \u001B[38;5;66;03m# detect speech\u001B[39;00m\n\u001B[0;32m     30\u001B[0m v \u001B[38;5;241m=\u001B[39m vad\u001B[38;5;241m.\u001B[39mVoiceActivityDetector(signal_rate, signal, \u001B[38;5;241m0.8\u001B[39m)\n\u001B[1;32m---> 31\u001B[0m detected \u001B[38;5;241m=\u001B[39m \u001B[43mv\u001B[49m\u001B[38;5;241;43m.\u001B[39;49m\u001B[43mdetect_speech\u001B[49m\u001B[43m(\u001B[49m\u001B[43m)\u001B[49m\n\u001B[0;32m     32\u001B[0m idx, maxed_idx \u001B[38;5;241m=\u001B[39m v\u001B[38;5;241m.\u001B[39mconvert_windows_to_readible_labels(detected)\n\u001B[0;32m     34\u001B[0m \u001B[38;5;66;03m# extract and concatenate features\u001B[39;00m\n",
      "File \u001B[1;32m~\\OneDrive\\Desktop\\pythonProjects\\ubm\\misc\\vad.py:158\u001B[0m, in \u001B[0;36mVoiceActivityDetector.detect_speech\u001B[1;34m(self)\u001B[0m\n\u001B[0;32m    156\u001B[0m \u001B[38;5;28;01mif\u001B[39;00m sample_end \u001B[38;5;241m>\u001B[39m\u001B[38;5;241m=\u001B[39m \u001B[38;5;28mlen\u001B[39m(data): sample_end \u001B[38;5;241m=\u001B[39m \u001B[38;5;28mlen\u001B[39m(data) \u001B[38;5;241m-\u001B[39m \u001B[38;5;241m1\u001B[39m\n\u001B[0;32m    157\u001B[0m data_window \u001B[38;5;241m=\u001B[39m data[sample_start:sample_end]\n\u001B[1;32m--> 158\u001B[0m energy_freq \u001B[38;5;241m=\u001B[39m \u001B[38;5;28;43mself\u001B[39;49m\u001B[38;5;241;43m.\u001B[39;49m\u001B[43m_calculate_normalized_energy\u001B[49m\u001B[43m(\u001B[49m\u001B[43mdata_window\u001B[49m\u001B[43m)\u001B[49m\n\u001B[0;32m    159\u001B[0m sum_voice_energy \u001B[38;5;241m=\u001B[39m \u001B[38;5;28mself\u001B[39m\u001B[38;5;241m.\u001B[39m_sum_energy_in_band(energy_freq, start_band, end_band)\n\u001B[0;32m    160\u001B[0m sum_full_energy \u001B[38;5;241m=\u001B[39m \u001B[38;5;28msum\u001B[39m(energy_freq\u001B[38;5;241m.\u001B[39mvalues())\n",
      "File \u001B[1;32m~\\OneDrive\\Desktop\\pythonProjects\\ubm\\misc\\vad.py:60\u001B[0m, in \u001B[0;36mVoiceActivityDetector._calculate_normalized_energy\u001B[1;34m(self, data)\u001B[0m\n\u001B[0;32m     59\u001B[0m \u001B[38;5;28;01mdef\u001B[39;00m \u001B[38;5;21m_calculate_normalized_energy\u001B[39m(\u001B[38;5;28mself\u001B[39m, data):\n\u001B[1;32m---> 60\u001B[0m     data_freq \u001B[38;5;241m=\u001B[39m \u001B[38;5;28;43mself\u001B[39;49m\u001B[38;5;241;43m.\u001B[39;49m\u001B[43m_calculate_frequencies\u001B[49m\u001B[43m(\u001B[49m\u001B[43mdata\u001B[49m\u001B[43m)\u001B[49m\n\u001B[0;32m     61\u001B[0m     data_energy \u001B[38;5;241m=\u001B[39m \u001B[38;5;28mself\u001B[39m\u001B[38;5;241m.\u001B[39m_calculate_energy(data)\n\u001B[0;32m     62\u001B[0m     \u001B[38;5;66;03m# data_energy = self._znormalize_energy(data_energy) #znorm brings worse results\u001B[39;00m\n",
      "File \u001B[1;32m~\\OneDrive\\Desktop\\pythonProjects\\ubm\\misc\\vad.py:32\u001B[0m, in \u001B[0;36mVoiceActivityDetector._calculate_frequencies\u001B[1;34m(self, audio_data)\u001B[0m\n\u001B[0;32m     31\u001B[0m \u001B[38;5;28;01mdef\u001B[39;00m \u001B[38;5;21m_calculate_frequencies\u001B[39m(\u001B[38;5;28mself\u001B[39m, audio_data):\n\u001B[1;32m---> 32\u001B[0m     data_freq \u001B[38;5;241m=\u001B[39m \u001B[43mnp\u001B[49m\u001B[38;5;241;43m.\u001B[39;49m\u001B[43mfft\u001B[49m\u001B[38;5;241;43m.\u001B[39;49m\u001B[43mfftfreq\u001B[49m\u001B[43m(\u001B[49m\u001B[38;5;28;43mlen\u001B[39;49m\u001B[43m(\u001B[49m\u001B[43maudio_data\u001B[49m\u001B[43m)\u001B[49m\u001B[43m,\u001B[49m\u001B[43m \u001B[49m\u001B[38;5;241;43m1.0\u001B[39;49m\u001B[43m \u001B[49m\u001B[38;5;241;43m/\u001B[39;49m\u001B[43m \u001B[49m\u001B[38;5;28;43mself\u001B[39;49m\u001B[38;5;241;43m.\u001B[39;49m\u001B[43mrate\u001B[49m\u001B[43m)\u001B[49m\n\u001B[0;32m     33\u001B[0m     data_freq \u001B[38;5;241m=\u001B[39m data_freq[\u001B[38;5;241m1\u001B[39m:]\n\u001B[0;32m     34\u001B[0m     \u001B[38;5;28;01mreturn\u001B[39;00m data_freq\n",
      "\u001B[1;31mKeyboardInterrupt\u001B[0m: "
     ]
    }
   ],
   "source": [
    "# BW stats\n",
    "\n",
    "import gmmubm.helper_functions as hfgmm\n",
    "\n",
    "# do stuff\n",
    "numComponents = 32\n",
    "numFeatures = normFactors.means.shape[0]\n",
    "\n",
    "N = []\n",
    "F = []\n",
    "\n",
    "for file in adsTrain.files:\n",
    "    speaker_feature = hf.helper_feature_extraction(file, normFactors)\n",
    "    if len(speaker_feature) > 0:\n",
    "        # BW stats, # TODO make this in to function\n",
    "        n,f,s,l = hfgmm.helper_expectation(speaker_feature, ubm)\n",
    "        N.append(n)\n",
    "        F.append(f)\n",
    "    else:\n",
    "        print('skipping train file because len = 0, will this create issues ? hmm')\n",
    "\n",
    "print('BW stats completed')"
   ],
   "metadata": {
    "collapsed": false,
    "pycharm": {
     "name": "#%%\n"
    }
   }
  },
  {
   "cell_type": "code",
   "execution_count": null,
   "outputs": [],
   "source": [],
   "metadata": {
    "collapsed": false,
    "pycharm": {
     "name": "#%%\n"
    }
   }
  }
 ],
 "metadata": {
  "kernelspec": {
   "display_name": "Python 3",
   "language": "python",
   "name": "python3"
  },
  "language_info": {
   "codemirror_mode": {
    "name": "ipython",
    "version": 2
   },
   "file_extension": ".py",
   "mimetype": "text/x-python",
   "name": "python",
   "nbconvert_exporter": "python",
   "pygments_lexer": "ipython2",
   "version": "2.7.6"
  }
 },
 "nbformat": 4,
 "nbformat_minor": 0
}