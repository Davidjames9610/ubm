{
 "cells": [
  {
   "cell_type": "code",
   "execution_count": 72,
   "metadata": {
    "collapsed": true
   },
   "outputs": [
    {
     "data": {
      "text/plain": "<module 'helper_functions' from 'C:\\\\Users\\\\David\\\\OneDrive\\\\Desktop\\\\pythonProjects\\\\ubm\\\\ivectors\\\\helper_functions.py'>"
     },
     "execution_count": 72,
     "metadata": {},
     "output_type": "execute_result"
    }
   ],
   "source": [
    "from importlib import reload\n",
    "import audioDatastore.AudioDatastore as myads\n",
    "reload(myads)\n",
    "import os.path\n",
    "from collections import Counter\n",
    "import random\n",
    "from python_speech_features import mfcc, delta\n",
    "import scipy.io.wavfile as wav\n",
    "from spafe.utils import vis\n",
    "import matplotlib.pyplot as plt\n",
    "import misc.vad as vad\n",
    "from sklearn.mixture import GaussianMixture, _gaussian_mixture\n",
    "reload(vad)\n",
    "import numpy as np\n",
    "from scipy.special import logsumexp\n",
    "from collections import Counter\n",
    "import helper_functions as hf\n",
    "reload(hf)"
   ]
  },
  {
   "cell_type": "code",
   "execution_count": 2,
   "outputs": [],
   "source": [
    "# create ads\n",
    "# female ads\n",
    "datasetFolder = r\"C:\\Users\\David\\OneDrive\\Desktop\\matlab\\data\\SPEECH DATA\\FEMALE\\MIC\"\n",
    "female_ads = myads.AudioDatastore()\n",
    "female_ads.populate(datasetFolder,include_sub_folders=True, label_source=True)\n",
    "Counter(female_ads.labels).values()\n",
    "# male ads\n",
    "datasetFolder = r\"C:\\Users\\David\\OneDrive\\Desktop\\matlab\\data\\SPEECH DATA\\MALE\\MIC\"\n",
    "male_ads = myads.AudioDatastore()\n",
    "male_ads.populate(datasetFolder,include_sub_folders=True, label_source=True)\n",
    "Counter(male_ads.labels).values()\n",
    "# combine ads\n",
    "ads = myads.AudioDatastore()\n",
    "ads.set([datasetFolder], files=female_ads.files + male_ads.files, labels=female_ads.labels+male_ads.labels)"
   ],
   "metadata": {
    "collapsed": false,
    "pycharm": {
     "name": "#%%\n"
    }
   }
  },
  {
   "cell_type": "code",
   "execution_count": 3,
   "outputs": [],
   "source": [
    "# split ads\n",
    "developmentLabels = [\"M01\",\"M02\",\"M03\",\"M04\",\"M06\",\"M07\",\"M08\",\"M09\",\"F01\",\"F02\",\"F03\",\"F04\",\"F06\",\"F07\",\"F08\",\"F09\"]\n",
    "evaluationLabels = [\"M05\",\"M10\",\"F05\",\"F10\"]\n",
    "adsTrain = myads.subset(ads, developmentLabels)\n",
    "adsEvaluate = myads.subset(ads, evaluationLabels)\n",
    "numFilesPerSpeakerForEnrollment = 3\n",
    "adsEnroll, adsDet = myads.split(adsEvaluate, 3)\n",
    "adsTest, adsDet = myads.split(adsDet, 2)"
   ],
   "metadata": {
    "collapsed": false,
    "pycharm": {
     "name": "#%%\n"
    }
   }
  },
  {
   "cell_type": "code",
   "execution_count": 4,
   "outputs": [],
   "source": [
    "speedUpExamples = True\n",
    "if speedUpExamples:\n",
    "    adsTrain, _ = myads.split(adsTrain, 30)\n",
    "    adsDet, _ = myads.split(adsDet, 21)"
   ],
   "metadata": {
    "collapsed": false,
    "pycharm": {
     "name": "#%%\n"
    }
   }
  },
  {
   "cell_type": "code",
   "execution_count": 5,
   "outputs": [],
   "source": [
    "# set sample rate,\n",
    "fs, _ = wav.read(adsTrain.files[0])"
   ],
   "metadata": {
    "collapsed": false,
    "pycharm": {
     "name": "#%%\n"
    }
   }
  },
  {
   "cell_type": "code",
   "execution_count": 50,
   "outputs": [],
   "source": [
    "# files read in and convert to features"
   ],
   "metadata": {
    "collapsed": false,
    "pycharm": {
     "name": "#%%\n"
    }
   }
  },
  {
   "cell_type": "code",
   "execution_count": 70,
   "outputs": [],
   "source": [],
   "metadata": {
    "collapsed": false,
    "pycharm": {
     "name": "#%%\n"
    }
   }
  },
  {
   "cell_type": "code",
   "execution_count": 71,
   "outputs": [],
   "source": [],
   "metadata": {
    "collapsed": false,
    "pycharm": {
     "name": "#%%\n"
    }
   }
  }
 ],
 "metadata": {
  "kernelspec": {
   "display_name": "Python 3",
   "language": "python",
   "name": "python3"
  },
  "language_info": {
   "codemirror_mode": {
    "name": "ipython",
    "version": 2
   },
   "file_extension": ".py",
   "mimetype": "text/x-python",
   "name": "python",
   "nbconvert_exporter": "python",
   "pygments_lexer": "ipython2",
   "version": "2.7.6"
  }
 },
 "nbformat": 4,
 "nbformat_minor": 0
}