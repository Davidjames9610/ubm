{
 "cells": [
  {
   "cell_type": "code",
   "execution_count": 1,
   "metadata": {
    "collapsed": true
   },
   "outputs": [],
   "source": [
    "from importlib import reload\n",
    "import audioDatastore.AudioDatastore as myads\n",
    "reload(myads)\n",
    "import os.path\n",
    "from collections import Counter\n",
    "\n",
    "import random\n",
    "from python_speech_features import mfcc, delta\n",
    "import scipy.io.wavfile as wav\n",
    "from spafe.utils import vis\n",
    "import matplotlib.pyplot as plt\n",
    "import misc.vad as vad\n",
    "from sklearn.mixture import GaussianMixture, _gaussian_mixture\n",
    "reload(vad)\n",
    "import numpy as np\n",
    "from scipy.special import logsumexp\n",
    "from collections import Counter\n",
    "import helper_functions as hf\n",
    "reload(hf)\n",
    "import pickle"
   ]
  },
  {
   "cell_type": "code",
   "execution_count": 2,
   "outputs": [],
   "source": [
    "# todo:\n",
    "# vad takes too much time, need to get a new one working"
   ],
   "metadata": {
    "collapsed": false,
    "pycharm": {
     "name": "#%%\n"
    }
   }
  },
  {
   "cell_type": "code",
   "execution_count": 3,
   "outputs": [],
   "source": [
    "# create ads\n",
    "# female ads\n",
    "datasetFolder = r\"C:\\Users\\David\\OneDrive\\Desktop\\matlab\\data\\SPEECH DATA\\FEMALE\\MIC\"\n",
    "female_ads = myads.AudioDatastore()\n",
    "female_ads.populate(datasetFolder,include_sub_folders=True, label_source=True)\n",
    "Counter(female_ads.labels).values()\n",
    "# male ads\n",
    "datasetFolder = r\"C:\\Users\\David\\OneDrive\\Desktop\\matlab\\data\\SPEECH DATA\\MALE\\MIC\"\n",
    "male_ads = myads.AudioDatastore()\n",
    "male_ads.populate(datasetFolder,include_sub_folders=True, label_source=True)\n",
    "Counter(male_ads.labels).values()\n",
    "# combine ads\n",
    "ads = myads.AudioDatastore()\n",
    "ads.set([datasetFolder], files=female_ads.files + male_ads.files, labels=female_ads.labels+male_ads.labels)"
   ],
   "metadata": {
    "collapsed": false,
    "pycharm": {
     "name": "#%%\n"
    }
   }
  },
  {
   "cell_type": "code",
   "execution_count": 4,
   "outputs": [],
   "source": [
    "# split ads\n",
    "developmentLabels = [\"M01\",\"M02\",\"M03\",\"M04\",\"M06\",\"M07\",\"M08\",\"M09\",\"F01\",\"F02\",\"F03\",\"F04\",\"F06\",\"F07\",\"F08\",\"F09\"]\n",
    "evaluationLabels = [\"M05\",\"M10\",\"F05\",\"F10\"]\n",
    "adsTrain = myads.subset(ads, developmentLabels)\n",
    "adsEvaluate = myads.subset(ads, evaluationLabels)\n",
    "numFilesPerSpeakerForEnrollment = 3\n",
    "adsEnroll, adsDet = myads.split(adsEvaluate, 3)\n",
    "adsTest, adsDet = myads.split(adsDet, 2)"
   ],
   "metadata": {
    "collapsed": false,
    "pycharm": {
     "name": "#%%\n"
    }
   }
  },
  {
   "cell_type": "code",
   "execution_count": 5,
   "outputs": [],
   "source": [
    "speedUpExamples = True\n",
    "if speedUpExamples:\n",
    "    adsTrain, _ = myads.split(adsTrain, 30)\n",
    "    adsDet, _ = myads.split(adsDet, 21)"
   ],
   "metadata": {
    "collapsed": false,
    "pycharm": {
     "name": "#%%\n"
    }
   }
  },
  {
   "cell_type": "code",
   "execution_count": 6,
   "outputs": [],
   "source": [
    "# set sample rate,\n",
    "fs, _ = wav.read(adsTrain.files[0])"
   ],
   "metadata": {
    "collapsed": false,
    "pycharm": {
     "name": "#%%\n"
    }
   }
  },
  {
   "cell_type": "code",
   "execution_count": 7,
   "outputs": [],
   "source": [
    "reload = False\n",
    "\n",
    "try:\n",
    "    if reload :\n",
    "        raise Exception('reloading')\n",
    "    training_features = pickle.load(open('training_features.pickle','rb'))\n",
    "except:\n",
    "    zero_indices = []\n",
    "    training_features = []\n",
    "    for i in range(len(adsTrain.files)):\n",
    "        if i%50 == 0:\n",
    "            print('completed ' + str(i) + ' iterations')\n",
    "        feat = hf.helper_feature_extraction(adsTrain.files[i])\n",
    "        training_features.append(feat)\n",
    "    print('completed training feature fe!')\n",
    "    pickle.dump(training_features, open('training_features.pickle','wb'))"
   ],
   "metadata": {
    "collapsed": false,
    "pycharm": {
     "name": "#%%\n"
    }
   }
  },
  {
   "cell_type": "code",
   "execution_count": 8,
   "outputs": [],
   "source": [
    "# remove [] vectors in training files and pop the file from ads\n",
    "adsTrainCleaned, training_features_cleaned = myads.clean_zeros(adsTrain, training_features)"
   ],
   "metadata": {
    "collapsed": false,
    "pycharm": {
     "name": "#%%\n"
    }
   }
  },
  {
   "cell_type": "code",
   "execution_count": 9,
   "outputs": [],
   "source": [
    "# collect normalization factors\n",
    "\n",
    "import numpy as np\n",
    "means = []\n",
    "std = []\n",
    "for feature in training_features_cleaned:\n",
    "    if len(feature) > 0:\n",
    "        means.append(np.mean(feature, axis=0))\n",
    "        std.append(np.std(feature, axis=0))\n",
    "\n",
    "means = np.array(means)\n",
    "means = np.mean(means, axis=0)\n",
    "\n",
    "std = np.array(std)\n",
    "std = np.mean(std, axis=0)\n",
    "\n",
    "class NormFactor:\n",
    "  def __init__(self, m, s):\n",
    "    self.means = m\n",
    "    self.std = s\n",
    "\n",
    "normFactors = NormFactor(means, std)\n",
    "\n",
    "pickle.dump(normFactors, open('normFactors.pickle','wb'))"
   ],
   "metadata": {
    "collapsed": false,
    "pycharm": {
     "name": "#%%\n"
    }
   }
  },
  {
   "cell_type": "code",
   "execution_count": 10,
   "outputs": [],
   "source": [
    "normalised_features = []\n",
    "\n",
    "for i in range(len(training_features_cleaned)):\n",
    "    normalised = (training_features_cleaned[i] - means) / std\n",
    "    normalised = normalised - np.mean(normalised)\n",
    "    normalised_features.append(normalised)"
   ],
   "metadata": {
    "collapsed": false,
    "pycharm": {
     "name": "#%%\n"
    }
   }
  },
  {
   "cell_type": "code",
   "execution_count": 11,
   "outputs": [
    {
     "name": "stdout",
     "output_type": "stream",
     "text": [
      "sklearn model ll = -13.593252850195737\n"
     ]
    }
   ],
   "source": [
    "# train ubm\n",
    "numComponents = 32\n",
    "ubm = GaussianMixture(n_components=numComponents, covariance_type='diag')\n",
    "train_features_flattened = np.array([item for sublist in normalised_features for item in sublist])\n",
    "ubm.fit(train_features_flattened)\n",
    "print('sklearn model ll = ' + str(ubm.score(normalised_features[0])))\n",
    "pickle.dump(ubm, open('ubm.pickle','wb'))"
   ],
   "metadata": {
    "collapsed": false,
    "pycharm": {
     "name": "#%%\n"
    }
   }
  },
  {
   "cell_type": "code",
   "execution_count": 12,
   "outputs": [],
   "source": [
    "# load\n",
    "ubm = pickle.load(open('ubm.pickle', 'rb'))\n",
    "normFactors = pickle.load(open('normFactors.pickle','rb'))"
   ],
   "metadata": {
    "collapsed": false,
    "pycharm": {
     "name": "#%%\n"
    }
   }
  },
  {
   "cell_type": "code",
   "execution_count": 13,
   "outputs": [],
   "source": [
    "for i in normalised_features:\n",
    "    if len(i) == 0:\n",
    "        print('sad face')"
   ],
   "metadata": {
    "collapsed": false,
    "pycharm": {
     "name": "#%%\n"
    }
   }
  },
  {
   "cell_type": "code",
   "execution_count": 14,
   "outputs": [
    {
     "name": "stdout",
     "output_type": "stream",
     "text": [
      "BW stats completed\n"
     ]
    }
   ],
   "source": [
    "# BW stats\n",
    "\n",
    "import gmmubm.helper_functions as hfgmm\n",
    "\n",
    "# do stuff\n",
    "numComponents = 32\n",
    "numFeatures = normFactors.means.shape[0]\n",
    "\n",
    "N = []\n",
    "F = []\n",
    "\n",
    "for feature in normalised_features:\n",
    "    # BW stats, # TODO make this in to function\n",
    "    n,f,s,l = hfgmm.helper_expectation(feature, ubm)\n",
    "    N.append(np.reshape(n, (1,1,numComponents)))\n",
    "    F.append(np.reshape(f, (numFeatures,1,numComponents)))\n",
    "\n",
    "print('BW stats completed')"
   ],
   "metadata": {
    "collapsed": false,
    "pycharm": {
     "name": "#%%\n"
    }
   }
  },
  {
   "cell_type": "code",
   "execution_count": 15,
   "outputs": [],
   "source": [
    "# Expand stats into matrices and center\n",
    "means = ubm.means_\n",
    "muc = np.reshape(means, (numFeatures, 1, numComponents))\n",
    "Nc = []\n",
    "Fc = []\n",
    "for i in range(len(training_features_cleaned)):\n",
    "    Nc.append(np.repeat(np.reshape(N[i], (1, numComponents)), numFeatures))\n",
    "    Fc.append(np.reshape(F[i] - np.multiply(N[i], muc), (-1, 1)))\n"
   ],
   "metadata": {
    "collapsed": false,
    "pycharm": {
     "name": "#%%\n"
    }
   }
  },
  {
   "cell_type": "code",
   "execution_count": 16,
   "outputs": [],
   "source": [
    "Sigma = np.reshape(ubm.covariances_, (-1, 1))"
   ],
   "metadata": {
    "collapsed": false,
    "pycharm": {
     "name": "#%%\n"
    }
   }
  },
  {
   "cell_type": "code",
   "execution_count": 36,
   "outputs": [],
   "source": [
    "# Training Total Variability Space\n",
    "\n",
    "numTdim = 32\n",
    "if speedUpExamples:\n",
    "    numTdim = 16\n",
    "\n",
    "T = np.random.random((Sigma.shape[0], numTdim))\n",
    "T = T / np.linalg.norm(T)\n",
    "I = np.eye(numTdim)\n",
    "Ey = []\n",
    "Eyy = []\n",
    "Linv = []\n",
    "\n",
    "numSpeakers = len(training_features_cleaned)\n",
    "\n",
    "# for iterIdx = 1:numIterations\n",
    "\n",
    "# Calculate the posterior distribution of the hidden variable\n",
    "TtimesInverseSSdiag= (T / Sigma).T\n",
    "for s in range(numSpeakers):\n",
    "    L=(I + np.dot(np.multiply(TtimesInverseSSdiag,Nc[s]),T))\n",
    "    Linv.append(np.linalg.pinv(L))\n",
    "    Ey.append(np.dot(np.dot(Linv[s],TtimesInverseSSdiag),Fc[s]))\n",
    "    Eyy.append(Linv[s] + np.dot(Ey[s],Ey[s].T))\n",
    "\n",
    "# 2. Accumlate statistics across the speakers\n",
    "Eymat=np.concatenate(Ey, axis=1)\n",
    "FFmat=np.concatenate(Fc, axis=1)\n",
    "Kt=np.dot(FFmat,Eymat.T)\n",
    "K = np.hsplit(Kt.T, numComponents)\n",
    "\n",
    "newT = []\n",
    "for c in range(numComponents):\n",
    "    AcLocal = np.zeros((numTdim, numTdim))\n",
    "    for s in range(numSpeakers):\n",
    "        AcLocal = AcLocal + N[s][:,:,c]*Eyy[s]\n",
    "\n",
    "    # update T\n",
    "    newTc = np.linalg.pinv(np.dot(AcLocal,K[c]))\n",
    "    newT.append(newTc)\n",
    "\n",
    "T = np.concatenate(newT, axis=0).shape\n",
    "print('training total variability space')"
   ],
   "metadata": {
    "collapsed": false,
    "pycharm": {
     "name": "#%%\n"
    }
   }
  },
  {
   "cell_type": "code",
   "execution_count": 37,
   "outputs": [
    {
     "data": {
      "text/plain": "(320, 16)"
     },
     "execution_count": 37,
     "metadata": {},
     "output_type": "execute_result"
    }
   ],
   "source": [
    "np.concatenate(newT, axis=0).shape"
   ],
   "metadata": {
    "collapsed": false,
    "pycharm": {
     "name": "#%%\n"
    }
   }
  },
  {
   "cell_type": "code",
   "execution_count": 55,
   "outputs": [
    {
     "data": {
      "text/plain": "(7568, 1)"
     },
     "execution_count": 55,
     "metadata": {},
     "output_type": "execute_result"
    }
   ],
   "source": [
    "(np.concatenate(Ey, axis=1)).shape"
   ],
   "metadata": {
    "collapsed": false,
    "pycharm": {
     "name": "#%%\n"
    }
   }
  },
  {
   "cell_type": "code",
   "execution_count": null,
   "outputs": [],
   "source": [],
   "metadata": {
    "collapsed": false,
    "pycharm": {
     "name": "#%%\n"
    }
   }
  }
 ],
 "metadata": {
  "kernelspec": {
   "display_name": "Python 3",
   "language": "python",
   "name": "python3"
  },
  "language_info": {
   "codemirror_mode": {
    "name": "ipython",
    "version": 2
   },
   "file_extension": ".py",
   "mimetype": "text/x-python",
   "name": "python",
   "nbconvert_exporter": "python",
   "pygments_lexer": "ipython2",
   "version": "2.7.6"
  }
 },
 "nbformat": 4,
 "nbformat_minor": 0
}